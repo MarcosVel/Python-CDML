{
 "cells": [
  {
   "cell_type": "markdown",
   "id": "c480d2c2",
   "metadata": {},
   "source": [
    "**Problema 7: Crie este dicionário:\n",
    "{0: 0, 1: 1, 2: 8, 3: 27, 4: 64}**"
   ]
  },
  {
   "cell_type": "code",
   "execution_count": 24,
   "id": "04c4d7b8",
   "metadata": {},
   "outputs": [],
   "source": [
    "dict:obj= {\n",
    "    0: 0,\n",
    "    1: 1,\n",
    "    2: 8,\n",
    "    3: 27,\n",
    "    4: 64\n",
    "}"
   ]
  },
  {
   "cell_type": "code",
   "execution_count": 25,
   "id": "fb22aff1",
   "metadata": {},
   "outputs": [
    {
     "data": {
      "text/plain": [
       "{0: 0, 1: 1, 2: 8, 3: 27, 4: 64}"
      ]
     },
     "execution_count": 25,
     "metadata": {},
     "output_type": "execute_result"
    }
   ],
   "source": [
    "obj"
   ]
  },
  {
   "cell_type": "markdown",
   "id": "5e47b872",
   "metadata": {},
   "source": [
    "**Problema 8: Inverta a lista list1:**"
   ]
  },
  {
   "cell_type": "code",
   "execution_count": 4,
   "id": "baa5ca8e",
   "metadata": {},
   "outputs": [],
   "source": [
    "list1 = [1,2,3,4]"
   ]
  },
  {
   "cell_type": "code",
   "execution_count": 5,
   "id": "abb1c6a1",
   "metadata": {},
   "outputs": [],
   "source": [
    "list1.reverse()"
   ]
  },
  {
   "cell_type": "code",
   "execution_count": 18,
   "id": "679163fd",
   "metadata": {},
   "outputs": [
    {
     "data": {
      "text/plain": [
       "[4, 3, 2, 1]"
      ]
     },
     "execution_count": 18,
     "metadata": {},
     "output_type": "execute_result"
    }
   ],
   "source": [
    "list1"
   ]
  },
  {
   "cell_type": "markdown",
   "id": "760f3f04",
   "metadata": {},
   "source": []
  },
  {
   "cell_type": "markdown",
   "id": "4e3df3c7",
   "metadata": {},
   "source": [
    "**Problema 9: Ordene a lista abaixo:**"
   ]
  },
  {
   "cell_type": "code",
   "execution_count": 6,
   "id": "e08a19dc",
   "metadata": {},
   "outputs": [],
   "source": [
    "list2 = [3,4,2,5,1]"
   ]
  },
  {
   "cell_type": "code",
   "execution_count": 7,
   "id": "f2d9c1d9",
   "metadata": {},
   "outputs": [],
   "source": [
    "list2.sort()"
   ]
  },
  {
   "cell_type": "code",
   "execution_count": 17,
   "id": "dfb30763",
   "metadata": {},
   "outputs": [
    {
     "data": {
      "text/plain": [
       "[1, 2, 3, 4, 5]"
      ]
     },
     "execution_count": 17,
     "metadata": {},
     "output_type": "execute_result"
    }
   ],
   "source": [
    "list2"
   ]
  },
  {
   "cell_type": "markdown",
   "id": "45dc949e",
   "metadata": {},
   "source": [
    "**Problema 10: Na lista mude olá para Oi**"
   ]
  },
  {
   "cell_type": "code",
   "execution_count": 14,
   "id": "b9245b33",
   "metadata": {},
   "outputs": [],
   "source": [
    "list3 = [1,2,[3,4,'olá']]"
   ]
  },
  {
   "cell_type": "code",
   "execution_count": 15,
   "id": "2fd1f2fe",
   "metadata": {},
   "outputs": [],
   "source": [
    "list3[2][2] = 'Oi'"
   ]
  },
  {
   "cell_type": "code",
   "execution_count": 16,
   "id": "851217e5",
   "metadata": {},
   "outputs": [
    {
     "data": {
      "text/plain": [
       "[1, 2, [3, 4, 'Oi']]"
      ]
     },
     "execution_count": 16,
     "metadata": {},
     "output_type": "execute_result"
    }
   ],
   "source": [
    "list3"
   ]
  },
  {
   "cell_type": "markdown",
   "id": "026063fd",
   "metadata": {},
   "source": [
    "**Problema 11: Use chaves e índice, obtenha 'oi' nos seguintes dicionários:**"
   ]
  },
  {
   "cell_type": "code",
   "execution_count": 30,
   "id": "52137607",
   "metadata": {},
   "outputs": [],
   "source": [
    "d = {'simples_chave':'oi'}"
   ]
  },
  {
   "cell_type": "code",
   "execution_count": 36,
   "id": "aeb70fde",
   "metadata": {},
   "outputs": [
    {
     "data": {
      "text/plain": [
       "dict_values(['oi'])"
      ]
     },
     "execution_count": 36,
     "metadata": {},
     "output_type": "execute_result"
    }
   ],
   "source": [
    "d.values()"
   ]
  },
  {
   "cell_type": "code",
   "execution_count": 37,
   "id": "96a8cd70",
   "metadata": {},
   "outputs": [],
   "source": [
    "d = {'k1':{'k2':'oi'}}"
   ]
  },
  {
   "cell_type": "code",
   "execution_count": 56,
   "id": "d178a14e",
   "metadata": {},
   "outputs": [
    {
     "data": {
      "text/plain": [
       "'oi'"
      ]
     },
     "execution_count": 56,
     "metadata": {},
     "output_type": "execute_result"
    }
   ],
   "source": [
    "d['k1']['k2']"
   ]
  },
  {
   "cell_type": "code",
   "execution_count": 65,
   "id": "77b3f9e6",
   "metadata": {},
   "outputs": [],
   "source": [
    "d = {'k1':[{'key1':['aula de python',['oi']]}]}"
   ]
  },
  {
   "cell_type": "code",
   "execution_count": 80,
   "id": "06ed1e0c",
   "metadata": {},
   "outputs": [
    {
     "data": {
      "text/plain": [
       "['oi']"
      ]
     },
     "execution_count": 80,
     "metadata": {},
     "output_type": "execute_result"
    }
   ],
   "source": [
    "d['k1'][0]['key1'][1]"
   ]
  },
  {
   "cell_type": "code",
   "execution_count": 81,
   "id": "4eaff436",
   "metadata": {},
   "outputs": [],
   "source": [
    "d = {'k1':[1,2,{'k2':['aula de python',{'uniceub':[1,2,['oi']]}]}]}"
   ]
  },
  {
   "cell_type": "code",
   "execution_count": 90,
   "id": "9b33bed8",
   "metadata": {},
   "outputs": [
    {
     "data": {
      "text/plain": [
       "['oi']"
      ]
     },
     "execution_count": 90,
     "metadata": {},
     "output_type": "execute_result"
    }
   ],
   "source": [
    "d['k1'][2]['k2'][1]['uniceub'][2]"
   ]
  },
  {
   "cell_type": "markdown",
   "id": "8174dc95",
   "metadata": {},
   "source": [
    "**Problema 12: Dado o seguinte dicionário aninhado, extraia a palavra \"olá\"**"
   ]
  },
  {
   "cell_type": "code",
   "execution_count": 91,
   "id": "53ecb63e",
   "metadata": {},
   "outputs": [],
   "source": [
    "d = {'k1':[1,2,3,{'café':['banana','mulher','colher',{'alvo':[1,2,3,'olá']}]}]}"
   ]
  },
  {
   "cell_type": "code",
   "execution_count": 99,
   "id": "636db494",
   "metadata": {},
   "outputs": [
    {
     "data": {
      "text/plain": [
       "'olá'"
      ]
     },
     "execution_count": 99,
     "metadata": {},
     "output_type": "execute_result"
    }
   ],
   "source": [
    "d['k1'][3]['café'][3]['alvo'][3]"
   ]
  }
 ],
 "metadata": {
  "kernelspec": {
   "display_name": "Python 3 (ipykernel)",
   "language": "python",
   "name": "python3"
  },
  "language_info": {
   "codemirror_mode": {
    "name": "ipython",
    "version": 3
   },
   "file_extension": ".py",
   "mimetype": "text/x-python",
   "name": "python",
   "nbconvert_exporter": "python",
   "pygments_lexer": "ipython3",
   "version": "3.9.7"
  }
 },
 "nbformat": 4,
 "nbformat_minor": 5
}
