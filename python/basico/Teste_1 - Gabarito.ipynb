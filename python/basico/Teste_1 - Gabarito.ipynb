{
 "cells": [
  {
   "cell_type": "markdown",
   "metadata": {
    "id": "8kih40y9pksj"
   },
   "source": [
    "# Teste 1\n",
    "#### Valor : Menção extra"
   ]
  },
  {
   "cell_type": "markdown",
   "metadata": {
    "id": "nSqOopEApksl"
   },
   "source": [
    "### Faça os exercícios considerando a seguinte lista:"
   ]
  },
  {
   "cell_type": "code",
   "execution_count": null,
   "metadata": {
    "id": "8ZA2_XTzpksm"
   },
   "outputs": [],
   "source": [
    "lista = [2, 29, 8, 98, 10, 3, -4, 9, 10]"
   ]
  },
  {
   "cell_type": "markdown",
   "metadata": {
    "id": "bGv0VS7tpksr"
   },
   "source": [
    "#### Usando as funções apresentadas, faça de maneira dinâmica os seguintes exercícios:\n",
    "\n",
    "1) Imprima a soma do maior e o menor elemento da lista:"
   ]
  },
  {
   "cell_type": "code",
   "execution_count": null,
   "metadata": {
    "id": "jLlwCCF-pkss"
   },
   "outputs": [],
   "source": [
    "min = min( lista )  \n",
    "max = max( lista )\n",
    "sum= min + max\n",
    "print(sum)"
   ]
  },
  {
   "cell_type": "markdown",
   "metadata": {
    "id": "PuArl5-0pksw"
   },
   "source": [
    "2) Imprima o número de ocorrências do maior elemento da lista:"
   ]
  },
  {
   "cell_type": "code",
   "execution_count": null,
   "metadata": {
    "id": "4JNGQDOzpksx"
   },
   "outputs": [],
   "source": [
    "lista.count(max(lista))"
   ]
  },
  {
   "cell_type": "markdown",
   "metadata": {
    "id": "tv1uvGmmpks1"
   },
   "source": [
    "3) Imprima o elemento no meio da lista:"
   ]
  },
  {
   "cell_type": "code",
   "execution_count": null,
   "metadata": {
    "id": "813Zv_NRpks2"
   },
   "outputs": [],
   "source": [
    "lista[4:5]"
   ]
  },
  {
   "cell_type": "markdown",
   "metadata": {
    "id": "8PBchreRpks6"
   },
   "source": [
    "4) Imprima o maior elemento da lista elevado ao quadrado:"
   ]
  },
  {
   "cell_type": "code",
   "execution_count": null,
   "metadata": {
    "id": "fVonma4Ypks6"
   },
   "outputs": [],
   "source": [
    "print(max(lista)**2)"
   ]
  },
  {
   "cell_type": "markdown",
   "metadata": {
    "id": "P8viaLzmpks-"
   },
   "source": [
    "5) Crie uma lista com todos os números pares de 0 até 1000."
   ]
  },
  {
   "cell_type": "code",
   "execution_count": null,
   "metadata": {
    "id": "shBICn7ipks-"
   },
   "outputs": [],
   "source": [
    "listaPar = range(0,1000)\n",
    "for i in listaPar:\n",
    "  if i%2 == 0:\n",
    "    print(i)"
   ]
  },
  {
   "cell_type": "markdown",
   "metadata": {
    "id": "i4B06benpktC"
   },
   "source": [
    "6) Crie uma lista com todos os números ímpares de 0 até 10.000."
   ]
  },
  {
   "cell_type": "code",
   "execution_count": null,
   "metadata": {
    "id": "Y_jdoNpxpktD"
   },
   "outputs": [],
   "source": [
    "listaImpar = range(0,10000)\n",
    "for i in listaImpar:\n",
    "  if i%2 != 0:\n",
    "    print(i)"
   ]
  },
  {
   "cell_type": "markdown",
   "metadata": {
    "id": "XFAJxyGopktG"
   },
   "source": [
    "7) Imprima o valor da média de todos os elementos da lista."
   ]
  },
  {
   "cell_type": "code",
   "execution_count": null,
   "metadata": {
    "id": "ygtDxX0FpktG"
   },
   "outputs": [],
   "source": [
    "import numpy as np\n",
    "mean = np.mean(sum(lista))\n",
    "print(mean)"
   ]
  },
  {
   "cell_type": "markdown",
   "metadata": {
    "id": "VpLxhb4JpktK"
   },
   "source": [
    "8) Crie 3 tuplas para representar as informações de alunos em uma disciplina, cada tupla deverá conter o nome do aluno seguido de suas duas notas."
   ]
  },
  {
   "cell_type": "code",
   "execution_count": 17,
   "metadata": {
    "id": "2aYufowapktK"
   },
   "outputs": [],
   "source": [
    "tupla1 = (\"joao\", 10,5)\n",
    "tupla2 = (\"maria\", 3,6)\n",
    "tupla3 = (\"jack\", 10,10)"
   ]
  },
  {
   "cell_type": "markdown",
   "metadata": {
    "id": "OkuOWXPGpktP"
   },
   "source": [
    "9) Imprima a soma das notas de cada aluno do exercício 8, use as variáveis criadas por você:"
   ]
  },
  {
   "cell_type": "code",
   "execution_count": 18,
   "metadata": {
    "id": "6f87MTkFKf2Y"
   },
   "outputs": [
    {
     "name": "stdout",
     "output_type": "stream",
     "text": [
      "15\n",
      "9\n",
      "20\n"
     ]
    }
   ],
   "source": [
    "x = tupla1[1] + tupla1[2]\n",
    "print(x)\n",
    "y = tupla2[1] + tupla2[2]\n",
    "print(y)\n",
    "z = tupla3[1] + tupla3[2]\n",
    "print(z)"
   ]
  },
  {
   "cell_type": "markdown",
   "metadata": {
    "id": "dL5CJjvZpktT"
   },
   "source": [
    "10) Imprima o nome e a maior nota de cada aluno do exercício 8, use as variáveis criadas por você:"
   ]
  },
  {
   "cell_type": "code",
   "execution_count": 22,
   "metadata": {
    "id": "jFtSG-8xiqjn"
   },
   "outputs": [
    {
     "ename": "SyntaxError",
     "evalue": "invalid syntax (Temp/ipykernel_13364/434423527.py, line 1)",
     "output_type": "error",
     "traceback": [
      "\u001b[1;36m  File \u001b[1;32m\"C:\\Users\\Marcos\\AppData\\Local\\Temp/ipykernel_13364/434423527.py\"\u001b[1;36m, line \u001b[1;32m1\u001b[0m\n\u001b[1;33m    print(\"Nome: \" ,tupla1[0], \"\\nMaior nota: \", tupla1[max([:1])] )\u001b[0m\n\u001b[1;37m                                                             ^\u001b[0m\n\u001b[1;31mSyntaxError\u001b[0m\u001b[1;31m:\u001b[0m invalid syntax\n"
     ]
    }
   ],
   "source": [
    "print(\"Nome: \" ,tupla1[0], \"\\nMaior nota: \", tupla1[max([:1])] )\n",
    "print(\"Nome: \" ,tupla2[0], \"\\nMaior nota: \", tupla1[2] )\n",
    "print(\"Nome: \" ,tupla3[0], \"\\nMaior nota: \", tupla1[1] )"
   ]
  },
  {
   "cell_type": "markdown",
   "metadata": {
    "id": "XcCqrEbpiqjn"
   },
   "source": [
    "11) Construa dicionários para armazenar as notas de 5 alunos. Imprima o valor da maior nota."
   ]
  },
  {
   "cell_type": "code",
   "execution_count": null,
   "metadata": {
    "id": "3UxB1-liiqjn"
   },
   "outputs": [],
   "source": [
    "dic = {\"Aluno 1\": 50, \"Aluno 2\": 76, \"Aluno 3\": 23, \"Aluno 4\": 43, \"Aluno 5\": 89}\n",
    "print(\"O valor da maior nota é: \", max(dic.values()))\n"
   ]
  },
  {
   "cell_type": "markdown",
   "metadata": {
    "id": "WIvJDwiEiqjo"
   },
   "source": [
    "12) Em uma competição de salto em distância cada atleta tem direito a cinco saltos. O resultado do atleta será determinado pela média dos cinco valores restantes. Você deve fazer um programa que receba o nome e as cinco distâncias alcançadas pelo atleta em seus saltos e depois informe o nome, os saltos e a média dos saltos. O programa deve ser encerrado quando não for informado o nome do atleta. A saída do programa deve ser conforme o exemplo abaixo:\n",
    "\n",
    "Atleta: Rodrigo\n",
    " \n",
    "Primeiro Salto: 6.5 m\n",
    "\n",
    "Segundo Salto: 6.1 m\n",
    "\n",
    "Terceiro Salto: 6.2 m\n",
    "\n",
    "Quarto Salto: 5.4 m\n",
    "\n",
    "Quinto Salto: 5.3 m\n",
    "\n",
    "Resultado final:\n",
    "\n",
    "Atleta: Rodrigo\n",
    "\n",
    "Saltos: 6.5 - 6.1 - 6.2 - 5.4 - 5.3\n",
    "\n",
    "Média dos saltos: 5.9 m"
   ]
  },
  {
   "cell_type": "code",
   "execution_count": 3,
   "metadata": {
    "id": "kYKgokmuiqjo"
   },
   "outputs": [
    {
     "name": "stdout",
     "output_type": "stream",
     "text": [
      "Qual o nome do atleta? d\n",
      "Qual a distancia do salto 1? 3\n",
      "Qual a distancia do salto 2? 4\n",
      "Qual a distancia do salto 3? 5\n",
      "Qual a distancia do salto 4? 6\n",
      "Qual a distancia do salto 5? 7\n",
      "d\n",
      "Salto n.1: 7.0 metros\n",
      "Salto n.2: 6.0 metros\n",
      "Salto n.3: 5.0 metros\n",
      "Salto n.4: 4.0 metros\n",
      "Salto n.5: 3.0 metros\n",
      "Resultado final:\n",
      "Atleta: d\n",
      "Saltos:3.0, 4.0, 5.0, 6.0, 7.0\n",
      "Média dos saltos: 5.0\n"
     ]
    }
   ],
   "source": [
    "from sys import exit\n",
    "nome = input(\"Qual o nome do atleta? \")\n",
    "if nome.strip() == \"\":\n",
    "    exit()\n",
    "else: \n",
    "    pass\n",
    "lista = []  \n",
    "for i in range(1,6):\n",
    "    distancia = float(input(f\"Qual a distancia do salto {i}? \"))\n",
    "    lista.append(distancia)\n",
    "print(nome)\n",
    "for i in range(1,6):\n",
    "    print(f\"Salto n.{i}: {lista[-i]} metros\")\n",
    "\n",
    "print(\"Resultado final:\")\n",
    "print(\"Atleta:\", nome)\n",
    "print(\"Saltos:\", end='')\n",
    "print(*lista, sep=', ')\n",
    "print(\"Média dos saltos:\", sum(lista)/len(lista))"
   ]
  },
  {
   "cell_type": "markdown",
   "metadata": {
    "id": "61o0PRmQiqjo"
   },
   "source": [
    "13) Qual é a diferença entre o **while** e **for**?"
   ]
  },
  {
   "cell_type": "code",
   "execution_count": null,
   "metadata": {
    "id": "uvr-rHsyiqjp"
   },
   "outputs": [],
   "source": [
    "# Resposta: A estrutura de repetição While é utilizada para executar um bloco de código enquanto uma condição for atendida. A estrutura de repetição For é utilizado para executar um bloco de código por uma condição baseada em uma sequência estática."
   ]
  },
  {
   "cell_type": "markdown",
   "metadata": {
    "id": "TPK4nlwFiqjp"
   },
   "source": [
    "14) Faça um Programa que peça a idade e a altura de 5 pessoas, armazene cada informação no seu respectivo vetor. Imprima a idade e a altura na ordem inversa a ordem lida."
   ]
  },
  {
   "cell_type": "code",
   "execution_count": null,
   "metadata": {
    "id": "ODNs2Y7riqjp"
   },
   "outputs": [],
   "source": [
    "altura = []\n",
    "idade = []\n",
    "for i in range(1,6):\n",
    "    lista1 = float(input(f\"Qual é a altura da pessoa {+i}? \"))\n",
    "    lista2 = int(input(f\"Qual é a idade da pessoa {+i}? \"))\n",
    "    altura.append(lista1)\n",
    "    idade.append(lista2)\n",
    "print(\"Idades na ordem inversa: \")\n",
    "for i in range(0, 5):\n",
    "    print(idade[len(idade)-1-i])\n",
    "\n",
    "print(\"Alturas na ordem inversa: \")\n",
    "for i in range(0, 5):\n",
    "    print(altura[len(altura)-1-i])"
   ]
  },
  {
   "cell_type": "markdown",
   "metadata": {
    "id": "qvrhmYLkiqjp"
   },
   "source": [
    "15) Faça um Programa que leia dois vetores com 10 elementos cada. Gere um terceiro vetor de 20 elementos, cujos valores deverão ser compostos pelos elementos intercalados dos dois outros vetores."
   ]
  },
  {
   "cell_type": "code",
   "execution_count": null,
   "metadata": {
    "id": "g3miRo1fiqjp"
   },
   "outputs": [],
   "source": [
    "vetor1 = []\n",
    "vetor2 = []\n",
    "vetor3 = []\n",
    "\n",
    "for i in range(0, 10):\n",
    "    vetor1.append(int(input(\"Digite um elemento: \")))\n",
    "    \n",
    "for i in range(0, 10):\n",
    "    vetor2.append(int(input(\"Digite um elemento: \")))\n",
    "    \n",
    "for i in range(0, 10):\n",
    "    vetor3.append(vetor1[elemento])\n",
    "    vetor3.append(vetor2[elemento])\n",
    "\n",
    "print(vetor3)"
   ]
  },
  {
   "cell_type": "markdown",
   "metadata": {
    "id": "Je17r_Zsiqjp"
   },
   "source": [
    "16) Faça um programa que receba a temperatura média de cada mês do ano e armazene-as em uma lista. Após isto, calcule a média anual das temperaturas e mostre todas as temperaturas acima da média anual, e em que mês elas ocorreram (mostrar o mês por extenso: 1 – Janeiro, 2 – Fevereiro,...)."
   ]
  },
  {
   "cell_type": "code",
   "execution_count": null,
   "metadata": {
    "id": "QBTgIwCWiqjq"
   },
   "outputs": [],
   "source": [
    "import calendar\n",
    "list_temp = []\n",
    "for i in range(1,13):\n",
    "    temp_med_month = float(input(f\"What is the mean temperature of {calendar.month_name[i]}? \")) \n",
    "    list_temp.append(temp_med_month)\n",
    "mean_temp = sum(list_temp)/len(list_temp)\n",
    "print(\"The mean anual temperature is\", mean_temp)\n",
    "for i in range(len(list_temp)):\n",
    "    if list_temp[i] > mean_temp:\n",
    "        print(f\"{calendar.month_name[i]} - {list_temp[i]} degrees\")"
   ]
  },
  {
   "cell_type": "markdown",
   "metadata": {
    "id": "2pEH67vjiqjq"
   },
   "source": [
    "17) Faça uma função que recebe um valor n e que imprima:\n",
    "  \n",
    "    1\n",
    "  \n",
    "    2   2\n",
    "  \n",
    "    3   3   3\n",
    "  \n",
    "    .....\n",
    "  \n",
    "    n   n   n   n   n   n  ... n"
   ]
  },
  {
   "cell_type": "code",
   "execution_count": null,
   "metadata": {
    "id": "bh7dSLF-iqjq"
   },
   "outputs": [],
   "source": [
    "def exercicio_17(n):\n",
    "    for i in range(n):\n",
    "        i += 1\n",
    "        print(str(i) * i)\n",
    "\n",
    "\n",
    "n = int(input('Digite um número: '))\n",
    "exercicio_17(n)"
   ]
  },
  {
   "cell_type": "markdown",
   "metadata": {
    "id": "d6oa4inNiqjq"
   },
   "source": [
    "18) Faça uma função que recebe um valor n e que imprima:\n",
    "  \n",
    "  1\n",
    "  \n",
    "  1   2\n",
    "  \n",
    "  1   2   3\n",
    "  \n",
    "  .....\n",
    "  \n",
    "  1   2   3   ...  n"
   ]
  },
  {
   "cell_type": "code",
   "execution_count": null,
   "metadata": {
    "id": "qME-YTREiqjr"
   },
   "outputs": [],
   "source": [
    "def imprimeLinha(numero):\n",
    "  for n in range(1, numero + 1):\n",
    "    print(('  {} ').format(n), end='')\n",
    "  print()\n",
    "\n",
    "def imprimeSequencia(numero):\n",
    "  for numero in range(numero + 1):\n",
    "    imprimeLinha(numero)\n",
    "\n",
    "numero = input('Digite um número: ')\n",
    "imprimeSequencia(int(numero))"
   ]
  },
  {
   "cell_type": "markdown",
   "metadata": {
    "id": "IdkbWr3ziqjr"
   },
   "source": [
    "19) Faça uma função que retorne o reverso de um número inteiro passado por parâmetro. Por exemplo: 127 -> 721."
   ]
  },
  {
   "cell_type": "code",
   "execution_count": null,
   "metadata": {
    "id": "AU0OYOoEiqjr"
   },
   "outputs": [],
   "source": [
    "def main():\n",
    "  a= input_var()\n",
    "  rev = reverso(a)\n",
    "\n",
    "def input_var():\n",
    "  numero= int(input(\"Escolha um número de mais de 3 digitos\"))\n",
    "  return (numero)\n",
    "\n",
    "def reverso(n):\n",
    "  inverte = str(n)\n",
    "  print(inverte[::-1])\n",
    "\n",
    "main() "
   ]
  },
  {
   "cell_type": "markdown",
   "metadata": {
    "id": "VYHZcxDfiqjr"
   },
   "source": [
    "20) Faça uma função que receba dois vetores com 10 elementos cada. Sua função deverá retornar um terceiro vetor de 20 elementos, cujos valores deverão ser compostos pelos elementos intercalados dos dois outros vetores."
   ]
  },
  {
   "cell_type": "code",
   "execution_count": null,
   "metadata": {
    "id": "_0dnWFbSiqjr"
   },
   "outputs": [],
   "source": [
    "def compostos():\n",
    "  vetor1 = []\n",
    "  vetor2 = []\n",
    "  vetor3 = []\n",
    "\n",
    "  for i in range(0, 10):\n",
    "      vetor1.append(int(input(\"Digite um elemento: \")))\n",
    "      \n",
    "  for i in range(0, 10):\n",
    "      vetor2.append(int(input(\"Digite um elemento: \")))\n",
    "      \n",
    "  for i in range(0, 10):\n",
    "      vetor3.append(vetor1[i])\n",
    "      vetor3.append(vetor2[i])\n",
    "\n",
    "  print(vetor3)\n",
    "compostos()"
   ]
  },
  {
   "cell_type": "markdown",
   "metadata": {
    "id": "y-D5DIdyiqjr"
   },
   "source": [
    "21) Faça uma função que receba uma string e retorne a quantidade de consoantes que existem nela."
   ]
  },
  {
   "cell_type": "code",
   "execution_count": null,
   "metadata": {
    "id": "nKkAIepTiqjs"
   },
   "outputs": [],
   "source": [
    "def nVogais():\n",
    "    i = 0\n",
    "    j = 0\n",
    "    string = str (input(\"Digite um texto: \"))\n",
    "    for i in string:\n",
    "        if (i == 'A' or i == 'a'\n",
    "        or i == 'E' or i == 'e'\n",
    "        or i == 'I' or i == 'i'\n",
    "        or i == 'O' or i == 'o'\n",
    "        or i == 'U' or i == 'u'):\n",
    "             j+=1\n",
    "    print(\"vogais: \", j)\n",
    "\n",
    "nVogais()"
   ]
  },
  {
   "cell_type": "markdown",
   "metadata": {
    "id": "k8-R7g-Siqjs"
   },
   "source": [
    "22) Altere o exercício 21 para que o retorno seja um dicionário, onde a chaves são as consoantes e os valores a quantidade de vezes que a consoante aparece na string"
   ]
  },
  {
   "cell_type": "code",
   "execution_count": null,
   "metadata": {
    "id": "G7zNys6fiqjs"
   },
   "outputs": [],
   "source": [
    "def vogais():\n",
    "  vogais = 'aeiou'\n",
    "  string = str (input(\"Digite um texto: \")).lower()\n",
    "  count = {}.fromkeys(vogais, 0)\n",
    "    \n",
    "  for i in string:\n",
    "      if i in count:\n",
    "          count[i] += 1   \n",
    "  return count\n",
    "vogais()"
   ]
  },
  {
   "cell_type": "markdown",
   "metadata": {
    "id": "ZFvXTstUxeWI"
   },
   "source": [
    "#### **Boa sorte!**"
   ]
  }
 ],
 "metadata": {
  "colab": {
   "collapsed_sections": [],
   "name": "Teste 1  (1).ipynb",
   "provenance": []
  },
  "kernelspec": {
   "display_name": "Python 3 (ipykernel)",
   "language": "python",
   "name": "python3"
  },
  "language_info": {
   "codemirror_mode": {
    "name": "ipython",
    "version": 3
   },
   "file_extension": ".py",
   "mimetype": "text/x-python",
   "name": "python",
   "nbconvert_exporter": "python",
   "pygments_lexer": "ipython3",
   "version": "3.9.7"
  }
 },
 "nbformat": 4,
 "nbformat_minor": 1
}
