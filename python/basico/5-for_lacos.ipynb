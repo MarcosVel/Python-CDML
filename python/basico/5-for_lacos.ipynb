{
 "cells": [
  {
   "cell_type": "markdown",
   "metadata": {},
   "source": [
    "# Laços com for\n",
    "\n",
    "Um loop <code>for</code> atua como um iterador no Python; ele percorre itens que estão em uma **sequência** ou qualquer outro item iterável. Os objetos que aprendemos sobre os quais podemos iterar incluem strings, listas, tuplas e até iteráveis internos para dicionários, como chaves ou valores.\n",
    "\n",
    "Aqui está o formato geral para um loop <code>for</code> no Python:\n",
    "\n",
    "     for item in objeto:\n",
    "         instruções"
   ]
  },
  {
   "cell_type": "markdown",
   "metadata": {},
   "source": [
    "O nome da variável usada para o item é totalmente de acordo com o codificador; portanto, use seu bom senso para escolher um nome que faça sentido e você será capaz de entender ao revisitar seu código. Esse nome de item pode ser referenciado dentro do seu loop, por exemplo, se você quiser usar as instruções <code>if</code> para executar verificações.\n",
    "\n",
    "Vamos seguir em frente e trabalhar com vários exemplos de repetição usando <code>for</code>e uma variedade de tipos de objetos de dados. \n",
    "\n",
    "## Exemplo 1\n",
    "Iterando uma Lista"
   ]
  },
  {
   "cell_type": "code",
   "execution_count": 1,
   "metadata": {},
   "outputs": [],
   "source": [
    "# Aprenderemos como automatizar esse tipo de lista na próxima palestra\n",
    "list1 = [1,2,3,4,5,6,7,8,9,10]"
   ]
  },
  {
   "cell_type": "code",
   "execution_count": 3,
   "metadata": {},
   "outputs": [
    {
     "name": "stdout",
     "output_type": "stream",
     "text": [
      "1\n",
      "2\n",
      "3\n",
      "4\n",
      "5\n",
      "6\n",
      "7\n",
      "8\n",
      "9\n",
      "10\n"
     ]
    }
   ],
   "source": [
    "for num in list1:\n",
    "    print(num)"
   ]
  },
  {
   "cell_type": "markdown",
   "metadata": {},
   "source": [
    "Ótimo! Espero que isso faça sentido. Agora vamos adicionar uma instrução <code>if</code> para verificar se há números pares. \n",
    "### Resto\n",
    "O resto nos permite obter o restante em uma divisão e usa o símbolo %. Por exemplo:"
   ]
  },
  {
   "cell_type": "code",
   "execution_count": 4,
   "metadata": {},
   "outputs": [
    {
     "data": {
      "text/plain": [
       "2"
      ]
     },
     "execution_count": 4,
     "metadata": {},
     "output_type": "execute_result"
    }
   ],
   "source": [
    "17 % 5"
   ]
  },
  {
   "cell_type": "markdown",
   "metadata": {},
   "source": [
    "Isso faz sentido, já que 17 dividido por 5 é 3 restante 2. Vamos ver mais alguns exemplos rápidos:"
   ]
  },
  {
   "cell_type": "code",
   "execution_count": 7,
   "metadata": {},
   "outputs": [
    {
     "data": {
      "text/plain": [
       "1"
      ]
     },
     "execution_count": 7,
     "metadata": {},
     "output_type": "execute_result"
    }
   ],
   "source": [
    "10 % 3"
   ]
  },
  {
   "cell_type": "code",
   "execution_count": 6,
   "metadata": {},
   "outputs": [
    {
     "data": {
      "text/plain": [
       "4"
      ]
     },
     "execution_count": 6,
     "metadata": {},
     "output_type": "execute_result"
    }
   ],
   "source": [
    "18 % 7"
   ]
  },
  {
   "cell_type": "code",
   "execution_count": 7,
   "metadata": {},
   "outputs": [
    {
     "data": {
      "text/plain": [
       "0"
      ]
     },
     "execution_count": 7,
     "metadata": {},
     "output_type": "execute_result"
    }
   ],
   "source": [
    "4 % 2"
   ]
  },
  {
   "cell_type": "markdown",
   "metadata": {},
   "source": [
    "Observe que, se um número é totalmente divisível sem resto, o resultado da chamada do resto é 0. Podemos usá-lo para testar números pares, pois se o resto de número por 2 for igual a 0, isso significa que é um número par!\n",
    "\n",
    "\n",
    "## Exemplo 2\n",
    "Vamos imprimir apenas os números pares dessa lista!"
   ]
  },
  {
   "cell_type": "code",
   "execution_count": 7,
   "metadata": {},
   "outputs": [
    {
     "data": {
      "text/plain": [
       "[1, 2, 3, 4, 5, 6, 7, 8, 9, 10]"
      ]
     },
     "execution_count": 7,
     "metadata": {},
     "output_type": "execute_result"
    }
   ],
   "source": [
    "list1"
   ]
  },
  {
   "cell_type": "code",
   "execution_count": 8,
   "metadata": {},
   "outputs": [
    {
     "name": "stdout",
     "output_type": "stream",
     "text": [
      "2\n",
      "4\n",
      "6\n",
      "8\n",
      "10\n"
     ]
    }
   ],
   "source": [
    "for numero in list1:\n",
    "    if numero % 2 == 0:\n",
    "        print(numero)"
   ]
  },
  {
   "cell_type": "code",
   "execution_count": 10,
   "metadata": {},
   "outputs": [
    {
     "name": "stdout",
     "output_type": "stream",
     "text": [
      "1\n",
      "3\n",
      "5\n",
      "7\n",
      "9\n"
     ]
    }
   ],
   "source": [
    "#Para imprimir os ímpares\n",
    "for x in list1:\n",
    "    if x % 2 != 0:\n",
    "        print(x)"
   ]
  },
  {
   "cell_type": "markdown",
   "metadata": {},
   "source": [
    "Poderíamos também colocar uma declaração <code>else</code> lá:"
   ]
  },
  {
   "cell_type": "code",
   "execution_count": 13,
   "metadata": {},
   "outputs": [
    {
     "name": "stdout",
     "output_type": "stream",
     "text": [
      "Número ímpar\n",
      "2\n",
      "Número ímpar\n",
      "4\n",
      "Número ímpar\n",
      "6\n",
      "Número ímpar\n",
      "8\n",
      "Número ímpar\n",
      "10\n"
     ]
    }
   ],
   "source": [
    "for num in list1:\n",
    "    if num % 2 == 0:\n",
    "        print(num)\n",
    "    else:\n",
    "        print('Número ímpar')"
   ]
  },
  {
   "cell_type": "markdown",
   "metadata": {},
   "source": [
    "## Exemplo 3\n",
    "Outra idéia comum durante um laço <code>for</code> é manter algum tipo de registro em execução durante vários laços. Por exemplo, vamos criar um laço <code>for</code> que resume a lista:"
   ]
  },
  {
   "cell_type": "code",
   "execution_count": 14,
   "metadata": {},
   "outputs": [
    {
     "name": "stdout",
     "output_type": "stream",
     "text": [
      "55\n"
     ]
    }
   ],
   "source": [
    "# Soma começa com zero\n",
    "soma = 0 \n",
    "\n",
    "for num in list1:\n",
    "    soma = soma + num\n",
    "\n",
    "print(soma)"
   ]
  },
  {
   "cell_type": "markdown",
   "metadata": {},
   "source": [
    "Ótimo! Leia a célula acima e certifique-se de entender completamente o que está acontecendo. Também poderíamos ter implementado um <code>+=</code> para realizar a adição na soma. Por exemplo:"
   ]
  },
  {
   "cell_type": "code",
   "execution_count": 16,
   "metadata": {},
   "outputs": [
    {
     "name": "stdout",
     "output_type": "stream",
     "text": [
      "55\n"
     ]
    }
   ],
   "source": [
    "# Soma começa com zero\n",
    "soma = 0 \n",
    "\n",
    "for num in list1:\n",
    "    soma += num\n",
    "\n",
    "print(soma)"
   ]
  },
  {
   "cell_type": "code",
   "execution_count": 11,
   "metadata": {},
   "outputs": [
    {
     "name": "stdout",
     "output_type": "stream",
     "text": [
      "3628800\n"
     ]
    }
   ],
   "source": [
    "# produtorio\n",
    "produtorio = 1\n",
    "\n",
    "for num in list1:\n",
    "    produtorio = produtorio * num\n",
    "\n",
    "print(produtorio)"
   ]
  },
  {
   "cell_type": "markdown",
   "metadata": {},
   "source": [
    "## Exemplo 4\n",
    "Usamos <code>for</code> com listas, que tal usar com strings? Lembre-se de que as strings são uma sequência; portanto, quando iteramos através delas, acessaremos cada item dessa string."
   ]
  },
  {
   "cell_type": "code",
   "execution_count": 12,
   "metadata": {},
   "outputs": [
    {
     "name": "stdout",
     "output_type": "stream",
     "text": [
      "I\n",
      "s\n",
      "t\n",
      "o\n",
      " \n",
      "é\n",
      " \n",
      "u\n",
      "m\n",
      "a\n",
      " \n",
      "s\n",
      "t\n",
      "r\n",
      "i\n",
      "n\n",
      "g\n",
      ".\n"
     ]
    }
   ],
   "source": [
    "for letra in 'Isto é uma string.':\n",
    "    print(letra)"
   ]
  },
  {
   "cell_type": "markdown",
   "metadata": {},
   "source": [
    "## Exemplo 5\n",
    "Vamos agora ver como um laço <code>for</code> pode ser usado com uma tupla:"
   ]
  },
  {
   "cell_type": "code",
   "execution_count": 13,
   "metadata": {},
   "outputs": [
    {
     "name": "stdout",
     "output_type": "stream",
     "text": [
      "1\n",
      "2\n",
      "3\n",
      "4\n",
      "5\n"
     ]
    }
   ],
   "source": [
    "tupla = (1,2,3,4,5)\n",
    "\n",
    "for t in tupla:\n",
    "    print(t)"
   ]
  },
  {
   "cell_type": "markdown",
   "metadata": {},
   "source": [
    "## Exemplo 6\n",
    "As tuplas têm uma qualidade especial quando se trata de <code>for</code>. Se você estiver iterando através de uma sequência que contém tuplas, o item pode realmente ser a própria tupla, este é um exemplo de **desempacotamento da tupla**. Durante o loop <code>for</code>, desempacotamos a tupla dentro de uma sequência e podemos acessar os itens individuais dentro dessa tupla!"
   ]
  },
  {
   "cell_type": "code",
   "execution_count": 14,
   "metadata": {},
   "outputs": [],
   "source": [
    "list2 = [(2,4),(6,8),(10,12)]"
   ]
  },
  {
   "cell_type": "code",
   "execution_count": 17,
   "metadata": {},
   "outputs": [
    {
     "name": "stdout",
     "output_type": "stream",
     "text": [
      "(2, 4)\n",
      "(6, 8)\n",
      "(10, 12)\n"
     ]
    }
   ],
   "source": [
    "for tup in list2:\n",
    "    print(tup)"
   ]
  },
  {
   "cell_type": "code",
   "execution_count": 20,
   "metadata": {},
   "outputs": [
    {
     "name": "stdout",
     "output_type": "stream",
     "text": [
      "2\n",
      "6\n",
      "10\n"
     ]
    }
   ],
   "source": [
    "# Agora com a descompactação!\n",
    "for (t1,t2) in list2:\n",
    "    print(t1)"
   ]
  },
  {
   "cell_type": "markdown",
   "metadata": {},
   "source": [
    "Legal! Com tuplas em uma sequência, podemos acessar os itens dentro delas através da descompactação! A razão disso é importante, porque muitos objetos entregam seus iteráveis por meio de tuplas. Vamos começar a explorar a iteração através dos Dicionários para explorar isso ainda mais!"
   ]
  },
  {
   "cell_type": "markdown",
   "metadata": {},
   "source": [
    "## Exemplo 7"
   ]
  },
  {
   "cell_type": "code",
   "execution_count": 22,
   "metadata": {},
   "outputs": [],
   "source": [
    "d = {'k1':1,'k2':2,'k3':3}"
   ]
  },
  {
   "cell_type": "code",
   "execution_count": 23,
   "metadata": {},
   "outputs": [
    {
     "name": "stdout",
     "output_type": "stream",
     "text": [
      "k1\n",
      "k2\n",
      "k3\n"
     ]
    }
   ],
   "source": [
    "for item in d:\n",
    "    print(item)"
   ]
  },
  {
   "cell_type": "markdown",
   "metadata": {},
   "source": [
    "Observe como isso produz apenas as chaves. Então, como podemos obter os valores? Ou as chaves e os valores?\n",
    "\n",
    "Vamos introduzir três novos métodos de dicionário: **.keys()**, **.values()** e **.items()**\n",
    "\n",
    "No Python, cada um desses métodos retorna um **objeto de exibição de dicionário**. Ele suporta operações como teste de associação e iteração, mas seu conteúdo não é independente do dicionário original - é apenas uma visualização. Vamos vê-lo em ação:"
   ]
  },
  {
   "cell_type": "code",
   "execution_count": 27,
   "metadata": {},
   "outputs": [
    {
     "data": {
      "text/plain": [
       "dict_items([('k1', 1), ('k2', 2), ('k3', 3)])"
      ]
     },
     "execution_count": 27,
     "metadata": {},
     "output_type": "execute_result"
    }
   ],
   "source": [
    "# Criar um objeto de exibição de dicionário\n",
    "d.items()"
   ]
  },
  {
   "cell_type": "markdown",
   "metadata": {},
   "source": [
    "Como o método .items() suporta a iteração, podemos executar **descompactação de dicionário** para separar chaves e valores da mesma forma que fizemos nos exemplos anteriores."
   ]
  },
  {
   "cell_type": "code",
   "execution_count": 26,
   "metadata": {},
   "outputs": [
    {
     "name": "stdout",
     "output_type": "stream",
     "text": [
      "k1 1\n",
      "k2 2\n",
      "k3 3\n"
     ]
    }
   ],
   "source": [
    "# Desembalagem do dicionário\n",
    "for chave,valor in d.items():\n",
    "    print(chave, valor) "
   ]
  },
  {
   "cell_type": "markdown",
   "metadata": {},
   "source": [
    "Se você deseja obter uma lista verdadeira de chaves, valores ou tuplas chave/valor, é possível **converter** a visualização como uma lista:"
   ]
  },
  {
   "cell_type": "code",
   "execution_count": 28,
   "metadata": {},
   "outputs": [
    {
     "data": {
      "text/plain": [
       "['k1', 'k2', 'k3']"
      ]
     },
     "execution_count": 28,
     "metadata": {},
     "output_type": "execute_result"
    }
   ],
   "source": [
    "list(d.keys())"
   ]
  },
  {
   "cell_type": "markdown",
   "metadata": {},
   "source": [
    "Lembre-se de que os dicionários são desordenados e que as chaves e os valores retornam em ordem arbitrária. Você pode obter uma lista classificada usando sorted():"
   ]
  },
  {
   "cell_type": "code",
   "execution_count": 30,
   "metadata": {},
   "outputs": [
    {
     "data": {
      "text/plain": [
       "[1, 2, 3]"
      ]
     },
     "execution_count": 30,
     "metadata": {},
     "output_type": "execute_result"
    }
   ],
   "source": [
    "sorted(d.values())"
   ]
  },
  {
   "cell_type": "markdown",
   "metadata": {},
   "source": [
    "## Conclusão\n",
    "\n",
    "Aprendemos como usar loops para percorrer tuplas, listas, strings e dicionários. Será uma ferramenta importante para nós, portanto, saiba bem e entenda os exemplos acima."
   ]
  }
 ],
 "metadata": {
  "kernelspec": {
   "display_name": "Python 3 (ipykernel)",
   "language": "python",
   "name": "python3"
  },
  "language_info": {
   "codemirror_mode": {
    "name": "ipython",
    "version": 3
   },
   "file_extension": ".py",
   "mimetype": "text/x-python",
   "name": "python",
   "nbconvert_exporter": "python",
   "pygments_lexer": "ipython3",
   "version": "3.9.7"
  }
 },
 "nbformat": 4,
 "nbformat_minor": 1
}
