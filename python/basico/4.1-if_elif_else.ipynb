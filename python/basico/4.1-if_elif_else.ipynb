{
 "cells": [
  {
   "cell_type": "markdown",
   "metadata": {},
   "source": [
    "# if, elif, else \n",
    "\n",
    "<code>if</code> permite dizer ao computador para executar ações alternativas com base em um determinado conjunto de resultados.\n",
    "\n",
    "Verbalmente, podemos imaginar que estamos dizendo ao computador:\n",
    "\n",
    "\"Se esse caso acontecer, execute alguma ação\"\n",
    "\n",
    "Podemos então expandir ainda mais a ideia com as instruções <code>elif</code> e <code>else</code>, que nos permitem informar ao computador:\n",
    "\n",
    "\"Se esse caso acontecer, execute alguma ação. Senão, se outro caso acontecer, execute outra ação. Caso contrário, se **nenhum** dos casos acima ocorreu, execute esta ação.\"\n",
    "\n",
    "Observe o formato de sintaxe das instruções <code>if</code> para ter uma idéia melhor disso:\n",
    "\n",
    "    if caso1:\n",
    "        faça ação1\n",
    "    elif case2:\n",
    "        faça ação2\n",
    "    else: \n",
    "        faça ação3"
   ]
  },
  {
   "cell_type": "markdown",
   "metadata": {},
   "source": [
    "## Primeiro Exemplo\n",
    "\n",
    "Vamos ver um exemplo rápido:"
   ]
  },
  {
   "cell_type": "code",
   "execution_count": 1,
   "metadata": {},
   "outputs": [
    {
     "name": "stdout",
     "output_type": "stream",
     "text": [
      "É verdade!\n"
     ]
    }
   ],
   "source": [
    "if True:\n",
    "    print('É verdade!')"
   ]
  },
  {
   "cell_type": "code",
   "execution_count": 5,
   "metadata": {},
   "outputs": [
    {
     "name": "stdout",
     "output_type": "stream",
     "text": [
      "Nao curte remedio\n"
     ]
    }
   ],
   "source": [
    "tomouAmoxilina=True\n",
    "tomouNimesulida=False\n",
    "\n",
    "if tomouAmoxilina and tomouNimesulida:\n",
    "    print(\"Tomou Nimesulida e Amoxilina\")\n",
    "else:\n",
    "    print(\"Nao curte remedio\")"
   ]
  },
  {
   "cell_type": "markdown",
   "metadata": {},
   "source": [
    "Vamos adicionar outra lógica:"
   ]
  },
  {
   "cell_type": "code",
   "execution_count": 6,
   "metadata": {},
   "outputs": [
    {
     "name": "stdout",
     "output_type": "stream",
     "text": [
      "Será impresso em qualquer caso em que x não seja verdadeiro\n"
     ]
    }
   ],
   "source": [
    "x = False\n",
    "\n",
    "if x:\n",
    "    print('x é True!')\n",
    "else:\n",
    "    print('Será impresso em qualquer caso em que x não seja verdadeiro')"
   ]
  },
  {
   "cell_type": "code",
   "execution_count": null,
   "metadata": {},
   "outputs": [],
   "source": [
    "a = 2\n",
    "b = 3\n",
    "if a > b:\n",
    "    print('a eh maior que b')\n",
    "    print('Entao')\n",
    "else:     \n",
    "    print('Senao')\n",
    "    print('b eh maior que a')    \n",
    "    print('b eh maior que a')    \n",
    "    print('b eh maior que a')    "
   ]
  },
  {
   "cell_type": "markdown",
   "metadata": {},
   "source": [
    "### Múltiplas ramificações\n",
    "\n",
    "Vamos ter uma noção maior <code>if</code>, <code>elif</code> e <code>else</code>!\n",
    "\n",
    "Escrevemos isso em uma estrutura aninhada. Observe como o <code>if</code>, <code>elif</code> e <code>else</code> se alinham no código. Isso pode ajudá-lo a ver o que <code>if</code> está relacionado às declarações <code>elif</code> ou <code>else</code>.\n",
    "\n",
    "Reintroduziremos uma sintaxe de comparação para Python."
   ]
  },
  {
   "cell_type": "code",
   "execution_count": 7,
   "metadata": {},
   "outputs": [
    {
     "name": "stdout",
     "output_type": "stream",
     "text": [
      "Bem vindo ao banco!\n"
     ]
    }
   ],
   "source": [
    "loc = 'Banco'\n",
    "\n",
    "if loc == 'Loja de carros':\n",
    "    print('Bem-vindo à Loja de Carros!')\n",
    "elif loc == 'Banco':\n",
    "    print('Bem vindo ao banco!')\n",
    "else:\n",
    "    print('Onde você está?')"
   ]
  },
  {
   "cell_type": "markdown",
   "metadata": {},
   "source": [
    "Observe como as instruções <code>if</code> aninhadas são verificadas até que um booleano True faça com que o código aninhado abaixo dela seja executado. Você também deve observar que pode inserir quantas instruções <code>elif</code> quiser antes de fechar com um <code>else</code>.\n",
    "\n",
    "Vamos criar mais dois exemplos simples para as instruções <code>if</code>, <code>elif</code> e <code>else</code>:"
   ]
  },
  {
   "cell_type": "code",
   "execution_count": 2,
   "metadata": {},
   "outputs": [
    {
     "name": "stdout",
     "output_type": "stream",
     "text": [
      "Olá Ana!\n"
     ]
    }
   ],
   "source": [
    "person = 'Ana'\n",
    "\n",
    "if person == 'Ana':\n",
    "    print('Olá Ana!')\n",
    "else:\n",
    "    print(\"Bem vindo, qual é seu nome?\")"
   ]
  },
  {
   "cell_type": "code",
   "execution_count": 9,
   "metadata": {},
   "outputs": [
    {
     "name": "stdout",
     "output_type": "stream",
     "text": [
      "Bem vindo Jorge!\n"
     ]
    }
   ],
   "source": [
    "person = 'Jorge'\n",
    "\n",
    "if person == 'Ana':\n",
    "    print('Bem vinda Ana!')\n",
    "elif person =='Jorge':\n",
    "    print('Bem vindo Jorge!')\n",
    "else:\n",
    "    print(\"Bem vindo, qual é seu nome?\")"
   ]
  },
  {
   "cell_type": "code",
   "execution_count": null,
   "metadata": {},
   "outputs": [],
   "source": [
    "# Imprimir um percetual de imposto\n",
    "# Quando o salario for menor que R$500 o programa irá imprimir o percentual 5%\n",
    "# Quando o salario for De R$500 a R$850 o programa irá imprimir o percentual 10%\n",
    "# Quando o salario for acima de R$850 o programa irá imprimir o percentual 27.5%\n",
    "# O usuario coloca suas variaveis\n",
    "\n",
    "salario = 900\n",
    "if salario < 500:\n",
    "    print('Leão vai tirar apenas 5% da sua conta')\n",
    "elif salario>=500 and salario <=850:\n",
    "    print('Leão vai tirar apenas 10% da sua conta e por favor fique tranquilo')\n",
    "else:\n",
    "    print('Lamento muito! você está ganhando bem então vai pagar apenas 27.5%')\n"
   ]
  },
  {
   "cell_type": "markdown",
   "metadata": {},
   "source": [
    "## Indentação\n",
    "\n",
    "É importante manter um bom entendimento de como o recuo funciona no Python para manter a estrutura e a ordem do seu código. Voltaremos a esse tópico quando começarmos a criar funções!"
   ]
  }
 ],
 "metadata": {
  "kernelspec": {
   "display_name": "Python 3 (ipykernel)",
   "language": "python",
   "name": "python3"
  },
  "language_info": {
   "codemirror_mode": {
    "name": "ipython",
    "version": 3
   },
   "file_extension": ".py",
   "mimetype": "text/x-python",
   "name": "python",
   "nbconvert_exporter": "python",
   "pygments_lexer": "ipython3",
   "version": "3.9.7"
  }
 },
 "nbformat": 4,
 "nbformat_minor": 1
}
