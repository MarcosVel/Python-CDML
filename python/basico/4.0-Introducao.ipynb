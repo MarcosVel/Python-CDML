{
 "cells": [
  {
   "cell_type": "markdown",
   "metadata": {
    "slideshow": {
     "slide_type": "slide"
    }
   },
   "source": [
    "# Introdução\n",
    "\n",
    "Faremos uma rápida visão geral das instruções Python. Enfatizará as diferenças entre Python e outras linguagens como C/C++/Java.\n",
    "\n",
    "Há duas razões pelas quais adotamos essa abordagem para aprender o contexto das instruções Python:\n",
    "\n",
    "     1.) Se você vem de uma linguagem diferente, isso acelerará rapidamente seu entendimento do Python.\n",
    "     2.) Aprender sobre as instruções permitirá que você leia outros idiomas mais facilmente no futuro."
   ]
  },
  {
   "cell_type": "markdown",
   "metadata": {
    "slideshow": {
     "slide_type": "slide"
    }
   },
   "source": [
    "## Python versus Outras Linguagens\n",
    "\n",
    "Vamos criar uma declaração simples que diz:\n",
    "\"Se a for maior que b, atribua **2 para a** e **4 para b**\"\n",
    "\n",
    "Dê uma olhada nessas duas declarações if (aprenderemos sobre como construir declarações if em breve).\n",
    "\n",
    "**Version 1 (Outras linguagens)**\n",
    "\n",
    "    if (a>b){\n",
    "        a = 2;\n",
    "        b = 4;\n",
    "    }\n",
    "                        \n",
    "**Version 2 (Python)**   \n",
    "\n",
    "    if a>b:\n",
    "        a = 2\n",
    "        b = 4"
   ]
  },
  {
   "cell_type": "markdown",
   "metadata": {},
   "source": [
    "Você notará que o Python é menos confuso e muito mais legível que a primeira versão. Como o Python gerencia isso?\n",
    "\n",
    "Vamos percorrer as principais diferenças:\n",
    "\n",
    "O Python se livra de () e {} incorporando dois fatores principais: um **dois pontos* e **espaço em branco**. A declaração termina com dois pontos e é utilizado espaço em branco (recuo) para descrever o que ocorre no caso da declaração.\n",
    "\n",
    "Outra grande diferença é a falta de ponto e vírgula no Python. Os pontos e vírgulas são usados para denotar finais de instruções em muitas outras linguagens, mas no Python, o final de uma linha é o mesmo que o final de uma declaração.\n",
    "\n",
    "Por fim, para finalizar esta breve visão geral das diferenças, vamos dar uma olhada mais de perto na sintaxe de indentação no Python versus outras linguagens:\n",
    "\n",
    "\n",
    "## Indentação\n",
    "\n",
    "Aqui está um pseudo-código para indicar o uso de espaço em branco e recuo no Python:\n",
    "\n",
    "**Outras linguagens**\n",
    "\n",
    "    if (x)\n",
    "        if(y)\n",
    "            codigo;\n",
    "    else\n",
    "        outro-codigo;\n",
    "        \n",
    "**Python**\n",
    "    \n",
    "    if x:\n",
    "        if y:\n",
    "            codigo\n",
    "    else:\n",
    "        outro-codigo"
   ]
  },
  {
   "cell_type": "markdown",
   "metadata": {},
   "source": [
    "Observe como o Python é tão fortemente impulsionado pela indentação de código e espaço em branco. Isso significa que a legibilidade do código é uma parte essencial do design da linguagem Python.\n",
    "\n",
    "Agora, vamos começar a aprofundar a codificação desse tipo de instrução no Python!"
   ]
  },
  {
   "cell_type": "markdown",
   "metadata": {
    "collapsed": true
   },
   "source": [
    "## Vamos codificar!!"
   ]
  }
 ],
 "metadata": {
  "kernelspec": {
   "display_name": "Python 3 (ipykernel)",
   "language": "python",
   "name": "python3"
  },
  "language_info": {
   "codemirror_mode": {
    "name": "ipython",
    "version": 3
   },
   "file_extension": ".py",
   "mimetype": "text/x-python",
   "name": "python",
   "nbconvert_exporter": "python",
   "pygments_lexer": "ipython3",
   "version": "3.9.7"
  }
 },
 "nbformat": 4,
 "nbformat_minor": 1
}
