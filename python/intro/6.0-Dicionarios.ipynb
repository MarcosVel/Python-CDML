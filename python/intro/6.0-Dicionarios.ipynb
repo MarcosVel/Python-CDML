{
 "cells": [
  {
   "cell_type": "markdown",
   "metadata": {},
   "source": [
    "# Dicionários\n",
    "\n",
    "Documentação https://docs.python.org/3/tutorial/datastructures.html#dictionaries\n",
    "\n",
    "Nós aprendemos sobre *sequências* em Python, mas agora vamos mudar de marcha e aprender sobre *mapeamentos* em Python. Se você estiver familiarizado com outras linguagens, pode pensar nesses dicionários como tabelas de hash.\n",
    "\n",
    "Esta seção servirá como uma breve introdução aos dicionários e consiste em:\n",
    "\n",
    "     1.) Construindo um dicionário\n",
    "     2.) Acessando objetos de um dicionário\n",
    "     3.) Dicionários de aninhamento\n",
    "     4.) Métodos básicos do dicionário\n",
    "\n",
    "Então, o que são mapeamentos? Mapeamentos são uma coleção de objetos que são armazenados por uma **chave**, diferente de uma sequência que armazena objetos por sua posição relativa. Essa é uma distinção importante, pois os mapeamentos não mantêm a ordem, pois possuem objetos definidos por uma chave.\n",
    "\n",
    "Um dicionário Python consiste em uma chave e depois em um valor associado. Esse valor pode ser quase qualquer objeto Python.\n",
    "\n",
    "\n",
    "## Construindo um dicionário\n",
    "Vamos ver como podemos construir dicionários para entender melhor como eles funcionam!"
   ]
  },
  {
   "cell_type": "code",
   "execution_count": 1,
   "metadata": {},
   "outputs": [],
   "source": [
    "# Crie um dicionário com {} e : para significar uma chave e um valor\n",
    "meu_dicionario = {'chave1':'valor1','chave2':'valor2'}"
   ]
  },
  {
   "cell_type": "code",
   "execution_count": 2,
   "metadata": {},
   "outputs": [],
   "source": [
    "pessoas = {'60107456249': 'André', '11111111111': 'Presidente'}"
   ]
  },
  {
   "cell_type": "code",
   "execution_count": 3,
   "metadata": {},
   "outputs": [
    {
     "data": {
      "text/plain": [
       "'valor2'"
      ]
     },
     "execution_count": 3,
     "metadata": {},
     "output_type": "execute_result"
    }
   ],
   "source": [
    "# Chama valores pela chave\n",
    "meu_dicionario['chave2']"
   ]
  },
  {
   "cell_type": "code",
   "execution_count": 4,
   "metadata": {},
   "outputs": [
    {
     "data": {
      "text/plain": [
       "'André'"
      ]
     },
     "execution_count": 4,
     "metadata": {},
     "output_type": "execute_result"
    }
   ],
   "source": [
    "pessoas['60107456249']"
   ]
  },
  {
   "cell_type": "code",
   "execution_count": 5,
   "metadata": {},
   "outputs": [
    {
     "data": {
      "text/plain": [
       "'Presidente'"
      ]
     },
     "execution_count": 5,
     "metadata": {},
     "output_type": "execute_result"
    }
   ],
   "source": [
    "pessoas['11111111111']"
   ]
  },
  {
   "cell_type": "markdown",
   "metadata": {},
   "source": [
    "É importante observar que os dicionários são muito flexíveis nos tipos de dados que podem conter. Por exemplo:"
   ]
  },
  {
   "cell_type": "code",
   "execution_count": 31,
   "metadata": {},
   "outputs": [],
   "source": [
    "meu_dicionario = {'chave1':123,'chave2':[12,23,33],'chave3':['item0','item1','item2']}"
   ]
  },
  {
   "cell_type": "code",
   "execution_count": 20,
   "metadata": {},
   "outputs": [],
   "source": [
    "# Vamos aprender como chamar os itens do dicionário\n",
    "lista1 = meu_dicionario['chave3']"
   ]
  },
  {
   "cell_type": "code",
   "execution_count": 24,
   "metadata": {},
   "outputs": [
    {
     "data": {
      "text/plain": [
       "['item0', 'item1', 'item2']"
      ]
     },
     "execution_count": 24,
     "metadata": {},
     "output_type": "execute_result"
    }
   ],
   "source": [
    "lista1"
   ]
  },
  {
   "cell_type": "code",
   "execution_count": 26,
   "metadata": {},
   "outputs": [
    {
     "data": {
      "text/plain": [
       "'item1'"
      ]
     },
     "execution_count": 26,
     "metadata": {},
     "output_type": "execute_result"
    }
   ],
   "source": [
    "meu_dicionario['chave3'][1]"
   ]
  },
  {
   "cell_type": "code",
   "execution_count": 23,
   "metadata": {},
   "outputs": [
    {
     "name": "stdout",
     "output_type": "stream",
     "text": [
      "Help on built-in function pop:\n",
      "\n",
      "pop(index=-1, /) method of builtins.list instance\n",
      "    Remove and return item at index (default last).\n",
      "    \n",
      "    Raises IndexError if list is empty or index is out of range.\n",
      "\n"
     ]
    }
   ],
   "source": [
    "help(lista1.pop)"
   ]
  },
  {
   "cell_type": "code",
   "execution_count": 5,
   "metadata": {},
   "outputs": [
    {
     "data": {
      "text/plain": [
       "'item0'"
      ]
     },
     "execution_count": 5,
     "metadata": {},
     "output_type": "execute_result"
    }
   ],
   "source": [
    "# Pode chamar um índice com esse valor\n",
    "meu_dicionario['chave3'][0]"
   ]
  },
  {
   "cell_type": "code",
   "execution_count": 27,
   "metadata": {},
   "outputs": [
    {
     "data": {
      "text/plain": [
       "'ITEM0'"
      ]
     },
     "execution_count": 27,
     "metadata": {},
     "output_type": "execute_result"
    }
   ],
   "source": [
    "# Pode até chamar métodos com esse valor\n",
    "meu_dicionario['chave3'][0].upper()"
   ]
  },
  {
   "cell_type": "markdown",
   "metadata": {},
   "source": [
    "Também podemos afetar os valores de uma chave. Por exemplo:"
   ]
  },
  {
   "cell_type": "code",
   "execution_count": 28,
   "metadata": {},
   "outputs": [
    {
     "data": {
      "text/plain": [
       "123"
      ]
     },
     "execution_count": 28,
     "metadata": {},
     "output_type": "execute_result"
    }
   ],
   "source": [
    "meu_dicionario['chave1']"
   ]
  },
  {
   "cell_type": "code",
   "execution_count": 32,
   "metadata": {},
   "outputs": [],
   "source": [
    "# Subtrai 123 do valor\n",
    "meu_dicionario['chave1'] = meu_dicionario['chave1'] - 123"
   ]
  },
  {
   "cell_type": "code",
   "execution_count": 33,
   "metadata": {},
   "outputs": [
    {
     "data": {
      "text/plain": [
       "0"
      ]
     },
     "execution_count": 33,
     "metadata": {},
     "output_type": "execute_result"
    }
   ],
   "source": [
    "#Verificar\n",
    "meu_dicionario['chave1']"
   ]
  },
  {
   "cell_type": "markdown",
   "metadata": {},
   "source": [
    "Uma observação rápida: o Python possui um método interno de fazer uma subtração ou adição automática (ou multiplicação ou divisão). Também poderíamos ter usado += ou -= para a afirmação acima. Por exemplo:"
   ]
  },
  {
   "cell_type": "code",
   "execution_count": 34,
   "metadata": {},
   "outputs": [
    {
     "data": {
      "text/plain": [
       "-123"
      ]
     },
     "execution_count": 34,
     "metadata": {},
     "output_type": "execute_result"
    }
   ],
   "source": [
    "# Defina o objeto igual a ele menos menos 123\n",
    "meu_dicionario['chave1'] -= 123 # meu_dicionario['chave1'] = meu_dicionario['chave1'] - 123\n",
    "meu_dicionario['chave1']"
   ]
  },
  {
   "cell_type": "markdown",
   "metadata": {},
   "source": [
    "Também podemos criar chaves por atribuição. Por exemplo, se começássemos com um dicionário vazio, poderíamos adicionar continuamente a ele:"
   ]
  },
  {
   "cell_type": "code",
   "execution_count": 1,
   "metadata": {},
   "outputs": [],
   "source": [
    "# Crie um novo dicionário\n",
    "d = {}"
   ]
  },
  {
   "cell_type": "code",
   "execution_count": 2,
   "metadata": {},
   "outputs": [],
   "source": [
    "# Crie uma nova chave através da atribuição\n",
    "d['animal'] = 'Cão'"
   ]
  },
  {
   "cell_type": "code",
   "execution_count": 3,
   "metadata": {},
   "outputs": [
    {
     "data": {
      "text/plain": [
       "{'animal': 'Cão'}"
      ]
     },
     "execution_count": 3,
     "metadata": {},
     "output_type": "execute_result"
    }
   ],
   "source": [
    "d"
   ]
  },
  {
   "cell_type": "code",
   "execution_count": 4,
   "metadata": {},
   "outputs": [],
   "source": [
    "# Pode fazer isso com qualquer objeto\n",
    "d['resposta'] = 42"
   ]
  },
  {
   "cell_type": "code",
   "execution_count": 5,
   "metadata": {},
   "outputs": [
    {
     "data": {
      "text/plain": [
       "{'animal': 'Cão', 'resposta': 42}"
      ]
     },
     "execution_count": 5,
     "metadata": {},
     "output_type": "execute_result"
    }
   ],
   "source": [
    "#Mostrar\n",
    "d"
   ]
  },
  {
   "cell_type": "markdown",
   "metadata": {},
   "source": [
    "## Aninhando com dicionários\n",
    "\n",
    "Espero que você esteja começando a ver o quão poderoso é o Python com sua flexibilidade de aninhar objetos e chamar métodos neles. Vamos ver um dicionário aninhado dentro de um dicionário:"
   ]
  },
  {
   "cell_type": "code",
   "execution_count": 6,
   "metadata": {},
   "outputs": [],
   "source": [
    "# Dicionário aninhado dentro de um dicionário aninhado dentro de um dicionário\n",
    "d = {'chave1': {'chaveaninhada': {'subchaveaninhada': 'valor'}}}"
   ]
  },
  {
   "cell_type": "markdown",
   "metadata": {},
   "source": [
    "Wow! That's a quite the inception of dictionaries! Let's see how we can grab that value:"
   ]
  },
  {
   "cell_type": "code",
   "execution_count": 7,
   "metadata": {},
   "outputs": [
    {
     "data": {
      "text/plain": [
       "'valor'"
      ]
     },
     "execution_count": 7,
     "metadata": {},
     "output_type": "execute_result"
    }
   ],
   "source": [
    "d['chave1']['chaveaninhada']['subchaveaninhada']"
   ]
  },
  {
   "cell_type": "markdown",
   "metadata": {},
   "source": [
    "## Alguns métodos de dicionário\n",
    "\n",
    "Existem alguns métodos que podemos chamar em um dicionário. Vamos fazer uma rápida introdução a alguns deles:"
   ]
  },
  {
   "cell_type": "code",
   "execution_count": 8,
   "metadata": {},
   "outputs": [],
   "source": [
    "# Crie um dicionário típico\n",
    "d = {'chave1': 1, 'chave2': 2, 'chave3': 3}"
   ]
  },
  {
   "cell_type": "code",
   "execution_count": 46,
   "metadata": {},
   "outputs": [
    {
     "data": {
      "text/plain": [
       "dict_keys(['chave1', 'chave2', 'chave3'])"
      ]
     },
     "execution_count": 46,
     "metadata": {},
     "output_type": "execute_result"
    }
   ],
   "source": [
    "# Método para retornar uma lista de todas as chaves\n",
    "d.keys()"
   ]
  },
  {
   "cell_type": "code",
   "execution_count": 47,
   "metadata": {},
   "outputs": [
    {
     "data": {
      "text/plain": [
       "dict_values([1, 2, 3])"
      ]
     },
     "execution_count": 47,
     "metadata": {},
     "output_type": "execute_result"
    }
   ],
   "source": [
    "# Método para capturar todos os valores\n",
    "d.values()"
   ]
  },
  {
   "cell_type": "code",
   "execution_count": 9,
   "metadata": {},
   "outputs": [
    {
     "data": {
      "text/plain": [
       "dict_items([('chave1', 1), ('chave2', 2), ('chave3', 3)])"
      ]
     },
     "execution_count": 9,
     "metadata": {},
     "output_type": "execute_result"
    }
   ],
   "source": [
    "# Método para retornar tuplas de todos os itens (aprenderemos sobre tuplas em breve)\n",
    "d.items()"
   ]
  },
  {
   "cell_type": "markdown",
   "metadata": {},
   "source": [
    "Espero que agora você tenha um bom entendimento básico de como construir dicionários. Há muito mais a ser abordado aqui, mas revisaremos os dicionários posteriormente. Após esta seção, tudo que você precisa saber é como criar um dicionário e como recuperar valores dele."
   ]
  }
 ],
 "metadata": {
  "kernelspec": {
   "display_name": "Python 3 (ipykernel)",
   "language": "python",
   "name": "python3"
  },
  "language_info": {
   "codemirror_mode": {
    "name": "ipython",
    "version": 3
   },
   "file_extension": ".py",
   "mimetype": "text/x-python",
   "name": "python",
   "nbconvert_exporter": "python",
   "pygments_lexer": "ipython3",
   "version": "3.9.7"
  },
  "widgets": {
   "application/vnd.jupyter.widget-state+json": {
    "state": {},
    "version_major": 2,
    "version_minor": 0
   }
  }
 },
 "nbformat": 4,
 "nbformat_minor": 1
}
