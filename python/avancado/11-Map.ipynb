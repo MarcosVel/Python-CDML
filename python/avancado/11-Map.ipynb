{
 "cells": [
  {
   "cell_type": "markdown",
   "metadata": {},
   "source": [
    "# map()\n",
    "\n",
    "map() é uma função Python interna que recebe dois ou mais argumentos: uma função e uma ou mais iteráveis, no formato:\n",
    "\n",
    "    map(function, iterable, ...)\n",
    "    \n",
    "map() retorna um **iterador** - ou seja, map() retorna um objeto especial que gera um resultado por vez, conforme necessário. Usaremos map() como uma lista para ver os resultados imediatamente.\n",
    "\n",
    "Quando examinamos as compreensões da lista, criamos uma pequena expressão para converter Celsius em Fahrenheit. Vamos fazer o mesmo aqui, mas use o mapa:"
   ]
  },
  {
   "cell_type": "code",
   "execution_count": 1,
   "metadata": {},
   "outputs": [],
   "source": [
    "def fahrenheit(celsius):\n",
    "    return (9/5)*celsius + 32\n",
    "    \n",
    "temps = [0, 22.5, 40, 100]"
   ]
  },
  {
   "cell_type": "markdown",
   "metadata": {},
   "source": [
    "Agora vamos ver o mapa() em ação:"
   ]
  },
  {
   "cell_type": "code",
   "execution_count": 3,
   "metadata": {},
   "outputs": [
    {
     "data": {
      "text/plain": [
       "[32.0, 72.5, 104.0, 212.0]"
      ]
     },
     "execution_count": 3,
     "metadata": {},
     "output_type": "execute_result"
    }
   ],
   "source": [
    "F_temps = map(fahrenheit, temps)\n",
    "\n",
    "list(F_temps)"
   ]
  },
  {
   "cell_type": "markdown",
   "metadata": {},
   "source": [
    "No exemplo acima, map() aplica a função fahrenheit a todos os itens em temps. No entanto, não precisamos definir nossas funções antecipadamente; podemos usar uma expressão lambda:"
   ]
  },
  {
   "cell_type": "code",
   "execution_count": 4,
   "metadata": {},
   "outputs": [
    {
     "data": {
      "text/plain": [
       "[32.0, 72.5, 104.0, 212.0]"
      ]
     },
     "execution_count": 4,
     "metadata": {},
     "output_type": "execute_result"
    }
   ],
   "source": [
    "list(map(lambda x: (9/5)*x + 32, temps))"
   ]
  },
  {
   "cell_type": "markdown",
   "metadata": {},
   "source": [
    "Ótimo! Temos o mesmo resultado! Usar o mapa com expressões lambda é muito mais comum, pois todo o objetivo do map() é economizar esforço ao criar manual para loops."
   ]
  },
  {
   "cell_type": "markdown",
   "metadata": {},
   "source": [
    "### map() com muitas iterações\n",
    "map() pode aceitar mais de um iterável. Os iteráveis devem ter o mesmo comprimento - caso não estejam, map() será interrompido assim que o iterável mais curto for esgotado.\n",
    "\n",
    "\n",
    "Por exemplo, se nossa função estiver tentando adicionar dois valores **x** e **y**, podemos passar uma lista de valores **x** e outra lista de valores **y** para map(). A função (ou lambda) receberá o 0th índice de cada lista e, em seguida, o 10th índice, e assim sucessivamente, até que o n-ésimo índice seja alcançado.\n",
    "\n",
    "Vamos ver isso em ação com duas e depois três listas:"
   ]
  },
  {
   "cell_type": "code",
   "execution_count": 5,
   "metadata": {},
   "outputs": [
    {
     "data": {
      "text/plain": [
       "[6, 8, 10, 12]"
      ]
     },
     "execution_count": 5,
     "metadata": {},
     "output_type": "execute_result"
    }
   ],
   "source": [
    "a = [1,2,3,4]\n",
    "b = [5,6,7,8]\n",
    "c = [9,10,11,12]\n",
    "\n",
    "list(map(lambda x,y:x+y,a,b))"
   ]
  },
  {
   "cell_type": "code",
   "execution_count": 6,
   "metadata": {},
   "outputs": [
    {
     "data": {
      "text/plain": [
       "[15, 18, 21, 24]"
      ]
     },
     "execution_count": 6,
     "metadata": {},
     "output_type": "execute_result"
    }
   ],
   "source": [
    "list(map(lambda x,y,z:x+y+z,a,b,c))"
   ]
  },
  {
   "cell_type": "markdown",
   "metadata": {},
   "source": [
    "Podemos ver no exemplo acima que o parâmetro **x** obtém seus valores da lista **a**, enquanto **y** obtém seus valores de **b** e **z** da lista **c**. "
   ]
  }
 ],
 "metadata": {
  "kernelspec": {
   "display_name": "Python 3",
   "language": "python",
   "name": "python3"
  },
  "language_info": {
   "codemirror_mode": {
    "name": "ipython",
    "version": 3
   },
   "file_extension": ".py",
   "mimetype": "text/x-python",
   "name": "python",
   "nbconvert_exporter": "python",
   "pygments_lexer": "ipython3",
   "version": "3.7.4"
  }
 },
 "nbformat": 4,
 "nbformat_minor": 1
}
