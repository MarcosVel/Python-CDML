{
 "cells": [
  {
   "cell_type": "markdown",
   "metadata": {},
   "source": [
    "# `*args` and `**kwargs`\n",
    "\n",
    "Trabalhe com Python por tempo suficiente e, eventualmente, você encontrará `*args` e `** kwargs`. Esses termos estranhos aparecem como parâmetros nas definições de funções. O que eles fazem? Vamos revisar uma função simples:"
   ]
  },
  {
   "cell_type": "code",
   "execution_count": 1,
   "metadata": {},
   "outputs": [
    {
     "data": {
      "text/plain": [
       "5.0"
      ]
     },
     "execution_count": 1,
     "metadata": {},
     "output_type": "execute_result"
    }
   ],
   "source": [
    "def minha_funcao(a,b):\n",
    "    return sum((a,b))*.05\n",
    "\n",
    "minha_funcao(40,60)"
   ]
  },
  {
   "cell_type": "markdown",
   "metadata": {},
   "source": [
    "Esta função retorna 5% da soma de **a** e **b**. Neste exemplo, **a** e **b** são argumentos **posicionais**; isto é, 40 é atribuído a **a** porque é o primeiro argumento e 60 a **b**. Observe também que, para trabalhar com vários argumentos posicionais na função `sum ()`, tivemos que passá-los como uma tupla.\n",
    "\n",
    "E se quisermos trabalhar com mais de dois números? Uma maneira seria atribuir um **lote** de parâmetros e atribuir a cada um um valor padrão."
   ]
  },
  {
   "cell_type": "code",
   "execution_count": 2,
   "metadata": {},
   "outputs": [
    {
     "data": {
      "text/plain": [
       "6.0"
      ]
     },
     "execution_count": 2,
     "metadata": {},
     "output_type": "execute_result"
    }
   ],
   "source": [
    "def minha_funcao(a=0,b=0,c=0,d=0,e=0):\n",
    "    return sum((a,b,c,d,e))*.05\n",
    "\n",
    "minha_funcao(40,60,20)"
   ]
  },
  {
   "cell_type": "markdown",
   "metadata": {},
   "source": [
    "Obviamente, essa não é uma solução muito eficiente, e é aí que entra o `* args`.\n",
    "\n",
    "## `*args`\n",
    "\n",
    "Quando um parâmetro de função começa com um asterisco, ele permite um **número arbitrário** de argumentos, e a função os aceita como uma tupla de valores. Reescrevendo a função acima:"
   ]
  },
  {
   "cell_type": "code",
   "execution_count": 3,
   "metadata": {},
   "outputs": [
    {
     "data": {
      "text/plain": [
       "36.0"
      ]
     },
     "execution_count": 3,
     "metadata": {},
     "output_type": "execute_result"
    }
   ],
   "source": [
    "def minha_funcao(*args):\n",
    "    return sum(args)*.05\n",
    "\n",
    "minha_funcao(40,60,20,40,60,20,40,60,20,40,60,20,40,60,20,40,60,20)"
   ]
  },
  {
   "cell_type": "code",
   "execution_count": 4,
   "metadata": {},
   "outputs": [
    {
     "name": "stdout",
     "output_type": "stream",
     "text": [
      "6.0\n"
     ]
    }
   ],
   "source": [
    "print(120*.05)"
   ]
  },
  {
   "cell_type": "markdown",
   "metadata": {},
   "source": [
    "Observe como a passagem da palavra-chave \"args\" para a função `sum ()` fez a mesma coisa que uma tupla de argumentos.\n",
    "\n",
    "Vale a pena notar que a palavra \"args\" é arbitrária - qualquer palavra será útil desde que seja precedida por um asterisco. Para demonstrar isso:"
   ]
  },
  {
   "cell_type": "code",
   "execution_count": 5,
   "metadata": {},
   "outputs": [
    {
     "data": {
      "text/plain": [
       "6.0"
      ]
     },
     "execution_count": 5,
     "metadata": {},
     "output_type": "execute_result"
    }
   ],
   "source": [
    "def minha_funcao(*spam):\n",
    "    return sum(spam)*.05\n",
    "\n",
    "minha_funcao(40,60,20)"
   ]
  },
  {
   "cell_type": "markdown",
   "metadata": {},
   "source": [
    "## `**kwargs`\n",
    "\n",
    "Da mesma forma, o Python oferece uma maneira de lidar com números arbitrários de argumentos **com palavras-chave**. Em vez de criar uma tupla de valores, `** kwargs` cria um dicionário de pares de chave/valor. Por exemplo:"
   ]
  },
  {
   "cell_type": "code",
   "execution_count": 4,
   "metadata": {},
   "outputs": [
    {
     "name": "stdout",
     "output_type": "stream",
     "text": [
      "Minha fruta favorita é acerola que tem gosto doce\n"
     ]
    }
   ],
   "source": [
    "def minha_funcao(**kwargs):\n",
    "    if 'fruta' in kwargs:\n",
    "        print(f\"Minha fruta favorita é {kwargs['fruta']} que tem gosto {kwargs['gosto']}\")  \n",
    "    else:\n",
    "        print(\"Eu não gosto de fruta\")\n",
    "        \n",
    "minha_funcao(fruta='acerola', gosto='doce')"
   ]
  },
  {
   "cell_type": "code",
   "execution_count": 8,
   "metadata": {},
   "outputs": [
    {
     "name": "stdout",
     "output_type": "stream",
     "text": [
      "Eu não gosto de fruta\n"
     ]
    }
   ],
   "source": [
    "minha_funcao()"
   ]
  },
  {
   "cell_type": "markdown",
   "metadata": {},
   "source": [
    "## `*args` e `**kwargs` combinados\n",
    "\n",
    "Você pode passar `*args` e` **kwargs` para a mesma função, mas `*args` deve aparecer antes de `**kwargs`"
   ]
  },
  {
   "cell_type": "code",
   "execution_count": 13,
   "metadata": {},
   "outputs": [
    {
     "name": "stdout",
     "output_type": "stream",
     "text": [
      "Eu gosto ovos e carne and minha fruta favorita é cerejas\n",
      "Posso ter algum suco de laranja?\n"
     ]
    }
   ],
   "source": [
    "def minha_funcao(*args, **kwargs):\n",
    "    if 'fruta' and 'suco' in kwargs:\n",
    "        print(f\"Eu gosto {' e '.join(args)} and minha fruta favorita é {kwargs['fruta']}\")\n",
    "        print(f\"Posso ter algum suco de {kwargs['suco']}?\")\n",
    "    else:\n",
    "        pass\n",
    "        \n",
    "minha_funcao('ovos','carne',fruta='cerejas',suco='laranja')"
   ]
  },
  {
   "cell_type": "markdown",
   "metadata": {},
   "source": [
    "Colocar argumentos com palavras-chave antes dos argumentos posicionais gera uma exceção:"
   ]
  },
  {
   "cell_type": "code",
   "execution_count": 14,
   "metadata": {},
   "outputs": [
    {
     "ename": "SyntaxError",
     "evalue": "positional argument follows keyword argument (<ipython-input-14-c4214591d8ba>, line 1)",
     "output_type": "error",
     "traceback": [
      "\u001b[0;36m  File \u001b[0;32m\"<ipython-input-14-c4214591d8ba>\"\u001b[0;36m, line \u001b[0;32m1\u001b[0m\n\u001b[0;31m    minha_funcao(fruta='morangos',suco='laranja','ovos','spam')\u001b[0m\n\u001b[0m                                                 ^\u001b[0m\n\u001b[0;31mSyntaxError\u001b[0m\u001b[0;31m:\u001b[0m positional argument follows keyword argument\n"
     ]
    }
   ],
   "source": [
    "minha_funcao(fruta='morangos',suco='laranja','ovos','spam')"
   ]
  },
  {
   "cell_type": "code",
   "execution_count": 15,
   "metadata": {},
   "outputs": [
    {
     "name": "stdout",
     "output_type": "stream",
     "text": [
      "Eu gosto ovos e spam and minha fruta favorita é morangos\n",
      "Posso ter algum suco de laranja?\n"
     ]
    }
   ],
   "source": [
    "minha_funcao('ovos','spam',fruta='morangos',suco='laranja')"
   ]
  },
  {
   "cell_type": "markdown",
   "metadata": {},
   "source": [
    "Assim como em \"args\", você pode usar qualquer nome que desejar para argumentos com palavras-chave - \"kwargs\" é apenas uma convenção popular.\n",
    "\n",
    "Agora você deve entender como `*args` e` **kwargs` fornecem a flexibilidade para trabalhar com números arbitrários de argumentos!"
   ]
  }
 ],
 "metadata": {
  "kernelspec": {
   "display_name": "Python 3 (ipykernel)",
   "language": "python",
   "name": "python3"
  },
  "language_info": {
   "codemirror_mode": {
    "name": "ipython",
    "version": 3
   },
   "file_extension": ".py",
   "mimetype": "text/x-python",
   "name": "python",
   "nbconvert_exporter": "python",
   "pygments_lexer": "ipython3",
   "version": "3.9.7"
  }
 },
 "nbformat": 4,
 "nbformat_minor": 2
}
