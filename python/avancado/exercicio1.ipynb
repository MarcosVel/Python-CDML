{
 "cells": [
  {
   "cell_type": "markdown",
   "id": "8f929982",
   "metadata": {},
   "source": [
    "**Problema 1: Converta 1024 para binário e hexadecimal**"
   ]
  },
  {
   "cell_type": "code",
   "execution_count": 9,
   "id": "ccf64ed8",
   "metadata": {},
   "outputs": [
    {
     "data": {
      "text/plain": [
       "'0b10000000000'"
      ]
     },
     "execution_count": 9,
     "metadata": {},
     "output_type": "execute_result"
    }
   ],
   "source": [
    "bin(1024)"
   ]
  },
  {
   "cell_type": "markdown",
   "id": "2148110a",
   "metadata": {},
   "source": [
    "**Problema 2: Arredonde 5.23222 para duas casas decimais**"
   ]
  },
  {
   "cell_type": "code",
   "execution_count": 10,
   "id": "7b435156",
   "metadata": {},
   "outputs": [
    {
     "data": {
      "text/plain": [
       "5.23"
      ]
     },
     "execution_count": 10,
     "metadata": {},
     "output_type": "execute_result"
    }
   ],
   "source": [
    "round(5.23222, 2)"
   ]
  },
  {
   "cell_type": "markdown",
   "id": "131d1f8c",
   "metadata": {},
   "source": [
    "**Problema 3: Verifique se todas as letras da string s são minúsculas**"
   ]
  },
  {
   "cell_type": "code",
   "execution_count": 14,
   "id": "dfce95bb",
   "metadata": {},
   "outputs": [],
   "source": [
    "s = 'Olá, como você está Maria, Está se sentindo bem?'"
   ]
  },
  {
   "cell_type": "code",
   "execution_count": 16,
   "id": "1eedd58e",
   "metadata": {},
   "outputs": [
    {
     "data": {
      "text/plain": [
       "False"
      ]
     },
     "execution_count": 16,
     "metadata": {},
     "output_type": "execute_result"
    }
   ],
   "source": [
    "s.isupper()"
   ]
  },
  {
   "cell_type": "markdown",
   "id": "e7a9f5a7",
   "metadata": {},
   "source": [
    "**Problema 4: Quantas vezes a letra 'w' aparece na string abaixo?**"
   ]
  },
  {
   "cell_type": "code",
   "execution_count": 17,
   "id": "42e942cc",
   "metadata": {},
   "outputs": [],
   "source": [
    "s = 'twywywtwywbwhsjhwuwshshwuwwwjdjdid'"
   ]
  },
  {
   "cell_type": "code",
   "execution_count": 13,
   "id": "e55f4ff3",
   "metadata": {},
   "outputs": [
    {
     "data": {
      "text/plain": [
       "12"
      ]
     },
     "execution_count": 13,
     "metadata": {},
     "output_type": "execute_result"
    }
   ],
   "source": [
    "s.count('w')"
   ]
  },
  {
   "cell_type": "markdown",
   "id": "d2ca37b3",
   "metadata": {},
   "source": [
    "**Problema 5: Imprima o índice onde está a letra 'm'**\n"
   ]
  },
  {
   "cell_type": "code",
   "execution_count": 18,
   "id": "87a00671",
   "metadata": {},
   "outputs": [
    {
     "data": {
      "text/plain": [
       "-1"
      ]
     },
     "execution_count": 18,
     "metadata": {},
     "output_type": "execute_result"
    }
   ],
   "source": [
    "s.find('m')"
   ]
  },
  {
   "cell_type": "markdown",
   "id": "9a97fad5",
   "metadata": {},
   "source": [
    "**Problema 6: Inverta a string**"
   ]
  },
  {
   "cell_type": "code",
   "execution_count": 22,
   "id": "c1e666e5",
   "metadata": {},
   "outputs": [],
   "source": [
    "s = 'Olá Bom dia'"
   ]
  },
  {
   "cell_type": "code",
   "execution_count": 23,
   "id": "3fc795dc",
   "metadata": {},
   "outputs": [
    {
     "data": {
      "text/plain": [
       "'aid moB álO'"
      ]
     },
     "execution_count": 23,
     "metadata": {},
     "output_type": "execute_result"
    }
   ],
   "source": [
    "s[::-1]"
   ]
  },
  {
   "cell_type": "code",
   "execution_count": 24,
   "id": "ef82ce8b",
   "metadata": {
    "scrolled": true
   },
   "outputs": [
    {
     "ename": "AttributeError",
     "evalue": "'str' object has no attribute 'reverse'",
     "output_type": "error",
     "traceback": [
      "\u001b[1;31m---------------------------------------------------------------------------\u001b[0m",
      "\u001b[1;31mAttributeError\u001b[0m                            Traceback (most recent call last)",
      "\u001b[1;32m~\\AppData\\Local\\Temp/ipykernel_16228/3781647117.py\u001b[0m in \u001b[0;36m<module>\u001b[1;34m\u001b[0m\n\u001b[1;32m----> 1\u001b[1;33m \u001b[0ms\u001b[0m\u001b[1;33m.\u001b[0m\u001b[0mreverse\u001b[0m\u001b[1;33m(\u001b[0m\u001b[1;33m)\u001b[0m\u001b[1;33m\u001b[0m\u001b[1;33m\u001b[0m\u001b[0m\n\u001b[0m",
      "\u001b[1;31mAttributeError\u001b[0m: 'str' object has no attribute 'reverse'"
     ]
    }
   ],
   "source": []
  },
  {
   "cell_type": "code",
   "execution_count": null,
   "id": "028dae78",
   "metadata": {},
   "outputs": [],
   "source": []
  }
 ],
 "metadata": {
  "kernelspec": {
   "display_name": "Python 3 (ipykernel)",
   "language": "python",
   "name": "python3"
  },
  "language_info": {
   "codemirror_mode": {
    "name": "ipython",
    "version": 3
   },
   "file_extension": ".py",
   "mimetype": "text/x-python",
   "name": "python",
   "nbconvert_exporter": "python",
   "pygments_lexer": "ipython3",
   "version": "3.9.7"
  }
 },
 "nbformat": 4,
 "nbformat_minor": 5
}
