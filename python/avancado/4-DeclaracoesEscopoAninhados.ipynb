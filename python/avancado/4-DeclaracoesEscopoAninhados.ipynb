{
 "cells": [
  {
   "cell_type": "markdown",
   "metadata": {},
   "source": [
    "# Declarações e escopo aninhados\n",
    "\n",
    "Agora que passamos a escrever nossas próprias funções, é importante entender como o Python lida com os nomes de variáveis que você atribui. Quando você cria um nome de variável em Python, o nome é armazenado em um **espaço de nome**. Os nomes de variáveis também têm um **scope**, o escopo determina a visibilidade desse nome de variável para outras partes do seu código.\n",
    "\n",
    "Vamos começar com um experimento rápido; imagine o seguinte código:"
   ]
  },
  {
   "cell_type": "code",
   "execution_count": 2,
   "metadata": {},
   "outputs": [],
   "source": [
    "x = 25\n",
    "\n",
    "def printer():\n",
    "    x = 50\n",
    "    return x\n",
    "\n",
    "# print(x)\n",
    "# print(printer())"
   ]
  },
  {
   "cell_type": "markdown",
   "metadata": {},
   "source": [
    "O que você imagina que é a saída da impressora ()? 25 ou 50? Qual é a saída da impressão x? 25 ou 50?"
   ]
  },
  {
   "cell_type": "code",
   "execution_count": 3,
   "metadata": {},
   "outputs": [
    {
     "name": "stdout",
     "output_type": "stream",
     "text": [
      "25\n"
     ]
    }
   ],
   "source": [
    "print(x)"
   ]
  },
  {
   "cell_type": "code",
   "execution_count": 4,
   "metadata": {},
   "outputs": [
    {
     "name": "stdout",
     "output_type": "stream",
     "text": [
      "50\n"
     ]
    }
   ],
   "source": [
    "print(printer())"
   ]
  },
  {
   "cell_type": "markdown",
   "metadata": {},
   "source": [
    "Como o Python sabe a qual **x** você está se referindo no seu código? É aqui que entra a idéia de escopo. O Python possui um conjunto de regras a seguir para decidir quais variáveis (como **x**, neste caso) você está referenciando em seu código. Vamos quebrar as regras:"
   ]
  },
  {
   "cell_type": "markdown",
   "metadata": {
    "collapsed": true
   },
   "source": [
    "Essa idéia de escopo no seu código é muito importante para entender, a fim de atribuir e chamar adequadamente nomes de variáveis.\n",
    "\n",
    "Em termos simples, a ideia de escopo pode ser descrita por 3 regras gerais:\n",
    "\n",
    "1. As atribuições de nome criarão ou alterarão os nomes locais por padrão.\n",
    "2. O nome faz referência à pesquisa (no máximo) de quatro escopos, são eles:\n",
    "    * local\n",
    "    * funções anexas\n",
    "    * global\n",
    "    * embutidas\n",
    "3. Os nomes declarados em instruções globais e não locais mapeiam os nomes atribuídos aos escopos de módulo e função.\n",
    "\n",
    "\n",
    "**LEGB Regra:**\n",
    "\n",
    "Local (L): Definido dentro da função / classe\n",
    "\n",
    "Incluído (E): Definido dentro das funções anexas (conceito de função aninhada)\n",
    "\n",
    "Global (G): definido no nível mais alto\n",
    "\n",
    "Built-in (B): nomes reservados nos módulos internos do Python: open, range, SyntaxError,..."
   ]
  },
  {
   "cell_type": "markdown",
   "metadata": {},
   "source": [
    "## Exemplos rápidos\n",
    "\n",
    "### Local"
   ]
  },
  {
   "cell_type": "code",
   "execution_count": 22,
   "metadata": {},
   "outputs": [
    {
     "name": "stdout",
     "output_type": "stream",
     "text": [
      "<function <lambda> at 0x115448a60>\n"
     ]
    }
   ],
   "source": [
    "# x aqui é local:\n",
    "f = lambda x:x**2\n",
    "print(f)"
   ]
  },
  {
   "cell_type": "markdown",
   "metadata": {},
   "source": [
    "### Locais da função aninhadas\n",
    "Isso ocorre quando temos uma função dentro de uma função (funções aninhadas)\n"
   ]
  },
  {
   "cell_type": "code",
   "execution_count": 1,
   "metadata": {},
   "outputs": [
    {
     "name": "stdout",
     "output_type": "stream",
     "text": [
      "Olá Maria\n"
     ]
    }
   ],
   "source": [
    "nome = 'Este é uma variável global'\n",
    "\n",
    "def cumprimentar():\n",
    "    # Função de fechamento\n",
    "    nome = 'Maria'\n",
    "    \n",
    "    def ola():\n",
    "        print('Olá '+nome)\n",
    "    \n",
    "    ola()\n",
    "\n",
    "cumprimentar()"
   ]
  },
  {
   "cell_type": "markdown",
   "metadata": {},
   "source": [
    "Observe como o Maria foi usado, porque a função ola() foi incluída dentro da função cumprimentar!"
   ]
  },
  {
   "cell_type": "markdown",
   "metadata": {},
   "source": [
    "### Global\n",
    "Felizmente, em Jupyter, uma maneira rápida de testar variáveis globais é verificar se outra célula reconhece a variável!"
   ]
  },
  {
   "cell_type": "code",
   "execution_count": null,
   "metadata": {},
   "outputs": [],
   "source": [
    "print(nome)"
   ]
  },
  {
   "cell_type": "markdown",
   "metadata": {},
   "source": [
    "### Funções incorporadas\n",
    "Estes são os nomes de funções incorporados no Python (não os substitua!)"
   ]
  },
  {
   "cell_type": "code",
   "execution_count": 9,
   "metadata": {},
   "outputs": [
    {
     "data": {
      "text/plain": [
       "<function len(obj, /)>"
      ]
     },
     "execution_count": 9,
     "metadata": {},
     "output_type": "execute_result"
    }
   ],
   "source": [
    "len"
   ]
  },
  {
   "cell_type": "markdown",
   "metadata": {},
   "source": [
    "## Variáveis Locais\n",
    "Quando você declara variáveis dentro de uma definição de função, elas não são relacionadas de forma alguma a outras variáveis com os mesmos nomes usados fora da função - ou seja, os nomes das variáveis são locais para a função. Isso é chamado de escopo da variável. Todas as variáveis têm o escopo do bloco em que são declaradas a partir do ponto de definição do nome.\n",
    "\n",
    "Exemplo:"
   ]
  },
  {
   "cell_type": "code",
   "execution_count": 26,
   "metadata": {},
   "outputs": [
    {
     "name": "stdout",
     "output_type": "stream",
     "text": [
      "x é 50\n",
      "Variável local x alterado para  2\n",
      "x ainda é 50\n"
     ]
    }
   ],
   "source": [
    "x = 50\n",
    "\n",
    "def func(x):\n",
    "    print('x é', x)\n",
    "    x = 2\n",
    "    print('Variável local x alterado para ', x)\n",
    "\n",
    "func(x)\n",
    "print('x ainda é', x)"
   ]
  },
  {
   "cell_type": "code",
   "execution_count": 25,
   "metadata": {},
   "outputs": [
    {
     "data": {
      "text/plain": [
       "50"
      ]
     },
     "execution_count": 25,
     "metadata": {},
     "output_type": "execute_result"
    }
   ],
   "source": [
    "x"
   ]
  },
  {
   "cell_type": "markdown",
   "metadata": {},
   "source": [
    "Na primeira vez que imprimimos o valor do nome **x** com a primeira linha no corpo da função, o Python usa o valor do parâmetro declarado no bloco principal, acima da definição da função.\n",
    "\n",
    "Em seguida, atribuímos o valor 2 a **x**. A variável **x** é local para a nossa função. Portanto, quando alteramos o valor de **x** na função, o **x** definido no bloco principal permanece inalterado.\n",
    "\n",
    "Com a última declaração de impressão, exibimos o valor de **x** conforme definido no bloco principal, confirmando que ele não é afetado pela atribuição local na função anteriormente chamada.\n",
    "\n",
    "## O escopo <code>global</code>\n",
    "Se você deseja atribuir um valor a uma variável definido no nível superior do programa (ou seja, não dentro de nenhum tipo de escopo, como funções ou classes), é necessário informar ao Python que o nome não é local, mas é global . Fazemos isso usando a instrução <code>global</code>. É impossível atribuir um valor a uma variável definida fora de uma função sem a instrução global.\n",
    "\n",
    "Você pode usar os valores dessas variáveis definidas fora da função (supondo que não haja variável com o mesmo nome dentro da função). No entanto, isso não é incentivado e deve ser evitado, pois fica pouco claro para o leitor do programa como a definição dessa variável está. O uso da instrução <code>global</code> deixa bem claro que a variável está definida em um bloco mais externo.\n",
    "\n",
    "Exemplo:"
   ]
  },
  {
   "cell_type": "code",
   "execution_count": 2,
   "metadata": {},
   "outputs": [
    {
     "name": "stdout",
     "output_type": "stream",
     "text": [
      "Antes chamando func(), x é:  50\n",
      "Esta função agora está usando o x global!\n",
      "Porque x é global:  50\n",
      "Executou func(), mudou global x para 2\n",
      "Valor de x (fora de func()) é:  2\n"
     ]
    }
   ],
   "source": [
    "x = 50\n",
    "\n",
    "def func():\n",
    "    global x\n",
    "    print('Esta função agora está usando o x global!')\n",
    "    print('Porque x é global: ', x)\n",
    "    x = 2\n",
    "    print('Executou func(), mudou global x para', x)\n",
    "\n",
    "print('Antes chamando func(), x é: ', x)\n",
    "func()\n",
    "print('Valor de x (fora de func()) é: ', x)"
   ]
  },
  {
   "cell_type": "markdown",
   "metadata": {
    "collapsed": true
   },
   "source": [
    "A instrução <code>global</code> é usada para declarar que **x** é uma variável global - portanto, quando atribuímos um valor a **x** dentro da função, essa alteração é refletida quando usamos o parâmetro valor de **x** no bloco principal.\n",
    "\n",
    "Você pode especificar mais de uma variável global usando a mesma instrução global, por exemplo. <code>global x, y, z</code>."
   ]
  },
  {
   "cell_type": "markdown",
   "metadata": {
    "collapsed": true
   },
   "source": [
    "## Conclusão\n",
    "Agora você deve ter um bom entendimento do Scope (você já deve ter se sentido intuitivo sobre o Scope, o que é ótimo!) Uma última menção é que você pode usar as funções **globals()** e **locals()** para verifique quais são suas variáveis locais e globais atuais.\n",
    "\n",
    "Outra coisa a ter em mente é que tudo no Python é um objeto! Posso atribuir variáveis a funções da mesma forma que posso com números! "
   ]
  }
 ],
 "metadata": {
  "kernelspec": {
   "display_name": "Python 3 (ipykernel)",
   "language": "python",
   "name": "python3"
  },
  "language_info": {
   "codemirror_mode": {
    "name": "ipython",
    "version": 3
   },
   "file_extension": ".py",
   "mimetype": "text/x-python",
   "name": "python",
   "nbconvert_exporter": "python",
   "pygments_lexer": "ipython3",
   "version": "3.9.7"
  }
 },
 "nbformat": 4,
 "nbformat_minor": 1
}
