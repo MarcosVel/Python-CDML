{
 "cells": [
  {
   "cell_type": "markdown",
   "metadata": {},
   "source": [
    "# filter\n",
    "\n",
    "O filtro de função (função, lista) oferece uma maneira conveniente de filtrar todos os elementos de um iterável, para o qual a função retorna True.\n",
    "\n",
    "O filtro de função (função, lista) precisa de uma função como seu primeiro argumento. A função precisa retornar um valor booleano (True ou False). Esta função será aplicada a todos os elementos do iterável. Somente se a função retornar True, o elemento iterável será incluído no resultado.\n",
    "\n",
    "Como map(), filter() retorna um **iterador** - ou seja, o filtro gera um resultado por vez, conforme necessário. Iteradores e geradores serão abordados em uma próxima palestra. Por enquanto, como nossos exemplos são muito pequenos, converteremos filter () como uma lista para ver nossos resultados imediatamente.\n",
    "\n",
    "Vamos ver alguns exemplos:"
   ]
  },
  {
   "cell_type": "code",
   "execution_count": 3,
   "metadata": {},
   "outputs": [],
   "source": [
    "#Primeiro vamos fazer uma função\n",
    "def verifica(num):\n",
    "    if num%2 ==0:\n",
    "        return True"
   ]
  },
  {
   "cell_type": "markdown",
   "metadata": {},
   "source": [
    "Agora vamos filtrar uma lista de números. Nota: colocar a função no filtro sem parênteses pode parecer estranho, mas lembre-se de que as funções também são objetos."
   ]
  },
  {
   "cell_type": "code",
   "execution_count": 4,
   "metadata": {},
   "outputs": [
    {
     "data": {
      "text/plain": [
       "[0, 2, 4, 6, 8, 10, 12, 14, 16, 18]"
      ]
     },
     "execution_count": 4,
     "metadata": {},
     "output_type": "execute_result"
    }
   ],
   "source": [
    "lst =range(20)\n",
    "\n",
    "list(filter(verifica,lst))"
   ]
  },
  {
   "cell_type": "markdown",
   "metadata": {},
   "source": [
    "filter() é mais comumente usado com funções lambda, porque geralmente usamos filter para um trabalho rápido em que não queremos escrever uma função inteira. Vamos repetir o exemplo acima usando uma expressão lambda:"
   ]
  },
  {
   "cell_type": "code",
   "execution_count": 8,
   "metadata": {},
   "outputs": [
    {
     "data": {
      "text/plain": [
       "[0, 2, 4, 6, 8, 10, 12, 14, 16, 18]"
      ]
     },
     "execution_count": 8,
     "metadata": {},
     "output_type": "execute_result"
    }
   ],
   "source": [
    "list(filter(lambda x: x%2==0,lst))"
   ]
  }
 ],
 "metadata": {
  "kernelspec": {
   "display_name": "Python 3",
   "language": "python",
   "name": "python3"
  },
  "language_info": {
   "codemirror_mode": {
    "name": "ipython",
    "version": 3
   },
   "file_extension": ".py",
   "mimetype": "text/x-python",
   "name": "python",
   "nbconvert_exporter": "python",
   "pygments_lexer": "ipython3",
   "version": "3.7.4"
  }
 },
 "nbformat": 4,
 "nbformat_minor": 1
}
