{
 "cells": [
  {
   "cell_type": "markdown",
   "metadata": {},
   "source": [
    "# Decorators\n",
    "\n",
    "\n",
    "Podem ser vistos como funções que modificam a *funcionalidade* de outra função. Eles ajudam a tornar seu código mais curto e mais \"Pythonic\".\n",
    "\n",
    "Para explicar adequadamente os decoradores, construiremos lentamente a partir de funções. Então, vamos detalhar as etapas:\n",
    "\n",
    "## Funções revisão"
   ]
  },
  {
   "cell_type": "code",
   "execution_count": 1,
   "metadata": {},
   "outputs": [],
   "source": [
    "def func():\n",
    "    return 1"
   ]
  },
  {
   "cell_type": "code",
   "execution_count": 2,
   "metadata": {},
   "outputs": [
    {
     "data": {
      "text/plain": [
       "1"
      ]
     },
     "execution_count": 2,
     "metadata": {},
     "output_type": "execute_result"
    }
   ],
   "source": [
    "func()"
   ]
  },
  {
   "cell_type": "markdown",
   "metadata": {},
   "source": [
    "## Scope Revisão\n",
    "Lembre-se da aula de instruções aninhadas que o Python usa o Scope para saber a que se refere um rótulo. Por exemplo:"
   ]
  },
  {
   "cell_type": "code",
   "execution_count": 5,
   "metadata": {},
   "outputs": [],
   "source": [
    "s = 'Variável Global'\n",
    "\n",
    "def verificar_se_ha_locais():\n",
    "    print(locals())"
   ]
  },
  {
   "cell_type": "markdown",
   "metadata": {},
   "source": [
    "Lembre-se de que as funções Python criam um novo escopo, o que significa que a função possui seu próprio espaço para nome para encontrar nomes de variáveis quando mencionados na função. Podemos verificar variáveis locais e variáveis globais com as funções <code>locals()</code> e <code>globals() </code>. Por exemplo:"
   ]
  },
  {
   "cell_type": "code",
   "execution_count": 6,
   "metadata": {},
   "outputs": [
    {
     "name": "stdout",
     "output_type": "stream",
     "text": [
      "{'__name__': '__main__', '__doc__': 'Automatically created module for IPython interactive environment', '__package__': None, '__loader__': None, '__spec__': None, '__builtin__': <module 'builtins' (built-in)>, '__builtins__': <module 'builtins' (built-in)>, '_ih': ['', 'def func():\\n    return 1', 'func()', \"s = 'Variável Global'\\n\\ndef verificar_se_ha_locais():\\n    print(locals())\", 'print(globals())', \"s = 'Variável Global'\\n\\ndef verificar_se_ha_locais():\\n    print(locals())\", 'print(globals())'], '_oh': {2: 1}, '_dh': ['C:\\\\Users\\\\ricar\\\\git\\\\curso_introducao_python_para_ciencia_de_dados\\\\1_CursoIntrodutorioPython\\\\1.3_Funcoes\\\\1.3.3_PythonDecorators'], 'In': ['', 'def func():\\n    return 1', 'func()', \"s = 'Variável Global'\\n\\ndef verificar_se_ha_locais():\\n    print(locals())\", 'print(globals())', \"s = 'Variável Global'\\n\\ndef verificar_se_ha_locais():\\n    print(locals())\", 'print(globals())'], 'Out': {2: 1}, 'get_ipython': <bound method InteractiveShell.get_ipython of <ipykernel.zmqshell.ZMQInteractiveShell object at 0x000001EE9FA0AFC8>>, 'exit': <IPython.core.autocall.ZMQExitAutocall object at 0x000001EE9FA469C8>, 'quit': <IPython.core.autocall.ZMQExitAutocall object at 0x000001EE9FA469C8>, '_': 1, '__': '', '___': '', '_i': \"s = 'Variável Global'\\n\\ndef verificar_se_ha_locais():\\n    print(locals())\", '_ii': 'print(globals())', '_iii': \"s = 'Variável Global'\\n\\ndef verificar_se_ha_locais():\\n    print(locals())\", '_i1': 'def func():\\n    return 1', 'func': <function func at 0x000001EE9FB49828>, '_i2': 'func()', '_2': 1, '_i3': \"s = 'Variável Global'\\n\\ndef verificar_se_ha_locais():\\n    print(locals())\", 's': 'Variável Global', 'verificar_se_ha_locais': <function verificar_se_ha_locais at 0x000001EE9FB49B88>, '_i4': 'print(globals())', '_i5': \"s = 'Variável Global'\\n\\ndef verificar_se_ha_locais():\\n    print(locals())\", '_i6': 'print(globals())'}\n"
     ]
    }
   ],
   "source": [
    "print(globals())"
   ]
  },
  {
   "cell_type": "markdown",
   "metadata": {
    "collapsed": true
   },
   "source": [
    "Aqui retornamos um dicionário de todas as variáveis globais, muitas delas predefinidas no Python. Então, vamos em frente e olhar para as chaves:"
   ]
  },
  {
   "cell_type": "code",
   "execution_count": 7,
   "metadata": {},
   "outputs": [
    {
     "name": "stdout",
     "output_type": "stream",
     "text": [
      "dict_keys(['__name__', '__doc__', '__package__', '__loader__', '__spec__', '__builtin__', '__builtins__', '_ih', '_oh', '_dh', 'In', 'Out', 'get_ipython', 'exit', 'quit', '_', '__', '___', '_i', '_ii', '_iii', '_i1', 'novo_decorator', 'funcao_que_necessita_decorator', '_i2', '_i3', '_i4', '_i5', 's', 'verificar_se_ha_locais', '_i6', '_i7'])\n"
     ]
    }
   ],
   "source": [
    "print(globals().keys())"
   ]
  },
  {
   "cell_type": "markdown",
   "metadata": {},
   "source": [
    "Observe como **s** existe, a variável global que definimos como uma string:"
   ]
  },
  {
   "cell_type": "code",
   "execution_count": 8,
   "metadata": {},
   "outputs": [
    {
     "data": {
      "text/plain": [
       "'Variável Global'"
      ]
     },
     "execution_count": 8,
     "metadata": {},
     "output_type": "execute_result"
    }
   ],
   "source": [
    "globals()['s']"
   ]
  },
  {
   "cell_type": "markdown",
   "metadata": {},
   "source": [
    "Agora, vamos executar nossa função para verificar variáveis locais que possam existir dentro de nossa função (não deve haver nenhuma)"
   ]
  },
  {
   "cell_type": "code",
   "execution_count": 9,
   "metadata": {},
   "outputs": [
    {
     "name": "stdout",
     "output_type": "stream",
     "text": [
      "{}\n"
     ]
    }
   ],
   "source": [
    "verificar_se_ha_locais()"
   ]
  },
  {
   "cell_type": "markdown",
   "metadata": {},
   "source": [
    "Ótimo! Agora vamos continuar desenvolvendo a lógica do que é um decorador. Lembre-se que no Python **tudo é um objeto**. Isso significa que funções são objetos aos quais podem ser atribuídos rótulos e passados para outras funções. Vamos começar com alguns exemplos simples:"
   ]
  },
  {
   "cell_type": "code",
   "execution_count": 88,
   "metadata": {},
   "outputs": [],
   "source": [
    "def ola(nome='Jose'):\n",
    "    return 'Olá '+nome"
   ]
  },
  {
   "cell_type": "code",
   "execution_count": 64,
   "metadata": {},
   "outputs": [
    {
     "data": {
      "text/plain": [
       "'Olá Jose'"
      ]
     },
     "execution_count": 64,
     "metadata": {},
     "output_type": "execute_result"
    }
   ],
   "source": [
    "ola()"
   ]
  },
  {
   "cell_type": "markdown",
   "metadata": {},
   "source": [
    "Atribua outro rótulo à função. Observe que não estamos usando parênteses aqui porque não estamos chamando a função **ola**; ao contrário, estamos apenas passando um objeto de função para a variável **cumprimentar**."
   ]
  },
  {
   "cell_type": "code",
   "execution_count": 89,
   "metadata": {},
   "outputs": [],
   "source": [
    "cumprimentar = ola"
   ]
  },
  {
   "cell_type": "code",
   "execution_count": 90,
   "metadata": {},
   "outputs": [
    {
     "data": {
      "text/plain": [
       "<function __main__.ola(nome='Jose')>"
      ]
     },
     "execution_count": 90,
     "metadata": {},
     "output_type": "execute_result"
    }
   ],
   "source": [
    "cumprimentar"
   ]
  },
  {
   "cell_type": "code",
   "execution_count": 91,
   "metadata": {},
   "outputs": [
    {
     "data": {
      "text/plain": [
       "'Olá Jose'"
      ]
     },
     "execution_count": 91,
     "metadata": {},
     "output_type": "execute_result"
    }
   ],
   "source": [
    "cumprimentar()"
   ]
  },
  {
   "cell_type": "markdown",
   "metadata": {},
   "source": [
    "Então, o que acontece quando excluímos o nome **ola**?"
   ]
  },
  {
   "cell_type": "code",
   "execution_count": 77,
   "metadata": {},
   "outputs": [],
   "source": [
    "del ola"
   ]
  },
  {
   "cell_type": "code",
   "execution_count": 79,
   "metadata": {},
   "outputs": [
    {
     "ename": "NameError",
     "evalue": "name 'ola' is not defined",
     "output_type": "error",
     "traceback": [
      "\u001b[0;31m---------------------------------------------------------------------------\u001b[0m",
      "\u001b[0;31mNameError\u001b[0m                                 Traceback (most recent call last)",
      "\u001b[0;32m<ipython-input-79-0db02c8d341d>\u001b[0m in \u001b[0;36m<module>\u001b[0;34m\u001b[0m\n\u001b[0;32m----> 1\u001b[0;31m \u001b[0mola\u001b[0m\u001b[0;34m(\u001b[0m\u001b[0;34m)\u001b[0m\u001b[0;34m\u001b[0m\u001b[0;34m\u001b[0m\u001b[0m\n\u001b[0m",
      "\u001b[0;31mNameError\u001b[0m: name 'ola' is not defined"
     ]
    }
   ],
   "source": [
    "ola()"
   ]
  },
  {
   "cell_type": "code",
   "execution_count": 92,
   "metadata": {},
   "outputs": [
    {
     "data": {
      "text/plain": [
       "'Olá Jose'"
      ]
     },
     "execution_count": 92,
     "metadata": {},
     "output_type": "execute_result"
    }
   ],
   "source": [
    "cumprimentar()"
   ]
  },
  {
   "cell_type": "markdown",
   "metadata": {},
   "source": [
    "Embora tenhamos excluído o nome **ola**, o nome **cumprimentar** *ainda aponta para* nosso objeto de função original. É importante saber que funções são objetos que podem ser passados para outros objetos!"
   ]
  },
  {
   "cell_type": "markdown",
   "metadata": {},
   "source": [
    "## Funções dentro de funções\n",
    "Ótimo! Então, vimos como podemos tratar funções como objetos, agora vamos ver como podemos definir funções dentro de outras funções:"
   ]
  },
  {
   "cell_type": "code",
   "execution_count": 7,
   "metadata": {},
   "outputs": [],
   "source": [
    "def ola(nome='Jose'):\n",
    "    print('A função ola() foi executada')\n",
    "    \n",
    "    def cumprimentar():\n",
    "        return '\\t Esta função cumprimentar está dentro da função ola'\n",
    "    \n",
    "    def bemvindo():\n",
    "        return \"\\t Esta função interna bemvindo\"\n",
    "    \n",
    "    print(cumprimentar())\n",
    "    print(bemvindo())\n",
    "    print(\"Agora estamos de volta à função ola()\")"
   ]
  },
  {
   "cell_type": "code",
   "execution_count": 12,
   "metadata": {},
   "outputs": [
    {
     "name": "stdout",
     "output_type": "stream",
     "text": [
      "A função ola() foi executada\n",
      "\t Esta função cumprimentar está dentro da função ola\n",
      "\t Esta função interna bemvindo\n",
      "Agora estamos de volta à função ola()\n"
     ]
    }
   ],
   "source": [
    "ola()"
   ]
  },
  {
   "cell_type": "code",
   "execution_count": 8,
   "metadata": {},
   "outputs": [
    {
     "ename": "NameError",
     "evalue": "name 'bemvindo' is not defined",
     "output_type": "error",
     "traceback": [
      "\u001b[1;31m---------------------------------------------------------------------------\u001b[0m",
      "\u001b[1;31mNameError\u001b[0m                                 Traceback (most recent call last)",
      "\u001b[1;32m<ipython-input-8-b869b89d72d1>\u001b[0m in \u001b[0;36m<module>\u001b[1;34m\u001b[0m\n\u001b[1;32m----> 1\u001b[1;33m \u001b[0mbemvindo\u001b[0m\u001b[1;33m(\u001b[0m\u001b[1;33m)\u001b[0m\u001b[1;33m\u001b[0m\u001b[1;33m\u001b[0m\u001b[0m\n\u001b[0m",
      "\u001b[1;31mNameError\u001b[0m: name 'bemvindo' is not defined"
     ]
    }
   ],
   "source": [
    "bemvindo()"
   ]
  },
  {
   "cell_type": "markdown",
   "metadata": {},
   "source": [
    "Observe como, devido ao escopo, a função bemvindo() não é definida fora da função ola(). Agora vamos aprender sobre o retorno de funções de dentro de funções:\n",
    "\n",
    "## Retornando Funções"
   ]
  },
  {
   "cell_type": "code",
   "execution_count": 9,
   "metadata": {},
   "outputs": [],
   "source": [
    "def ola(nome='Jose'):\n",
    "    \n",
    "    def cumprimentar():\n",
    "        return '\\t Esta é a função interna cumprimentar'\n",
    "    \n",
    "    def bemvindo():\n",
    "        return \"\\t Esta é a função interna bemvindo\"\n",
    "    \n",
    "    if nome == 'Jose':\n",
    "        return cumprimentar\n",
    "    else:\n",
    "        return bemvindo"
   ]
  },
  {
   "cell_type": "markdown",
   "metadata": {},
   "source": [
    "Agora vamos ver qual função é retornada se definirmos x = ola(), observe como os parênteses vazios significam que o nome foi definido como Jose."
   ]
  },
  {
   "cell_type": "code",
   "execution_count": 10,
   "metadata": {},
   "outputs": [],
   "source": [
    "x = ola()"
   ]
  },
  {
   "cell_type": "code",
   "execution_count": 11,
   "metadata": {},
   "outputs": [
    {
     "data": {
      "text/plain": [
       "<function __main__.ola.<locals>.cumprimentar()>"
      ]
     },
     "execution_count": 11,
     "metadata": {},
     "output_type": "execute_result"
    }
   ],
   "source": [
    "x"
   ]
  },
  {
   "cell_type": "markdown",
   "metadata": {},
   "source": [
    "Ótimo! Agora podemos ver como x está apontando para a função cumprimentar dentro da função ola."
   ]
  },
  {
   "cell_type": "code",
   "execution_count": 12,
   "metadata": {},
   "outputs": [
    {
     "name": "stdout",
     "output_type": "stream",
     "text": [
      "\t Esta é a função interna cumprimentar\n"
     ]
    }
   ],
   "source": [
    "print(x())"
   ]
  },
  {
   "cell_type": "code",
   "execution_count": 13,
   "metadata": {},
   "outputs": [],
   "source": [
    "x = ola('mario')"
   ]
  },
  {
   "cell_type": "code",
   "execution_count": 15,
   "metadata": {},
   "outputs": [
    {
     "name": "stdout",
     "output_type": "stream",
     "text": [
      "\t Esta é a função interna bemvindo\n"
     ]
    }
   ],
   "source": [
    "x\n",
    "print(x())"
   ]
  },
  {
   "cell_type": "markdown",
   "metadata": {},
   "source": [
    "Ótimo! Agora podemos ver como x está apontando para a função bemvindo dentro da função ola."
   ]
  },
  {
   "cell_type": "markdown",
   "metadata": {},
   "source": [
    "Let's take a quick look at the code again. \n",
    "\n",
    "In the <code>if</code>/<code>else</code> clause we are returning <code>greet</code> and <code>welcome</code>, not <code>greet()</code> and <code>welcome()</code>. \n",
    "\n",
    "This is because when you put a pair of parentheses after it, the function gets executed; whereas if you don’t put parentheses after it, then it can be passed around and can be assigned to other variables without executing it.\n",
    "\n",
    "When we write <code>x = hello()</code>, hello() gets executed and because the name is Jose by default, the function <code>greet</code> is returned. If we change the statement to <code>x = hello(name = \"Sam\")</code> then the <code>welcome</code> function will be returned. We can also do <code>print(hello()())</code> which outputs *This is inside the greet() function*."
   ]
  },
  {
   "cell_type": "markdown",
   "metadata": {},
   "source": [
    "## Funções como argumentos\n",
    "Agora vamos ver como podemos passar funções como argumentos para outras funções:"
   ]
  },
  {
   "cell_type": "code",
   "execution_count": 20,
   "metadata": {},
   "outputs": [],
   "source": [
    "def ola():\n",
    "    return 'Olá Ricardo!'\n",
    "\n",
    "def executaroutrafuncao(func):\n",
    "    print('Outro código de função pode executar aqui')\n",
    "    print(func())"
   ]
  },
  {
   "cell_type": "code",
   "execution_count": 21,
   "metadata": {},
   "outputs": [
    {
     "name": "stdout",
     "output_type": "stream",
     "text": [
      "Outro código de função pode executar aqui\n",
      "Olá Ricardo!\n"
     ]
    }
   ],
   "source": [
    "executaroutrafuncao(ola)"
   ]
  },
  {
   "cell_type": "markdown",
   "metadata": {},
   "source": [
    "Ótimo! Observe como podemos passar as funções como objetos e depois usá-las em outras funções. Agora podemos começar a escrever nosso primeiro decorator:"
   ]
  },
  {
   "cell_type": "markdown",
   "metadata": {},
   "source": [
    "## Criando um Decorator\n",
    "No exemplo anterior, criamos manualmente um Decorator. Aqui vamos modificá-lo para tornar seu caso de uso claro:"
   ]
  },
  {
   "cell_type": "code",
   "execution_count": 19,
   "metadata": {},
   "outputs": [],
   "source": [
    "def novo_decorator(funcao):\n",
    "\n",
    "    def funcao_wrap():\n",
    "        print(\"O código estaria aqui, antes de executar a função\")\n",
    "\n",
    "        funcao()\n",
    "\n",
    "        print(\"O código aqui será executado após funcao()\")\n",
    "\n",
    "    return funcao_wrap\n",
    "\n",
    "def funcao_que_necessita_decorator():\n",
    "    print(\"Esta função precisa de um Decorator!\")"
   ]
  },
  {
   "cell_type": "code",
   "execution_count": 20,
   "metadata": {},
   "outputs": [
    {
     "name": "stdout",
     "output_type": "stream",
     "text": [
      "Esta função precisa de um Decorator!\n"
     ]
    }
   ],
   "source": [
    "funcao_que_necessita_decorator()"
   ]
  },
  {
   "cell_type": "code",
   "execution_count": 21,
   "metadata": {},
   "outputs": [],
   "source": [
    "# Reatribuir funcao_que_necessita_decorator\n",
    "funcao_que_necessita_decorator = novo_decorator(funcao_que_necessita_decorator)"
   ]
  },
  {
   "cell_type": "code",
   "execution_count": 22,
   "metadata": {},
   "outputs": [
    {
     "name": "stdout",
     "output_type": "stream",
     "text": [
      "O código estaria aqui, antes de executar a função\n",
      "Esta função precisa de um Decorator!\n",
      "O código aqui será executado após funcao()\n"
     ]
    }
   ],
   "source": [
    "funcao_que_necessita_decorator()"
   ]
  },
  {
   "cell_type": "markdown",
   "metadata": {},
   "source": [
    "Então o que aconteceu aqui? Um decorador simplesmente envolveu a função e modificou seu comportamento. Agora vamos entender como podemos reescrever esse código usando o símbolo @, que é o que o Python usa para decoradores:"
   ]
  },
  {
   "cell_type": "code",
   "execution_count": 25,
   "metadata": {},
   "outputs": [],
   "source": [
    "@novo_decorator\n",
    "def funcao_que_necessita_decorator():\n",
    "    print(\"Esta função precisa de um Decorator!\")"
   ]
  },
  {
   "cell_type": "code",
   "execution_count": 26,
   "metadata": {},
   "outputs": [
    {
     "name": "stdout",
     "output_type": "stream",
     "text": [
      "O código estaria aqui, antes de executar a função\n",
      "Esta função precisa de um Decorator!\n",
      "O código aqui será executado após funcao()\n"
     ]
    }
   ],
   "source": [
    "funcao_que_necessita_decorator()"
   ]
  },
  {
   "cell_type": "markdown",
   "metadata": {},
   "source": [
    "**Ótimo! Agora você criou um Decorator manualmente e viu como podemos usar o símbolo @ no Python para automatizar isso e limpar nosso código. Você encontrará muitos decoradores se começar a usar o Python para desenvolvimento Web, como o Flask ou o Django!*"
   ]
  }
 ],
 "metadata": {
  "kernelspec": {
   "display_name": "Python 3",
   "language": "python",
   "name": "python3"
  },
  "language_info": {
   "codemirror_mode": {
    "name": "ipython",
    "version": 3
   },
   "file_extension": ".py",
   "mimetype": "text/x-python",
   "name": "python",
   "nbconvert_exporter": "python",
   "pygments_lexer": "ipython3",
   "version": "3.7.4"
  }
 },
 "nbformat": 4,
 "nbformat_minor": 1
}
