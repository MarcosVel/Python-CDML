{
 "cells": [
  {
   "cell_type": "markdown",
   "metadata": {},
   "source": [
    "# Funções em Python\n",
    "\n",
    "Esta palestra consistirá em explicar o que é uma função no Python e como criar uma. As funções serão um dos nossos principais blocos de construção quando construirmos quantidades cada vez maiores de código para resolver problemas.\n",
    "\n",
    "**O que é uma função?**\n",
    "\n",
    "Formalmente, uma função é um dispositivo útil que agrupa um conjunto de instruções para que possam ser executadas mais de uma vez. Eles também podem especificar parâmetros que podem servir como entradas para as funções.\n",
    "\n",
    "As funções nos permitem não precisar escrever repetidamente o mesmo código repetidamente. Se você se lembrar das lições sobre strings e listas, lembre-se de que usamos uma função len() para obter o comprimento de uma string. Como verificar o comprimento de uma sequência é uma tarefa comum, você deseja escrever uma função que pode fazer isso repetidamente no comando.\n",
    "\n",
    "As funções serão um dos níveis mais básicos de reutilização de código no Python, e também nos permitirá começar a pensar no design de programas (nos aprofundaremos mais nas idéias de design quando aprendermos sobre Programação Orientada a Objetos)."
   ]
  },
  {
   "cell_type": "markdown",
   "metadata": {},
   "source": [
    "## def\n",
    "\n",
    "Veremos a sintaxe para construir uma função em Python. A função tem a seguinte forma:"
   ]
  },
  {
   "cell_type": "code",
   "execution_count": 1,
   "metadata": {},
   "outputs": [],
   "source": [
    "def nome_da_funcao(argumento1,argumento2):\n",
    "    '''\n",
    "    Documente o que sua função faz aqui\n",
    "    '''\n",
    "    # Escreva seu código aqui\n",
    "    # Retorne o resultado desejado"
   ]
  },
  {
   "cell_type": "markdown",
   "metadata": {},
   "source": [
    "Começamos com <code>def</code> e depois um espaço seguido pelo nome da função. Tente manter os nomes relevantes, por exemplo, len() é um bom nome para uma função length(). Também tenha cuidado com os nomes. Você não deseja chamar uma função com o mesmo nome que uma função interna do Python (https://docs.python.org/2/library/functions.html) (como len).\n",
    "\n",
    "Em seguida, vem um par de parênteses com vários argumentos separados por vírgula. Esses argumentos são as entradas para sua função. Você poderá usar essas entradas em sua função e referenciá-las. Depois disso, você coloca dois pontos.\n",
    "\n",
    "Agora, aqui está o passo importante: você deve recuar para iniciar o código dentro de sua função corretamente. Python usa **espaço em branco** para organizar o código. Muitas outras linguagens de programação não fazem isso, portanto, lembre-se disso.\n",
    "\n",
    "Em seguida, você verá a sequência de comentários; é aqui que você escreve uma descrição básica da função. Usando os iPython e iPython Notebooks, você poderá ler esses comentários pressionando Shift + Tab após o nome de uma função. Os comentários não são necessários para funções simples, mas é uma boa prática inseri-los para que você ou outras pessoas possam entender facilmente o código que você escreve.\n",
    "\n",
    "Depois de tudo isso, você começa a escrever o código que deseja executar.\n",
    "\n",
    "A melhor maneira de aprender funções é através de exemplos. Então, vamos tentar exemplos que se relacionam com os vários objetos e estruturas de dados que aprendemos antes."
   ]
  },
  {
   "cell_type": "markdown",
   "metadata": {},
   "source": [
    "### Exemplo 1: Uma função para imprimir 'Olá'"
   ]
  },
  {
   "cell_type": "code",
   "execution_count": 2,
   "metadata": {},
   "outputs": [],
   "source": [
    "def diga_ola():\n",
    "    '''Imprime Olá'''\n",
    "    print('Olá!')"
   ]
  },
  {
   "cell_type": "markdown",
   "metadata": {},
   "source": [
    "Chame a função:"
   ]
  },
  {
   "cell_type": "code",
   "execution_count": 3,
   "metadata": {},
   "outputs": [
    {
     "name": "stdout",
     "output_type": "stream",
     "text": [
      "Olá!\n"
     ]
    }
   ],
   "source": [
    "diga_ola()"
   ]
  },
  {
   "cell_type": "code",
   "execution_count": 4,
   "metadata": {},
   "outputs": [],
   "source": [
    "def treinamento_svm():\n",
    "    print('treino svm')"
   ]
  },
  {
   "cell_type": "code",
   "execution_count": 9,
   "metadata": {},
   "outputs": [],
   "source": [
    "def treinamento_rna():\n",
    "    print('treino rna')\n",
    "\n",
    "def predicao(filme):\n",
    "    percentual=100\n",
    "    print('ele gosta muito do filme ', filme)\n",
    "    return percentual"
   ]
  },
  {
   "cell_type": "markdown",
   "metadata": {},
   "source": [
    "### Exemplo 2: Uma função simples de saudação\n",
    "Vamos escrever uma função que cumprimente as pessoas com seus nomes."
   ]
  },
  {
   "cell_type": "code",
   "execution_count": 6,
   "metadata": {},
   "outputs": [],
   "source": [
    "def cumprimentar(name):\n",
    "    print('Olá %s' %(name))"
   ]
  },
  {
   "cell_type": "code",
   "execution_count": 7,
   "metadata": {},
   "outputs": [
    {
     "name": "stdout",
     "output_type": "stream",
     "text": [
      "Olá Jose\n"
     ]
    }
   ],
   "source": [
    "cumprimentar('Jose')"
   ]
  },
  {
   "cell_type": "markdown",
   "metadata": {},
   "source": [
    "## return\n",
    "Vamos ver um exemplo que usa uma instrução <code>return</code>. <code>return</code> permite que uma função **retorne** um resultado que pode ser armazenado como uma variável ou usado da maneira que um usuário desejar.\n",
    "\n",
    "### Exemplo 3: Função adicção"
   ]
  },
  {
   "cell_type": "code",
   "execution_count": 6,
   "metadata": {},
   "outputs": [],
   "source": [
    "def adicionar_numero(numero1,numero2):\n",
    "    return numero1+numero2"
   ]
  },
  {
   "cell_type": "code",
   "execution_count": 7,
   "metadata": {},
   "outputs": [
    {
     "data": {
      "text/plain": [
       "9"
      ]
     },
     "execution_count": 7,
     "metadata": {},
     "output_type": "execute_result"
    }
   ],
   "source": [
    "adicionar_numero(4,5)"
   ]
  },
  {
   "cell_type": "code",
   "execution_count": 8,
   "metadata": {},
   "outputs": [],
   "source": [
    "# Também pode salvar como variável devido ao retorno\n",
    "resultado = adicionar_numero(4,5)"
   ]
  },
  {
   "cell_type": "code",
   "execution_count": 9,
   "metadata": {},
   "outputs": [
    {
     "name": "stdout",
     "output_type": "stream",
     "text": [
      "9\n"
     ]
    }
   ],
   "source": [
    "print(resultado)"
   ]
  },
  {
   "cell_type": "markdown",
   "metadata": {},
   "source": [
    "O que acontece se inserirmos duas strings?"
   ]
  },
  {
   "cell_type": "code",
   "execution_count": 10,
   "metadata": {},
   "outputs": [
    {
     "data": {
      "text/plain": [
       "'12'"
      ]
     },
     "execution_count": 10,
     "metadata": {},
     "output_type": "execute_result"
    }
   ],
   "source": [
    "adicionar_numero('1','2')"
   ]
  },
  {
   "cell_type": "markdown",
   "metadata": {},
   "source": [
    "Observe que, como não declaramos tipos de variáveis no Python, essa função pode ser usada para adicionar números ou sequências! Mais tarde, aprenderemos sobre a adição de verificações para garantir que um usuário coloque os argumentos corretos em uma função."
   ]
  },
  {
   "cell_type": "markdown",
   "metadata": {
    "collapsed": true
   },
   "source": [
    "Finalmente, vamos examinar um exemplo completo de criação de uma função para verificar se um número é primo (um exercício comum de entrevista).\n",
    "\n",
    "Sabemos que um número é primo se esse número for divisível apenas por 1 e ele próprio. Vamos escrever nossa primeira versão da função para verificar todos os números de 1 a N e executar verificações de módulo."
   ]
  },
  {
   "cell_type": "code",
   "execution_count": 11,
   "metadata": {},
   "outputs": [],
   "source": [
    "def eh_primo(numero):\n",
    "    '''\n",
    "    Método para verificação de números primos.\n",
    "    '''\n",
    "    for n in range(2,numero):\n",
    "        if numero % n == 0:\n",
    "            print(numero,'não é primo')\n",
    "            break\n",
    "    else: \n",
    "        print(numero,'é primo!')"
   ]
  },
  {
   "cell_type": "code",
   "execution_count": 12,
   "metadata": {},
   "outputs": [
    {
     "name": "stdout",
     "output_type": "stream",
     "text": [
      "16 não é primo\n"
     ]
    }
   ],
   "source": [
    "eh_primo(16)"
   ]
  },
  {
   "cell_type": "code",
   "execution_count": 13,
   "metadata": {},
   "outputs": [
    {
     "name": "stdout",
     "output_type": "stream",
     "text": [
      "17 é primo!\n"
     ]
    }
   ],
   "source": [
    "eh_primo(17)"
   ]
  },
  {
   "cell_type": "markdown",
   "metadata": {},
   "source": [
    "Queremos que o loop <code>for</code> esgote todas as possibilidades no intervalo antes de imprimir nosso número é primo.\n",
    "\n",
    "Observe também como quebramos o código após a primeira declaração de impressão. Assim que determinamos que um número não é primo, interrompemos o loop <code>for</code>.\n",
    "\n",
    "Na verdade, podemos melhorar essa função apenas verificando a raiz quadrada do número de destino e desconsiderando todos os números pares após a verificação de 2. Também mudaremos para retornar um valor booleano para obter um exemplo do uso de instruções de retorno:"
   ]
  },
  {
   "cell_type": "code",
   "execution_count": 14,
   "metadata": {},
   "outputs": [],
   "source": [
    "import math\n",
    "\n",
    "def eh_primo2(num):\n",
    "    '''\n",
    "    Melhor método para checar se um número é primo. \n",
    "    '''\n",
    "    if num % 2 == 0 and num > 2: \n",
    "        return False\n",
    "    for i in range(3, int(math.sqrt(num)) + 1, 2):\n",
    "        if num % i == 0:\n",
    "            return False\n",
    "    return True"
   ]
  },
  {
   "cell_type": "code",
   "execution_count": 15,
   "metadata": {},
   "outputs": [
    {
     "data": {
      "text/plain": [
       "False"
      ]
     },
     "execution_count": 15,
     "metadata": {},
     "output_type": "execute_result"
    }
   ],
   "source": [
    "eh_primo2(18)"
   ]
  },
  {
   "cell_type": "markdown",
   "metadata": {},
   "source": [
    "Por que não temos nenhuma instrução <code>break</code>? Deve-se notar que, assim que uma função *retorna** alguma coisa, ela é encerrada. Uma função pode entregar várias instruções de impressão, mas obedecerá apenas a um <code>return</code>."
   ]
  },
  {
   "cell_type": "markdown",
   "metadata": {},
   "source": [
    "Ótimo! Agora você deve ter um entendimento básico da criação de suas próprias funções para evitar a repetição de código!"
   ]
  }
 ],
 "metadata": {
  "kernelspec": {
   "display_name": "Python 3 (ipykernel)",
   "language": "python",
   "name": "python3"
  },
  "language_info": {
   "codemirror_mode": {
    "name": "ipython",
    "version": 3
   },
   "file_extension": ".py",
   "mimetype": "text/x-python",
   "name": "python",
   "nbconvert_exporter": "python",
   "pygments_lexer": "ipython3",
   "version": "3.9.7"
  }
 },
 "nbformat": 4,
 "nbformat_minor": 1
}
