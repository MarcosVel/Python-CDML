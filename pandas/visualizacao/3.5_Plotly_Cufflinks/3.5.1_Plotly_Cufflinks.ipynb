{
 "cells": [
  {
   "cell_type": "markdown",
   "metadata": {},
   "source": [
    "# Plotly e Cufflinks"
   ]
  },
  {
   "cell_type": "markdown",
   "metadata": {},
   "source": [
    "O Plotly é uma biblioteca que permite criar gráficos interativos que você pode usar em painéis ou sites (você pode salvá-los como arquivos html ou imagens estáticas).\n",
    "\n",
    "## Instalação\n",
    "\n",
    "Para que tudo funcione, você precisará instalar plotly e cufflinks para chamar plots diretamente de um DataFrame pandas. Essas bibliotecas não estão atualmente disponíveis através de **conda**, mas estão disponíveis através de **pip**. Instale as bibliotecas em sua linha de comando / terminal usando:\n",
    "\n",
    "    pip install plotly\n",
    "    pip install cufflinks\n",
    "\n",
    "**NOTA: Certifique-se de ter apenas uma instalação do Python no seu computador quando faz isso, caso contrário, a instalação pode não funcionar.**\n",
    "\n",
    "## Importações e Configuração"
   ]
  },
  {
   "cell_type": "code",
   "execution_count": 2,
   "metadata": {},
   "outputs": [
    {
     "name": "stdout",
     "output_type": "stream",
     "text": [
      "Requirement already satisfied: plotly in c:\\programdata\\anaconda3\\lib\\site-packages (4.7.1)\n",
      "Requirement already satisfied: six in c:\\programdata\\anaconda3\\lib\\site-packages (from plotly) (1.12.0)\n",
      "Requirement already satisfied: retrying>=1.3.3 in c:\\programdata\\anaconda3\\lib\\site-packages (from plotly) (1.3.3)\n",
      "Requirement already satisfied: cufflinks in c:\\programdata\\anaconda3\\lib\\site-packages (0.17.3)\n",
      "Requirement already satisfied: ipywidgets>=7.0.0 in c:\\programdata\\anaconda3\\lib\\site-packages (from cufflinks) (7.5.1)\n",
      "Requirement already satisfied: setuptools>=34.4.1 in c:\\programdata\\anaconda3\\lib\\site-packages (from cufflinks) (41.4.0)\n",
      "Requirement already satisfied: colorlover>=0.2.1 in c:\\programdata\\anaconda3\\lib\\site-packages (from cufflinks) (0.3.0)\n",
      "Requirement already satisfied: plotly>=4.1.1 in c:\\programdata\\anaconda3\\lib\\site-packages (from cufflinks) (4.7.1)\n",
      "Requirement already satisfied: numpy>=1.9.2 in c:\\programdata\\anaconda3\\lib\\site-packages (from cufflinks) (1.16.4)\n",
      "Requirement already satisfied: ipython>=5.3.0 in c:\\programdata\\anaconda3\\lib\\site-packages (from cufflinks) (7.8.0)\n",
      "Requirement already satisfied: six>=1.9.0 in c:\\programdata\\anaconda3\\lib\\site-packages (from cufflinks) (1.12.0)\n",
      "Requirement already satisfied: pandas>=0.19.2 in c:\\programdata\\anaconda3\\lib\\site-packages (from cufflinks) (0.24.2)\n",
      "Requirement already satisfied: traitlets>=4.3.1 in c:\\programdata\\anaconda3\\lib\\site-packages (from ipywidgets>=7.0.0->cufflinks) (4.3.3)\n",
      "Requirement already satisfied: widgetsnbextension~=3.5.0 in c:\\programdata\\anaconda3\\lib\\site-packages (from ipywidgets>=7.0.0->cufflinks) (3.5.1)\n",
      "Requirement already satisfied: nbformat>=4.2.0 in c:\\programdata\\anaconda3\\lib\\site-packages (from ipywidgets>=7.0.0->cufflinks) (4.4.0)\n",
      "Requirement already satisfied: ipykernel>=4.5.1 in c:\\programdata\\anaconda3\\lib\\site-packages (from ipywidgets>=7.0.0->cufflinks) (5.1.2)\n",
      "Requirement already satisfied: retrying>=1.3.3 in c:\\programdata\\anaconda3\\lib\\site-packages (from plotly>=4.1.1->cufflinks) (1.3.3)\n",
      "Requirement already satisfied: colorama; sys_platform == \"win32\" in c:\\programdata\\anaconda3\\lib\\site-packages (from ipython>=5.3.0->cufflinks) (0.4.1)\n",
      "Requirement already satisfied: prompt-toolkit<2.1.0,>=2.0.0 in c:\\programdata\\anaconda3\\lib\\site-packages (from ipython>=5.3.0->cufflinks) (2.0.10)\n",
      "Requirement already satisfied: decorator in c:\\programdata\\anaconda3\\lib\\site-packages (from ipython>=5.3.0->cufflinks) (4.4.0)\n",
      "Requirement already satisfied: backcall in c:\\programdata\\anaconda3\\lib\\site-packages (from ipython>=5.3.0->cufflinks) (0.1.0)\n",
      "Requirement already satisfied: pygments in c:\\programdata\\anaconda3\\lib\\site-packages (from ipython>=5.3.0->cufflinks) (2.4.2)\n",
      "Requirement already satisfied: pickleshare in c:\\programdata\\anaconda3\\lib\\site-packages (from ipython>=5.3.0->cufflinks) (0.7.5)\n",
      "Requirement already satisfied: jedi>=0.10 in c:\\programdata\\anaconda3\\lib\\site-packages (from ipython>=5.3.0->cufflinks) (0.15.1)\n",
      "Requirement already satisfied: pytz>=2011k in c:\\programdata\\anaconda3\\lib\\site-packages (from pandas>=0.19.2->cufflinks) (2019.1)\n",
      "Requirement already satisfied: python-dateutil>=2.5.0 in c:\\programdata\\anaconda3\\lib\\site-packages (from pandas>=0.19.2->cufflinks) (2.8.0)\n",
      "Requirement already satisfied: ipython-genutils in c:\\programdata\\anaconda3\\lib\\site-packages (from traitlets>=4.3.1->ipywidgets>=7.0.0->cufflinks) (0.2.0)\n",
      "Requirement already satisfied: notebook>=4.4.1 in c:\\programdata\\anaconda3\\lib\\site-packages (from widgetsnbextension~=3.5.0->ipywidgets>=7.0.0->cufflinks) (6.0.1)\n",
      "Requirement already satisfied: jupyter-core in c:\\programdata\\anaconda3\\lib\\site-packages (from nbformat>=4.2.0->ipywidgets>=7.0.0->cufflinks) (4.5.0)\n",
      "Requirement already satisfied: jsonschema!=2.5.0,>=2.4 in c:\\programdata\\anaconda3\\lib\\site-packages (from nbformat>=4.2.0->ipywidgets>=7.0.0->cufflinks) (3.0.2)\n",
      "Requirement already satisfied: tornado>=4.2 in c:\\programdata\\anaconda3\\lib\\site-packages (from ipykernel>=4.5.1->ipywidgets>=7.0.0->cufflinks) (6.0.3)\n",
      "Requirement already satisfied: jupyter-client in c:\\programdata\\anaconda3\\lib\\site-packages (from ipykernel>=4.5.1->ipywidgets>=7.0.0->cufflinks) (5.3.3)\n",
      "Requirement already satisfied: wcwidth in c:\\programdata\\anaconda3\\lib\\site-packages (from prompt-toolkit<2.1.0,>=2.0.0->ipython>=5.3.0->cufflinks) (0.1.7)\n",
      "Requirement already satisfied: parso>=0.5.0 in c:\\programdata\\anaconda3\\lib\\site-packages (from jedi>=0.10->ipython>=5.3.0->cufflinks) (0.5.1)\n",
      "Requirement already satisfied: prometheus-client in c:\\programdata\\anaconda3\\lib\\site-packages (from notebook>=4.4.1->widgetsnbextension~=3.5.0->ipywidgets>=7.0.0->cufflinks) (0.7.1)\n",
      "Requirement already satisfied: Send2Trash in c:\\programdata\\anaconda3\\lib\\site-packages (from notebook>=4.4.1->widgetsnbextension~=3.5.0->ipywidgets>=7.0.0->cufflinks) (1.5.0)\n",
      "Requirement already satisfied: pyzmq>=17 in c:\\programdata\\anaconda3\\lib\\site-packages (from notebook>=4.4.1->widgetsnbextension~=3.5.0->ipywidgets>=7.0.0->cufflinks) (18.1.0)\n",
      "Requirement already satisfied: terminado>=0.8.1 in c:\\programdata\\anaconda3\\lib\\site-packages (from notebook>=4.4.1->widgetsnbextension~=3.5.0->ipywidgets>=7.0.0->cufflinks) (0.8.2)\n",
      "Requirement already satisfied: jinja2 in c:\\programdata\\anaconda3\\lib\\site-packages (from notebook>=4.4.1->widgetsnbextension~=3.5.0->ipywidgets>=7.0.0->cufflinks) (2.10.3)\n",
      "Requirement already satisfied: nbconvert in c:\\programdata\\anaconda3\\lib\\site-packages (from notebook>=4.4.1->widgetsnbextension~=3.5.0->ipywidgets>=7.0.0->cufflinks) (5.6.0)\n",
      "Requirement already satisfied: pyrsistent>=0.14.0 in c:\\programdata\\anaconda3\\lib\\site-packages (from jsonschema!=2.5.0,>=2.4->nbformat>=4.2.0->ipywidgets>=7.0.0->cufflinks) (0.15.4)\n",
      "Requirement already satisfied: attrs>=17.4.0 in c:\\programdata\\anaconda3\\lib\\site-packages (from jsonschema!=2.5.0,>=2.4->nbformat>=4.2.0->ipywidgets>=7.0.0->cufflinks) (19.1.0)\n",
      "Requirement already satisfied: pywin32>=1.0; sys_platform == \"win32\" in c:\\programdata\\anaconda3\\lib\\site-packages (from jupyter-client->ipykernel>=4.5.1->ipywidgets>=7.0.0->cufflinks) (223)\n",
      "Requirement already satisfied: MarkupSafe>=0.23 in c:\\programdata\\anaconda3\\lib\\site-packages (from jinja2->notebook>=4.4.1->widgetsnbextension~=3.5.0->ipywidgets>=7.0.0->cufflinks) (1.1.1)\n",
      "Requirement already satisfied: entrypoints>=0.2.2 in c:\\programdata\\anaconda3\\lib\\site-packages (from nbconvert->notebook>=4.4.1->widgetsnbextension~=3.5.0->ipywidgets>=7.0.0->cufflinks) (0.3)\n",
      "Requirement already satisfied: bleach in c:\\programdata\\anaconda3\\lib\\site-packages (from nbconvert->notebook>=4.4.1->widgetsnbextension~=3.5.0->ipywidgets>=7.0.0->cufflinks) (3.1.0)\n",
      "Requirement already satisfied: defusedxml in c:\\programdata\\anaconda3\\lib\\site-packages (from nbconvert->notebook>=4.4.1->widgetsnbextension~=3.5.0->ipywidgets>=7.0.0->cufflinks) (0.6.0)\n",
      "Requirement already satisfied: pandocfilters>=1.4.1 in c:\\programdata\\anaconda3\\lib\\site-packages (from nbconvert->notebook>=4.4.1->widgetsnbextension~=3.5.0->ipywidgets>=7.0.0->cufflinks) (1.4.2)\n",
      "Requirement already satisfied: mistune<2,>=0.8.1 in c:\\programdata\\anaconda3\\lib\\site-packages (from nbconvert->notebook>=4.4.1->widgetsnbextension~=3.5.0->ipywidgets>=7.0.0->cufflinks) (0.8.4)\n",
      "Requirement already satisfied: testpath in c:\\programdata\\anaconda3\\lib\\site-packages (from nbconvert->notebook>=4.4.1->widgetsnbextension~=3.5.0->ipywidgets>=7.0.0->cufflinks) (0.4.2)\n",
      "Requirement already satisfied: webencodings in c:\\programdata\\anaconda3\\lib\\site-packages (from bleach->nbconvert->notebook>=4.4.1->widgetsnbextension~=3.5.0->ipywidgets>=7.0.0->cufflinks) (0.5.1)\n"
     ]
    }
   ],
   "source": [
    "! pip install plotly\n",
    "! pip install cufflinks"
   ]
  },
  {
   "cell_type": "code",
   "execution_count": 8,
   "metadata": {},
   "outputs": [],
   "source": [
    "import pandas as pd\n",
    "import numpy as np\n",
    "%matplotlib inline"
   ]
  },
  {
   "cell_type": "code",
   "execution_count": 9,
   "metadata": {},
   "outputs": [
    {
     "name": "stdout",
     "output_type": "stream",
     "text": [
      "4.7.1\n"
     ]
    }
   ],
   "source": [
    "from plotly import __version__\n",
    "from plotly.offline import download_plotlyjs, init_notebook_mode, plot, iplot\n",
    "\n",
    "print(__version__)"
   ]
  },
  {
   "cell_type": "code",
   "execution_count": 10,
   "metadata": {},
   "outputs": [
    {
     "name": "stdout",
     "output_type": "stream",
     "text": [
      "Requirement already satisfied: cufflinks in c:\\programdata\\anaconda3\\lib\\site-packages (0.17.3)\n",
      "Requirement already satisfied: plotly>=4.1.1 in c:\\programdata\\anaconda3\\lib\\site-packages (from cufflinks) (4.7.1)\n",
      "Requirement already satisfied: six>=1.9.0 in c:\\programdata\\anaconda3\\lib\\site-packages (from cufflinks) (1.12.0)\n",
      "Requirement already satisfied: numpy>=1.9.2 in c:\\programdata\\anaconda3\\lib\\site-packages (from cufflinks) (1.16.4)\n",
      "Requirement already satisfied: colorlover>=0.2.1 in c:\\programdata\\anaconda3\\lib\\site-packages (from cufflinks) (0.3.0)\n",
      "Requirement already satisfied: setuptools>=34.4.1 in c:\\programdata\\anaconda3\\lib\\site-packages (from cufflinks) (41.4.0)\n",
      "Requirement already satisfied: pandas>=0.19.2 in c:\\programdata\\anaconda3\\lib\\site-packages (from cufflinks) (0.24.2)\n",
      "Requirement already satisfied: ipython>=5.3.0 in c:\\programdata\\anaconda3\\lib\\site-packages (from cufflinks) (7.8.0)\n",
      "Requirement already satisfied: ipywidgets>=7.0.0 in c:\\programdata\\anaconda3\\lib\\site-packages (from cufflinks) (7.5.1)\n",
      "Requirement already satisfied: retrying>=1.3.3 in c:\\programdata\\anaconda3\\lib\\site-packages (from plotly>=4.1.1->cufflinks) (1.3.3)\n",
      "Requirement already satisfied: python-dateutil>=2.5.0 in c:\\programdata\\anaconda3\\lib\\site-packages (from pandas>=0.19.2->cufflinks) (2.8.0)\n",
      "Requirement already satisfied: pytz>=2011k in c:\\programdata\\anaconda3\\lib\\site-packages (from pandas>=0.19.2->cufflinks) (2019.1)\n",
      "Requirement already satisfied: pickleshare in c:\\programdata\\anaconda3\\lib\\site-packages (from ipython>=5.3.0->cufflinks) (0.7.5)\n",
      "Requirement already satisfied: decorator in c:\\programdata\\anaconda3\\lib\\site-packages (from ipython>=5.3.0->cufflinks) (4.4.0)\n",
      "Requirement already satisfied: pygments in c:\\programdata\\anaconda3\\lib\\site-packages (from ipython>=5.3.0->cufflinks) (2.4.2)\n",
      "Requirement already satisfied: jedi>=0.10 in c:\\programdata\\anaconda3\\lib\\site-packages (from ipython>=5.3.0->cufflinks) (0.15.1)\n",
      "Requirement already satisfied: colorama; sys_platform == \"win32\" in c:\\programdata\\anaconda3\\lib\\site-packages (from ipython>=5.3.0->cufflinks) (0.4.1)\n",
      "Requirement already satisfied: traitlets>=4.2 in c:\\programdata\\anaconda3\\lib\\site-packages (from ipython>=5.3.0->cufflinks) (4.3.3)\n",
      "Requirement already satisfied: backcall in c:\\programdata\\anaconda3\\lib\\site-packages (from ipython>=5.3.0->cufflinks) (0.1.0)\n",
      "Requirement already satisfied: prompt-toolkit<2.1.0,>=2.0.0 in c:\\programdata\\anaconda3\\lib\\site-packages (from ipython>=5.3.0->cufflinks) (2.0.10)\n",
      "Requirement already satisfied: widgetsnbextension~=3.5.0 in c:\\programdata\\anaconda3\\lib\\site-packages (from ipywidgets>=7.0.0->cufflinks) (3.5.1)\n",
      "Requirement already satisfied: nbformat>=4.2.0 in c:\\programdata\\anaconda3\\lib\\site-packages (from ipywidgets>=7.0.0->cufflinks) (4.4.0)\n",
      "Requirement already satisfied: ipykernel>=4.5.1 in c:\\programdata\\anaconda3\\lib\\site-packages (from ipywidgets>=7.0.0->cufflinks) (5.1.2)\n",
      "Requirement already satisfied: parso>=0.5.0 in c:\\programdata\\anaconda3\\lib\\site-packages (from jedi>=0.10->ipython>=5.3.0->cufflinks) (0.5.1)\n",
      "Requirement already satisfied: ipython-genutils in c:\\programdata\\anaconda3\\lib\\site-packages (from traitlets>=4.2->ipython>=5.3.0->cufflinks) (0.2.0)\n",
      "Requirement already satisfied: wcwidth in c:\\programdata\\anaconda3\\lib\\site-packages (from prompt-toolkit<2.1.0,>=2.0.0->ipython>=5.3.0->cufflinks) (0.1.7)\n",
      "Requirement already satisfied: notebook>=4.4.1 in c:\\programdata\\anaconda3\\lib\\site-packages (from widgetsnbextension~=3.5.0->ipywidgets>=7.0.0->cufflinks) (6.0.1)\n",
      "Requirement already satisfied: jupyter-core in c:\\programdata\\anaconda3\\lib\\site-packages (from nbformat>=4.2.0->ipywidgets>=7.0.0->cufflinks) (4.5.0)\n",
      "Requirement already satisfied: jsonschema!=2.5.0,>=2.4 in c:\\programdata\\anaconda3\\lib\\site-packages (from nbformat>=4.2.0->ipywidgets>=7.0.0->cufflinks) (3.0.2)\n",
      "Requirement already satisfied: tornado>=4.2 in c:\\programdata\\anaconda3\\lib\\site-packages (from ipykernel>=4.5.1->ipywidgets>=7.0.0->cufflinks) (6.0.3)\n",
      "Requirement already satisfied: jupyter-client in c:\\programdata\\anaconda3\\lib\\site-packages (from ipykernel>=4.5.1->ipywidgets>=7.0.0->cufflinks) (5.3.3)\n",
      "Requirement already satisfied: nbconvert in c:\\programdata\\anaconda3\\lib\\site-packages (from notebook>=4.4.1->widgetsnbextension~=3.5.0->ipywidgets>=7.0.0->cufflinks) (5.6.0)\n",
      "Requirement already satisfied: prometheus-client in c:\\programdata\\anaconda3\\lib\\site-packages (from notebook>=4.4.1->widgetsnbextension~=3.5.0->ipywidgets>=7.0.0->cufflinks) (0.7.1)\n",
      "Requirement already satisfied: Send2Trash in c:\\programdata\\anaconda3\\lib\\site-packages (from notebook>=4.4.1->widgetsnbextension~=3.5.0->ipywidgets>=7.0.0->cufflinks) (1.5.0)\n",
      "Requirement already satisfied: jinja2 in c:\\programdata\\anaconda3\\lib\\site-packages (from notebook>=4.4.1->widgetsnbextension~=3.5.0->ipywidgets>=7.0.0->cufflinks) (2.10.3)\n",
      "Requirement already satisfied: terminado>=0.8.1 in c:\\programdata\\anaconda3\\lib\\site-packages (from notebook>=4.4.1->widgetsnbextension~=3.5.0->ipywidgets>=7.0.0->cufflinks) (0.8.2)\n",
      "Requirement already satisfied: pyzmq>=17 in c:\\programdata\\anaconda3\\lib\\site-packages (from notebook>=4.4.1->widgetsnbextension~=3.5.0->ipywidgets>=7.0.0->cufflinks) (18.1.0)\n",
      "Requirement already satisfied: attrs>=17.4.0 in c:\\programdata\\anaconda3\\lib\\site-packages (from jsonschema!=2.5.0,>=2.4->nbformat>=4.2.0->ipywidgets>=7.0.0->cufflinks) (19.1.0)\n",
      "Requirement already satisfied: pyrsistent>=0.14.0 in c:\\programdata\\anaconda3\\lib\\site-packages (from jsonschema!=2.5.0,>=2.4->nbformat>=4.2.0->ipywidgets>=7.0.0->cufflinks) (0.15.4)\n",
      "Requirement already satisfied: pywin32>=1.0; sys_platform == \"win32\" in c:\\programdata\\anaconda3\\lib\\site-packages (from jupyter-client->ipykernel>=4.5.1->ipywidgets>=7.0.0->cufflinks) (223)\n",
      "Requirement already satisfied: defusedxml in c:\\programdata\\anaconda3\\lib\\site-packages (from nbconvert->notebook>=4.4.1->widgetsnbextension~=3.5.0->ipywidgets>=7.0.0->cufflinks) (0.6.0)\n",
      "Requirement already satisfied: pandocfilters>=1.4.1 in c:\\programdata\\anaconda3\\lib\\site-packages (from nbconvert->notebook>=4.4.1->widgetsnbextension~=3.5.0->ipywidgets>=7.0.0->cufflinks) (1.4.2)\n",
      "Requirement already satisfied: mistune<2,>=0.8.1 in c:\\programdata\\anaconda3\\lib\\site-packages (from nbconvert->notebook>=4.4.1->widgetsnbextension~=3.5.0->ipywidgets>=7.0.0->cufflinks) (0.8.4)\n",
      "Requirement already satisfied: entrypoints>=0.2.2 in c:\\programdata\\anaconda3\\lib\\site-packages (from nbconvert->notebook>=4.4.1->widgetsnbextension~=3.5.0->ipywidgets>=7.0.0->cufflinks) (0.3)\n",
      "Requirement already satisfied: bleach in c:\\programdata\\anaconda3\\lib\\site-packages (from nbconvert->notebook>=4.4.1->widgetsnbextension~=3.5.0->ipywidgets>=7.0.0->cufflinks) (3.1.0)\n",
      "Requirement already satisfied: testpath in c:\\programdata\\anaconda3\\lib\\site-packages (from nbconvert->notebook>=4.4.1->widgetsnbextension~=3.5.0->ipywidgets>=7.0.0->cufflinks) (0.4.2)\n",
      "Requirement already satisfied: MarkupSafe>=0.23 in c:\\programdata\\anaconda3\\lib\\site-packages (from jinja2->notebook>=4.4.1->widgetsnbextension~=3.5.0->ipywidgets>=7.0.0->cufflinks) (1.1.1)\n",
      "Requirement already satisfied: webencodings in c:\\programdata\\anaconda3\\lib\\site-packages (from bleach->nbconvert->notebook>=4.4.1->widgetsnbextension~=3.5.0->ipywidgets>=7.0.0->cufflinks) (0.5.1)\n"
     ]
    }
   ],
   "source": [
    "! pip install cufflinks\n",
    "import cufflinks as cf"
   ]
  },
  {
   "cell_type": "code",
   "execution_count": 11,
   "metadata": {},
   "outputs": [
    {
     "data": {
      "text/html": [
       "        <script type=\"text/javascript\">\n",
       "        window.PlotlyConfig = {MathJaxConfig: 'local'};\n",
       "        if (window.MathJax) {MathJax.Hub.Config({SVG: {font: \"STIX-Web\"}});}\n",
       "        if (typeof require !== 'undefined') {\n",
       "        require.undef(\"plotly\");\n",
       "        requirejs.config({\n",
       "            paths: {\n",
       "                'plotly': ['https://cdn.plot.ly/plotly-latest.min']\n",
       "            }\n",
       "        });\n",
       "        require(['plotly'], function(Plotly) {\n",
       "            window._Plotly = Plotly;\n",
       "        });\n",
       "        }\n",
       "        </script>\n",
       "        "
      ]
     },
     "metadata": {},
     "output_type": "display_data"
    }
   ],
   "source": [
    "# Para Notebooks\n",
    "init_notebook_mode(connected=True)"
   ]
  },
  {
   "cell_type": "code",
   "execution_count": 12,
   "metadata": {},
   "outputs": [
    {
     "data": {
      "text/html": [
       "        <script type=\"text/javascript\">\n",
       "        window.PlotlyConfig = {MathJaxConfig: 'local'};\n",
       "        if (window.MathJax) {MathJax.Hub.Config({SVG: {font: \"STIX-Web\"}});}\n",
       "        if (typeof require !== 'undefined') {\n",
       "        require.undef(\"plotly\");\n",
       "        requirejs.config({\n",
       "            paths: {\n",
       "                'plotly': ['https://cdn.plot.ly/plotly-latest.min']\n",
       "            }\n",
       "        });\n",
       "        require(['plotly'], function(Plotly) {\n",
       "            window._Plotly = Plotly;\n",
       "        });\n",
       "        }\n",
       "        </script>\n",
       "        "
      ]
     },
     "metadata": {},
     "output_type": "display_data"
    }
   ],
   "source": [
    "# Para uso offline\n",
    "cf.go_offline()"
   ]
  },
  {
   "cell_type": "markdown",
   "metadata": {},
   "source": [
    "### Dados para teste da biblioteca"
   ]
  },
  {
   "cell_type": "code",
   "execution_count": 13,
   "metadata": {},
   "outputs": [],
   "source": [
    "df = pd.DataFrame(np.random.randn(100,4),columns='A B C D'.split())"
   ]
  },
  {
   "cell_type": "code",
   "execution_count": 14,
   "metadata": {},
   "outputs": [
    {
     "data": {
      "text/html": [
       "<div>\n",
       "<style scoped>\n",
       "    .dataframe tbody tr th:only-of-type {\n",
       "        vertical-align: middle;\n",
       "    }\n",
       "\n",
       "    .dataframe tbody tr th {\n",
       "        vertical-align: top;\n",
       "    }\n",
       "\n",
       "    .dataframe thead th {\n",
       "        text-align: right;\n",
       "    }\n",
       "</style>\n",
       "<table border=\"1\" class=\"dataframe\">\n",
       "  <thead>\n",
       "    <tr style=\"text-align: right;\">\n",
       "      <th></th>\n",
       "      <th>A</th>\n",
       "      <th>B</th>\n",
       "      <th>C</th>\n",
       "      <th>D</th>\n",
       "    </tr>\n",
       "  </thead>\n",
       "  <tbody>\n",
       "    <tr>\n",
       "      <th>0</th>\n",
       "      <td>-0.973450</td>\n",
       "      <td>-0.581200</td>\n",
       "      <td>0.446595</td>\n",
       "      <td>-0.219223</td>\n",
       "    </tr>\n",
       "    <tr>\n",
       "      <th>1</th>\n",
       "      <td>-1.831595</td>\n",
       "      <td>-0.803670</td>\n",
       "      <td>-0.164862</td>\n",
       "      <td>0.028327</td>\n",
       "    </tr>\n",
       "    <tr>\n",
       "      <th>2</th>\n",
       "      <td>1.613902</td>\n",
       "      <td>0.385404</td>\n",
       "      <td>-0.298290</td>\n",
       "      <td>0.896470</td>\n",
       "    </tr>\n",
       "    <tr>\n",
       "      <th>3</th>\n",
       "      <td>1.831799</td>\n",
       "      <td>0.420960</td>\n",
       "      <td>-0.234110</td>\n",
       "      <td>-1.028389</td>\n",
       "    </tr>\n",
       "    <tr>\n",
       "      <th>4</th>\n",
       "      <td>-0.570385</td>\n",
       "      <td>-0.428125</td>\n",
       "      <td>-1.211610</td>\n",
       "      <td>-1.318235</td>\n",
       "    </tr>\n",
       "  </tbody>\n",
       "</table>\n",
       "</div>"
      ],
      "text/plain": [
       "          A         B         C         D\n",
       "0 -0.973450 -0.581200  0.446595 -0.219223\n",
       "1 -1.831595 -0.803670 -0.164862  0.028327\n",
       "2  1.613902  0.385404 -0.298290  0.896470\n",
       "3  1.831799  0.420960 -0.234110 -1.028389\n",
       "4 -0.570385 -0.428125 -1.211610 -1.318235"
      ]
     },
     "execution_count": 14,
     "metadata": {},
     "output_type": "execute_result"
    }
   ],
   "source": [
    "df.head()"
   ]
  },
  {
   "cell_type": "code",
   "execution_count": 15,
   "metadata": {},
   "outputs": [],
   "source": [
    "df2 = pd.DataFrame({'Categoria':['A','B','C'],'Valores':[32,43,50]})"
   ]
  },
  {
   "cell_type": "code",
   "execution_count": 16,
   "metadata": {},
   "outputs": [
    {
     "data": {
      "text/html": [
       "<div>\n",
       "<style scoped>\n",
       "    .dataframe tbody tr th:only-of-type {\n",
       "        vertical-align: middle;\n",
       "    }\n",
       "\n",
       "    .dataframe tbody tr th {\n",
       "        vertical-align: top;\n",
       "    }\n",
       "\n",
       "    .dataframe thead th {\n",
       "        text-align: right;\n",
       "    }\n",
       "</style>\n",
       "<table border=\"1\" class=\"dataframe\">\n",
       "  <thead>\n",
       "    <tr style=\"text-align: right;\">\n",
       "      <th></th>\n",
       "      <th>Categoria</th>\n",
       "      <th>Valores</th>\n",
       "    </tr>\n",
       "  </thead>\n",
       "  <tbody>\n",
       "    <tr>\n",
       "      <th>0</th>\n",
       "      <td>A</td>\n",
       "      <td>32</td>\n",
       "    </tr>\n",
       "    <tr>\n",
       "      <th>1</th>\n",
       "      <td>B</td>\n",
       "      <td>43</td>\n",
       "    </tr>\n",
       "    <tr>\n",
       "      <th>2</th>\n",
       "      <td>C</td>\n",
       "      <td>50</td>\n",
       "    </tr>\n",
       "  </tbody>\n",
       "</table>\n",
       "</div>"
      ],
      "text/plain": [
       "  Categoria  Valores\n",
       "0         A       32\n",
       "1         B       43\n",
       "2         C       50"
      ]
     },
     "execution_count": 16,
     "metadata": {},
     "output_type": "execute_result"
    }
   ],
   "source": [
    "df2.head()"
   ]
  },
  {
   "cell_type": "markdown",
   "metadata": {},
   "source": [
    "## Usando Cufflinks e iplot ()\n",
    "\n",
    "* Dispersão\n",
    "* Barras\n",
    "* BoxPlot\n",
    "* Spreads\n",
    "* Proporção\n",
    "* Mapa de calor\n",
    "* Superfícies 3D\n",
    "* Histograma\n",
    "* Bolha"
   ]
  },
  {
   "cell_type": "markdown",
   "metadata": {},
   "source": [
    "## Dispersão"
   ]
  },
  {
   "cell_type": "code",
   "execution_count": 17,
   "metadata": {},
   "outputs": [
    {
     "data": {
      "application/vnd.plotly.v1+json": {
       "config": {
        "linkText": "Export to plot.ly",
        "plotlyServerURL": "https://plot.ly",
        "showLink": true
       },
       "data": [
        {
         "line": {
          "color": "rgba(255, 153, 51, 1.0)",
          "dash": "solid",
          "shape": "linear",
          "width": 1.3
         },
         "marker": {
          "size": 10,
          "symbol": "circle"
         },
         "mode": "markers",
         "name": "B",
         "text": "",
         "type": "scatter",
         "x": [
          -0.9734495742841736,
          -1.8315951967413935,
          1.6139020442339822,
          1.8317994231752863,
          -0.5703850399579571,
          -1.4741058750836376,
          0.3556724369296695,
          0.5896167900058208,
          -0.16588761429519788,
          1.252817890189307,
          0.8244913688037369,
          -0.8310634233310962,
          -1.2715301311174314,
          0.8813921954359295,
          0.03008326150665548,
          1.796935266435818,
          0.36940181717575304,
          -0.8813170476695465,
          -0.31461403362256685,
          -0.4468206880588594,
          0.3240352703956821,
          -0.4174928910302742,
          -0.8936299905709542,
          -1.7730351725609956,
          -0.17509775157041949,
          1.785575038048923,
          0.8693153126170038,
          -0.9119334319497847,
          0.06855935946590477,
          0.5983975207014364,
          -0.3125289594386086,
          -1.623670806104809,
          -1.5420589595567573,
          1.3286785347616383,
          -1.094158923464464,
          0.21930454522962683,
          0.8354226939734191,
          1.1112027436645884,
          0.5706132554817172,
          1.5175492736710126,
          -0.741270592687962,
          0.7179471066369602,
          -0.11923765585506343,
          -0.5190825867431396,
          -1.223108562573393,
          -0.24851600060140075,
          1.1382508831643312,
          -0.033081660969711255,
          0.5175216536790487,
          0.7544486986602126,
          -0.6518679982601071,
          2.070787774933711,
          0.4426842316054046,
          0.05653702034559746,
          -1.0053907104192161,
          -0.786399787410555,
          0.27850043786370504,
          0.3916013705575103,
          0.43507671462973674,
          1.3045455981258764,
          1.5209664834575232,
          0.5703063793983049,
          -0.20123025062794503,
          -0.04784662293665812,
          0.9508747258949924,
          0.10041817141614233,
          0.05723625804651315,
          -0.04030529057318736,
          0.7335235062619401,
          0.8982570392990319,
          1.1155809290713437,
          0.8844599452843706,
          -0.6148252072505153,
          1.1594874940128568,
          -1.216817774524191,
          -0.8890426465705751,
          -1.893518423950157,
          -0.33140872246822817,
          -0.26953768733587197,
          0.9961753075937271,
          0.03607656273618685,
          -0.4870399182323607,
          -0.7339647437901523,
          0.5475059713581206,
          -1.1018093852788269,
          -1.4823859267101909,
          -1.6501041838493982,
          0.20377009012743325,
          0.1762274744366041,
          -0.6017592186585072,
          0.3590576908726275,
          0.7428489289251691,
          0.48584201834020807,
          0.6945617012876489,
          -1.1489156980425708,
          0.6131057392500935,
          0.17885470690537067,
          0.26446508278372033,
          -0.10706051662167917,
          0.6223017828248917
         ],
         "y": [
          -0.5811999608120723,
          -0.8036697312678183,
          0.3854041880109005,
          0.4209603813984334,
          -0.4281246077274638,
          -0.19852210221305122,
          -2.054418519812087,
          0.4077891217927148,
          -0.5945240763963975,
          -1.536557826592104,
          0.672332698408608,
          1.4028979182530195,
          1.4439820744695246,
          0.20886292761525518,
          -0.7393879162186503,
          -0.5368487628608516,
          -1.3688133482970724,
          0.19474772168671534,
          0.2647889831001665,
          -1.251547816940817,
          0.48556271338398527,
          0.5285982029460005,
          -0.6397201840797241,
          0.5081278922806333,
          0.2659176640020525,
          2.552614374126511,
          -1.1493716413393977,
          1.3345305675591104,
          0.5974633782328114,
          -0.786979507572439,
          0.06608038797047978,
          -0.8145816284732865,
          1.5847483366580726,
          -1.1202607419391661,
          -1.049640524535017,
          -0.006903395515333687,
          -0.524048042000973,
          0.44602741836718635,
          0.20789948771212124,
          -1.7806121425814323,
          0.0854339021506031,
          0.6102089740674195,
          0.9728652238276162,
          -1.4346181102507178,
          0.4991602969072206,
          1.7848098537008248,
          0.47678906443316527,
          0.30715039761978874,
          -0.08716260522525818,
          0.35767698840008727,
          -0.11745608886652367,
          -1.786882759539797,
          1.6238306895783923,
          -1.1762234413326496,
          -0.8428802127555798,
          0.9966021977974714,
          0.8373405137607192,
          0.8659528776627187,
          2.0692017376026457,
          1.4272810302299084,
          -1.7892289543718998,
          1.6576497596199353,
          -0.03281965544361487,
          -1.8153586870341933,
          -0.7179954280924857,
          -1.0977240279134834,
          -0.9259475104250532,
          0.9852912806939138,
          -0.4840186387488574,
          -0.43089106542389977,
          0.2911652394892015,
          -0.965132820164843,
          -0.7180607125895234,
          -1.0041459219518847,
          -0.7846987822530055,
          0.12630702047120732,
          -0.3812210919119034,
          -0.3037783960675797,
          -0.282441006815986,
          0.42824543291257966,
          0.006255871853128791,
          0.7851077459102427,
          -0.6255412712308532,
          -0.06663669277893636,
          0.7293892078205981,
          1.512249438121794,
          0.05893141654083086,
          0.9760093768519751,
          -0.28824847602835263,
          -0.30940127812256835,
          0.537953257392704,
          0.6381235440509992,
          0.7727316578039034,
          -0.25435089513654213,
          -0.6790857730570136,
          -0.6249789946320716,
          1.4731436561408768,
          -0.0637549971579087,
          -0.30502694841740013,
          0.37810360901576967
         ]
        }
       ],
       "layout": {
        "legend": {
         "bgcolor": "#F5F6F9",
         "font": {
          "color": "#4D5663"
         }
        },
        "paper_bgcolor": "#F5F6F9",
        "plot_bgcolor": "#F5F6F9",
        "template": {
         "data": {
          "bar": [
           {
            "error_x": {
             "color": "#2a3f5f"
            },
            "error_y": {
             "color": "#2a3f5f"
            },
            "marker": {
             "line": {
              "color": "#E5ECF6",
              "width": 0.5
             }
            },
            "type": "bar"
           }
          ],
          "barpolar": [
           {
            "marker": {
             "line": {
              "color": "#E5ECF6",
              "width": 0.5
             }
            },
            "type": "barpolar"
           }
          ],
          "carpet": [
           {
            "aaxis": {
             "endlinecolor": "#2a3f5f",
             "gridcolor": "white",
             "linecolor": "white",
             "minorgridcolor": "white",
             "startlinecolor": "#2a3f5f"
            },
            "baxis": {
             "endlinecolor": "#2a3f5f",
             "gridcolor": "white",
             "linecolor": "white",
             "minorgridcolor": "white",
             "startlinecolor": "#2a3f5f"
            },
            "type": "carpet"
           }
          ],
          "choropleth": [
           {
            "colorbar": {
             "outlinewidth": 0,
             "ticks": ""
            },
            "type": "choropleth"
           }
          ],
          "contour": [
           {
            "colorbar": {
             "outlinewidth": 0,
             "ticks": ""
            },
            "colorscale": [
             [
              0,
              "#0d0887"
             ],
             [
              0.1111111111111111,
              "#46039f"
             ],
             [
              0.2222222222222222,
              "#7201a8"
             ],
             [
              0.3333333333333333,
              "#9c179e"
             ],
             [
              0.4444444444444444,
              "#bd3786"
             ],
             [
              0.5555555555555556,
              "#d8576b"
             ],
             [
              0.6666666666666666,
              "#ed7953"
             ],
             [
              0.7777777777777778,
              "#fb9f3a"
             ],
             [
              0.8888888888888888,
              "#fdca26"
             ],
             [
              1,
              "#f0f921"
             ]
            ],
            "type": "contour"
           }
          ],
          "contourcarpet": [
           {
            "colorbar": {
             "outlinewidth": 0,
             "ticks": ""
            },
            "type": "contourcarpet"
           }
          ],
          "heatmap": [
           {
            "colorbar": {
             "outlinewidth": 0,
             "ticks": ""
            },
            "colorscale": [
             [
              0,
              "#0d0887"
             ],
             [
              0.1111111111111111,
              "#46039f"
             ],
             [
              0.2222222222222222,
              "#7201a8"
             ],
             [
              0.3333333333333333,
              "#9c179e"
             ],
             [
              0.4444444444444444,
              "#bd3786"
             ],
             [
              0.5555555555555556,
              "#d8576b"
             ],
             [
              0.6666666666666666,
              "#ed7953"
             ],
             [
              0.7777777777777778,
              "#fb9f3a"
             ],
             [
              0.8888888888888888,
              "#fdca26"
             ],
             [
              1,
              "#f0f921"
             ]
            ],
            "type": "heatmap"
           }
          ],
          "heatmapgl": [
           {
            "colorbar": {
             "outlinewidth": 0,
             "ticks": ""
            },
            "colorscale": [
             [
              0,
              "#0d0887"
             ],
             [
              0.1111111111111111,
              "#46039f"
             ],
             [
              0.2222222222222222,
              "#7201a8"
             ],
             [
              0.3333333333333333,
              "#9c179e"
             ],
             [
              0.4444444444444444,
              "#bd3786"
             ],
             [
              0.5555555555555556,
              "#d8576b"
             ],
             [
              0.6666666666666666,
              "#ed7953"
             ],
             [
              0.7777777777777778,
              "#fb9f3a"
             ],
             [
              0.8888888888888888,
              "#fdca26"
             ],
             [
              1,
              "#f0f921"
             ]
            ],
            "type": "heatmapgl"
           }
          ],
          "histogram": [
           {
            "marker": {
             "colorbar": {
              "outlinewidth": 0,
              "ticks": ""
             }
            },
            "type": "histogram"
           }
          ],
          "histogram2d": [
           {
            "colorbar": {
             "outlinewidth": 0,
             "ticks": ""
            },
            "colorscale": [
             [
              0,
              "#0d0887"
             ],
             [
              0.1111111111111111,
              "#46039f"
             ],
             [
              0.2222222222222222,
              "#7201a8"
             ],
             [
              0.3333333333333333,
              "#9c179e"
             ],
             [
              0.4444444444444444,
              "#bd3786"
             ],
             [
              0.5555555555555556,
              "#d8576b"
             ],
             [
              0.6666666666666666,
              "#ed7953"
             ],
             [
              0.7777777777777778,
              "#fb9f3a"
             ],
             [
              0.8888888888888888,
              "#fdca26"
             ],
             [
              1,
              "#f0f921"
             ]
            ],
            "type": "histogram2d"
           }
          ],
          "histogram2dcontour": [
           {
            "colorbar": {
             "outlinewidth": 0,
             "ticks": ""
            },
            "colorscale": [
             [
              0,
              "#0d0887"
             ],
             [
              0.1111111111111111,
              "#46039f"
             ],
             [
              0.2222222222222222,
              "#7201a8"
             ],
             [
              0.3333333333333333,
              "#9c179e"
             ],
             [
              0.4444444444444444,
              "#bd3786"
             ],
             [
              0.5555555555555556,
              "#d8576b"
             ],
             [
              0.6666666666666666,
              "#ed7953"
             ],
             [
              0.7777777777777778,
              "#fb9f3a"
             ],
             [
              0.8888888888888888,
              "#fdca26"
             ],
             [
              1,
              "#f0f921"
             ]
            ],
            "type": "histogram2dcontour"
           }
          ],
          "mesh3d": [
           {
            "colorbar": {
             "outlinewidth": 0,
             "ticks": ""
            },
            "type": "mesh3d"
           }
          ],
          "parcoords": [
           {
            "line": {
             "colorbar": {
              "outlinewidth": 0,
              "ticks": ""
             }
            },
            "type": "parcoords"
           }
          ],
          "pie": [
           {
            "automargin": true,
            "type": "pie"
           }
          ],
          "scatter": [
           {
            "marker": {
             "colorbar": {
              "outlinewidth": 0,
              "ticks": ""
             }
            },
            "type": "scatter"
           }
          ],
          "scatter3d": [
           {
            "line": {
             "colorbar": {
              "outlinewidth": 0,
              "ticks": ""
             }
            },
            "marker": {
             "colorbar": {
              "outlinewidth": 0,
              "ticks": ""
             }
            },
            "type": "scatter3d"
           }
          ],
          "scattercarpet": [
           {
            "marker": {
             "colorbar": {
              "outlinewidth": 0,
              "ticks": ""
             }
            },
            "type": "scattercarpet"
           }
          ],
          "scattergeo": [
           {
            "marker": {
             "colorbar": {
              "outlinewidth": 0,
              "ticks": ""
             }
            },
            "type": "scattergeo"
           }
          ],
          "scattergl": [
           {
            "marker": {
             "colorbar": {
              "outlinewidth": 0,
              "ticks": ""
             }
            },
            "type": "scattergl"
           }
          ],
          "scattermapbox": [
           {
            "marker": {
             "colorbar": {
              "outlinewidth": 0,
              "ticks": ""
             }
            },
            "type": "scattermapbox"
           }
          ],
          "scatterpolar": [
           {
            "marker": {
             "colorbar": {
              "outlinewidth": 0,
              "ticks": ""
             }
            },
            "type": "scatterpolar"
           }
          ],
          "scatterpolargl": [
           {
            "marker": {
             "colorbar": {
              "outlinewidth": 0,
              "ticks": ""
             }
            },
            "type": "scatterpolargl"
           }
          ],
          "scatterternary": [
           {
            "marker": {
             "colorbar": {
              "outlinewidth": 0,
              "ticks": ""
             }
            },
            "type": "scatterternary"
           }
          ],
          "surface": [
           {
            "colorbar": {
             "outlinewidth": 0,
             "ticks": ""
            },
            "colorscale": [
             [
              0,
              "#0d0887"
             ],
             [
              0.1111111111111111,
              "#46039f"
             ],
             [
              0.2222222222222222,
              "#7201a8"
             ],
             [
              0.3333333333333333,
              "#9c179e"
             ],
             [
              0.4444444444444444,
              "#bd3786"
             ],
             [
              0.5555555555555556,
              "#d8576b"
             ],
             [
              0.6666666666666666,
              "#ed7953"
             ],
             [
              0.7777777777777778,
              "#fb9f3a"
             ],
             [
              0.8888888888888888,
              "#fdca26"
             ],
             [
              1,
              "#f0f921"
             ]
            ],
            "type": "surface"
           }
          ],
          "table": [
           {
            "cells": {
             "fill": {
              "color": "#EBF0F8"
             },
             "line": {
              "color": "white"
             }
            },
            "header": {
             "fill": {
              "color": "#C8D4E3"
             },
             "line": {
              "color": "white"
             }
            },
            "type": "table"
           }
          ]
         },
         "layout": {
          "annotationdefaults": {
           "arrowcolor": "#2a3f5f",
           "arrowhead": 0,
           "arrowwidth": 1
          },
          "coloraxis": {
           "colorbar": {
            "outlinewidth": 0,
            "ticks": ""
           }
          },
          "colorscale": {
           "diverging": [
            [
             0,
             "#8e0152"
            ],
            [
             0.1,
             "#c51b7d"
            ],
            [
             0.2,
             "#de77ae"
            ],
            [
             0.3,
             "#f1b6da"
            ],
            [
             0.4,
             "#fde0ef"
            ],
            [
             0.5,
             "#f7f7f7"
            ],
            [
             0.6,
             "#e6f5d0"
            ],
            [
             0.7,
             "#b8e186"
            ],
            [
             0.8,
             "#7fbc41"
            ],
            [
             0.9,
             "#4d9221"
            ],
            [
             1,
             "#276419"
            ]
           ],
           "sequential": [
            [
             0,
             "#0d0887"
            ],
            [
             0.1111111111111111,
             "#46039f"
            ],
            [
             0.2222222222222222,
             "#7201a8"
            ],
            [
             0.3333333333333333,
             "#9c179e"
            ],
            [
             0.4444444444444444,
             "#bd3786"
            ],
            [
             0.5555555555555556,
             "#d8576b"
            ],
            [
             0.6666666666666666,
             "#ed7953"
            ],
            [
             0.7777777777777778,
             "#fb9f3a"
            ],
            [
             0.8888888888888888,
             "#fdca26"
            ],
            [
             1,
             "#f0f921"
            ]
           ],
           "sequentialminus": [
            [
             0,
             "#0d0887"
            ],
            [
             0.1111111111111111,
             "#46039f"
            ],
            [
             0.2222222222222222,
             "#7201a8"
            ],
            [
             0.3333333333333333,
             "#9c179e"
            ],
            [
             0.4444444444444444,
             "#bd3786"
            ],
            [
             0.5555555555555556,
             "#d8576b"
            ],
            [
             0.6666666666666666,
             "#ed7953"
            ],
            [
             0.7777777777777778,
             "#fb9f3a"
            ],
            [
             0.8888888888888888,
             "#fdca26"
            ],
            [
             1,
             "#f0f921"
            ]
           ]
          },
          "colorway": [
           "#636efa",
           "#EF553B",
           "#00cc96",
           "#ab63fa",
           "#FFA15A",
           "#19d3f3",
           "#FF6692",
           "#B6E880",
           "#FF97FF",
           "#FECB52"
          ],
          "font": {
           "color": "#2a3f5f"
          },
          "geo": {
           "bgcolor": "white",
           "lakecolor": "white",
           "landcolor": "#E5ECF6",
           "showlakes": true,
           "showland": true,
           "subunitcolor": "white"
          },
          "hoverlabel": {
           "align": "left"
          },
          "hovermode": "closest",
          "mapbox": {
           "style": "light"
          },
          "paper_bgcolor": "white",
          "plot_bgcolor": "#E5ECF6",
          "polar": {
           "angularaxis": {
            "gridcolor": "white",
            "linecolor": "white",
            "ticks": ""
           },
           "bgcolor": "#E5ECF6",
           "radialaxis": {
            "gridcolor": "white",
            "linecolor": "white",
            "ticks": ""
           }
          },
          "scene": {
           "xaxis": {
            "backgroundcolor": "#E5ECF6",
            "gridcolor": "white",
            "gridwidth": 2,
            "linecolor": "white",
            "showbackground": true,
            "ticks": "",
            "zerolinecolor": "white"
           },
           "yaxis": {
            "backgroundcolor": "#E5ECF6",
            "gridcolor": "white",
            "gridwidth": 2,
            "linecolor": "white",
            "showbackground": true,
            "ticks": "",
            "zerolinecolor": "white"
           },
           "zaxis": {
            "backgroundcolor": "#E5ECF6",
            "gridcolor": "white",
            "gridwidth": 2,
            "linecolor": "white",
            "showbackground": true,
            "ticks": "",
            "zerolinecolor": "white"
           }
          },
          "shapedefaults": {
           "line": {
            "color": "#2a3f5f"
           }
          },
          "ternary": {
           "aaxis": {
            "gridcolor": "white",
            "linecolor": "white",
            "ticks": ""
           },
           "baxis": {
            "gridcolor": "white",
            "linecolor": "white",
            "ticks": ""
           },
           "bgcolor": "#E5ECF6",
           "caxis": {
            "gridcolor": "white",
            "linecolor": "white",
            "ticks": ""
           }
          },
          "title": {
           "x": 0.05
          },
          "xaxis": {
           "automargin": true,
           "gridcolor": "white",
           "linecolor": "white",
           "ticks": "",
           "title": {
            "standoff": 15
           },
           "zerolinecolor": "white",
           "zerolinewidth": 2
          },
          "yaxis": {
           "automargin": true,
           "gridcolor": "white",
           "linecolor": "white",
           "ticks": "",
           "title": {
            "standoff": 15
           },
           "zerolinecolor": "white",
           "zerolinewidth": 2
          }
         }
        },
        "title": {
         "font": {
          "color": "#4D5663"
         }
        },
        "xaxis": {
         "gridcolor": "#E1E5ED",
         "showgrid": true,
         "tickfont": {
          "color": "#4D5663"
         },
         "title": {
          "font": {
           "color": "#4D5663"
          },
          "text": ""
         },
         "zerolinecolor": "#E1E5ED"
        },
        "yaxis": {
         "gridcolor": "#E1E5ED",
         "showgrid": true,
         "tickfont": {
          "color": "#4D5663"
         },
         "title": {
          "font": {
           "color": "#4D5663"
          },
          "text": ""
         },
         "zerolinecolor": "#E1E5ED"
        }
       }
      },
      "text/html": [
       "<div>\n",
       "        \n",
       "        \n",
       "            <div id=\"e5088931-a1f0-42c8-b2c8-3f9e67e593af\" class=\"plotly-graph-div\" style=\"height:525px; width:100%;\"></div>\n",
       "            <script type=\"text/javascript\">\n",
       "                require([\"plotly\"], function(Plotly) {\n",
       "                    window.PLOTLYENV=window.PLOTLYENV || {};\n",
       "                    window.PLOTLYENV.BASE_URL='https://plot.ly';\n",
       "                    \n",
       "                if (document.getElementById(\"e5088931-a1f0-42c8-b2c8-3f9e67e593af\")) {\n",
       "                    Plotly.newPlot(\n",
       "                        'e5088931-a1f0-42c8-b2c8-3f9e67e593af',\n",
       "                        [{\"line\": {\"color\": \"rgba(255, 153, 51, 1.0)\", \"dash\": \"solid\", \"shape\": \"linear\", \"width\": 1.3}, \"marker\": {\"size\": 10, \"symbol\": \"circle\"}, \"mode\": \"markers\", \"name\": \"B\", \"text\": \"\", \"type\": \"scatter\", \"x\": [-0.9734495742841736, -1.8315951967413935, 1.6139020442339822, 1.8317994231752863, -0.5703850399579571, -1.4741058750836376, 0.3556724369296695, 0.5896167900058208, -0.16588761429519788, 1.252817890189307, 0.8244913688037369, -0.8310634233310962, -1.2715301311174314, 0.8813921954359295, 0.03008326150665548, 1.796935266435818, 0.36940181717575304, -0.8813170476695465, -0.31461403362256685, -0.4468206880588594, 0.3240352703956821, -0.4174928910302742, -0.8936299905709542, -1.7730351725609956, -0.17509775157041949, 1.785575038048923, 0.8693153126170038, -0.9119334319497847, 0.06855935946590477, 0.5983975207014364, -0.3125289594386086, -1.623670806104809, -1.5420589595567573, 1.3286785347616383, -1.094158923464464, 0.21930454522962683, 0.8354226939734191, 1.1112027436645884, 0.5706132554817172, 1.5175492736710126, -0.741270592687962, 0.7179471066369602, -0.11923765585506343, -0.5190825867431396, -1.223108562573393, -0.24851600060140075, 1.1382508831643312, -0.033081660969711255, 0.5175216536790487, 0.7544486986602126, -0.6518679982601071, 2.070787774933711, 0.4426842316054046, 0.05653702034559746, -1.0053907104192161, -0.786399787410555, 0.27850043786370504, 0.3916013705575103, 0.43507671462973674, 1.3045455981258764, 1.5209664834575232, 0.5703063793983049, -0.20123025062794503, -0.04784662293665812, 0.9508747258949924, 0.10041817141614233, 0.05723625804651315, -0.04030529057318736, 0.7335235062619401, 0.8982570392990319, 1.1155809290713437, 0.8844599452843706, -0.6148252072505153, 1.1594874940128568, -1.216817774524191, -0.8890426465705751, -1.893518423950157, -0.33140872246822817, -0.26953768733587197, 0.9961753075937271, 0.03607656273618685, -0.4870399182323607, -0.7339647437901523, 0.5475059713581206, -1.1018093852788269, -1.4823859267101909, -1.6501041838493982, 0.20377009012743325, 0.1762274744366041, -0.6017592186585072, 0.3590576908726275, 0.7428489289251691, 0.48584201834020807, 0.6945617012876489, -1.1489156980425708, 0.6131057392500935, 0.17885470690537067, 0.26446508278372033, -0.10706051662167917, 0.6223017828248917], \"y\": [-0.5811999608120723, -0.8036697312678183, 0.3854041880109005, 0.4209603813984334, -0.4281246077274638, -0.19852210221305122, -2.054418519812087, 0.4077891217927148, -0.5945240763963975, -1.536557826592104, 0.672332698408608, 1.4028979182530195, 1.4439820744695246, 0.20886292761525518, -0.7393879162186503, -0.5368487628608516, -1.3688133482970724, 0.19474772168671534, 0.2647889831001665, -1.251547816940817, 0.48556271338398527, 0.5285982029460005, -0.6397201840797241, 0.5081278922806333, 0.2659176640020525, 2.552614374126511, -1.1493716413393977, 1.3345305675591104, 0.5974633782328114, -0.786979507572439, 0.06608038797047978, -0.8145816284732865, 1.5847483366580726, -1.1202607419391661, -1.049640524535017, -0.006903395515333687, -0.524048042000973, 0.44602741836718635, 0.20789948771212124, -1.7806121425814323, 0.0854339021506031, 0.6102089740674195, 0.9728652238276162, -1.4346181102507178, 0.4991602969072206, 1.7848098537008248, 0.47678906443316527, 0.30715039761978874, -0.08716260522525818, 0.35767698840008727, -0.11745608886652367, -1.786882759539797, 1.6238306895783923, -1.1762234413326496, -0.8428802127555798, 0.9966021977974714, 0.8373405137607192, 0.8659528776627187, 2.0692017376026457, 1.4272810302299084, -1.7892289543718998, 1.6576497596199353, -0.03281965544361487, -1.8153586870341933, -0.7179954280924857, -1.0977240279134834, -0.9259475104250532, 0.9852912806939138, -0.4840186387488574, -0.43089106542389977, 0.2911652394892015, -0.965132820164843, -0.7180607125895234, -1.0041459219518847, -0.7846987822530055, 0.12630702047120732, -0.3812210919119034, -0.3037783960675797, -0.282441006815986, 0.42824543291257966, 0.006255871853128791, 0.7851077459102427, -0.6255412712308532, -0.06663669277893636, 0.7293892078205981, 1.512249438121794, 0.05893141654083086, 0.9760093768519751, -0.28824847602835263, -0.30940127812256835, 0.537953257392704, 0.6381235440509992, 0.7727316578039034, -0.25435089513654213, -0.6790857730570136, -0.6249789946320716, 1.4731436561408768, -0.0637549971579087, -0.30502694841740013, 0.37810360901576967]}],\n",
       "                        {\"legend\": {\"bgcolor\": \"#F5F6F9\", \"font\": {\"color\": \"#4D5663\"}}, \"paper_bgcolor\": \"#F5F6F9\", \"plot_bgcolor\": \"#F5F6F9\", \"template\": {\"data\": {\"bar\": [{\"error_x\": {\"color\": \"#2a3f5f\"}, \"error_y\": {\"color\": \"#2a3f5f\"}, \"marker\": {\"line\": {\"color\": \"#E5ECF6\", \"width\": 0.5}}, \"type\": \"bar\"}], \"barpolar\": [{\"marker\": {\"line\": {\"color\": \"#E5ECF6\", \"width\": 0.5}}, \"type\": \"barpolar\"}], \"carpet\": [{\"aaxis\": {\"endlinecolor\": \"#2a3f5f\", \"gridcolor\": \"white\", \"linecolor\": \"white\", \"minorgridcolor\": \"white\", \"startlinecolor\": \"#2a3f5f\"}, \"baxis\": {\"endlinecolor\": \"#2a3f5f\", \"gridcolor\": \"white\", \"linecolor\": \"white\", \"minorgridcolor\": \"white\", \"startlinecolor\": \"#2a3f5f\"}, \"type\": \"carpet\"}], \"choropleth\": [{\"colorbar\": {\"outlinewidth\": 0, \"ticks\": \"\"}, \"type\": \"choropleth\"}], \"contour\": [{\"colorbar\": {\"outlinewidth\": 0, \"ticks\": \"\"}, \"colorscale\": [[0.0, \"#0d0887\"], [0.1111111111111111, \"#46039f\"], [0.2222222222222222, \"#7201a8\"], [0.3333333333333333, \"#9c179e\"], [0.4444444444444444, \"#bd3786\"], [0.5555555555555556, \"#d8576b\"], [0.6666666666666666, \"#ed7953\"], [0.7777777777777778, \"#fb9f3a\"], [0.8888888888888888, \"#fdca26\"], [1.0, \"#f0f921\"]], \"type\": \"contour\"}], \"contourcarpet\": [{\"colorbar\": {\"outlinewidth\": 0, \"ticks\": \"\"}, \"type\": \"contourcarpet\"}], \"heatmap\": [{\"colorbar\": {\"outlinewidth\": 0, \"ticks\": \"\"}, \"colorscale\": [[0.0, \"#0d0887\"], [0.1111111111111111, \"#46039f\"], [0.2222222222222222, \"#7201a8\"], [0.3333333333333333, \"#9c179e\"], [0.4444444444444444, \"#bd3786\"], [0.5555555555555556, \"#d8576b\"], [0.6666666666666666, \"#ed7953\"], [0.7777777777777778, \"#fb9f3a\"], [0.8888888888888888, \"#fdca26\"], [1.0, \"#f0f921\"]], \"type\": \"heatmap\"}], \"heatmapgl\": [{\"colorbar\": {\"outlinewidth\": 0, \"ticks\": \"\"}, \"colorscale\": [[0.0, \"#0d0887\"], [0.1111111111111111, \"#46039f\"], [0.2222222222222222, \"#7201a8\"], [0.3333333333333333, \"#9c179e\"], [0.4444444444444444, \"#bd3786\"], [0.5555555555555556, \"#d8576b\"], [0.6666666666666666, \"#ed7953\"], [0.7777777777777778, \"#fb9f3a\"], [0.8888888888888888, \"#fdca26\"], [1.0, \"#f0f921\"]], \"type\": \"heatmapgl\"}], \"histogram\": [{\"marker\": {\"colorbar\": {\"outlinewidth\": 0, \"ticks\": \"\"}}, \"type\": \"histogram\"}], \"histogram2d\": [{\"colorbar\": {\"outlinewidth\": 0, \"ticks\": \"\"}, \"colorscale\": [[0.0, \"#0d0887\"], [0.1111111111111111, \"#46039f\"], [0.2222222222222222, \"#7201a8\"], [0.3333333333333333, \"#9c179e\"], [0.4444444444444444, \"#bd3786\"], [0.5555555555555556, \"#d8576b\"], [0.6666666666666666, \"#ed7953\"], [0.7777777777777778, \"#fb9f3a\"], [0.8888888888888888, \"#fdca26\"], [1.0, \"#f0f921\"]], \"type\": \"histogram2d\"}], \"histogram2dcontour\": [{\"colorbar\": {\"outlinewidth\": 0, \"ticks\": \"\"}, \"colorscale\": [[0.0, \"#0d0887\"], [0.1111111111111111, \"#46039f\"], [0.2222222222222222, \"#7201a8\"], [0.3333333333333333, \"#9c179e\"], [0.4444444444444444, \"#bd3786\"], [0.5555555555555556, \"#d8576b\"], [0.6666666666666666, \"#ed7953\"], [0.7777777777777778, \"#fb9f3a\"], [0.8888888888888888, \"#fdca26\"], [1.0, \"#f0f921\"]], \"type\": \"histogram2dcontour\"}], \"mesh3d\": [{\"colorbar\": {\"outlinewidth\": 0, \"ticks\": \"\"}, \"type\": \"mesh3d\"}], \"parcoords\": [{\"line\": {\"colorbar\": {\"outlinewidth\": 0, \"ticks\": \"\"}}, \"type\": \"parcoords\"}], \"pie\": [{\"automargin\": true, \"type\": \"pie\"}], \"scatter\": [{\"marker\": {\"colorbar\": {\"outlinewidth\": 0, \"ticks\": \"\"}}, \"type\": \"scatter\"}], \"scatter3d\": [{\"line\": {\"colorbar\": {\"outlinewidth\": 0, \"ticks\": \"\"}}, \"marker\": {\"colorbar\": {\"outlinewidth\": 0, \"ticks\": \"\"}}, \"type\": \"scatter3d\"}], \"scattercarpet\": [{\"marker\": {\"colorbar\": {\"outlinewidth\": 0, \"ticks\": \"\"}}, \"type\": \"scattercarpet\"}], \"scattergeo\": [{\"marker\": {\"colorbar\": {\"outlinewidth\": 0, \"ticks\": \"\"}}, \"type\": \"scattergeo\"}], \"scattergl\": [{\"marker\": {\"colorbar\": {\"outlinewidth\": 0, \"ticks\": \"\"}}, \"type\": \"scattergl\"}], \"scattermapbox\": [{\"marker\": {\"colorbar\": {\"outlinewidth\": 0, \"ticks\": \"\"}}, \"type\": \"scattermapbox\"}], \"scatterpolar\": [{\"marker\": {\"colorbar\": {\"outlinewidth\": 0, \"ticks\": \"\"}}, \"type\": \"scatterpolar\"}], \"scatterpolargl\": [{\"marker\": {\"colorbar\": {\"outlinewidth\": 0, \"ticks\": \"\"}}, \"type\": \"scatterpolargl\"}], \"scatterternary\": [{\"marker\": {\"colorbar\": {\"outlinewidth\": 0, \"ticks\": \"\"}}, \"type\": \"scatterternary\"}], \"surface\": [{\"colorbar\": {\"outlinewidth\": 0, \"ticks\": \"\"}, \"colorscale\": [[0.0, \"#0d0887\"], [0.1111111111111111, \"#46039f\"], [0.2222222222222222, \"#7201a8\"], [0.3333333333333333, \"#9c179e\"], [0.4444444444444444, \"#bd3786\"], [0.5555555555555556, \"#d8576b\"], [0.6666666666666666, \"#ed7953\"], [0.7777777777777778, \"#fb9f3a\"], [0.8888888888888888, \"#fdca26\"], [1.0, \"#f0f921\"]], \"type\": \"surface\"}], \"table\": [{\"cells\": {\"fill\": {\"color\": \"#EBF0F8\"}, \"line\": {\"color\": \"white\"}}, \"header\": {\"fill\": {\"color\": \"#C8D4E3\"}, \"line\": {\"color\": \"white\"}}, \"type\": \"table\"}]}, \"layout\": {\"annotationdefaults\": {\"arrowcolor\": \"#2a3f5f\", \"arrowhead\": 0, \"arrowwidth\": 1}, \"coloraxis\": {\"colorbar\": {\"outlinewidth\": 0, \"ticks\": \"\"}}, \"colorscale\": {\"diverging\": [[0, \"#8e0152\"], [0.1, \"#c51b7d\"], [0.2, \"#de77ae\"], [0.3, \"#f1b6da\"], [0.4, \"#fde0ef\"], [0.5, \"#f7f7f7\"], [0.6, \"#e6f5d0\"], [0.7, \"#b8e186\"], [0.8, \"#7fbc41\"], [0.9, \"#4d9221\"], [1, \"#276419\"]], \"sequential\": [[0.0, \"#0d0887\"], [0.1111111111111111, \"#46039f\"], [0.2222222222222222, \"#7201a8\"], [0.3333333333333333, \"#9c179e\"], [0.4444444444444444, \"#bd3786\"], [0.5555555555555556, \"#d8576b\"], [0.6666666666666666, \"#ed7953\"], [0.7777777777777778, \"#fb9f3a\"], [0.8888888888888888, \"#fdca26\"], [1.0, \"#f0f921\"]], \"sequentialminus\": [[0.0, \"#0d0887\"], [0.1111111111111111, \"#46039f\"], [0.2222222222222222, \"#7201a8\"], [0.3333333333333333, \"#9c179e\"], [0.4444444444444444, \"#bd3786\"], [0.5555555555555556, \"#d8576b\"], [0.6666666666666666, \"#ed7953\"], [0.7777777777777778, \"#fb9f3a\"], [0.8888888888888888, \"#fdca26\"], [1.0, \"#f0f921\"]]}, \"colorway\": [\"#636efa\", \"#EF553B\", \"#00cc96\", \"#ab63fa\", \"#FFA15A\", \"#19d3f3\", \"#FF6692\", \"#B6E880\", \"#FF97FF\", \"#FECB52\"], \"font\": {\"color\": \"#2a3f5f\"}, \"geo\": {\"bgcolor\": \"white\", \"lakecolor\": \"white\", \"landcolor\": \"#E5ECF6\", \"showlakes\": true, \"showland\": true, \"subunitcolor\": \"white\"}, \"hoverlabel\": {\"align\": \"left\"}, \"hovermode\": \"closest\", \"mapbox\": {\"style\": \"light\"}, \"paper_bgcolor\": \"white\", \"plot_bgcolor\": \"#E5ECF6\", \"polar\": {\"angularaxis\": {\"gridcolor\": \"white\", \"linecolor\": \"white\", \"ticks\": \"\"}, \"bgcolor\": \"#E5ECF6\", \"radialaxis\": {\"gridcolor\": \"white\", \"linecolor\": \"white\", \"ticks\": \"\"}}, \"scene\": {\"xaxis\": {\"backgroundcolor\": \"#E5ECF6\", \"gridcolor\": \"white\", \"gridwidth\": 2, \"linecolor\": \"white\", \"showbackground\": true, \"ticks\": \"\", \"zerolinecolor\": \"white\"}, \"yaxis\": {\"backgroundcolor\": \"#E5ECF6\", \"gridcolor\": \"white\", \"gridwidth\": 2, \"linecolor\": \"white\", \"showbackground\": true, \"ticks\": \"\", \"zerolinecolor\": \"white\"}, \"zaxis\": {\"backgroundcolor\": \"#E5ECF6\", \"gridcolor\": \"white\", \"gridwidth\": 2, \"linecolor\": \"white\", \"showbackground\": true, \"ticks\": \"\", \"zerolinecolor\": \"white\"}}, \"shapedefaults\": {\"line\": {\"color\": \"#2a3f5f\"}}, \"ternary\": {\"aaxis\": {\"gridcolor\": \"white\", \"linecolor\": \"white\", \"ticks\": \"\"}, \"baxis\": {\"gridcolor\": \"white\", \"linecolor\": \"white\", \"ticks\": \"\"}, \"bgcolor\": \"#E5ECF6\", \"caxis\": {\"gridcolor\": \"white\", \"linecolor\": \"white\", \"ticks\": \"\"}}, \"title\": {\"x\": 0.05}, \"xaxis\": {\"automargin\": true, \"gridcolor\": \"white\", \"linecolor\": \"white\", \"ticks\": \"\", \"title\": {\"standoff\": 15}, \"zerolinecolor\": \"white\", \"zerolinewidth\": 2}, \"yaxis\": {\"automargin\": true, \"gridcolor\": \"white\", \"linecolor\": \"white\", \"ticks\": \"\", \"title\": {\"standoff\": 15}, \"zerolinecolor\": \"white\", \"zerolinewidth\": 2}}}, \"title\": {\"font\": {\"color\": \"#4D5663\"}}, \"xaxis\": {\"gridcolor\": \"#E1E5ED\", \"showgrid\": true, \"tickfont\": {\"color\": \"#4D5663\"}, \"title\": {\"font\": {\"color\": \"#4D5663\"}, \"text\": \"\"}, \"zerolinecolor\": \"#E1E5ED\"}, \"yaxis\": {\"gridcolor\": \"#E1E5ED\", \"showgrid\": true, \"tickfont\": {\"color\": \"#4D5663\"}, \"title\": {\"font\": {\"color\": \"#4D5663\"}, \"text\": \"\"}, \"zerolinecolor\": \"#E1E5ED\"}},\n",
       "                        {\"showLink\": true, \"linkText\": \"Export to plot.ly\", \"plotlyServerURL\": \"https://plot.ly\", \"responsive\": true}\n",
       "                    ).then(function(){\n",
       "                            \n",
       "var gd = document.getElementById('e5088931-a1f0-42c8-b2c8-3f9e67e593af');\n",
       "var x = new MutationObserver(function (mutations, observer) {{\n",
       "        var display = window.getComputedStyle(gd).display;\n",
       "        if (!display || display === 'none') {{\n",
       "            console.log([gd, 'removed!']);\n",
       "            Plotly.purge(gd);\n",
       "            observer.disconnect();\n",
       "        }}\n",
       "}});\n",
       "\n",
       "// Listen for the removal of the full notebook cells\n",
       "var notebookContainer = gd.closest('#notebook-container');\n",
       "if (notebookContainer) {{\n",
       "    x.observe(notebookContainer, {childList: true});\n",
       "}}\n",
       "\n",
       "// Listen for the clearing of the current output cell\n",
       "var outputEl = gd.closest('.output');\n",
       "if (outputEl) {{\n",
       "    x.observe(outputEl, {childList: true});\n",
       "}}\n",
       "\n",
       "                        })\n",
       "                };\n",
       "                });\n",
       "            </script>\n",
       "        </div>"
      ]
     },
     "metadata": {},
     "output_type": "display_data"
    }
   ],
   "source": [
    "df.iplot(kind='scatter',x='A',y='B',mode='markers',size=10)"
   ]
  },
  {
   "cell_type": "markdown",
   "metadata": {},
   "source": [
    "## Plots de barra"
   ]
  },
  {
   "cell_type": "code",
   "execution_count": 18,
   "metadata": {},
   "outputs": [
    {
     "data": {
      "application/vnd.plotly.v1+json": {
       "config": {
        "linkText": "Export to plot.ly",
        "plotlyServerURL": "https://plot.ly",
        "showLink": true
       },
       "data": [
        {
         "marker": {
          "color": "rgba(255, 153, 51, 0.6)",
          "line": {
           "color": "rgba(255, 153, 51, 1.0)",
           "width": 1
          }
         },
         "name": "Valores",
         "orientation": "v",
         "text": "",
         "type": "bar",
         "x": [
          "A",
          "B",
          "C"
         ],
         "y": [
          32,
          43,
          50
         ]
        }
       ],
       "layout": {
        "legend": {
         "bgcolor": "#F5F6F9",
         "font": {
          "color": "#4D5663"
         }
        },
        "paper_bgcolor": "#F5F6F9",
        "plot_bgcolor": "#F5F6F9",
        "template": {
         "data": {
          "bar": [
           {
            "error_x": {
             "color": "#2a3f5f"
            },
            "error_y": {
             "color": "#2a3f5f"
            },
            "marker": {
             "line": {
              "color": "#E5ECF6",
              "width": 0.5
             }
            },
            "type": "bar"
           }
          ],
          "barpolar": [
           {
            "marker": {
             "line": {
              "color": "#E5ECF6",
              "width": 0.5
             }
            },
            "type": "barpolar"
           }
          ],
          "carpet": [
           {
            "aaxis": {
             "endlinecolor": "#2a3f5f",
             "gridcolor": "white",
             "linecolor": "white",
             "minorgridcolor": "white",
             "startlinecolor": "#2a3f5f"
            },
            "baxis": {
             "endlinecolor": "#2a3f5f",
             "gridcolor": "white",
             "linecolor": "white",
             "minorgridcolor": "white",
             "startlinecolor": "#2a3f5f"
            },
            "type": "carpet"
           }
          ],
          "choropleth": [
           {
            "colorbar": {
             "outlinewidth": 0,
             "ticks": ""
            },
            "type": "choropleth"
           }
          ],
          "contour": [
           {
            "colorbar": {
             "outlinewidth": 0,
             "ticks": ""
            },
            "colorscale": [
             [
              0,
              "#0d0887"
             ],
             [
              0.1111111111111111,
              "#46039f"
             ],
             [
              0.2222222222222222,
              "#7201a8"
             ],
             [
              0.3333333333333333,
              "#9c179e"
             ],
             [
              0.4444444444444444,
              "#bd3786"
             ],
             [
              0.5555555555555556,
              "#d8576b"
             ],
             [
              0.6666666666666666,
              "#ed7953"
             ],
             [
              0.7777777777777778,
              "#fb9f3a"
             ],
             [
              0.8888888888888888,
              "#fdca26"
             ],
             [
              1,
              "#f0f921"
             ]
            ],
            "type": "contour"
           }
          ],
          "contourcarpet": [
           {
            "colorbar": {
             "outlinewidth": 0,
             "ticks": ""
            },
            "type": "contourcarpet"
           }
          ],
          "heatmap": [
           {
            "colorbar": {
             "outlinewidth": 0,
             "ticks": ""
            },
            "colorscale": [
             [
              0,
              "#0d0887"
             ],
             [
              0.1111111111111111,
              "#46039f"
             ],
             [
              0.2222222222222222,
              "#7201a8"
             ],
             [
              0.3333333333333333,
              "#9c179e"
             ],
             [
              0.4444444444444444,
              "#bd3786"
             ],
             [
              0.5555555555555556,
              "#d8576b"
             ],
             [
              0.6666666666666666,
              "#ed7953"
             ],
             [
              0.7777777777777778,
              "#fb9f3a"
             ],
             [
              0.8888888888888888,
              "#fdca26"
             ],
             [
              1,
              "#f0f921"
             ]
            ],
            "type": "heatmap"
           }
          ],
          "heatmapgl": [
           {
            "colorbar": {
             "outlinewidth": 0,
             "ticks": ""
            },
            "colorscale": [
             [
              0,
              "#0d0887"
             ],
             [
              0.1111111111111111,
              "#46039f"
             ],
             [
              0.2222222222222222,
              "#7201a8"
             ],
             [
              0.3333333333333333,
              "#9c179e"
             ],
             [
              0.4444444444444444,
              "#bd3786"
             ],
             [
              0.5555555555555556,
              "#d8576b"
             ],
             [
              0.6666666666666666,
              "#ed7953"
             ],
             [
              0.7777777777777778,
              "#fb9f3a"
             ],
             [
              0.8888888888888888,
              "#fdca26"
             ],
             [
              1,
              "#f0f921"
             ]
            ],
            "type": "heatmapgl"
           }
          ],
          "histogram": [
           {
            "marker": {
             "colorbar": {
              "outlinewidth": 0,
              "ticks": ""
             }
            },
            "type": "histogram"
           }
          ],
          "histogram2d": [
           {
            "colorbar": {
             "outlinewidth": 0,
             "ticks": ""
            },
            "colorscale": [
             [
              0,
              "#0d0887"
             ],
             [
              0.1111111111111111,
              "#46039f"
             ],
             [
              0.2222222222222222,
              "#7201a8"
             ],
             [
              0.3333333333333333,
              "#9c179e"
             ],
             [
              0.4444444444444444,
              "#bd3786"
             ],
             [
              0.5555555555555556,
              "#d8576b"
             ],
             [
              0.6666666666666666,
              "#ed7953"
             ],
             [
              0.7777777777777778,
              "#fb9f3a"
             ],
             [
              0.8888888888888888,
              "#fdca26"
             ],
             [
              1,
              "#f0f921"
             ]
            ],
            "type": "histogram2d"
           }
          ],
          "histogram2dcontour": [
           {
            "colorbar": {
             "outlinewidth": 0,
             "ticks": ""
            },
            "colorscale": [
             [
              0,
              "#0d0887"
             ],
             [
              0.1111111111111111,
              "#46039f"
             ],
             [
              0.2222222222222222,
              "#7201a8"
             ],
             [
              0.3333333333333333,
              "#9c179e"
             ],
             [
              0.4444444444444444,
              "#bd3786"
             ],
             [
              0.5555555555555556,
              "#d8576b"
             ],
             [
              0.6666666666666666,
              "#ed7953"
             ],
             [
              0.7777777777777778,
              "#fb9f3a"
             ],
             [
              0.8888888888888888,
              "#fdca26"
             ],
             [
              1,
              "#f0f921"
             ]
            ],
            "type": "histogram2dcontour"
           }
          ],
          "mesh3d": [
           {
            "colorbar": {
             "outlinewidth": 0,
             "ticks": ""
            },
            "type": "mesh3d"
           }
          ],
          "parcoords": [
           {
            "line": {
             "colorbar": {
              "outlinewidth": 0,
              "ticks": ""
             }
            },
            "type": "parcoords"
           }
          ],
          "pie": [
           {
            "automargin": true,
            "type": "pie"
           }
          ],
          "scatter": [
           {
            "marker": {
             "colorbar": {
              "outlinewidth": 0,
              "ticks": ""
             }
            },
            "type": "scatter"
           }
          ],
          "scatter3d": [
           {
            "line": {
             "colorbar": {
              "outlinewidth": 0,
              "ticks": ""
             }
            },
            "marker": {
             "colorbar": {
              "outlinewidth": 0,
              "ticks": ""
             }
            },
            "type": "scatter3d"
           }
          ],
          "scattercarpet": [
           {
            "marker": {
             "colorbar": {
              "outlinewidth": 0,
              "ticks": ""
             }
            },
            "type": "scattercarpet"
           }
          ],
          "scattergeo": [
           {
            "marker": {
             "colorbar": {
              "outlinewidth": 0,
              "ticks": ""
             }
            },
            "type": "scattergeo"
           }
          ],
          "scattergl": [
           {
            "marker": {
             "colorbar": {
              "outlinewidth": 0,
              "ticks": ""
             }
            },
            "type": "scattergl"
           }
          ],
          "scattermapbox": [
           {
            "marker": {
             "colorbar": {
              "outlinewidth": 0,
              "ticks": ""
             }
            },
            "type": "scattermapbox"
           }
          ],
          "scatterpolar": [
           {
            "marker": {
             "colorbar": {
              "outlinewidth": 0,
              "ticks": ""
             }
            },
            "type": "scatterpolar"
           }
          ],
          "scatterpolargl": [
           {
            "marker": {
             "colorbar": {
              "outlinewidth": 0,
              "ticks": ""
             }
            },
            "type": "scatterpolargl"
           }
          ],
          "scatterternary": [
           {
            "marker": {
             "colorbar": {
              "outlinewidth": 0,
              "ticks": ""
             }
            },
            "type": "scatterternary"
           }
          ],
          "surface": [
           {
            "colorbar": {
             "outlinewidth": 0,
             "ticks": ""
            },
            "colorscale": [
             [
              0,
              "#0d0887"
             ],
             [
              0.1111111111111111,
              "#46039f"
             ],
             [
              0.2222222222222222,
              "#7201a8"
             ],
             [
              0.3333333333333333,
              "#9c179e"
             ],
             [
              0.4444444444444444,
              "#bd3786"
             ],
             [
              0.5555555555555556,
              "#d8576b"
             ],
             [
              0.6666666666666666,
              "#ed7953"
             ],
             [
              0.7777777777777778,
              "#fb9f3a"
             ],
             [
              0.8888888888888888,
              "#fdca26"
             ],
             [
              1,
              "#f0f921"
             ]
            ],
            "type": "surface"
           }
          ],
          "table": [
           {
            "cells": {
             "fill": {
              "color": "#EBF0F8"
             },
             "line": {
              "color": "white"
             }
            },
            "header": {
             "fill": {
              "color": "#C8D4E3"
             },
             "line": {
              "color": "white"
             }
            },
            "type": "table"
           }
          ]
         },
         "layout": {
          "annotationdefaults": {
           "arrowcolor": "#2a3f5f",
           "arrowhead": 0,
           "arrowwidth": 1
          },
          "coloraxis": {
           "colorbar": {
            "outlinewidth": 0,
            "ticks": ""
           }
          },
          "colorscale": {
           "diverging": [
            [
             0,
             "#8e0152"
            ],
            [
             0.1,
             "#c51b7d"
            ],
            [
             0.2,
             "#de77ae"
            ],
            [
             0.3,
             "#f1b6da"
            ],
            [
             0.4,
             "#fde0ef"
            ],
            [
             0.5,
             "#f7f7f7"
            ],
            [
             0.6,
             "#e6f5d0"
            ],
            [
             0.7,
             "#b8e186"
            ],
            [
             0.8,
             "#7fbc41"
            ],
            [
             0.9,
             "#4d9221"
            ],
            [
             1,
             "#276419"
            ]
           ],
           "sequential": [
            [
             0,
             "#0d0887"
            ],
            [
             0.1111111111111111,
             "#46039f"
            ],
            [
             0.2222222222222222,
             "#7201a8"
            ],
            [
             0.3333333333333333,
             "#9c179e"
            ],
            [
             0.4444444444444444,
             "#bd3786"
            ],
            [
             0.5555555555555556,
             "#d8576b"
            ],
            [
             0.6666666666666666,
             "#ed7953"
            ],
            [
             0.7777777777777778,
             "#fb9f3a"
            ],
            [
             0.8888888888888888,
             "#fdca26"
            ],
            [
             1,
             "#f0f921"
            ]
           ],
           "sequentialminus": [
            [
             0,
             "#0d0887"
            ],
            [
             0.1111111111111111,
             "#46039f"
            ],
            [
             0.2222222222222222,
             "#7201a8"
            ],
            [
             0.3333333333333333,
             "#9c179e"
            ],
            [
             0.4444444444444444,
             "#bd3786"
            ],
            [
             0.5555555555555556,
             "#d8576b"
            ],
            [
             0.6666666666666666,
             "#ed7953"
            ],
            [
             0.7777777777777778,
             "#fb9f3a"
            ],
            [
             0.8888888888888888,
             "#fdca26"
            ],
            [
             1,
             "#f0f921"
            ]
           ]
          },
          "colorway": [
           "#636efa",
           "#EF553B",
           "#00cc96",
           "#ab63fa",
           "#FFA15A",
           "#19d3f3",
           "#FF6692",
           "#B6E880",
           "#FF97FF",
           "#FECB52"
          ],
          "font": {
           "color": "#2a3f5f"
          },
          "geo": {
           "bgcolor": "white",
           "lakecolor": "white",
           "landcolor": "#E5ECF6",
           "showlakes": true,
           "showland": true,
           "subunitcolor": "white"
          },
          "hoverlabel": {
           "align": "left"
          },
          "hovermode": "closest",
          "mapbox": {
           "style": "light"
          },
          "paper_bgcolor": "white",
          "plot_bgcolor": "#E5ECF6",
          "polar": {
           "angularaxis": {
            "gridcolor": "white",
            "linecolor": "white",
            "ticks": ""
           },
           "bgcolor": "#E5ECF6",
           "radialaxis": {
            "gridcolor": "white",
            "linecolor": "white",
            "ticks": ""
           }
          },
          "scene": {
           "xaxis": {
            "backgroundcolor": "#E5ECF6",
            "gridcolor": "white",
            "gridwidth": 2,
            "linecolor": "white",
            "showbackground": true,
            "ticks": "",
            "zerolinecolor": "white"
           },
           "yaxis": {
            "backgroundcolor": "#E5ECF6",
            "gridcolor": "white",
            "gridwidth": 2,
            "linecolor": "white",
            "showbackground": true,
            "ticks": "",
            "zerolinecolor": "white"
           },
           "zaxis": {
            "backgroundcolor": "#E5ECF6",
            "gridcolor": "white",
            "gridwidth": 2,
            "linecolor": "white",
            "showbackground": true,
            "ticks": "",
            "zerolinecolor": "white"
           }
          },
          "shapedefaults": {
           "line": {
            "color": "#2a3f5f"
           }
          },
          "ternary": {
           "aaxis": {
            "gridcolor": "white",
            "linecolor": "white",
            "ticks": ""
           },
           "baxis": {
            "gridcolor": "white",
            "linecolor": "white",
            "ticks": ""
           },
           "bgcolor": "#E5ECF6",
           "caxis": {
            "gridcolor": "white",
            "linecolor": "white",
            "ticks": ""
           }
          },
          "title": {
           "x": 0.05
          },
          "xaxis": {
           "automargin": true,
           "gridcolor": "white",
           "linecolor": "white",
           "ticks": "",
           "title": {
            "standoff": 15
           },
           "zerolinecolor": "white",
           "zerolinewidth": 2
          },
          "yaxis": {
           "automargin": true,
           "gridcolor": "white",
           "linecolor": "white",
           "ticks": "",
           "title": {
            "standoff": 15
           },
           "zerolinecolor": "white",
           "zerolinewidth": 2
          }
         }
        },
        "title": {
         "font": {
          "color": "#4D5663"
         }
        },
        "xaxis": {
         "gridcolor": "#E1E5ED",
         "showgrid": true,
         "tickfont": {
          "color": "#4D5663"
         },
         "title": {
          "font": {
           "color": "#4D5663"
          },
          "text": ""
         },
         "zerolinecolor": "#E1E5ED"
        },
        "yaxis": {
         "gridcolor": "#E1E5ED",
         "showgrid": true,
         "tickfont": {
          "color": "#4D5663"
         },
         "title": {
          "font": {
           "color": "#4D5663"
          },
          "text": ""
         },
         "zerolinecolor": "#E1E5ED"
        }
       }
      },
      "text/html": [
       "<div>\n",
       "        \n",
       "        \n",
       "            <div id=\"916410ee-de31-45fa-8142-997831de2def\" class=\"plotly-graph-div\" style=\"height:525px; width:100%;\"></div>\n",
       "            <script type=\"text/javascript\">\n",
       "                require([\"plotly\"], function(Plotly) {\n",
       "                    window.PLOTLYENV=window.PLOTLYENV || {};\n",
       "                    window.PLOTLYENV.BASE_URL='https://plot.ly';\n",
       "                    \n",
       "                if (document.getElementById(\"916410ee-de31-45fa-8142-997831de2def\")) {\n",
       "                    Plotly.newPlot(\n",
       "                        '916410ee-de31-45fa-8142-997831de2def',\n",
       "                        [{\"marker\": {\"color\": \"rgba(255, 153, 51, 0.6)\", \"line\": {\"color\": \"rgba(255, 153, 51, 1.0)\", \"width\": 1}}, \"name\": \"Valores\", \"orientation\": \"v\", \"text\": \"\", \"type\": \"bar\", \"x\": [\"A\", \"B\", \"C\"], \"y\": [32, 43, 50]}],\n",
       "                        {\"legend\": {\"bgcolor\": \"#F5F6F9\", \"font\": {\"color\": \"#4D5663\"}}, \"paper_bgcolor\": \"#F5F6F9\", \"plot_bgcolor\": \"#F5F6F9\", \"template\": {\"data\": {\"bar\": [{\"error_x\": {\"color\": \"#2a3f5f\"}, \"error_y\": {\"color\": \"#2a3f5f\"}, \"marker\": {\"line\": {\"color\": \"#E5ECF6\", \"width\": 0.5}}, \"type\": \"bar\"}], \"barpolar\": [{\"marker\": {\"line\": {\"color\": \"#E5ECF6\", \"width\": 0.5}}, \"type\": \"barpolar\"}], \"carpet\": [{\"aaxis\": {\"endlinecolor\": \"#2a3f5f\", \"gridcolor\": \"white\", \"linecolor\": \"white\", \"minorgridcolor\": \"white\", \"startlinecolor\": \"#2a3f5f\"}, \"baxis\": {\"endlinecolor\": \"#2a3f5f\", \"gridcolor\": \"white\", \"linecolor\": \"white\", \"minorgridcolor\": \"white\", \"startlinecolor\": \"#2a3f5f\"}, \"type\": \"carpet\"}], \"choropleth\": [{\"colorbar\": {\"outlinewidth\": 0, \"ticks\": \"\"}, \"type\": \"choropleth\"}], \"contour\": [{\"colorbar\": {\"outlinewidth\": 0, \"ticks\": \"\"}, \"colorscale\": [[0.0, \"#0d0887\"], [0.1111111111111111, \"#46039f\"], [0.2222222222222222, \"#7201a8\"], [0.3333333333333333, \"#9c179e\"], [0.4444444444444444, \"#bd3786\"], [0.5555555555555556, \"#d8576b\"], [0.6666666666666666, \"#ed7953\"], [0.7777777777777778, \"#fb9f3a\"], [0.8888888888888888, \"#fdca26\"], [1.0, \"#f0f921\"]], \"type\": \"contour\"}], \"contourcarpet\": [{\"colorbar\": {\"outlinewidth\": 0, \"ticks\": \"\"}, \"type\": \"contourcarpet\"}], \"heatmap\": [{\"colorbar\": {\"outlinewidth\": 0, \"ticks\": \"\"}, \"colorscale\": [[0.0, \"#0d0887\"], [0.1111111111111111, \"#46039f\"], [0.2222222222222222, \"#7201a8\"], [0.3333333333333333, \"#9c179e\"], [0.4444444444444444, \"#bd3786\"], [0.5555555555555556, \"#d8576b\"], [0.6666666666666666, \"#ed7953\"], [0.7777777777777778, \"#fb9f3a\"], [0.8888888888888888, \"#fdca26\"], [1.0, \"#f0f921\"]], \"type\": \"heatmap\"}], \"heatmapgl\": [{\"colorbar\": {\"outlinewidth\": 0, \"ticks\": \"\"}, \"colorscale\": [[0.0, \"#0d0887\"], [0.1111111111111111, \"#46039f\"], [0.2222222222222222, \"#7201a8\"], [0.3333333333333333, \"#9c179e\"], [0.4444444444444444, \"#bd3786\"], [0.5555555555555556, \"#d8576b\"], [0.6666666666666666, \"#ed7953\"], [0.7777777777777778, \"#fb9f3a\"], [0.8888888888888888, \"#fdca26\"], [1.0, \"#f0f921\"]], \"type\": \"heatmapgl\"}], \"histogram\": [{\"marker\": {\"colorbar\": {\"outlinewidth\": 0, \"ticks\": \"\"}}, \"type\": \"histogram\"}], \"histogram2d\": [{\"colorbar\": {\"outlinewidth\": 0, \"ticks\": \"\"}, \"colorscale\": [[0.0, \"#0d0887\"], [0.1111111111111111, \"#46039f\"], [0.2222222222222222, \"#7201a8\"], [0.3333333333333333, \"#9c179e\"], [0.4444444444444444, \"#bd3786\"], [0.5555555555555556, \"#d8576b\"], [0.6666666666666666, \"#ed7953\"], [0.7777777777777778, \"#fb9f3a\"], [0.8888888888888888, \"#fdca26\"], [1.0, \"#f0f921\"]], \"type\": \"histogram2d\"}], \"histogram2dcontour\": [{\"colorbar\": {\"outlinewidth\": 0, \"ticks\": \"\"}, \"colorscale\": [[0.0, \"#0d0887\"], [0.1111111111111111, \"#46039f\"], [0.2222222222222222, \"#7201a8\"], [0.3333333333333333, \"#9c179e\"], [0.4444444444444444, \"#bd3786\"], [0.5555555555555556, \"#d8576b\"], [0.6666666666666666, \"#ed7953\"], [0.7777777777777778, \"#fb9f3a\"], [0.8888888888888888, \"#fdca26\"], [1.0, \"#f0f921\"]], \"type\": \"histogram2dcontour\"}], \"mesh3d\": [{\"colorbar\": {\"outlinewidth\": 0, \"ticks\": \"\"}, \"type\": \"mesh3d\"}], \"parcoords\": [{\"line\": {\"colorbar\": {\"outlinewidth\": 0, \"ticks\": \"\"}}, \"type\": \"parcoords\"}], \"pie\": [{\"automargin\": true, \"type\": \"pie\"}], \"scatter\": [{\"marker\": {\"colorbar\": {\"outlinewidth\": 0, \"ticks\": \"\"}}, \"type\": \"scatter\"}], \"scatter3d\": [{\"line\": {\"colorbar\": {\"outlinewidth\": 0, \"ticks\": \"\"}}, \"marker\": {\"colorbar\": {\"outlinewidth\": 0, \"ticks\": \"\"}}, \"type\": \"scatter3d\"}], \"scattercarpet\": [{\"marker\": {\"colorbar\": {\"outlinewidth\": 0, \"ticks\": \"\"}}, \"type\": \"scattercarpet\"}], \"scattergeo\": [{\"marker\": {\"colorbar\": {\"outlinewidth\": 0, \"ticks\": \"\"}}, \"type\": \"scattergeo\"}], \"scattergl\": [{\"marker\": {\"colorbar\": {\"outlinewidth\": 0, \"ticks\": \"\"}}, \"type\": \"scattergl\"}], \"scattermapbox\": [{\"marker\": {\"colorbar\": {\"outlinewidth\": 0, \"ticks\": \"\"}}, \"type\": \"scattermapbox\"}], \"scatterpolar\": [{\"marker\": {\"colorbar\": {\"outlinewidth\": 0, \"ticks\": \"\"}}, \"type\": \"scatterpolar\"}], \"scatterpolargl\": [{\"marker\": {\"colorbar\": {\"outlinewidth\": 0, \"ticks\": \"\"}}, \"type\": \"scatterpolargl\"}], \"scatterternary\": [{\"marker\": {\"colorbar\": {\"outlinewidth\": 0, \"ticks\": \"\"}}, \"type\": \"scatterternary\"}], \"surface\": [{\"colorbar\": {\"outlinewidth\": 0, \"ticks\": \"\"}, \"colorscale\": [[0.0, \"#0d0887\"], [0.1111111111111111, \"#46039f\"], [0.2222222222222222, \"#7201a8\"], [0.3333333333333333, \"#9c179e\"], [0.4444444444444444, \"#bd3786\"], [0.5555555555555556, \"#d8576b\"], [0.6666666666666666, \"#ed7953\"], [0.7777777777777778, \"#fb9f3a\"], [0.8888888888888888, \"#fdca26\"], [1.0, \"#f0f921\"]], \"type\": \"surface\"}], \"table\": [{\"cells\": {\"fill\": {\"color\": \"#EBF0F8\"}, \"line\": {\"color\": \"white\"}}, \"header\": {\"fill\": {\"color\": \"#C8D4E3\"}, \"line\": {\"color\": \"white\"}}, \"type\": \"table\"}]}, \"layout\": {\"annotationdefaults\": {\"arrowcolor\": \"#2a3f5f\", \"arrowhead\": 0, \"arrowwidth\": 1}, \"coloraxis\": {\"colorbar\": {\"outlinewidth\": 0, \"ticks\": \"\"}}, \"colorscale\": {\"diverging\": [[0, \"#8e0152\"], [0.1, \"#c51b7d\"], [0.2, \"#de77ae\"], [0.3, \"#f1b6da\"], [0.4, \"#fde0ef\"], [0.5, \"#f7f7f7\"], [0.6, \"#e6f5d0\"], [0.7, \"#b8e186\"], [0.8, \"#7fbc41\"], [0.9, \"#4d9221\"], [1, \"#276419\"]], \"sequential\": [[0.0, \"#0d0887\"], [0.1111111111111111, \"#46039f\"], [0.2222222222222222, \"#7201a8\"], [0.3333333333333333, \"#9c179e\"], [0.4444444444444444, \"#bd3786\"], [0.5555555555555556, \"#d8576b\"], [0.6666666666666666, \"#ed7953\"], [0.7777777777777778, \"#fb9f3a\"], [0.8888888888888888, \"#fdca26\"], [1.0, \"#f0f921\"]], \"sequentialminus\": [[0.0, \"#0d0887\"], [0.1111111111111111, \"#46039f\"], [0.2222222222222222, \"#7201a8\"], [0.3333333333333333, \"#9c179e\"], [0.4444444444444444, \"#bd3786\"], [0.5555555555555556, \"#d8576b\"], [0.6666666666666666, \"#ed7953\"], [0.7777777777777778, \"#fb9f3a\"], [0.8888888888888888, \"#fdca26\"], [1.0, \"#f0f921\"]]}, \"colorway\": [\"#636efa\", \"#EF553B\", \"#00cc96\", \"#ab63fa\", \"#FFA15A\", \"#19d3f3\", \"#FF6692\", \"#B6E880\", \"#FF97FF\", \"#FECB52\"], \"font\": {\"color\": \"#2a3f5f\"}, \"geo\": {\"bgcolor\": \"white\", \"lakecolor\": \"white\", \"landcolor\": \"#E5ECF6\", \"showlakes\": true, \"showland\": true, \"subunitcolor\": \"white\"}, \"hoverlabel\": {\"align\": \"left\"}, \"hovermode\": \"closest\", \"mapbox\": {\"style\": \"light\"}, \"paper_bgcolor\": \"white\", \"plot_bgcolor\": \"#E5ECF6\", \"polar\": {\"angularaxis\": {\"gridcolor\": \"white\", \"linecolor\": \"white\", \"ticks\": \"\"}, \"bgcolor\": \"#E5ECF6\", \"radialaxis\": {\"gridcolor\": \"white\", \"linecolor\": \"white\", \"ticks\": \"\"}}, \"scene\": {\"xaxis\": {\"backgroundcolor\": \"#E5ECF6\", \"gridcolor\": \"white\", \"gridwidth\": 2, \"linecolor\": \"white\", \"showbackground\": true, \"ticks\": \"\", \"zerolinecolor\": \"white\"}, \"yaxis\": {\"backgroundcolor\": \"#E5ECF6\", \"gridcolor\": \"white\", \"gridwidth\": 2, \"linecolor\": \"white\", \"showbackground\": true, \"ticks\": \"\", \"zerolinecolor\": \"white\"}, \"zaxis\": {\"backgroundcolor\": \"#E5ECF6\", \"gridcolor\": \"white\", \"gridwidth\": 2, \"linecolor\": \"white\", \"showbackground\": true, \"ticks\": \"\", \"zerolinecolor\": \"white\"}}, \"shapedefaults\": {\"line\": {\"color\": \"#2a3f5f\"}}, \"ternary\": {\"aaxis\": {\"gridcolor\": \"white\", \"linecolor\": \"white\", \"ticks\": \"\"}, \"baxis\": {\"gridcolor\": \"white\", \"linecolor\": \"white\", \"ticks\": \"\"}, \"bgcolor\": \"#E5ECF6\", \"caxis\": {\"gridcolor\": \"white\", \"linecolor\": \"white\", \"ticks\": \"\"}}, \"title\": {\"x\": 0.05}, \"xaxis\": {\"automargin\": true, \"gridcolor\": \"white\", \"linecolor\": \"white\", \"ticks\": \"\", \"title\": {\"standoff\": 15}, \"zerolinecolor\": \"white\", \"zerolinewidth\": 2}, \"yaxis\": {\"automargin\": true, \"gridcolor\": \"white\", \"linecolor\": \"white\", \"ticks\": \"\", \"title\": {\"standoff\": 15}, \"zerolinecolor\": \"white\", \"zerolinewidth\": 2}}}, \"title\": {\"font\": {\"color\": \"#4D5663\"}}, \"xaxis\": {\"gridcolor\": \"#E1E5ED\", \"showgrid\": true, \"tickfont\": {\"color\": \"#4D5663\"}, \"title\": {\"font\": {\"color\": \"#4D5663\"}, \"text\": \"\"}, \"zerolinecolor\": \"#E1E5ED\"}, \"yaxis\": {\"gridcolor\": \"#E1E5ED\", \"showgrid\": true, \"tickfont\": {\"color\": \"#4D5663\"}, \"title\": {\"font\": {\"color\": \"#4D5663\"}, \"text\": \"\"}, \"zerolinecolor\": \"#E1E5ED\"}},\n",
       "                        {\"showLink\": true, \"linkText\": \"Export to plot.ly\", \"plotlyServerURL\": \"https://plot.ly\", \"responsive\": true}\n",
       "                    ).then(function(){\n",
       "                            \n",
       "var gd = document.getElementById('916410ee-de31-45fa-8142-997831de2def');\n",
       "var x = new MutationObserver(function (mutations, observer) {{\n",
       "        var display = window.getComputedStyle(gd).display;\n",
       "        if (!display || display === 'none') {{\n",
       "            console.log([gd, 'removed!']);\n",
       "            Plotly.purge(gd);\n",
       "            observer.disconnect();\n",
       "        }}\n",
       "}});\n",
       "\n",
       "// Listen for the removal of the full notebook cells\n",
       "var notebookContainer = gd.closest('#notebook-container');\n",
       "if (notebookContainer) {{\n",
       "    x.observe(notebookContainer, {childList: true});\n",
       "}}\n",
       "\n",
       "// Listen for the clearing of the current output cell\n",
       "var outputEl = gd.closest('.output');\n",
       "if (outputEl) {{\n",
       "    x.observe(outputEl, {childList: true});\n",
       "}}\n",
       "\n",
       "                        })\n",
       "                };\n",
       "                });\n",
       "            </script>\n",
       "        </div>"
      ]
     },
     "metadata": {},
     "output_type": "display_data"
    }
   ],
   "source": [
    "df2.iplot(kind='bar',x='Categoria',y='Valores')"
   ]
  },
  {
   "cell_type": "code",
   "execution_count": 19,
   "metadata": {},
   "outputs": [
    {
     "data": {
      "application/vnd.plotly.v1+json": {
       "config": {
        "linkText": "Export to plot.ly",
        "plotlyServerURL": "https://plot.ly",
        "showLink": true
       },
       "data": [
        {
         "marker": {
          "color": "rgba(255, 153, 51, 0.6)",
          "line": {
           "color": "rgba(255, 153, 51, 1.0)",
           "width": 1
          }
         },
         "name": "None",
         "orientation": "v",
         "text": "",
         "type": "bar",
         "x": [
          "A",
          "B",
          "C",
          "D"
         ],
         "y": [
          100,
          100,
          100,
          100
         ]
        }
       ],
       "layout": {
        "legend": {
         "bgcolor": "#F5F6F9",
         "font": {
          "color": "#4D5663"
         }
        },
        "paper_bgcolor": "#F5F6F9",
        "plot_bgcolor": "#F5F6F9",
        "template": {
         "data": {
          "bar": [
           {
            "error_x": {
             "color": "#2a3f5f"
            },
            "error_y": {
             "color": "#2a3f5f"
            },
            "marker": {
             "line": {
              "color": "#E5ECF6",
              "width": 0.5
             }
            },
            "type": "bar"
           }
          ],
          "barpolar": [
           {
            "marker": {
             "line": {
              "color": "#E5ECF6",
              "width": 0.5
             }
            },
            "type": "barpolar"
           }
          ],
          "carpet": [
           {
            "aaxis": {
             "endlinecolor": "#2a3f5f",
             "gridcolor": "white",
             "linecolor": "white",
             "minorgridcolor": "white",
             "startlinecolor": "#2a3f5f"
            },
            "baxis": {
             "endlinecolor": "#2a3f5f",
             "gridcolor": "white",
             "linecolor": "white",
             "minorgridcolor": "white",
             "startlinecolor": "#2a3f5f"
            },
            "type": "carpet"
           }
          ],
          "choropleth": [
           {
            "colorbar": {
             "outlinewidth": 0,
             "ticks": ""
            },
            "type": "choropleth"
           }
          ],
          "contour": [
           {
            "colorbar": {
             "outlinewidth": 0,
             "ticks": ""
            },
            "colorscale": [
             [
              0,
              "#0d0887"
             ],
             [
              0.1111111111111111,
              "#46039f"
             ],
             [
              0.2222222222222222,
              "#7201a8"
             ],
             [
              0.3333333333333333,
              "#9c179e"
             ],
             [
              0.4444444444444444,
              "#bd3786"
             ],
             [
              0.5555555555555556,
              "#d8576b"
             ],
             [
              0.6666666666666666,
              "#ed7953"
             ],
             [
              0.7777777777777778,
              "#fb9f3a"
             ],
             [
              0.8888888888888888,
              "#fdca26"
             ],
             [
              1,
              "#f0f921"
             ]
            ],
            "type": "contour"
           }
          ],
          "contourcarpet": [
           {
            "colorbar": {
             "outlinewidth": 0,
             "ticks": ""
            },
            "type": "contourcarpet"
           }
          ],
          "heatmap": [
           {
            "colorbar": {
             "outlinewidth": 0,
             "ticks": ""
            },
            "colorscale": [
             [
              0,
              "#0d0887"
             ],
             [
              0.1111111111111111,
              "#46039f"
             ],
             [
              0.2222222222222222,
              "#7201a8"
             ],
             [
              0.3333333333333333,
              "#9c179e"
             ],
             [
              0.4444444444444444,
              "#bd3786"
             ],
             [
              0.5555555555555556,
              "#d8576b"
             ],
             [
              0.6666666666666666,
              "#ed7953"
             ],
             [
              0.7777777777777778,
              "#fb9f3a"
             ],
             [
              0.8888888888888888,
              "#fdca26"
             ],
             [
              1,
              "#f0f921"
             ]
            ],
            "type": "heatmap"
           }
          ],
          "heatmapgl": [
           {
            "colorbar": {
             "outlinewidth": 0,
             "ticks": ""
            },
            "colorscale": [
             [
              0,
              "#0d0887"
             ],
             [
              0.1111111111111111,
              "#46039f"
             ],
             [
              0.2222222222222222,
              "#7201a8"
             ],
             [
              0.3333333333333333,
              "#9c179e"
             ],
             [
              0.4444444444444444,
              "#bd3786"
             ],
             [
              0.5555555555555556,
              "#d8576b"
             ],
             [
              0.6666666666666666,
              "#ed7953"
             ],
             [
              0.7777777777777778,
              "#fb9f3a"
             ],
             [
              0.8888888888888888,
              "#fdca26"
             ],
             [
              1,
              "#f0f921"
             ]
            ],
            "type": "heatmapgl"
           }
          ],
          "histogram": [
           {
            "marker": {
             "colorbar": {
              "outlinewidth": 0,
              "ticks": ""
             }
            },
            "type": "histogram"
           }
          ],
          "histogram2d": [
           {
            "colorbar": {
             "outlinewidth": 0,
             "ticks": ""
            },
            "colorscale": [
             [
              0,
              "#0d0887"
             ],
             [
              0.1111111111111111,
              "#46039f"
             ],
             [
              0.2222222222222222,
              "#7201a8"
             ],
             [
              0.3333333333333333,
              "#9c179e"
             ],
             [
              0.4444444444444444,
              "#bd3786"
             ],
             [
              0.5555555555555556,
              "#d8576b"
             ],
             [
              0.6666666666666666,
              "#ed7953"
             ],
             [
              0.7777777777777778,
              "#fb9f3a"
             ],
             [
              0.8888888888888888,
              "#fdca26"
             ],
             [
              1,
              "#f0f921"
             ]
            ],
            "type": "histogram2d"
           }
          ],
          "histogram2dcontour": [
           {
            "colorbar": {
             "outlinewidth": 0,
             "ticks": ""
            },
            "colorscale": [
             [
              0,
              "#0d0887"
             ],
             [
              0.1111111111111111,
              "#46039f"
             ],
             [
              0.2222222222222222,
              "#7201a8"
             ],
             [
              0.3333333333333333,
              "#9c179e"
             ],
             [
              0.4444444444444444,
              "#bd3786"
             ],
             [
              0.5555555555555556,
              "#d8576b"
             ],
             [
              0.6666666666666666,
              "#ed7953"
             ],
             [
              0.7777777777777778,
              "#fb9f3a"
             ],
             [
              0.8888888888888888,
              "#fdca26"
             ],
             [
              1,
              "#f0f921"
             ]
            ],
            "type": "histogram2dcontour"
           }
          ],
          "mesh3d": [
           {
            "colorbar": {
             "outlinewidth": 0,
             "ticks": ""
            },
            "type": "mesh3d"
           }
          ],
          "parcoords": [
           {
            "line": {
             "colorbar": {
              "outlinewidth": 0,
              "ticks": ""
             }
            },
            "type": "parcoords"
           }
          ],
          "pie": [
           {
            "automargin": true,
            "type": "pie"
           }
          ],
          "scatter": [
           {
            "marker": {
             "colorbar": {
              "outlinewidth": 0,
              "ticks": ""
             }
            },
            "type": "scatter"
           }
          ],
          "scatter3d": [
           {
            "line": {
             "colorbar": {
              "outlinewidth": 0,
              "ticks": ""
             }
            },
            "marker": {
             "colorbar": {
              "outlinewidth": 0,
              "ticks": ""
             }
            },
            "type": "scatter3d"
           }
          ],
          "scattercarpet": [
           {
            "marker": {
             "colorbar": {
              "outlinewidth": 0,
              "ticks": ""
             }
            },
            "type": "scattercarpet"
           }
          ],
          "scattergeo": [
           {
            "marker": {
             "colorbar": {
              "outlinewidth": 0,
              "ticks": ""
             }
            },
            "type": "scattergeo"
           }
          ],
          "scattergl": [
           {
            "marker": {
             "colorbar": {
              "outlinewidth": 0,
              "ticks": ""
             }
            },
            "type": "scattergl"
           }
          ],
          "scattermapbox": [
           {
            "marker": {
             "colorbar": {
              "outlinewidth": 0,
              "ticks": ""
             }
            },
            "type": "scattermapbox"
           }
          ],
          "scatterpolar": [
           {
            "marker": {
             "colorbar": {
              "outlinewidth": 0,
              "ticks": ""
             }
            },
            "type": "scatterpolar"
           }
          ],
          "scatterpolargl": [
           {
            "marker": {
             "colorbar": {
              "outlinewidth": 0,
              "ticks": ""
             }
            },
            "type": "scatterpolargl"
           }
          ],
          "scatterternary": [
           {
            "marker": {
             "colorbar": {
              "outlinewidth": 0,
              "ticks": ""
             }
            },
            "type": "scatterternary"
           }
          ],
          "surface": [
           {
            "colorbar": {
             "outlinewidth": 0,
             "ticks": ""
            },
            "colorscale": [
             [
              0,
              "#0d0887"
             ],
             [
              0.1111111111111111,
              "#46039f"
             ],
             [
              0.2222222222222222,
              "#7201a8"
             ],
             [
              0.3333333333333333,
              "#9c179e"
             ],
             [
              0.4444444444444444,
              "#bd3786"
             ],
             [
              0.5555555555555556,
              "#d8576b"
             ],
             [
              0.6666666666666666,
              "#ed7953"
             ],
             [
              0.7777777777777778,
              "#fb9f3a"
             ],
             [
              0.8888888888888888,
              "#fdca26"
             ],
             [
              1,
              "#f0f921"
             ]
            ],
            "type": "surface"
           }
          ],
          "table": [
           {
            "cells": {
             "fill": {
              "color": "#EBF0F8"
             },
             "line": {
              "color": "white"
             }
            },
            "header": {
             "fill": {
              "color": "#C8D4E3"
             },
             "line": {
              "color": "white"
             }
            },
            "type": "table"
           }
          ]
         },
         "layout": {
          "annotationdefaults": {
           "arrowcolor": "#2a3f5f",
           "arrowhead": 0,
           "arrowwidth": 1
          },
          "coloraxis": {
           "colorbar": {
            "outlinewidth": 0,
            "ticks": ""
           }
          },
          "colorscale": {
           "diverging": [
            [
             0,
             "#8e0152"
            ],
            [
             0.1,
             "#c51b7d"
            ],
            [
             0.2,
             "#de77ae"
            ],
            [
             0.3,
             "#f1b6da"
            ],
            [
             0.4,
             "#fde0ef"
            ],
            [
             0.5,
             "#f7f7f7"
            ],
            [
             0.6,
             "#e6f5d0"
            ],
            [
             0.7,
             "#b8e186"
            ],
            [
             0.8,
             "#7fbc41"
            ],
            [
             0.9,
             "#4d9221"
            ],
            [
             1,
             "#276419"
            ]
           ],
           "sequential": [
            [
             0,
             "#0d0887"
            ],
            [
             0.1111111111111111,
             "#46039f"
            ],
            [
             0.2222222222222222,
             "#7201a8"
            ],
            [
             0.3333333333333333,
             "#9c179e"
            ],
            [
             0.4444444444444444,
             "#bd3786"
            ],
            [
             0.5555555555555556,
             "#d8576b"
            ],
            [
             0.6666666666666666,
             "#ed7953"
            ],
            [
             0.7777777777777778,
             "#fb9f3a"
            ],
            [
             0.8888888888888888,
             "#fdca26"
            ],
            [
             1,
             "#f0f921"
            ]
           ],
           "sequentialminus": [
            [
             0,
             "#0d0887"
            ],
            [
             0.1111111111111111,
             "#46039f"
            ],
            [
             0.2222222222222222,
             "#7201a8"
            ],
            [
             0.3333333333333333,
             "#9c179e"
            ],
            [
             0.4444444444444444,
             "#bd3786"
            ],
            [
             0.5555555555555556,
             "#d8576b"
            ],
            [
             0.6666666666666666,
             "#ed7953"
            ],
            [
             0.7777777777777778,
             "#fb9f3a"
            ],
            [
             0.8888888888888888,
             "#fdca26"
            ],
            [
             1,
             "#f0f921"
            ]
           ]
          },
          "colorway": [
           "#636efa",
           "#EF553B",
           "#00cc96",
           "#ab63fa",
           "#FFA15A",
           "#19d3f3",
           "#FF6692",
           "#B6E880",
           "#FF97FF",
           "#FECB52"
          ],
          "font": {
           "color": "#2a3f5f"
          },
          "geo": {
           "bgcolor": "white",
           "lakecolor": "white",
           "landcolor": "#E5ECF6",
           "showlakes": true,
           "showland": true,
           "subunitcolor": "white"
          },
          "hoverlabel": {
           "align": "left"
          },
          "hovermode": "closest",
          "mapbox": {
           "style": "light"
          },
          "paper_bgcolor": "white",
          "plot_bgcolor": "#E5ECF6",
          "polar": {
           "angularaxis": {
            "gridcolor": "white",
            "linecolor": "white",
            "ticks": ""
           },
           "bgcolor": "#E5ECF6",
           "radialaxis": {
            "gridcolor": "white",
            "linecolor": "white",
            "ticks": ""
           }
          },
          "scene": {
           "xaxis": {
            "backgroundcolor": "#E5ECF6",
            "gridcolor": "white",
            "gridwidth": 2,
            "linecolor": "white",
            "showbackground": true,
            "ticks": "",
            "zerolinecolor": "white"
           },
           "yaxis": {
            "backgroundcolor": "#E5ECF6",
            "gridcolor": "white",
            "gridwidth": 2,
            "linecolor": "white",
            "showbackground": true,
            "ticks": "",
            "zerolinecolor": "white"
           },
           "zaxis": {
            "backgroundcolor": "#E5ECF6",
            "gridcolor": "white",
            "gridwidth": 2,
            "linecolor": "white",
            "showbackground": true,
            "ticks": "",
            "zerolinecolor": "white"
           }
          },
          "shapedefaults": {
           "line": {
            "color": "#2a3f5f"
           }
          },
          "ternary": {
           "aaxis": {
            "gridcolor": "white",
            "linecolor": "white",
            "ticks": ""
           },
           "baxis": {
            "gridcolor": "white",
            "linecolor": "white",
            "ticks": ""
           },
           "bgcolor": "#E5ECF6",
           "caxis": {
            "gridcolor": "white",
            "linecolor": "white",
            "ticks": ""
           }
          },
          "title": {
           "x": 0.05
          },
          "xaxis": {
           "automargin": true,
           "gridcolor": "white",
           "linecolor": "white",
           "ticks": "",
           "title": {
            "standoff": 15
           },
           "zerolinecolor": "white",
           "zerolinewidth": 2
          },
          "yaxis": {
           "automargin": true,
           "gridcolor": "white",
           "linecolor": "white",
           "ticks": "",
           "title": {
            "standoff": 15
           },
           "zerolinecolor": "white",
           "zerolinewidth": 2
          }
         }
        },
        "title": {
         "font": {
          "color": "#4D5663"
         }
        },
        "xaxis": {
         "gridcolor": "#E1E5ED",
         "showgrid": true,
         "tickfont": {
          "color": "#4D5663"
         },
         "title": {
          "font": {
           "color": "#4D5663"
          },
          "text": ""
         },
         "zerolinecolor": "#E1E5ED"
        },
        "yaxis": {
         "gridcolor": "#E1E5ED",
         "showgrid": true,
         "tickfont": {
          "color": "#4D5663"
         },
         "title": {
          "font": {
           "color": "#4D5663"
          },
          "text": ""
         },
         "zerolinecolor": "#E1E5ED"
        }
       }
      },
      "text/html": [
       "<div>\n",
       "        \n",
       "        \n",
       "            <div id=\"9610cbda-7a60-44f0-ac32-4dc7a5b28d4f\" class=\"plotly-graph-div\" style=\"height:525px; width:100%;\"></div>\n",
       "            <script type=\"text/javascript\">\n",
       "                require([\"plotly\"], function(Plotly) {\n",
       "                    window.PLOTLYENV=window.PLOTLYENV || {};\n",
       "                    window.PLOTLYENV.BASE_URL='https://plot.ly';\n",
       "                    \n",
       "                if (document.getElementById(\"9610cbda-7a60-44f0-ac32-4dc7a5b28d4f\")) {\n",
       "                    Plotly.newPlot(\n",
       "                        '9610cbda-7a60-44f0-ac32-4dc7a5b28d4f',\n",
       "                        [{\"marker\": {\"color\": \"rgba(255, 153, 51, 0.6)\", \"line\": {\"color\": \"rgba(255, 153, 51, 1.0)\", \"width\": 1}}, \"name\": \"None\", \"orientation\": \"v\", \"text\": \"\", \"type\": \"bar\", \"x\": [\"A\", \"B\", \"C\", \"D\"], \"y\": [100, 100, 100, 100]}],\n",
       "                        {\"legend\": {\"bgcolor\": \"#F5F6F9\", \"font\": {\"color\": \"#4D5663\"}}, \"paper_bgcolor\": \"#F5F6F9\", \"plot_bgcolor\": \"#F5F6F9\", \"template\": {\"data\": {\"bar\": [{\"error_x\": {\"color\": \"#2a3f5f\"}, \"error_y\": {\"color\": \"#2a3f5f\"}, \"marker\": {\"line\": {\"color\": \"#E5ECF6\", \"width\": 0.5}}, \"type\": \"bar\"}], \"barpolar\": [{\"marker\": {\"line\": {\"color\": \"#E5ECF6\", \"width\": 0.5}}, \"type\": \"barpolar\"}], \"carpet\": [{\"aaxis\": {\"endlinecolor\": \"#2a3f5f\", \"gridcolor\": \"white\", \"linecolor\": \"white\", \"minorgridcolor\": \"white\", \"startlinecolor\": \"#2a3f5f\"}, \"baxis\": {\"endlinecolor\": \"#2a3f5f\", \"gridcolor\": \"white\", \"linecolor\": \"white\", \"minorgridcolor\": \"white\", \"startlinecolor\": \"#2a3f5f\"}, \"type\": \"carpet\"}], \"choropleth\": [{\"colorbar\": {\"outlinewidth\": 0, \"ticks\": \"\"}, \"type\": \"choropleth\"}], \"contour\": [{\"colorbar\": {\"outlinewidth\": 0, \"ticks\": \"\"}, \"colorscale\": [[0.0, \"#0d0887\"], [0.1111111111111111, \"#46039f\"], [0.2222222222222222, \"#7201a8\"], [0.3333333333333333, \"#9c179e\"], [0.4444444444444444, \"#bd3786\"], [0.5555555555555556, \"#d8576b\"], [0.6666666666666666, \"#ed7953\"], [0.7777777777777778, \"#fb9f3a\"], [0.8888888888888888, \"#fdca26\"], [1.0, \"#f0f921\"]], \"type\": \"contour\"}], \"contourcarpet\": [{\"colorbar\": {\"outlinewidth\": 0, \"ticks\": \"\"}, \"type\": \"contourcarpet\"}], \"heatmap\": [{\"colorbar\": {\"outlinewidth\": 0, \"ticks\": \"\"}, \"colorscale\": [[0.0, \"#0d0887\"], [0.1111111111111111, \"#46039f\"], [0.2222222222222222, \"#7201a8\"], [0.3333333333333333, \"#9c179e\"], [0.4444444444444444, \"#bd3786\"], [0.5555555555555556, \"#d8576b\"], [0.6666666666666666, \"#ed7953\"], [0.7777777777777778, \"#fb9f3a\"], [0.8888888888888888, \"#fdca26\"], [1.0, \"#f0f921\"]], \"type\": \"heatmap\"}], \"heatmapgl\": [{\"colorbar\": {\"outlinewidth\": 0, \"ticks\": \"\"}, \"colorscale\": [[0.0, \"#0d0887\"], [0.1111111111111111, \"#46039f\"], [0.2222222222222222, \"#7201a8\"], [0.3333333333333333, \"#9c179e\"], [0.4444444444444444, \"#bd3786\"], [0.5555555555555556, \"#d8576b\"], [0.6666666666666666, \"#ed7953\"], [0.7777777777777778, \"#fb9f3a\"], [0.8888888888888888, \"#fdca26\"], [1.0, \"#f0f921\"]], \"type\": \"heatmapgl\"}], \"histogram\": [{\"marker\": {\"colorbar\": {\"outlinewidth\": 0, \"ticks\": \"\"}}, \"type\": \"histogram\"}], \"histogram2d\": [{\"colorbar\": {\"outlinewidth\": 0, \"ticks\": \"\"}, \"colorscale\": [[0.0, \"#0d0887\"], [0.1111111111111111, \"#46039f\"], [0.2222222222222222, \"#7201a8\"], [0.3333333333333333, \"#9c179e\"], [0.4444444444444444, \"#bd3786\"], [0.5555555555555556, \"#d8576b\"], [0.6666666666666666, \"#ed7953\"], [0.7777777777777778, \"#fb9f3a\"], [0.8888888888888888, \"#fdca26\"], [1.0, \"#f0f921\"]], \"type\": \"histogram2d\"}], \"histogram2dcontour\": [{\"colorbar\": {\"outlinewidth\": 0, \"ticks\": \"\"}, \"colorscale\": [[0.0, \"#0d0887\"], [0.1111111111111111, \"#46039f\"], [0.2222222222222222, \"#7201a8\"], [0.3333333333333333, \"#9c179e\"], [0.4444444444444444, \"#bd3786\"], [0.5555555555555556, \"#d8576b\"], [0.6666666666666666, \"#ed7953\"], [0.7777777777777778, \"#fb9f3a\"], [0.8888888888888888, \"#fdca26\"], [1.0, \"#f0f921\"]], \"type\": \"histogram2dcontour\"}], \"mesh3d\": [{\"colorbar\": {\"outlinewidth\": 0, \"ticks\": \"\"}, \"type\": \"mesh3d\"}], \"parcoords\": [{\"line\": {\"colorbar\": {\"outlinewidth\": 0, \"ticks\": \"\"}}, \"type\": \"parcoords\"}], \"pie\": [{\"automargin\": true, \"type\": \"pie\"}], \"scatter\": [{\"marker\": {\"colorbar\": {\"outlinewidth\": 0, \"ticks\": \"\"}}, \"type\": \"scatter\"}], \"scatter3d\": [{\"line\": {\"colorbar\": {\"outlinewidth\": 0, \"ticks\": \"\"}}, \"marker\": {\"colorbar\": {\"outlinewidth\": 0, \"ticks\": \"\"}}, \"type\": \"scatter3d\"}], \"scattercarpet\": [{\"marker\": {\"colorbar\": {\"outlinewidth\": 0, \"ticks\": \"\"}}, \"type\": \"scattercarpet\"}], \"scattergeo\": [{\"marker\": {\"colorbar\": {\"outlinewidth\": 0, \"ticks\": \"\"}}, \"type\": \"scattergeo\"}], \"scattergl\": [{\"marker\": {\"colorbar\": {\"outlinewidth\": 0, \"ticks\": \"\"}}, \"type\": \"scattergl\"}], \"scattermapbox\": [{\"marker\": {\"colorbar\": {\"outlinewidth\": 0, \"ticks\": \"\"}}, \"type\": \"scattermapbox\"}], \"scatterpolar\": [{\"marker\": {\"colorbar\": {\"outlinewidth\": 0, \"ticks\": \"\"}}, \"type\": \"scatterpolar\"}], \"scatterpolargl\": [{\"marker\": {\"colorbar\": {\"outlinewidth\": 0, \"ticks\": \"\"}}, \"type\": \"scatterpolargl\"}], \"scatterternary\": [{\"marker\": {\"colorbar\": {\"outlinewidth\": 0, \"ticks\": \"\"}}, \"type\": \"scatterternary\"}], \"surface\": [{\"colorbar\": {\"outlinewidth\": 0, \"ticks\": \"\"}, \"colorscale\": [[0.0, \"#0d0887\"], [0.1111111111111111, \"#46039f\"], [0.2222222222222222, \"#7201a8\"], [0.3333333333333333, \"#9c179e\"], [0.4444444444444444, \"#bd3786\"], [0.5555555555555556, \"#d8576b\"], [0.6666666666666666, \"#ed7953\"], [0.7777777777777778, \"#fb9f3a\"], [0.8888888888888888, \"#fdca26\"], [1.0, \"#f0f921\"]], \"type\": \"surface\"}], \"table\": [{\"cells\": {\"fill\": {\"color\": \"#EBF0F8\"}, \"line\": {\"color\": \"white\"}}, \"header\": {\"fill\": {\"color\": \"#C8D4E3\"}, \"line\": {\"color\": \"white\"}}, \"type\": \"table\"}]}, \"layout\": {\"annotationdefaults\": {\"arrowcolor\": \"#2a3f5f\", \"arrowhead\": 0, \"arrowwidth\": 1}, \"coloraxis\": {\"colorbar\": {\"outlinewidth\": 0, \"ticks\": \"\"}}, \"colorscale\": {\"diverging\": [[0, \"#8e0152\"], [0.1, \"#c51b7d\"], [0.2, \"#de77ae\"], [0.3, \"#f1b6da\"], [0.4, \"#fde0ef\"], [0.5, \"#f7f7f7\"], [0.6, \"#e6f5d0\"], [0.7, \"#b8e186\"], [0.8, \"#7fbc41\"], [0.9, \"#4d9221\"], [1, \"#276419\"]], \"sequential\": [[0.0, \"#0d0887\"], [0.1111111111111111, \"#46039f\"], [0.2222222222222222, \"#7201a8\"], [0.3333333333333333, \"#9c179e\"], [0.4444444444444444, \"#bd3786\"], [0.5555555555555556, \"#d8576b\"], [0.6666666666666666, \"#ed7953\"], [0.7777777777777778, \"#fb9f3a\"], [0.8888888888888888, \"#fdca26\"], [1.0, \"#f0f921\"]], \"sequentialminus\": [[0.0, \"#0d0887\"], [0.1111111111111111, \"#46039f\"], [0.2222222222222222, \"#7201a8\"], [0.3333333333333333, \"#9c179e\"], [0.4444444444444444, \"#bd3786\"], [0.5555555555555556, \"#d8576b\"], [0.6666666666666666, \"#ed7953\"], [0.7777777777777778, \"#fb9f3a\"], [0.8888888888888888, \"#fdca26\"], [1.0, \"#f0f921\"]]}, \"colorway\": [\"#636efa\", \"#EF553B\", \"#00cc96\", \"#ab63fa\", \"#FFA15A\", \"#19d3f3\", \"#FF6692\", \"#B6E880\", \"#FF97FF\", \"#FECB52\"], \"font\": {\"color\": \"#2a3f5f\"}, \"geo\": {\"bgcolor\": \"white\", \"lakecolor\": \"white\", \"landcolor\": \"#E5ECF6\", \"showlakes\": true, \"showland\": true, \"subunitcolor\": \"white\"}, \"hoverlabel\": {\"align\": \"left\"}, \"hovermode\": \"closest\", \"mapbox\": {\"style\": \"light\"}, \"paper_bgcolor\": \"white\", \"plot_bgcolor\": \"#E5ECF6\", \"polar\": {\"angularaxis\": {\"gridcolor\": \"white\", \"linecolor\": \"white\", \"ticks\": \"\"}, \"bgcolor\": \"#E5ECF6\", \"radialaxis\": {\"gridcolor\": \"white\", \"linecolor\": \"white\", \"ticks\": \"\"}}, \"scene\": {\"xaxis\": {\"backgroundcolor\": \"#E5ECF6\", \"gridcolor\": \"white\", \"gridwidth\": 2, \"linecolor\": \"white\", \"showbackground\": true, \"ticks\": \"\", \"zerolinecolor\": \"white\"}, \"yaxis\": {\"backgroundcolor\": \"#E5ECF6\", \"gridcolor\": \"white\", \"gridwidth\": 2, \"linecolor\": \"white\", \"showbackground\": true, \"ticks\": \"\", \"zerolinecolor\": \"white\"}, \"zaxis\": {\"backgroundcolor\": \"#E5ECF6\", \"gridcolor\": \"white\", \"gridwidth\": 2, \"linecolor\": \"white\", \"showbackground\": true, \"ticks\": \"\", \"zerolinecolor\": \"white\"}}, \"shapedefaults\": {\"line\": {\"color\": \"#2a3f5f\"}}, \"ternary\": {\"aaxis\": {\"gridcolor\": \"white\", \"linecolor\": \"white\", \"ticks\": \"\"}, \"baxis\": {\"gridcolor\": \"white\", \"linecolor\": \"white\", \"ticks\": \"\"}, \"bgcolor\": \"#E5ECF6\", \"caxis\": {\"gridcolor\": \"white\", \"linecolor\": \"white\", \"ticks\": \"\"}}, \"title\": {\"x\": 0.05}, \"xaxis\": {\"automargin\": true, \"gridcolor\": \"white\", \"linecolor\": \"white\", \"ticks\": \"\", \"title\": {\"standoff\": 15}, \"zerolinecolor\": \"white\", \"zerolinewidth\": 2}, \"yaxis\": {\"automargin\": true, \"gridcolor\": \"white\", \"linecolor\": \"white\", \"ticks\": \"\", \"title\": {\"standoff\": 15}, \"zerolinecolor\": \"white\", \"zerolinewidth\": 2}}}, \"title\": {\"font\": {\"color\": \"#4D5663\"}}, \"xaxis\": {\"gridcolor\": \"#E1E5ED\", \"showgrid\": true, \"tickfont\": {\"color\": \"#4D5663\"}, \"title\": {\"font\": {\"color\": \"#4D5663\"}, \"text\": \"\"}, \"zerolinecolor\": \"#E1E5ED\"}, \"yaxis\": {\"gridcolor\": \"#E1E5ED\", \"showgrid\": true, \"tickfont\": {\"color\": \"#4D5663\"}, \"title\": {\"font\": {\"color\": \"#4D5663\"}, \"text\": \"\"}, \"zerolinecolor\": \"#E1E5ED\"}},\n",
       "                        {\"showLink\": true, \"linkText\": \"Export to plot.ly\", \"plotlyServerURL\": \"https://plot.ly\", \"responsive\": true}\n",
       "                    ).then(function(){\n",
       "                            \n",
       "var gd = document.getElementById('9610cbda-7a60-44f0-ac32-4dc7a5b28d4f');\n",
       "var x = new MutationObserver(function (mutations, observer) {{\n",
       "        var display = window.getComputedStyle(gd).display;\n",
       "        if (!display || display === 'none') {{\n",
       "            console.log([gd, 'removed!']);\n",
       "            Plotly.purge(gd);\n",
       "            observer.disconnect();\n",
       "        }}\n",
       "}});\n",
       "\n",
       "// Listen for the removal of the full notebook cells\n",
       "var notebookContainer = gd.closest('#notebook-container');\n",
       "if (notebookContainer) {{\n",
       "    x.observe(notebookContainer, {childList: true});\n",
       "}}\n",
       "\n",
       "// Listen for the clearing of the current output cell\n",
       "var outputEl = gd.closest('.output');\n",
       "if (outputEl) {{\n",
       "    x.observe(outputEl, {childList: true});\n",
       "}}\n",
       "\n",
       "                        })\n",
       "                };\n",
       "                });\n",
       "            </script>\n",
       "        </div>"
      ]
     },
     "metadata": {},
     "output_type": "display_data"
    }
   ],
   "source": [
    "df.count().iplot(kind='bar')"
   ]
  },
  {
   "cell_type": "markdown",
   "metadata": {},
   "source": [
    "## Boxplots"
   ]
  },
  {
   "cell_type": "code",
   "execution_count": 21,
   "metadata": {},
   "outputs": [
    {
     "data": {
      "application/vnd.plotly.v1+json": {
       "config": {
        "linkText": "Export to plot.ly",
        "plotlyServerURL": "https://plot.ly",
        "showLink": true
       },
       "data": [
        {
         "boxpoints": false,
         "line": {
          "width": 1.3
         },
         "marker": {
          "color": "rgba(255, 153, 51, 1.0)"
         },
         "name": "A",
         "orientation": "v",
         "type": "box",
         "y": [
          -0.9734495742841736,
          -1.8315951967413935,
          1.6139020442339822,
          1.8317994231752863,
          -0.5703850399579571,
          -1.4741058750836376,
          0.3556724369296695,
          0.5896167900058208,
          -0.16588761429519788,
          1.252817890189307,
          0.8244913688037369,
          -0.8310634233310962,
          -1.2715301311174314,
          0.8813921954359295,
          0.03008326150665548,
          1.796935266435818,
          0.36940181717575304,
          -0.8813170476695465,
          -0.31461403362256685,
          -0.4468206880588594,
          0.3240352703956821,
          -0.4174928910302742,
          -0.8936299905709542,
          -1.7730351725609956,
          -0.17509775157041949,
          1.785575038048923,
          0.8693153126170038,
          -0.9119334319497847,
          0.06855935946590477,
          0.5983975207014364,
          -0.3125289594386086,
          -1.623670806104809,
          -1.5420589595567573,
          1.3286785347616383,
          -1.094158923464464,
          0.21930454522962683,
          0.8354226939734191,
          1.1112027436645884,
          0.5706132554817172,
          1.5175492736710126,
          -0.741270592687962,
          0.7179471066369602,
          -0.11923765585506343,
          -0.5190825867431396,
          -1.223108562573393,
          -0.24851600060140075,
          1.1382508831643312,
          -0.033081660969711255,
          0.5175216536790487,
          0.7544486986602126,
          -0.6518679982601071,
          2.070787774933711,
          0.4426842316054046,
          0.05653702034559746,
          -1.0053907104192161,
          -0.786399787410555,
          0.27850043786370504,
          0.3916013705575103,
          0.43507671462973674,
          1.3045455981258764,
          1.5209664834575232,
          0.5703063793983049,
          -0.20123025062794503,
          -0.04784662293665812,
          0.9508747258949924,
          0.10041817141614233,
          0.05723625804651315,
          -0.04030529057318736,
          0.7335235062619401,
          0.8982570392990319,
          1.1155809290713437,
          0.8844599452843706,
          -0.6148252072505153,
          1.1594874940128568,
          -1.216817774524191,
          -0.8890426465705751,
          -1.893518423950157,
          -0.33140872246822817,
          -0.26953768733587197,
          0.9961753075937271,
          0.03607656273618685,
          -0.4870399182323607,
          -0.7339647437901523,
          0.5475059713581206,
          -1.1018093852788269,
          -1.4823859267101909,
          -1.6501041838493982,
          0.20377009012743325,
          0.1762274744366041,
          -0.6017592186585072,
          0.3590576908726275,
          0.7428489289251691,
          0.48584201834020807,
          0.6945617012876489,
          -1.1489156980425708,
          0.6131057392500935,
          0.17885470690537067,
          0.26446508278372033,
          -0.10706051662167917,
          0.6223017828248917
         ]
        },
        {
         "boxpoints": false,
         "line": {
          "width": 1.3
         },
         "marker": {
          "color": "rgba(55, 128, 191, 1.0)"
         },
         "name": "B",
         "orientation": "v",
         "type": "box",
         "y": [
          -0.5811999608120723,
          -0.8036697312678183,
          0.3854041880109005,
          0.4209603813984334,
          -0.4281246077274638,
          -0.19852210221305122,
          -2.054418519812087,
          0.4077891217927148,
          -0.5945240763963975,
          -1.536557826592104,
          0.672332698408608,
          1.4028979182530195,
          1.4439820744695246,
          0.20886292761525518,
          -0.7393879162186503,
          -0.5368487628608516,
          -1.3688133482970724,
          0.19474772168671534,
          0.2647889831001665,
          -1.251547816940817,
          0.48556271338398527,
          0.5285982029460005,
          -0.6397201840797241,
          0.5081278922806333,
          0.2659176640020525,
          2.552614374126511,
          -1.1493716413393977,
          1.3345305675591104,
          0.5974633782328114,
          -0.786979507572439,
          0.06608038797047978,
          -0.8145816284732865,
          1.5847483366580726,
          -1.1202607419391661,
          -1.049640524535017,
          -0.006903395515333687,
          -0.524048042000973,
          0.44602741836718635,
          0.20789948771212124,
          -1.7806121425814323,
          0.0854339021506031,
          0.6102089740674195,
          0.9728652238276162,
          -1.4346181102507178,
          0.4991602969072206,
          1.7848098537008248,
          0.47678906443316527,
          0.30715039761978874,
          -0.08716260522525818,
          0.35767698840008727,
          -0.11745608886652367,
          -1.786882759539797,
          1.6238306895783923,
          -1.1762234413326496,
          -0.8428802127555798,
          0.9966021977974714,
          0.8373405137607192,
          0.8659528776627187,
          2.0692017376026457,
          1.4272810302299084,
          -1.7892289543718998,
          1.6576497596199353,
          -0.03281965544361487,
          -1.8153586870341933,
          -0.7179954280924857,
          -1.0977240279134834,
          -0.9259475104250532,
          0.9852912806939138,
          -0.4840186387488574,
          -0.43089106542389977,
          0.2911652394892015,
          -0.965132820164843,
          -0.7180607125895234,
          -1.0041459219518847,
          -0.7846987822530055,
          0.12630702047120732,
          -0.3812210919119034,
          -0.3037783960675797,
          -0.282441006815986,
          0.42824543291257966,
          0.006255871853128791,
          0.7851077459102427,
          -0.6255412712308532,
          -0.06663669277893636,
          0.7293892078205981,
          1.512249438121794,
          0.05893141654083086,
          0.9760093768519751,
          -0.28824847602835263,
          -0.30940127812256835,
          0.537953257392704,
          0.6381235440509992,
          0.7727316578039034,
          -0.25435089513654213,
          -0.6790857730570136,
          -0.6249789946320716,
          1.4731436561408768,
          -0.0637549971579087,
          -0.30502694841740013,
          0.37810360901576967
         ]
        },
        {
         "boxpoints": false,
         "line": {
          "width": 1.3
         },
         "marker": {
          "color": "rgba(50, 171, 96, 1.0)"
         },
         "name": "C",
         "orientation": "v",
         "type": "box",
         "y": [
          0.4465946591692149,
          -0.16486231085411854,
          -0.2982897748061894,
          -0.23411003689093351,
          -1.2116097866053412,
          0.8253673770836158,
          -1.148999781191789,
          1.4793187197489317,
          -1.8278615001710312,
          0.10793947769491719,
          0.013210085189908979,
          0.1915405875072082,
          -0.740424717839089,
          0.8753765623144861,
          -0.5820215653049959,
          0.02952435573406176,
          1.3800918755008555,
          0.8829600699652781,
          -0.7899359672227325,
          1.0480987514065763,
          -0.661342190204746,
          -1.437532002146367,
          -0.9347259262952119,
          0.2711441527009754,
          0.9370994639846763,
          -0.8510998725071435,
          -0.10901940707699512,
          -1.5670525760540877,
          2.5500612373045435,
          0.25316419368897436,
          -0.7348893605846597,
          0.1354147034953102,
          0.5909033184761552,
          1.8698919963948077,
          -1.017584445365926,
          2.0664060265275794,
          -1.244086825630889,
          0.7658621916231835,
          0.562898699100837,
          0.6780684477561032,
          -0.8802058709296295,
          0.575335737009437,
          1.3403402794924335,
          -1.006790440287403,
          -0.09625773583783136,
          -0.7372422026148387,
          -0.8713067597021921,
          -1.121267427250573,
          0.014520832299060196,
          -0.623431807530587,
          -1.2030039545655682,
          0.02702242494766879,
          -0.07319362795788485,
          0.026927518795224967,
          0.4545713532247032,
          -0.07828220808835416,
          0.3057447235537578,
          -0.07894598635092011,
          0.010818280208694245,
          -0.0014020639789387019,
          -0.7889084335136599,
          0.34483105903604977,
          2.4355337763902942,
          1.3414174390131024,
          -0.9044209394970005,
          -0.04786040943686782,
          -0.5651928414422082,
          1.180654787239047,
          0.17497182194333832,
          1.6447684917816974,
          0.6204256291321893,
          0.6508427104690401,
          -0.9716419250001527,
          0.5951087500017701,
          0.1661758983675416,
          0.6011190061024035,
          -1.6825903839447376,
          -0.6120102985816349,
          -0.5488089546191786,
          -0.9578877517845851,
          -0.060102094105688175,
          2.2812115930732637,
          0.8029602338025977,
          -1.7601645850839462,
          -1.2672108160954711,
          -0.7754988415258066,
          0.7700989925557424,
          -0.42033232131429676,
          -0.6092157256666687,
          -1.214898858131597,
          -0.9502243168822014,
          0.830944977952104,
          1.2015754737748736,
          1.641226772233783,
          1.43306751285687,
          1.638961428726828,
          -0.07502882892345157,
          1.329747633643722,
          -0.6089988187792902,
          -2.1507734614985874
         ]
        },
        {
         "boxpoints": false,
         "line": {
          "width": 1.3
         },
         "marker": {
          "color": "rgba(128, 0, 128, 1.0)"
         },
         "name": "D",
         "orientation": "v",
         "type": "box",
         "y": [
          -0.2192232435712407,
          0.0283268131023829,
          0.8964696723539963,
          -1.0283885000833466,
          -1.3182351327351098,
          -0.5277647422987509,
          -0.9385086936869956,
          1.2061977978951748,
          0.1421902406605246,
          0.6184168052550945,
          -0.039877045490074994,
          -0.9752394987162321,
          -1.7751520163220462,
          -0.4722921655201741,
          -0.12274985283625083,
          -0.9274559744283062,
          1.894270929614533,
          -2.672694771207034,
          0.07997402295206053,
          0.7491965681213448,
          -0.7152711078609697,
          -0.32855979832250526,
          -0.05323711387502112,
          0.9167917248097514,
          -0.6179467194794326,
          0.05256963946619909,
          -0.6312899349076002,
          0.22351194814481504,
          -0.3067313893917002,
          -0.8456113471311655,
          0.6211118901589805,
          -1.112525092466899,
          0.9619251622482322,
          -0.26877353141176263,
          -0.0014630302593012106,
          -1.0191297589773674,
          -1.3672715614444393,
          0.38710677050744735,
          -0.4899293153653744,
          -0.12630803511377184,
          0.9815905655982257,
          -0.4175055812147094,
          1.1260620582587195,
          -1.244106024305591,
          1.2163029421357596,
          0.7300378523525042,
          0.6539537619265317,
          1.2339106042088626,
          0.8112364534231554,
          -1.2829068140569275,
          -0.6756773844832522,
          -0.7091020795886301,
          0.31764685592615666,
          -0.4502973343925804,
          1.7274832888038356,
          -0.11525108286821455,
          0.19010588366922107,
          0.797255107372613,
          1.163288964252091,
          1.0590557596414987,
          -0.7011592168034892,
          1.2060006342909675,
          1.0893990791408414,
          -1.5229207242328573,
          -0.3997213570588383,
          2.874689786857148,
          0.10611024585499639,
          -0.8555094032339574,
          1.6096275851091222,
          -1.8783119998528792,
          0.8640234633966536,
          2.0859932005692703,
          0.6702785786050622,
          0.6323768743595102,
          -1.1055358574342864,
          -0.2924966496013419,
          1.7759060786073706,
          0.6212449630378699,
          2.0118187423184657,
          0.7508843587411196,
          -1.2002570321997699,
          1.4795863669983513,
          -0.2598826343604322,
          -0.10963908013096199,
          2.2077184815927877,
          -2.1720097869633683,
          1.0987939610199553,
          0.8865809203216175,
          0.06022492757025151,
          -0.35863420685446684,
          -1.1832813827837794,
          -0.28699537868668434,
          -0.46883213875517077,
          -0.4635016862238375,
          -0.4017998218990491,
          -1.0870154401924637,
          -0.991984450544098,
          -0.152825678547246,
          -1.5095653176917445,
          0.4563221193826911
         ]
        }
       ],
       "layout": {
        "legend": {
         "bgcolor": "#F5F6F9",
         "font": {
          "color": "#4D5663"
         }
        },
        "paper_bgcolor": "#F5F6F9",
        "plot_bgcolor": "#F5F6F9",
        "template": {
         "data": {
          "bar": [
           {
            "error_x": {
             "color": "#2a3f5f"
            },
            "error_y": {
             "color": "#2a3f5f"
            },
            "marker": {
             "line": {
              "color": "#E5ECF6",
              "width": 0.5
             }
            },
            "type": "bar"
           }
          ],
          "barpolar": [
           {
            "marker": {
             "line": {
              "color": "#E5ECF6",
              "width": 0.5
             }
            },
            "type": "barpolar"
           }
          ],
          "carpet": [
           {
            "aaxis": {
             "endlinecolor": "#2a3f5f",
             "gridcolor": "white",
             "linecolor": "white",
             "minorgridcolor": "white",
             "startlinecolor": "#2a3f5f"
            },
            "baxis": {
             "endlinecolor": "#2a3f5f",
             "gridcolor": "white",
             "linecolor": "white",
             "minorgridcolor": "white",
             "startlinecolor": "#2a3f5f"
            },
            "type": "carpet"
           }
          ],
          "choropleth": [
           {
            "colorbar": {
             "outlinewidth": 0,
             "ticks": ""
            },
            "type": "choropleth"
           }
          ],
          "contour": [
           {
            "colorbar": {
             "outlinewidth": 0,
             "ticks": ""
            },
            "colorscale": [
             [
              0,
              "#0d0887"
             ],
             [
              0.1111111111111111,
              "#46039f"
             ],
             [
              0.2222222222222222,
              "#7201a8"
             ],
             [
              0.3333333333333333,
              "#9c179e"
             ],
             [
              0.4444444444444444,
              "#bd3786"
             ],
             [
              0.5555555555555556,
              "#d8576b"
             ],
             [
              0.6666666666666666,
              "#ed7953"
             ],
             [
              0.7777777777777778,
              "#fb9f3a"
             ],
             [
              0.8888888888888888,
              "#fdca26"
             ],
             [
              1,
              "#f0f921"
             ]
            ],
            "type": "contour"
           }
          ],
          "contourcarpet": [
           {
            "colorbar": {
             "outlinewidth": 0,
             "ticks": ""
            },
            "type": "contourcarpet"
           }
          ],
          "heatmap": [
           {
            "colorbar": {
             "outlinewidth": 0,
             "ticks": ""
            },
            "colorscale": [
             [
              0,
              "#0d0887"
             ],
             [
              0.1111111111111111,
              "#46039f"
             ],
             [
              0.2222222222222222,
              "#7201a8"
             ],
             [
              0.3333333333333333,
              "#9c179e"
             ],
             [
              0.4444444444444444,
              "#bd3786"
             ],
             [
              0.5555555555555556,
              "#d8576b"
             ],
             [
              0.6666666666666666,
              "#ed7953"
             ],
             [
              0.7777777777777778,
              "#fb9f3a"
             ],
             [
              0.8888888888888888,
              "#fdca26"
             ],
             [
              1,
              "#f0f921"
             ]
            ],
            "type": "heatmap"
           }
          ],
          "heatmapgl": [
           {
            "colorbar": {
             "outlinewidth": 0,
             "ticks": ""
            },
            "colorscale": [
             [
              0,
              "#0d0887"
             ],
             [
              0.1111111111111111,
              "#46039f"
             ],
             [
              0.2222222222222222,
              "#7201a8"
             ],
             [
              0.3333333333333333,
              "#9c179e"
             ],
             [
              0.4444444444444444,
              "#bd3786"
             ],
             [
              0.5555555555555556,
              "#d8576b"
             ],
             [
              0.6666666666666666,
              "#ed7953"
             ],
             [
              0.7777777777777778,
              "#fb9f3a"
             ],
             [
              0.8888888888888888,
              "#fdca26"
             ],
             [
              1,
              "#f0f921"
             ]
            ],
            "type": "heatmapgl"
           }
          ],
          "histogram": [
           {
            "marker": {
             "colorbar": {
              "outlinewidth": 0,
              "ticks": ""
             }
            },
            "type": "histogram"
           }
          ],
          "histogram2d": [
           {
            "colorbar": {
             "outlinewidth": 0,
             "ticks": ""
            },
            "colorscale": [
             [
              0,
              "#0d0887"
             ],
             [
              0.1111111111111111,
              "#46039f"
             ],
             [
              0.2222222222222222,
              "#7201a8"
             ],
             [
              0.3333333333333333,
              "#9c179e"
             ],
             [
              0.4444444444444444,
              "#bd3786"
             ],
             [
              0.5555555555555556,
              "#d8576b"
             ],
             [
              0.6666666666666666,
              "#ed7953"
             ],
             [
              0.7777777777777778,
              "#fb9f3a"
             ],
             [
              0.8888888888888888,
              "#fdca26"
             ],
             [
              1,
              "#f0f921"
             ]
            ],
            "type": "histogram2d"
           }
          ],
          "histogram2dcontour": [
           {
            "colorbar": {
             "outlinewidth": 0,
             "ticks": ""
            },
            "colorscale": [
             [
              0,
              "#0d0887"
             ],
             [
              0.1111111111111111,
              "#46039f"
             ],
             [
              0.2222222222222222,
              "#7201a8"
             ],
             [
              0.3333333333333333,
              "#9c179e"
             ],
             [
              0.4444444444444444,
              "#bd3786"
             ],
             [
              0.5555555555555556,
              "#d8576b"
             ],
             [
              0.6666666666666666,
              "#ed7953"
             ],
             [
              0.7777777777777778,
              "#fb9f3a"
             ],
             [
              0.8888888888888888,
              "#fdca26"
             ],
             [
              1,
              "#f0f921"
             ]
            ],
            "type": "histogram2dcontour"
           }
          ],
          "mesh3d": [
           {
            "colorbar": {
             "outlinewidth": 0,
             "ticks": ""
            },
            "type": "mesh3d"
           }
          ],
          "parcoords": [
           {
            "line": {
             "colorbar": {
              "outlinewidth": 0,
              "ticks": ""
             }
            },
            "type": "parcoords"
           }
          ],
          "pie": [
           {
            "automargin": true,
            "type": "pie"
           }
          ],
          "scatter": [
           {
            "marker": {
             "colorbar": {
              "outlinewidth": 0,
              "ticks": ""
             }
            },
            "type": "scatter"
           }
          ],
          "scatter3d": [
           {
            "line": {
             "colorbar": {
              "outlinewidth": 0,
              "ticks": ""
             }
            },
            "marker": {
             "colorbar": {
              "outlinewidth": 0,
              "ticks": ""
             }
            },
            "type": "scatter3d"
           }
          ],
          "scattercarpet": [
           {
            "marker": {
             "colorbar": {
              "outlinewidth": 0,
              "ticks": ""
             }
            },
            "type": "scattercarpet"
           }
          ],
          "scattergeo": [
           {
            "marker": {
             "colorbar": {
              "outlinewidth": 0,
              "ticks": ""
             }
            },
            "type": "scattergeo"
           }
          ],
          "scattergl": [
           {
            "marker": {
             "colorbar": {
              "outlinewidth": 0,
              "ticks": ""
             }
            },
            "type": "scattergl"
           }
          ],
          "scattermapbox": [
           {
            "marker": {
             "colorbar": {
              "outlinewidth": 0,
              "ticks": ""
             }
            },
            "type": "scattermapbox"
           }
          ],
          "scatterpolar": [
           {
            "marker": {
             "colorbar": {
              "outlinewidth": 0,
              "ticks": ""
             }
            },
            "type": "scatterpolar"
           }
          ],
          "scatterpolargl": [
           {
            "marker": {
             "colorbar": {
              "outlinewidth": 0,
              "ticks": ""
             }
            },
            "type": "scatterpolargl"
           }
          ],
          "scatterternary": [
           {
            "marker": {
             "colorbar": {
              "outlinewidth": 0,
              "ticks": ""
             }
            },
            "type": "scatterternary"
           }
          ],
          "surface": [
           {
            "colorbar": {
             "outlinewidth": 0,
             "ticks": ""
            },
            "colorscale": [
             [
              0,
              "#0d0887"
             ],
             [
              0.1111111111111111,
              "#46039f"
             ],
             [
              0.2222222222222222,
              "#7201a8"
             ],
             [
              0.3333333333333333,
              "#9c179e"
             ],
             [
              0.4444444444444444,
              "#bd3786"
             ],
             [
              0.5555555555555556,
              "#d8576b"
             ],
             [
              0.6666666666666666,
              "#ed7953"
             ],
             [
              0.7777777777777778,
              "#fb9f3a"
             ],
             [
              0.8888888888888888,
              "#fdca26"
             ],
             [
              1,
              "#f0f921"
             ]
            ],
            "type": "surface"
           }
          ],
          "table": [
           {
            "cells": {
             "fill": {
              "color": "#EBF0F8"
             },
             "line": {
              "color": "white"
             }
            },
            "header": {
             "fill": {
              "color": "#C8D4E3"
             },
             "line": {
              "color": "white"
             }
            },
            "type": "table"
           }
          ]
         },
         "layout": {
          "annotationdefaults": {
           "arrowcolor": "#2a3f5f",
           "arrowhead": 0,
           "arrowwidth": 1
          },
          "coloraxis": {
           "colorbar": {
            "outlinewidth": 0,
            "ticks": ""
           }
          },
          "colorscale": {
           "diverging": [
            [
             0,
             "#8e0152"
            ],
            [
             0.1,
             "#c51b7d"
            ],
            [
             0.2,
             "#de77ae"
            ],
            [
             0.3,
             "#f1b6da"
            ],
            [
             0.4,
             "#fde0ef"
            ],
            [
             0.5,
             "#f7f7f7"
            ],
            [
             0.6,
             "#e6f5d0"
            ],
            [
             0.7,
             "#b8e186"
            ],
            [
             0.8,
             "#7fbc41"
            ],
            [
             0.9,
             "#4d9221"
            ],
            [
             1,
             "#276419"
            ]
           ],
           "sequential": [
            [
             0,
             "#0d0887"
            ],
            [
             0.1111111111111111,
             "#46039f"
            ],
            [
             0.2222222222222222,
             "#7201a8"
            ],
            [
             0.3333333333333333,
             "#9c179e"
            ],
            [
             0.4444444444444444,
             "#bd3786"
            ],
            [
             0.5555555555555556,
             "#d8576b"
            ],
            [
             0.6666666666666666,
             "#ed7953"
            ],
            [
             0.7777777777777778,
             "#fb9f3a"
            ],
            [
             0.8888888888888888,
             "#fdca26"
            ],
            [
             1,
             "#f0f921"
            ]
           ],
           "sequentialminus": [
            [
             0,
             "#0d0887"
            ],
            [
             0.1111111111111111,
             "#46039f"
            ],
            [
             0.2222222222222222,
             "#7201a8"
            ],
            [
             0.3333333333333333,
             "#9c179e"
            ],
            [
             0.4444444444444444,
             "#bd3786"
            ],
            [
             0.5555555555555556,
             "#d8576b"
            ],
            [
             0.6666666666666666,
             "#ed7953"
            ],
            [
             0.7777777777777778,
             "#fb9f3a"
            ],
            [
             0.8888888888888888,
             "#fdca26"
            ],
            [
             1,
             "#f0f921"
            ]
           ]
          },
          "colorway": [
           "#636efa",
           "#EF553B",
           "#00cc96",
           "#ab63fa",
           "#FFA15A",
           "#19d3f3",
           "#FF6692",
           "#B6E880",
           "#FF97FF",
           "#FECB52"
          ],
          "font": {
           "color": "#2a3f5f"
          },
          "geo": {
           "bgcolor": "white",
           "lakecolor": "white",
           "landcolor": "#E5ECF6",
           "showlakes": true,
           "showland": true,
           "subunitcolor": "white"
          },
          "hoverlabel": {
           "align": "left"
          },
          "hovermode": "closest",
          "mapbox": {
           "style": "light"
          },
          "paper_bgcolor": "white",
          "plot_bgcolor": "#E5ECF6",
          "polar": {
           "angularaxis": {
            "gridcolor": "white",
            "linecolor": "white",
            "ticks": ""
           },
           "bgcolor": "#E5ECF6",
           "radialaxis": {
            "gridcolor": "white",
            "linecolor": "white",
            "ticks": ""
           }
          },
          "scene": {
           "xaxis": {
            "backgroundcolor": "#E5ECF6",
            "gridcolor": "white",
            "gridwidth": 2,
            "linecolor": "white",
            "showbackground": true,
            "ticks": "",
            "zerolinecolor": "white"
           },
           "yaxis": {
            "backgroundcolor": "#E5ECF6",
            "gridcolor": "white",
            "gridwidth": 2,
            "linecolor": "white",
            "showbackground": true,
            "ticks": "",
            "zerolinecolor": "white"
           },
           "zaxis": {
            "backgroundcolor": "#E5ECF6",
            "gridcolor": "white",
            "gridwidth": 2,
            "linecolor": "white",
            "showbackground": true,
            "ticks": "",
            "zerolinecolor": "white"
           }
          },
          "shapedefaults": {
           "line": {
            "color": "#2a3f5f"
           }
          },
          "ternary": {
           "aaxis": {
            "gridcolor": "white",
            "linecolor": "white",
            "ticks": ""
           },
           "baxis": {
            "gridcolor": "white",
            "linecolor": "white",
            "ticks": ""
           },
           "bgcolor": "#E5ECF6",
           "caxis": {
            "gridcolor": "white",
            "linecolor": "white",
            "ticks": ""
           }
          },
          "title": {
           "x": 0.05
          },
          "xaxis": {
           "automargin": true,
           "gridcolor": "white",
           "linecolor": "white",
           "ticks": "",
           "title": {
            "standoff": 15
           },
           "zerolinecolor": "white",
           "zerolinewidth": 2
          },
          "yaxis": {
           "automargin": true,
           "gridcolor": "white",
           "linecolor": "white",
           "ticks": "",
           "title": {
            "standoff": 15
           },
           "zerolinecolor": "white",
           "zerolinewidth": 2
          }
         }
        },
        "title": {
         "font": {
          "color": "#4D5663"
         }
        },
        "xaxis": {
         "gridcolor": "#E1E5ED",
         "showgrid": true,
         "tickfont": {
          "color": "#4D5663"
         },
         "title": {
          "font": {
           "color": "#4D5663"
          },
          "text": ""
         },
         "zerolinecolor": "#E1E5ED"
        },
        "yaxis": {
         "gridcolor": "#E1E5ED",
         "showgrid": true,
         "tickfont": {
          "color": "#4D5663"
         },
         "title": {
          "font": {
           "color": "#4D5663"
          },
          "text": ""
         },
         "zerolinecolor": "#E1E5ED"
        }
       }
      },
      "text/html": [
       "<div>\n",
       "        \n",
       "        \n",
       "            <div id=\"d3b35b2b-7bc6-44d2-90f2-5d509f8c383b\" class=\"plotly-graph-div\" style=\"height:525px; width:100%;\"></div>\n",
       "            <script type=\"text/javascript\">\n",
       "                require([\"plotly\"], function(Plotly) {\n",
       "                    window.PLOTLYENV=window.PLOTLYENV || {};\n",
       "                    window.PLOTLYENV.BASE_URL='https://plot.ly';\n",
       "                    \n",
       "                if (document.getElementById(\"d3b35b2b-7bc6-44d2-90f2-5d509f8c383b\")) {\n",
       "                    Plotly.newPlot(\n",
       "                        'd3b35b2b-7bc6-44d2-90f2-5d509f8c383b',\n",
       "                        [{\"boxpoints\": false, \"line\": {\"width\": 1.3}, \"marker\": {\"color\": \"rgba(255, 153, 51, 1.0)\"}, \"name\": \"A\", \"orientation\": \"v\", \"type\": \"box\", \"y\": [-0.9734495742841736, -1.8315951967413935, 1.6139020442339822, 1.8317994231752863, -0.5703850399579571, -1.4741058750836376, 0.3556724369296695, 0.5896167900058208, -0.16588761429519788, 1.252817890189307, 0.8244913688037369, -0.8310634233310962, -1.2715301311174314, 0.8813921954359295, 0.03008326150665548, 1.796935266435818, 0.36940181717575304, -0.8813170476695465, -0.31461403362256685, -0.4468206880588594, 0.3240352703956821, -0.4174928910302742, -0.8936299905709542, -1.7730351725609956, -0.17509775157041949, 1.785575038048923, 0.8693153126170038, -0.9119334319497847, 0.06855935946590477, 0.5983975207014364, -0.3125289594386086, -1.623670806104809, -1.5420589595567573, 1.3286785347616383, -1.094158923464464, 0.21930454522962683, 0.8354226939734191, 1.1112027436645884, 0.5706132554817172, 1.5175492736710126, -0.741270592687962, 0.7179471066369602, -0.11923765585506343, -0.5190825867431396, -1.223108562573393, -0.24851600060140075, 1.1382508831643312, -0.033081660969711255, 0.5175216536790487, 0.7544486986602126, -0.6518679982601071, 2.070787774933711, 0.4426842316054046, 0.05653702034559746, -1.0053907104192161, -0.786399787410555, 0.27850043786370504, 0.3916013705575103, 0.43507671462973674, 1.3045455981258764, 1.5209664834575232, 0.5703063793983049, -0.20123025062794503, -0.04784662293665812, 0.9508747258949924, 0.10041817141614233, 0.05723625804651315, -0.04030529057318736, 0.7335235062619401, 0.8982570392990319, 1.1155809290713437, 0.8844599452843706, -0.6148252072505153, 1.1594874940128568, -1.216817774524191, -0.8890426465705751, -1.893518423950157, -0.33140872246822817, -0.26953768733587197, 0.9961753075937271, 0.03607656273618685, -0.4870399182323607, -0.7339647437901523, 0.5475059713581206, -1.1018093852788269, -1.4823859267101909, -1.6501041838493982, 0.20377009012743325, 0.1762274744366041, -0.6017592186585072, 0.3590576908726275, 0.7428489289251691, 0.48584201834020807, 0.6945617012876489, -1.1489156980425708, 0.6131057392500935, 0.17885470690537067, 0.26446508278372033, -0.10706051662167917, 0.6223017828248917]}, {\"boxpoints\": false, \"line\": {\"width\": 1.3}, \"marker\": {\"color\": \"rgba(55, 128, 191, 1.0)\"}, \"name\": \"B\", \"orientation\": \"v\", \"type\": \"box\", \"y\": [-0.5811999608120723, -0.8036697312678183, 0.3854041880109005, 0.4209603813984334, -0.4281246077274638, -0.19852210221305122, -2.054418519812087, 0.4077891217927148, -0.5945240763963975, -1.536557826592104, 0.672332698408608, 1.4028979182530195, 1.4439820744695246, 0.20886292761525518, -0.7393879162186503, -0.5368487628608516, -1.3688133482970724, 0.19474772168671534, 0.2647889831001665, -1.251547816940817, 0.48556271338398527, 0.5285982029460005, -0.6397201840797241, 0.5081278922806333, 0.2659176640020525, 2.552614374126511, -1.1493716413393977, 1.3345305675591104, 0.5974633782328114, -0.786979507572439, 0.06608038797047978, -0.8145816284732865, 1.5847483366580726, -1.1202607419391661, -1.049640524535017, -0.006903395515333687, -0.524048042000973, 0.44602741836718635, 0.20789948771212124, -1.7806121425814323, 0.0854339021506031, 0.6102089740674195, 0.9728652238276162, -1.4346181102507178, 0.4991602969072206, 1.7848098537008248, 0.47678906443316527, 0.30715039761978874, -0.08716260522525818, 0.35767698840008727, -0.11745608886652367, -1.786882759539797, 1.6238306895783923, -1.1762234413326496, -0.8428802127555798, 0.9966021977974714, 0.8373405137607192, 0.8659528776627187, 2.0692017376026457, 1.4272810302299084, -1.7892289543718998, 1.6576497596199353, -0.03281965544361487, -1.8153586870341933, -0.7179954280924857, -1.0977240279134834, -0.9259475104250532, 0.9852912806939138, -0.4840186387488574, -0.43089106542389977, 0.2911652394892015, -0.965132820164843, -0.7180607125895234, -1.0041459219518847, -0.7846987822530055, 0.12630702047120732, -0.3812210919119034, -0.3037783960675797, -0.282441006815986, 0.42824543291257966, 0.006255871853128791, 0.7851077459102427, -0.6255412712308532, -0.06663669277893636, 0.7293892078205981, 1.512249438121794, 0.05893141654083086, 0.9760093768519751, -0.28824847602835263, -0.30940127812256835, 0.537953257392704, 0.6381235440509992, 0.7727316578039034, -0.25435089513654213, -0.6790857730570136, -0.6249789946320716, 1.4731436561408768, -0.0637549971579087, -0.30502694841740013, 0.37810360901576967]}, {\"boxpoints\": false, \"line\": {\"width\": 1.3}, \"marker\": {\"color\": \"rgba(50, 171, 96, 1.0)\"}, \"name\": \"C\", \"orientation\": \"v\", \"type\": \"box\", \"y\": [0.4465946591692149, -0.16486231085411854, -0.2982897748061894, -0.23411003689093351, -1.2116097866053412, 0.8253673770836158, -1.148999781191789, 1.4793187197489317, -1.8278615001710312, 0.10793947769491719, 0.013210085189908979, 0.1915405875072082, -0.740424717839089, 0.8753765623144861, -0.5820215653049959, 0.02952435573406176, 1.3800918755008555, 0.8829600699652781, -0.7899359672227325, 1.0480987514065763, -0.661342190204746, -1.437532002146367, -0.9347259262952119, 0.2711441527009754, 0.9370994639846763, -0.8510998725071435, -0.10901940707699512, -1.5670525760540877, 2.5500612373045435, 0.25316419368897436, -0.7348893605846597, 0.1354147034953102, 0.5909033184761552, 1.8698919963948077, -1.017584445365926, 2.0664060265275794, -1.244086825630889, 0.7658621916231835, 0.562898699100837, 0.6780684477561032, -0.8802058709296295, 0.575335737009437, 1.3403402794924335, -1.006790440287403, -0.09625773583783136, -0.7372422026148387, -0.8713067597021921, -1.121267427250573, 0.014520832299060196, -0.623431807530587, -1.2030039545655682, 0.02702242494766879, -0.07319362795788485, 0.026927518795224967, 0.4545713532247032, -0.07828220808835416, 0.3057447235537578, -0.07894598635092011, 0.010818280208694245, -0.0014020639789387019, -0.7889084335136599, 0.34483105903604977, 2.4355337763902942, 1.3414174390131024, -0.9044209394970005, -0.04786040943686782, -0.5651928414422082, 1.180654787239047, 0.17497182194333832, 1.6447684917816974, 0.6204256291321893, 0.6508427104690401, -0.9716419250001527, 0.5951087500017701, 0.1661758983675416, 0.6011190061024035, -1.6825903839447376, -0.6120102985816349, -0.5488089546191786, -0.9578877517845851, -0.060102094105688175, 2.2812115930732637, 0.8029602338025977, -1.7601645850839462, -1.2672108160954711, -0.7754988415258066, 0.7700989925557424, -0.42033232131429676, -0.6092157256666687, -1.214898858131597, -0.9502243168822014, 0.830944977952104, 1.2015754737748736, 1.641226772233783, 1.43306751285687, 1.638961428726828, -0.07502882892345157, 1.329747633643722, -0.6089988187792902, -2.1507734614985874]}, {\"boxpoints\": false, \"line\": {\"width\": 1.3}, \"marker\": {\"color\": \"rgba(128, 0, 128, 1.0)\"}, \"name\": \"D\", \"orientation\": \"v\", \"type\": \"box\", \"y\": [-0.2192232435712407, 0.0283268131023829, 0.8964696723539963, -1.0283885000833466, -1.3182351327351098, -0.5277647422987509, -0.9385086936869956, 1.2061977978951748, 0.1421902406605246, 0.6184168052550945, -0.039877045490074994, -0.9752394987162321, -1.7751520163220462, -0.4722921655201741, -0.12274985283625083, -0.9274559744283062, 1.894270929614533, -2.672694771207034, 0.07997402295206053, 0.7491965681213448, -0.7152711078609697, -0.32855979832250526, -0.05323711387502112, 0.9167917248097514, -0.6179467194794326, 0.05256963946619909, -0.6312899349076002, 0.22351194814481504, -0.3067313893917002, -0.8456113471311655, 0.6211118901589805, -1.112525092466899, 0.9619251622482322, -0.26877353141176263, -0.0014630302593012106, -1.0191297589773674, -1.3672715614444393, 0.38710677050744735, -0.4899293153653744, -0.12630803511377184, 0.9815905655982257, -0.4175055812147094, 1.1260620582587195, -1.244106024305591, 1.2163029421357596, 0.7300378523525042, 0.6539537619265317, 1.2339106042088626, 0.8112364534231554, -1.2829068140569275, -0.6756773844832522, -0.7091020795886301, 0.31764685592615666, -0.4502973343925804, 1.7274832888038356, -0.11525108286821455, 0.19010588366922107, 0.797255107372613, 1.163288964252091, 1.0590557596414987, -0.7011592168034892, 1.2060006342909675, 1.0893990791408414, -1.5229207242328573, -0.3997213570588383, 2.874689786857148, 0.10611024585499639, -0.8555094032339574, 1.6096275851091222, -1.8783119998528792, 0.8640234633966536, 2.0859932005692703, 0.6702785786050622, 0.6323768743595102, -1.1055358574342864, -0.2924966496013419, 1.7759060786073706, 0.6212449630378699, 2.0118187423184657, 0.7508843587411196, -1.2002570321997699, 1.4795863669983513, -0.2598826343604322, -0.10963908013096199, 2.2077184815927877, -2.1720097869633683, 1.0987939610199553, 0.8865809203216175, 0.06022492757025151, -0.35863420685446684, -1.1832813827837794, -0.28699537868668434, -0.46883213875517077, -0.4635016862238375, -0.4017998218990491, -1.0870154401924637, -0.991984450544098, -0.152825678547246, -1.5095653176917445, 0.4563221193826911]}],\n",
       "                        {\"legend\": {\"bgcolor\": \"#F5F6F9\", \"font\": {\"color\": \"#4D5663\"}}, \"paper_bgcolor\": \"#F5F6F9\", \"plot_bgcolor\": \"#F5F6F9\", \"template\": {\"data\": {\"bar\": [{\"error_x\": {\"color\": \"#2a3f5f\"}, \"error_y\": {\"color\": \"#2a3f5f\"}, \"marker\": {\"line\": {\"color\": \"#E5ECF6\", \"width\": 0.5}}, \"type\": \"bar\"}], \"barpolar\": [{\"marker\": {\"line\": {\"color\": \"#E5ECF6\", \"width\": 0.5}}, \"type\": \"barpolar\"}], \"carpet\": [{\"aaxis\": {\"endlinecolor\": \"#2a3f5f\", \"gridcolor\": \"white\", \"linecolor\": \"white\", \"minorgridcolor\": \"white\", \"startlinecolor\": \"#2a3f5f\"}, \"baxis\": {\"endlinecolor\": \"#2a3f5f\", \"gridcolor\": \"white\", \"linecolor\": \"white\", \"minorgridcolor\": \"white\", \"startlinecolor\": \"#2a3f5f\"}, \"type\": \"carpet\"}], \"choropleth\": [{\"colorbar\": {\"outlinewidth\": 0, \"ticks\": \"\"}, \"type\": \"choropleth\"}], \"contour\": [{\"colorbar\": {\"outlinewidth\": 0, \"ticks\": \"\"}, \"colorscale\": [[0.0, \"#0d0887\"], [0.1111111111111111, \"#46039f\"], [0.2222222222222222, \"#7201a8\"], [0.3333333333333333, \"#9c179e\"], [0.4444444444444444, \"#bd3786\"], [0.5555555555555556, \"#d8576b\"], [0.6666666666666666, \"#ed7953\"], [0.7777777777777778, \"#fb9f3a\"], [0.8888888888888888, \"#fdca26\"], [1.0, \"#f0f921\"]], \"type\": \"contour\"}], \"contourcarpet\": [{\"colorbar\": {\"outlinewidth\": 0, \"ticks\": \"\"}, \"type\": \"contourcarpet\"}], \"heatmap\": [{\"colorbar\": {\"outlinewidth\": 0, \"ticks\": \"\"}, \"colorscale\": [[0.0, \"#0d0887\"], [0.1111111111111111, \"#46039f\"], [0.2222222222222222, \"#7201a8\"], [0.3333333333333333, \"#9c179e\"], [0.4444444444444444, \"#bd3786\"], [0.5555555555555556, \"#d8576b\"], [0.6666666666666666, \"#ed7953\"], [0.7777777777777778, \"#fb9f3a\"], [0.8888888888888888, \"#fdca26\"], [1.0, \"#f0f921\"]], \"type\": \"heatmap\"}], \"heatmapgl\": [{\"colorbar\": {\"outlinewidth\": 0, \"ticks\": \"\"}, \"colorscale\": [[0.0, \"#0d0887\"], [0.1111111111111111, \"#46039f\"], [0.2222222222222222, \"#7201a8\"], [0.3333333333333333, \"#9c179e\"], [0.4444444444444444, \"#bd3786\"], [0.5555555555555556, \"#d8576b\"], [0.6666666666666666, \"#ed7953\"], [0.7777777777777778, \"#fb9f3a\"], [0.8888888888888888, \"#fdca26\"], [1.0, \"#f0f921\"]], \"type\": \"heatmapgl\"}], \"histogram\": [{\"marker\": {\"colorbar\": {\"outlinewidth\": 0, \"ticks\": \"\"}}, \"type\": \"histogram\"}], \"histogram2d\": [{\"colorbar\": {\"outlinewidth\": 0, \"ticks\": \"\"}, \"colorscale\": [[0.0, \"#0d0887\"], [0.1111111111111111, \"#46039f\"], [0.2222222222222222, \"#7201a8\"], [0.3333333333333333, \"#9c179e\"], [0.4444444444444444, \"#bd3786\"], [0.5555555555555556, \"#d8576b\"], [0.6666666666666666, \"#ed7953\"], [0.7777777777777778, \"#fb9f3a\"], [0.8888888888888888, \"#fdca26\"], [1.0, \"#f0f921\"]], \"type\": \"histogram2d\"}], \"histogram2dcontour\": [{\"colorbar\": {\"outlinewidth\": 0, \"ticks\": \"\"}, \"colorscale\": [[0.0, \"#0d0887\"], [0.1111111111111111, \"#46039f\"], [0.2222222222222222, \"#7201a8\"], [0.3333333333333333, \"#9c179e\"], [0.4444444444444444, \"#bd3786\"], [0.5555555555555556, \"#d8576b\"], [0.6666666666666666, \"#ed7953\"], [0.7777777777777778, \"#fb9f3a\"], [0.8888888888888888, \"#fdca26\"], [1.0, \"#f0f921\"]], \"type\": \"histogram2dcontour\"}], \"mesh3d\": [{\"colorbar\": {\"outlinewidth\": 0, \"ticks\": \"\"}, \"type\": \"mesh3d\"}], \"parcoords\": [{\"line\": {\"colorbar\": {\"outlinewidth\": 0, \"ticks\": \"\"}}, \"type\": \"parcoords\"}], \"pie\": [{\"automargin\": true, \"type\": \"pie\"}], \"scatter\": [{\"marker\": {\"colorbar\": {\"outlinewidth\": 0, \"ticks\": \"\"}}, \"type\": \"scatter\"}], \"scatter3d\": [{\"line\": {\"colorbar\": {\"outlinewidth\": 0, \"ticks\": \"\"}}, \"marker\": {\"colorbar\": {\"outlinewidth\": 0, \"ticks\": \"\"}}, \"type\": \"scatter3d\"}], \"scattercarpet\": [{\"marker\": {\"colorbar\": {\"outlinewidth\": 0, \"ticks\": \"\"}}, \"type\": \"scattercarpet\"}], \"scattergeo\": [{\"marker\": {\"colorbar\": {\"outlinewidth\": 0, \"ticks\": \"\"}}, \"type\": \"scattergeo\"}], \"scattergl\": [{\"marker\": {\"colorbar\": {\"outlinewidth\": 0, \"ticks\": \"\"}}, \"type\": \"scattergl\"}], \"scattermapbox\": [{\"marker\": {\"colorbar\": {\"outlinewidth\": 0, \"ticks\": \"\"}}, \"type\": \"scattermapbox\"}], \"scatterpolar\": [{\"marker\": {\"colorbar\": {\"outlinewidth\": 0, \"ticks\": \"\"}}, \"type\": \"scatterpolar\"}], \"scatterpolargl\": [{\"marker\": {\"colorbar\": {\"outlinewidth\": 0, \"ticks\": \"\"}}, \"type\": \"scatterpolargl\"}], \"scatterternary\": [{\"marker\": {\"colorbar\": {\"outlinewidth\": 0, \"ticks\": \"\"}}, \"type\": \"scatterternary\"}], \"surface\": [{\"colorbar\": {\"outlinewidth\": 0, \"ticks\": \"\"}, \"colorscale\": [[0.0, \"#0d0887\"], [0.1111111111111111, \"#46039f\"], [0.2222222222222222, \"#7201a8\"], [0.3333333333333333, \"#9c179e\"], [0.4444444444444444, \"#bd3786\"], [0.5555555555555556, \"#d8576b\"], [0.6666666666666666, \"#ed7953\"], [0.7777777777777778, \"#fb9f3a\"], [0.8888888888888888, \"#fdca26\"], [1.0, \"#f0f921\"]], \"type\": \"surface\"}], \"table\": [{\"cells\": {\"fill\": {\"color\": \"#EBF0F8\"}, \"line\": {\"color\": \"white\"}}, \"header\": {\"fill\": {\"color\": \"#C8D4E3\"}, \"line\": {\"color\": \"white\"}}, \"type\": \"table\"}]}, \"layout\": {\"annotationdefaults\": {\"arrowcolor\": \"#2a3f5f\", \"arrowhead\": 0, \"arrowwidth\": 1}, \"coloraxis\": {\"colorbar\": {\"outlinewidth\": 0, \"ticks\": \"\"}}, \"colorscale\": {\"diverging\": [[0, \"#8e0152\"], [0.1, \"#c51b7d\"], [0.2, \"#de77ae\"], [0.3, \"#f1b6da\"], [0.4, \"#fde0ef\"], [0.5, \"#f7f7f7\"], [0.6, \"#e6f5d0\"], [0.7, \"#b8e186\"], [0.8, \"#7fbc41\"], [0.9, \"#4d9221\"], [1, \"#276419\"]], \"sequential\": [[0.0, \"#0d0887\"], [0.1111111111111111, \"#46039f\"], [0.2222222222222222, \"#7201a8\"], [0.3333333333333333, \"#9c179e\"], [0.4444444444444444, \"#bd3786\"], [0.5555555555555556, \"#d8576b\"], [0.6666666666666666, \"#ed7953\"], [0.7777777777777778, \"#fb9f3a\"], [0.8888888888888888, \"#fdca26\"], [1.0, \"#f0f921\"]], \"sequentialminus\": [[0.0, \"#0d0887\"], [0.1111111111111111, \"#46039f\"], [0.2222222222222222, \"#7201a8\"], [0.3333333333333333, \"#9c179e\"], [0.4444444444444444, \"#bd3786\"], [0.5555555555555556, \"#d8576b\"], [0.6666666666666666, \"#ed7953\"], [0.7777777777777778, \"#fb9f3a\"], [0.8888888888888888, \"#fdca26\"], [1.0, \"#f0f921\"]]}, \"colorway\": [\"#636efa\", \"#EF553B\", \"#00cc96\", \"#ab63fa\", \"#FFA15A\", \"#19d3f3\", \"#FF6692\", \"#B6E880\", \"#FF97FF\", \"#FECB52\"], \"font\": {\"color\": \"#2a3f5f\"}, \"geo\": {\"bgcolor\": \"white\", \"lakecolor\": \"white\", \"landcolor\": \"#E5ECF6\", \"showlakes\": true, \"showland\": true, \"subunitcolor\": \"white\"}, \"hoverlabel\": {\"align\": \"left\"}, \"hovermode\": \"closest\", \"mapbox\": {\"style\": \"light\"}, \"paper_bgcolor\": \"white\", \"plot_bgcolor\": \"#E5ECF6\", \"polar\": {\"angularaxis\": {\"gridcolor\": \"white\", \"linecolor\": \"white\", \"ticks\": \"\"}, \"bgcolor\": \"#E5ECF6\", \"radialaxis\": {\"gridcolor\": \"white\", \"linecolor\": \"white\", \"ticks\": \"\"}}, \"scene\": {\"xaxis\": {\"backgroundcolor\": \"#E5ECF6\", \"gridcolor\": \"white\", \"gridwidth\": 2, \"linecolor\": \"white\", \"showbackground\": true, \"ticks\": \"\", \"zerolinecolor\": \"white\"}, \"yaxis\": {\"backgroundcolor\": \"#E5ECF6\", \"gridcolor\": \"white\", \"gridwidth\": 2, \"linecolor\": \"white\", \"showbackground\": true, \"ticks\": \"\", \"zerolinecolor\": \"white\"}, \"zaxis\": {\"backgroundcolor\": \"#E5ECF6\", \"gridcolor\": \"white\", \"gridwidth\": 2, \"linecolor\": \"white\", \"showbackground\": true, \"ticks\": \"\", \"zerolinecolor\": \"white\"}}, \"shapedefaults\": {\"line\": {\"color\": \"#2a3f5f\"}}, \"ternary\": {\"aaxis\": {\"gridcolor\": \"white\", \"linecolor\": \"white\", \"ticks\": \"\"}, \"baxis\": {\"gridcolor\": \"white\", \"linecolor\": \"white\", \"ticks\": \"\"}, \"bgcolor\": \"#E5ECF6\", \"caxis\": {\"gridcolor\": \"white\", \"linecolor\": \"white\", \"ticks\": \"\"}}, \"title\": {\"x\": 0.05}, \"xaxis\": {\"automargin\": true, \"gridcolor\": \"white\", \"linecolor\": \"white\", \"ticks\": \"\", \"title\": {\"standoff\": 15}, \"zerolinecolor\": \"white\", \"zerolinewidth\": 2}, \"yaxis\": {\"automargin\": true, \"gridcolor\": \"white\", \"linecolor\": \"white\", \"ticks\": \"\", \"title\": {\"standoff\": 15}, \"zerolinecolor\": \"white\", \"zerolinewidth\": 2}}}, \"title\": {\"font\": {\"color\": \"#4D5663\"}}, \"xaxis\": {\"gridcolor\": \"#E1E5ED\", \"showgrid\": true, \"tickfont\": {\"color\": \"#4D5663\"}, \"title\": {\"font\": {\"color\": \"#4D5663\"}, \"text\": \"\"}, \"zerolinecolor\": \"#E1E5ED\"}, \"yaxis\": {\"gridcolor\": \"#E1E5ED\", \"showgrid\": true, \"tickfont\": {\"color\": \"#4D5663\"}, \"title\": {\"font\": {\"color\": \"#4D5663\"}, \"text\": \"\"}, \"zerolinecolor\": \"#E1E5ED\"}},\n",
       "                        {\"showLink\": true, \"linkText\": \"Export to plot.ly\", \"plotlyServerURL\": \"https://plot.ly\", \"responsive\": true}\n",
       "                    ).then(function(){\n",
       "                            \n",
       "var gd = document.getElementById('d3b35b2b-7bc6-44d2-90f2-5d509f8c383b');\n",
       "var x = new MutationObserver(function (mutations, observer) {{\n",
       "        var display = window.getComputedStyle(gd).display;\n",
       "        if (!display || display === 'none') {{\n",
       "            console.log([gd, 'removed!']);\n",
       "            Plotly.purge(gd);\n",
       "            observer.disconnect();\n",
       "        }}\n",
       "}});\n",
       "\n",
       "// Listen for the removal of the full notebook cells\n",
       "var notebookContainer = gd.closest('#notebook-container');\n",
       "if (notebookContainer) {{\n",
       "    x.observe(notebookContainer, {childList: true});\n",
       "}}\n",
       "\n",
       "// Listen for the clearing of the current output cell\n",
       "var outputEl = gd.closest('.output');\n",
       "if (outputEl) {{\n",
       "    x.observe(outputEl, {childList: true});\n",
       "}}\n",
       "\n",
       "                        })\n",
       "                };\n",
       "                });\n",
       "            </script>\n",
       "        </div>"
      ]
     },
     "metadata": {},
     "output_type": "display_data"
    }
   ],
   "source": [
    "df.iplot(kind='box')"
   ]
  },
  {
   "cell_type": "markdown",
   "metadata": {},
   "source": [
    "## Superfícies 3D"
   ]
  },
  {
   "cell_type": "code",
   "execution_count": 22,
   "metadata": {},
   "outputs": [
    {
     "data": {
      "application/vnd.plotly.v1+json": {
       "config": {
        "linkText": "Export to plot.ly",
        "plotlyServerURL": "https://plot.ly",
        "showLink": true
       },
       "data": [
        {
         "colorscale": [
          [
           0,
           "rgb(165,0,38)"
          ],
          [
           0.1,
           "rgb(215,48,39)"
          ],
          [
           0.2,
           "rgb(244,109,67)"
          ],
          [
           0.3,
           "rgb(253,174,97)"
          ],
          [
           0.4,
           "rgb(254,224,144)"
          ],
          [
           0.5,
           "rgb(255,255,191)"
          ],
          [
           0.6,
           "rgb(224,243,248)"
          ],
          [
           0.7,
           "rgb(171,217,233)"
          ],
          [
           0.8,
           "rgb(116,173,209)"
          ],
          [
           0.9,
           "rgb(69,117,180)"
          ],
          [
           1,
           "rgb(49,54,149)"
          ]
         ],
         "type": "surface",
         "x": [
          0,
          1,
          2,
          3,
          4
         ],
         "y": [
          "x",
          "y",
          "z"
         ],
         "z": [
          [
           1,
           2,
           3,
           4,
           5
          ],
          [
           10,
           20,
           30,
           20,
           10
          ],
          [
           5,
           4,
           3,
           2,
           1
          ]
         ]
        }
       ],
       "layout": {
        "legend": {
         "bgcolor": "#F5F6F9",
         "font": {
          "color": "#4D5663"
         }
        },
        "paper_bgcolor": "#F5F6F9",
        "plot_bgcolor": "#F5F6F9",
        "template": {
         "data": {
          "bar": [
           {
            "error_x": {
             "color": "#2a3f5f"
            },
            "error_y": {
             "color": "#2a3f5f"
            },
            "marker": {
             "line": {
              "color": "#E5ECF6",
              "width": 0.5
             }
            },
            "type": "bar"
           }
          ],
          "barpolar": [
           {
            "marker": {
             "line": {
              "color": "#E5ECF6",
              "width": 0.5
             }
            },
            "type": "barpolar"
           }
          ],
          "carpet": [
           {
            "aaxis": {
             "endlinecolor": "#2a3f5f",
             "gridcolor": "white",
             "linecolor": "white",
             "minorgridcolor": "white",
             "startlinecolor": "#2a3f5f"
            },
            "baxis": {
             "endlinecolor": "#2a3f5f",
             "gridcolor": "white",
             "linecolor": "white",
             "minorgridcolor": "white",
             "startlinecolor": "#2a3f5f"
            },
            "type": "carpet"
           }
          ],
          "choropleth": [
           {
            "colorbar": {
             "outlinewidth": 0,
             "ticks": ""
            },
            "type": "choropleth"
           }
          ],
          "contour": [
           {
            "colorbar": {
             "outlinewidth": 0,
             "ticks": ""
            },
            "colorscale": [
             [
              0,
              "#0d0887"
             ],
             [
              0.1111111111111111,
              "#46039f"
             ],
             [
              0.2222222222222222,
              "#7201a8"
             ],
             [
              0.3333333333333333,
              "#9c179e"
             ],
             [
              0.4444444444444444,
              "#bd3786"
             ],
             [
              0.5555555555555556,
              "#d8576b"
             ],
             [
              0.6666666666666666,
              "#ed7953"
             ],
             [
              0.7777777777777778,
              "#fb9f3a"
             ],
             [
              0.8888888888888888,
              "#fdca26"
             ],
             [
              1,
              "#f0f921"
             ]
            ],
            "type": "contour"
           }
          ],
          "contourcarpet": [
           {
            "colorbar": {
             "outlinewidth": 0,
             "ticks": ""
            },
            "type": "contourcarpet"
           }
          ],
          "heatmap": [
           {
            "colorbar": {
             "outlinewidth": 0,
             "ticks": ""
            },
            "colorscale": [
             [
              0,
              "#0d0887"
             ],
             [
              0.1111111111111111,
              "#46039f"
             ],
             [
              0.2222222222222222,
              "#7201a8"
             ],
             [
              0.3333333333333333,
              "#9c179e"
             ],
             [
              0.4444444444444444,
              "#bd3786"
             ],
             [
              0.5555555555555556,
              "#d8576b"
             ],
             [
              0.6666666666666666,
              "#ed7953"
             ],
             [
              0.7777777777777778,
              "#fb9f3a"
             ],
             [
              0.8888888888888888,
              "#fdca26"
             ],
             [
              1,
              "#f0f921"
             ]
            ],
            "type": "heatmap"
           }
          ],
          "heatmapgl": [
           {
            "colorbar": {
             "outlinewidth": 0,
             "ticks": ""
            },
            "colorscale": [
             [
              0,
              "#0d0887"
             ],
             [
              0.1111111111111111,
              "#46039f"
             ],
             [
              0.2222222222222222,
              "#7201a8"
             ],
             [
              0.3333333333333333,
              "#9c179e"
             ],
             [
              0.4444444444444444,
              "#bd3786"
             ],
             [
              0.5555555555555556,
              "#d8576b"
             ],
             [
              0.6666666666666666,
              "#ed7953"
             ],
             [
              0.7777777777777778,
              "#fb9f3a"
             ],
             [
              0.8888888888888888,
              "#fdca26"
             ],
             [
              1,
              "#f0f921"
             ]
            ],
            "type": "heatmapgl"
           }
          ],
          "histogram": [
           {
            "marker": {
             "colorbar": {
              "outlinewidth": 0,
              "ticks": ""
             }
            },
            "type": "histogram"
           }
          ],
          "histogram2d": [
           {
            "colorbar": {
             "outlinewidth": 0,
             "ticks": ""
            },
            "colorscale": [
             [
              0,
              "#0d0887"
             ],
             [
              0.1111111111111111,
              "#46039f"
             ],
             [
              0.2222222222222222,
              "#7201a8"
             ],
             [
              0.3333333333333333,
              "#9c179e"
             ],
             [
              0.4444444444444444,
              "#bd3786"
             ],
             [
              0.5555555555555556,
              "#d8576b"
             ],
             [
              0.6666666666666666,
              "#ed7953"
             ],
             [
              0.7777777777777778,
              "#fb9f3a"
             ],
             [
              0.8888888888888888,
              "#fdca26"
             ],
             [
              1,
              "#f0f921"
             ]
            ],
            "type": "histogram2d"
           }
          ],
          "histogram2dcontour": [
           {
            "colorbar": {
             "outlinewidth": 0,
             "ticks": ""
            },
            "colorscale": [
             [
              0,
              "#0d0887"
             ],
             [
              0.1111111111111111,
              "#46039f"
             ],
             [
              0.2222222222222222,
              "#7201a8"
             ],
             [
              0.3333333333333333,
              "#9c179e"
             ],
             [
              0.4444444444444444,
              "#bd3786"
             ],
             [
              0.5555555555555556,
              "#d8576b"
             ],
             [
              0.6666666666666666,
              "#ed7953"
             ],
             [
              0.7777777777777778,
              "#fb9f3a"
             ],
             [
              0.8888888888888888,
              "#fdca26"
             ],
             [
              1,
              "#f0f921"
             ]
            ],
            "type": "histogram2dcontour"
           }
          ],
          "mesh3d": [
           {
            "colorbar": {
             "outlinewidth": 0,
             "ticks": ""
            },
            "type": "mesh3d"
           }
          ],
          "parcoords": [
           {
            "line": {
             "colorbar": {
              "outlinewidth": 0,
              "ticks": ""
             }
            },
            "type": "parcoords"
           }
          ],
          "pie": [
           {
            "automargin": true,
            "type": "pie"
           }
          ],
          "scatter": [
           {
            "marker": {
             "colorbar": {
              "outlinewidth": 0,
              "ticks": ""
             }
            },
            "type": "scatter"
           }
          ],
          "scatter3d": [
           {
            "line": {
             "colorbar": {
              "outlinewidth": 0,
              "ticks": ""
             }
            },
            "marker": {
             "colorbar": {
              "outlinewidth": 0,
              "ticks": ""
             }
            },
            "type": "scatter3d"
           }
          ],
          "scattercarpet": [
           {
            "marker": {
             "colorbar": {
              "outlinewidth": 0,
              "ticks": ""
             }
            },
            "type": "scattercarpet"
           }
          ],
          "scattergeo": [
           {
            "marker": {
             "colorbar": {
              "outlinewidth": 0,
              "ticks": ""
             }
            },
            "type": "scattergeo"
           }
          ],
          "scattergl": [
           {
            "marker": {
             "colorbar": {
              "outlinewidth": 0,
              "ticks": ""
             }
            },
            "type": "scattergl"
           }
          ],
          "scattermapbox": [
           {
            "marker": {
             "colorbar": {
              "outlinewidth": 0,
              "ticks": ""
             }
            },
            "type": "scattermapbox"
           }
          ],
          "scatterpolar": [
           {
            "marker": {
             "colorbar": {
              "outlinewidth": 0,
              "ticks": ""
             }
            },
            "type": "scatterpolar"
           }
          ],
          "scatterpolargl": [
           {
            "marker": {
             "colorbar": {
              "outlinewidth": 0,
              "ticks": ""
             }
            },
            "type": "scatterpolargl"
           }
          ],
          "scatterternary": [
           {
            "marker": {
             "colorbar": {
              "outlinewidth": 0,
              "ticks": ""
             }
            },
            "type": "scatterternary"
           }
          ],
          "surface": [
           {
            "colorbar": {
             "outlinewidth": 0,
             "ticks": ""
            },
            "colorscale": [
             [
              0,
              "#0d0887"
             ],
             [
              0.1111111111111111,
              "#46039f"
             ],
             [
              0.2222222222222222,
              "#7201a8"
             ],
             [
              0.3333333333333333,
              "#9c179e"
             ],
             [
              0.4444444444444444,
              "#bd3786"
             ],
             [
              0.5555555555555556,
              "#d8576b"
             ],
             [
              0.6666666666666666,
              "#ed7953"
             ],
             [
              0.7777777777777778,
              "#fb9f3a"
             ],
             [
              0.8888888888888888,
              "#fdca26"
             ],
             [
              1,
              "#f0f921"
             ]
            ],
            "type": "surface"
           }
          ],
          "table": [
           {
            "cells": {
             "fill": {
              "color": "#EBF0F8"
             },
             "line": {
              "color": "white"
             }
            },
            "header": {
             "fill": {
              "color": "#C8D4E3"
             },
             "line": {
              "color": "white"
             }
            },
            "type": "table"
           }
          ]
         },
         "layout": {
          "annotationdefaults": {
           "arrowcolor": "#2a3f5f",
           "arrowhead": 0,
           "arrowwidth": 1
          },
          "coloraxis": {
           "colorbar": {
            "outlinewidth": 0,
            "ticks": ""
           }
          },
          "colorscale": {
           "diverging": [
            [
             0,
             "#8e0152"
            ],
            [
             0.1,
             "#c51b7d"
            ],
            [
             0.2,
             "#de77ae"
            ],
            [
             0.3,
             "#f1b6da"
            ],
            [
             0.4,
             "#fde0ef"
            ],
            [
             0.5,
             "#f7f7f7"
            ],
            [
             0.6,
             "#e6f5d0"
            ],
            [
             0.7,
             "#b8e186"
            ],
            [
             0.8,
             "#7fbc41"
            ],
            [
             0.9,
             "#4d9221"
            ],
            [
             1,
             "#276419"
            ]
           ],
           "sequential": [
            [
             0,
             "#0d0887"
            ],
            [
             0.1111111111111111,
             "#46039f"
            ],
            [
             0.2222222222222222,
             "#7201a8"
            ],
            [
             0.3333333333333333,
             "#9c179e"
            ],
            [
             0.4444444444444444,
             "#bd3786"
            ],
            [
             0.5555555555555556,
             "#d8576b"
            ],
            [
             0.6666666666666666,
             "#ed7953"
            ],
            [
             0.7777777777777778,
             "#fb9f3a"
            ],
            [
             0.8888888888888888,
             "#fdca26"
            ],
            [
             1,
             "#f0f921"
            ]
           ],
           "sequentialminus": [
            [
             0,
             "#0d0887"
            ],
            [
             0.1111111111111111,
             "#46039f"
            ],
            [
             0.2222222222222222,
             "#7201a8"
            ],
            [
             0.3333333333333333,
             "#9c179e"
            ],
            [
             0.4444444444444444,
             "#bd3786"
            ],
            [
             0.5555555555555556,
             "#d8576b"
            ],
            [
             0.6666666666666666,
             "#ed7953"
            ],
            [
             0.7777777777777778,
             "#fb9f3a"
            ],
            [
             0.8888888888888888,
             "#fdca26"
            ],
            [
             1,
             "#f0f921"
            ]
           ]
          },
          "colorway": [
           "#636efa",
           "#EF553B",
           "#00cc96",
           "#ab63fa",
           "#FFA15A",
           "#19d3f3",
           "#FF6692",
           "#B6E880",
           "#FF97FF",
           "#FECB52"
          ],
          "font": {
           "color": "#2a3f5f"
          },
          "geo": {
           "bgcolor": "white",
           "lakecolor": "white",
           "landcolor": "#E5ECF6",
           "showlakes": true,
           "showland": true,
           "subunitcolor": "white"
          },
          "hoverlabel": {
           "align": "left"
          },
          "hovermode": "closest",
          "mapbox": {
           "style": "light"
          },
          "paper_bgcolor": "white",
          "plot_bgcolor": "#E5ECF6",
          "polar": {
           "angularaxis": {
            "gridcolor": "white",
            "linecolor": "white",
            "ticks": ""
           },
           "bgcolor": "#E5ECF6",
           "radialaxis": {
            "gridcolor": "white",
            "linecolor": "white",
            "ticks": ""
           }
          },
          "scene": {
           "xaxis": {
            "backgroundcolor": "#E5ECF6",
            "gridcolor": "white",
            "gridwidth": 2,
            "linecolor": "white",
            "showbackground": true,
            "ticks": "",
            "zerolinecolor": "white"
           },
           "yaxis": {
            "backgroundcolor": "#E5ECF6",
            "gridcolor": "white",
            "gridwidth": 2,
            "linecolor": "white",
            "showbackground": true,
            "ticks": "",
            "zerolinecolor": "white"
           },
           "zaxis": {
            "backgroundcolor": "#E5ECF6",
            "gridcolor": "white",
            "gridwidth": 2,
            "linecolor": "white",
            "showbackground": true,
            "ticks": "",
            "zerolinecolor": "white"
           }
          },
          "shapedefaults": {
           "line": {
            "color": "#2a3f5f"
           }
          },
          "ternary": {
           "aaxis": {
            "gridcolor": "white",
            "linecolor": "white",
            "ticks": ""
           },
           "baxis": {
            "gridcolor": "white",
            "linecolor": "white",
            "ticks": ""
           },
           "bgcolor": "#E5ECF6",
           "caxis": {
            "gridcolor": "white",
            "linecolor": "white",
            "ticks": ""
           }
          },
          "title": {
           "x": 0.05
          },
          "xaxis": {
           "automargin": true,
           "gridcolor": "white",
           "linecolor": "white",
           "ticks": "",
           "title": {
            "standoff": 15
           },
           "zerolinecolor": "white",
           "zerolinewidth": 2
          },
          "yaxis": {
           "automargin": true,
           "gridcolor": "white",
           "linecolor": "white",
           "ticks": "",
           "title": {
            "standoff": 15
           },
           "zerolinecolor": "white",
           "zerolinewidth": 2
          }
         }
        },
        "title": {
         "font": {
          "color": "#4D5663"
         }
        },
        "xaxis": {
         "gridcolor": "#E1E5ED",
         "showgrid": true,
         "tickfont": {
          "color": "#4D5663"
         },
         "title": {
          "font": {
           "color": "#4D5663"
          },
          "text": ""
         },
         "zerolinecolor": "#E1E5ED"
        },
        "yaxis": {
         "gridcolor": "#E1E5ED",
         "showgrid": true,
         "tickfont": {
          "color": "#4D5663"
         },
         "title": {
          "font": {
           "color": "#4D5663"
          },
          "text": ""
         },
         "zerolinecolor": "#E1E5ED"
        }
       }
      },
      "text/html": [
       "<div>\n",
       "        \n",
       "        \n",
       "            <div id=\"d3793c97-ecb2-417a-8be6-3e909b08b4bb\" class=\"plotly-graph-div\" style=\"height:525px; width:100%;\"></div>\n",
       "            <script type=\"text/javascript\">\n",
       "                require([\"plotly\"], function(Plotly) {\n",
       "                    window.PLOTLYENV=window.PLOTLYENV || {};\n",
       "                    window.PLOTLYENV.BASE_URL='https://plot.ly';\n",
       "                    \n",
       "                if (document.getElementById(\"d3793c97-ecb2-417a-8be6-3e909b08b4bb\")) {\n",
       "                    Plotly.newPlot(\n",
       "                        'd3793c97-ecb2-417a-8be6-3e909b08b4bb',\n",
       "                        [{\"colorscale\": [[0.0, \"rgb(165,0,38)\"], [0.1, \"rgb(215,48,39)\"], [0.2, \"rgb(244,109,67)\"], [0.3, \"rgb(253,174,97)\"], [0.4, \"rgb(254,224,144)\"], [0.5, \"rgb(255,255,191)\"], [0.6, \"rgb(224,243,248)\"], [0.7, \"rgb(171,217,233)\"], [0.8, \"rgb(116,173,209)\"], [0.9, \"rgb(69,117,180)\"], [1.0, \"rgb(49,54,149)\"]], \"type\": \"surface\", \"x\": [0, 1, 2, 3, 4], \"y\": [\"x\", \"y\", \"z\"], \"z\": [[1, 2, 3, 4, 5], [10, 20, 30, 20, 10], [5, 4, 3, 2, 1]]}],\n",
       "                        {\"legend\": {\"bgcolor\": \"#F5F6F9\", \"font\": {\"color\": \"#4D5663\"}}, \"paper_bgcolor\": \"#F5F6F9\", \"plot_bgcolor\": \"#F5F6F9\", \"template\": {\"data\": {\"bar\": [{\"error_x\": {\"color\": \"#2a3f5f\"}, \"error_y\": {\"color\": \"#2a3f5f\"}, \"marker\": {\"line\": {\"color\": \"#E5ECF6\", \"width\": 0.5}}, \"type\": \"bar\"}], \"barpolar\": [{\"marker\": {\"line\": {\"color\": \"#E5ECF6\", \"width\": 0.5}}, \"type\": \"barpolar\"}], \"carpet\": [{\"aaxis\": {\"endlinecolor\": \"#2a3f5f\", \"gridcolor\": \"white\", \"linecolor\": \"white\", \"minorgridcolor\": \"white\", \"startlinecolor\": \"#2a3f5f\"}, \"baxis\": {\"endlinecolor\": \"#2a3f5f\", \"gridcolor\": \"white\", \"linecolor\": \"white\", \"minorgridcolor\": \"white\", \"startlinecolor\": \"#2a3f5f\"}, \"type\": \"carpet\"}], \"choropleth\": [{\"colorbar\": {\"outlinewidth\": 0, \"ticks\": \"\"}, \"type\": \"choropleth\"}], \"contour\": [{\"colorbar\": {\"outlinewidth\": 0, \"ticks\": \"\"}, \"colorscale\": [[0.0, \"#0d0887\"], [0.1111111111111111, \"#46039f\"], [0.2222222222222222, \"#7201a8\"], [0.3333333333333333, \"#9c179e\"], [0.4444444444444444, \"#bd3786\"], [0.5555555555555556, \"#d8576b\"], [0.6666666666666666, \"#ed7953\"], [0.7777777777777778, \"#fb9f3a\"], [0.8888888888888888, \"#fdca26\"], [1.0, \"#f0f921\"]], \"type\": \"contour\"}], \"contourcarpet\": [{\"colorbar\": {\"outlinewidth\": 0, \"ticks\": \"\"}, \"type\": \"contourcarpet\"}], \"heatmap\": [{\"colorbar\": {\"outlinewidth\": 0, \"ticks\": \"\"}, \"colorscale\": [[0.0, \"#0d0887\"], [0.1111111111111111, \"#46039f\"], [0.2222222222222222, \"#7201a8\"], [0.3333333333333333, \"#9c179e\"], [0.4444444444444444, \"#bd3786\"], [0.5555555555555556, \"#d8576b\"], [0.6666666666666666, \"#ed7953\"], [0.7777777777777778, \"#fb9f3a\"], [0.8888888888888888, \"#fdca26\"], [1.0, \"#f0f921\"]], \"type\": \"heatmap\"}], \"heatmapgl\": [{\"colorbar\": {\"outlinewidth\": 0, \"ticks\": \"\"}, \"colorscale\": [[0.0, \"#0d0887\"], [0.1111111111111111, \"#46039f\"], [0.2222222222222222, \"#7201a8\"], [0.3333333333333333, \"#9c179e\"], [0.4444444444444444, \"#bd3786\"], [0.5555555555555556, \"#d8576b\"], [0.6666666666666666, \"#ed7953\"], [0.7777777777777778, \"#fb9f3a\"], [0.8888888888888888, \"#fdca26\"], [1.0, \"#f0f921\"]], \"type\": \"heatmapgl\"}], \"histogram\": [{\"marker\": {\"colorbar\": {\"outlinewidth\": 0, \"ticks\": \"\"}}, \"type\": \"histogram\"}], \"histogram2d\": [{\"colorbar\": {\"outlinewidth\": 0, \"ticks\": \"\"}, \"colorscale\": [[0.0, \"#0d0887\"], [0.1111111111111111, \"#46039f\"], [0.2222222222222222, \"#7201a8\"], [0.3333333333333333, \"#9c179e\"], [0.4444444444444444, \"#bd3786\"], [0.5555555555555556, \"#d8576b\"], [0.6666666666666666, \"#ed7953\"], [0.7777777777777778, \"#fb9f3a\"], [0.8888888888888888, \"#fdca26\"], [1.0, \"#f0f921\"]], \"type\": \"histogram2d\"}], \"histogram2dcontour\": [{\"colorbar\": {\"outlinewidth\": 0, \"ticks\": \"\"}, \"colorscale\": [[0.0, \"#0d0887\"], [0.1111111111111111, \"#46039f\"], [0.2222222222222222, \"#7201a8\"], [0.3333333333333333, \"#9c179e\"], [0.4444444444444444, \"#bd3786\"], [0.5555555555555556, \"#d8576b\"], [0.6666666666666666, \"#ed7953\"], [0.7777777777777778, \"#fb9f3a\"], [0.8888888888888888, \"#fdca26\"], [1.0, \"#f0f921\"]], \"type\": \"histogram2dcontour\"}], \"mesh3d\": [{\"colorbar\": {\"outlinewidth\": 0, \"ticks\": \"\"}, \"type\": \"mesh3d\"}], \"parcoords\": [{\"line\": {\"colorbar\": {\"outlinewidth\": 0, \"ticks\": \"\"}}, \"type\": \"parcoords\"}], \"pie\": [{\"automargin\": true, \"type\": \"pie\"}], \"scatter\": [{\"marker\": {\"colorbar\": {\"outlinewidth\": 0, \"ticks\": \"\"}}, \"type\": \"scatter\"}], \"scatter3d\": [{\"line\": {\"colorbar\": {\"outlinewidth\": 0, \"ticks\": \"\"}}, \"marker\": {\"colorbar\": {\"outlinewidth\": 0, \"ticks\": \"\"}}, \"type\": \"scatter3d\"}], \"scattercarpet\": [{\"marker\": {\"colorbar\": {\"outlinewidth\": 0, \"ticks\": \"\"}}, \"type\": \"scattercarpet\"}], \"scattergeo\": [{\"marker\": {\"colorbar\": {\"outlinewidth\": 0, \"ticks\": \"\"}}, \"type\": \"scattergeo\"}], \"scattergl\": [{\"marker\": {\"colorbar\": {\"outlinewidth\": 0, \"ticks\": \"\"}}, \"type\": \"scattergl\"}], \"scattermapbox\": [{\"marker\": {\"colorbar\": {\"outlinewidth\": 0, \"ticks\": \"\"}}, \"type\": \"scattermapbox\"}], \"scatterpolar\": [{\"marker\": {\"colorbar\": {\"outlinewidth\": 0, \"ticks\": \"\"}}, \"type\": \"scatterpolar\"}], \"scatterpolargl\": [{\"marker\": {\"colorbar\": {\"outlinewidth\": 0, \"ticks\": \"\"}}, \"type\": \"scatterpolargl\"}], \"scatterternary\": [{\"marker\": {\"colorbar\": {\"outlinewidth\": 0, \"ticks\": \"\"}}, \"type\": \"scatterternary\"}], \"surface\": [{\"colorbar\": {\"outlinewidth\": 0, \"ticks\": \"\"}, \"colorscale\": [[0.0, \"#0d0887\"], [0.1111111111111111, \"#46039f\"], [0.2222222222222222, \"#7201a8\"], [0.3333333333333333, \"#9c179e\"], [0.4444444444444444, \"#bd3786\"], [0.5555555555555556, \"#d8576b\"], [0.6666666666666666, \"#ed7953\"], [0.7777777777777778, \"#fb9f3a\"], [0.8888888888888888, \"#fdca26\"], [1.0, \"#f0f921\"]], \"type\": \"surface\"}], \"table\": [{\"cells\": {\"fill\": {\"color\": \"#EBF0F8\"}, \"line\": {\"color\": \"white\"}}, \"header\": {\"fill\": {\"color\": \"#C8D4E3\"}, \"line\": {\"color\": \"white\"}}, \"type\": \"table\"}]}, \"layout\": {\"annotationdefaults\": {\"arrowcolor\": \"#2a3f5f\", \"arrowhead\": 0, \"arrowwidth\": 1}, \"coloraxis\": {\"colorbar\": {\"outlinewidth\": 0, \"ticks\": \"\"}}, \"colorscale\": {\"diverging\": [[0, \"#8e0152\"], [0.1, \"#c51b7d\"], [0.2, \"#de77ae\"], [0.3, \"#f1b6da\"], [0.4, \"#fde0ef\"], [0.5, \"#f7f7f7\"], [0.6, \"#e6f5d0\"], [0.7, \"#b8e186\"], [0.8, \"#7fbc41\"], [0.9, \"#4d9221\"], [1, \"#276419\"]], \"sequential\": [[0.0, \"#0d0887\"], [0.1111111111111111, \"#46039f\"], [0.2222222222222222, \"#7201a8\"], [0.3333333333333333, \"#9c179e\"], [0.4444444444444444, \"#bd3786\"], [0.5555555555555556, \"#d8576b\"], [0.6666666666666666, \"#ed7953\"], [0.7777777777777778, \"#fb9f3a\"], [0.8888888888888888, \"#fdca26\"], [1.0, \"#f0f921\"]], \"sequentialminus\": [[0.0, \"#0d0887\"], [0.1111111111111111, \"#46039f\"], [0.2222222222222222, \"#7201a8\"], [0.3333333333333333, \"#9c179e\"], [0.4444444444444444, \"#bd3786\"], [0.5555555555555556, \"#d8576b\"], [0.6666666666666666, \"#ed7953\"], [0.7777777777777778, \"#fb9f3a\"], [0.8888888888888888, \"#fdca26\"], [1.0, \"#f0f921\"]]}, \"colorway\": [\"#636efa\", \"#EF553B\", \"#00cc96\", \"#ab63fa\", \"#FFA15A\", \"#19d3f3\", \"#FF6692\", \"#B6E880\", \"#FF97FF\", \"#FECB52\"], \"font\": {\"color\": \"#2a3f5f\"}, \"geo\": {\"bgcolor\": \"white\", \"lakecolor\": \"white\", \"landcolor\": \"#E5ECF6\", \"showlakes\": true, \"showland\": true, \"subunitcolor\": \"white\"}, \"hoverlabel\": {\"align\": \"left\"}, \"hovermode\": \"closest\", \"mapbox\": {\"style\": \"light\"}, \"paper_bgcolor\": \"white\", \"plot_bgcolor\": \"#E5ECF6\", \"polar\": {\"angularaxis\": {\"gridcolor\": \"white\", \"linecolor\": \"white\", \"ticks\": \"\"}, \"bgcolor\": \"#E5ECF6\", \"radialaxis\": {\"gridcolor\": \"white\", \"linecolor\": \"white\", \"ticks\": \"\"}}, \"scene\": {\"xaxis\": {\"backgroundcolor\": \"#E5ECF6\", \"gridcolor\": \"white\", \"gridwidth\": 2, \"linecolor\": \"white\", \"showbackground\": true, \"ticks\": \"\", \"zerolinecolor\": \"white\"}, \"yaxis\": {\"backgroundcolor\": \"#E5ECF6\", \"gridcolor\": \"white\", \"gridwidth\": 2, \"linecolor\": \"white\", \"showbackground\": true, \"ticks\": \"\", \"zerolinecolor\": \"white\"}, \"zaxis\": {\"backgroundcolor\": \"#E5ECF6\", \"gridcolor\": \"white\", \"gridwidth\": 2, \"linecolor\": \"white\", \"showbackground\": true, \"ticks\": \"\", \"zerolinecolor\": \"white\"}}, \"shapedefaults\": {\"line\": {\"color\": \"#2a3f5f\"}}, \"ternary\": {\"aaxis\": {\"gridcolor\": \"white\", \"linecolor\": \"white\", \"ticks\": \"\"}, \"baxis\": {\"gridcolor\": \"white\", \"linecolor\": \"white\", \"ticks\": \"\"}, \"bgcolor\": \"#E5ECF6\", \"caxis\": {\"gridcolor\": \"white\", \"linecolor\": \"white\", \"ticks\": \"\"}}, \"title\": {\"x\": 0.05}, \"xaxis\": {\"automargin\": true, \"gridcolor\": \"white\", \"linecolor\": \"white\", \"ticks\": \"\", \"title\": {\"standoff\": 15}, \"zerolinecolor\": \"white\", \"zerolinewidth\": 2}, \"yaxis\": {\"automargin\": true, \"gridcolor\": \"white\", \"linecolor\": \"white\", \"ticks\": \"\", \"title\": {\"standoff\": 15}, \"zerolinecolor\": \"white\", \"zerolinewidth\": 2}}}, \"title\": {\"font\": {\"color\": \"#4D5663\"}}, \"xaxis\": {\"gridcolor\": \"#E1E5ED\", \"showgrid\": true, \"tickfont\": {\"color\": \"#4D5663\"}, \"title\": {\"font\": {\"color\": \"#4D5663\"}, \"text\": \"\"}, \"zerolinecolor\": \"#E1E5ED\"}, \"yaxis\": {\"gridcolor\": \"#E1E5ED\", \"showgrid\": true, \"tickfont\": {\"color\": \"#4D5663\"}, \"title\": {\"font\": {\"color\": \"#4D5663\"}, \"text\": \"\"}, \"zerolinecolor\": \"#E1E5ED\"}},\n",
       "                        {\"showLink\": true, \"linkText\": \"Export to plot.ly\", \"plotlyServerURL\": \"https://plot.ly\", \"responsive\": true}\n",
       "                    ).then(function(){\n",
       "                            \n",
       "var gd = document.getElementById('d3793c97-ecb2-417a-8be6-3e909b08b4bb');\n",
       "var x = new MutationObserver(function (mutations, observer) {{\n",
       "        var display = window.getComputedStyle(gd).display;\n",
       "        if (!display || display === 'none') {{\n",
       "            console.log([gd, 'removed!']);\n",
       "            Plotly.purge(gd);\n",
       "            observer.disconnect();\n",
       "        }}\n",
       "}});\n",
       "\n",
       "// Listen for the removal of the full notebook cells\n",
       "var notebookContainer = gd.closest('#notebook-container');\n",
       "if (notebookContainer) {{\n",
       "    x.observe(notebookContainer, {childList: true});\n",
       "}}\n",
       "\n",
       "// Listen for the clearing of the current output cell\n",
       "var outputEl = gd.closest('.output');\n",
       "if (outputEl) {{\n",
       "    x.observe(outputEl, {childList: true});\n",
       "}}\n",
       "\n",
       "                        })\n",
       "                };\n",
       "                });\n",
       "            </script>\n",
       "        </div>"
      ]
     },
     "metadata": {},
     "output_type": "display_data"
    }
   ],
   "source": [
    "df3 = pd.DataFrame({'x':[1,2,3,4,5],'y':[10,20,30,20,10],'z':[5,4,3,2,1]})\n",
    "df3.iplot(kind='surface',colorscale='rdylbu')"
   ]
  },
  {
   "cell_type": "markdown",
   "metadata": {},
   "source": [
    "## Spread"
   ]
  },
  {
   "cell_type": "code",
   "execution_count": 23,
   "metadata": {},
   "outputs": [
    {
     "data": {
      "application/vnd.plotly.v1+json": {
       "config": {
        "linkText": "Export to plot.ly",
        "plotlyServerURL": "https://plot.ly",
        "showLink": true
       },
       "data": [
        {
         "line": {
          "color": "rgba(255, 153, 51, 1.0)",
          "dash": "solid",
          "shape": "linear",
          "width": 1.3
         },
         "mode": "lines",
         "name": "A",
         "text": "",
         "type": "scatter",
         "x": [
          0,
          1,
          2,
          3,
          4,
          5,
          6,
          7,
          8,
          9,
          10,
          11,
          12,
          13,
          14,
          15,
          16,
          17,
          18,
          19,
          20,
          21,
          22,
          23,
          24,
          25,
          26,
          27,
          28,
          29,
          30,
          31,
          32,
          33,
          34,
          35,
          36,
          37,
          38,
          39,
          40,
          41,
          42,
          43,
          44,
          45,
          46,
          47,
          48,
          49,
          50,
          51,
          52,
          53,
          54,
          55,
          56,
          57,
          58,
          59,
          60,
          61,
          62,
          63,
          64,
          65,
          66,
          67,
          68,
          69,
          70,
          71,
          72,
          73,
          74,
          75,
          76,
          77,
          78,
          79,
          80,
          81,
          82,
          83,
          84,
          85,
          86,
          87,
          88,
          89,
          90,
          91,
          92,
          93,
          94,
          95,
          96,
          97,
          98,
          99
         ],
         "y": [
          -0.9734495742841736,
          -1.8315951967413935,
          1.6139020442339822,
          1.8317994231752863,
          -0.5703850399579571,
          -1.4741058750836376,
          0.3556724369296695,
          0.5896167900058208,
          -0.16588761429519788,
          1.252817890189307,
          0.8244913688037369,
          -0.8310634233310962,
          -1.2715301311174314,
          0.8813921954359295,
          0.03008326150665548,
          1.796935266435818,
          0.36940181717575304,
          -0.8813170476695465,
          -0.31461403362256685,
          -0.4468206880588594,
          0.3240352703956821,
          -0.4174928910302742,
          -0.8936299905709542,
          -1.7730351725609956,
          -0.17509775157041949,
          1.785575038048923,
          0.8693153126170038,
          -0.9119334319497847,
          0.06855935946590477,
          0.5983975207014364,
          -0.3125289594386086,
          -1.623670806104809,
          -1.5420589595567573,
          1.3286785347616383,
          -1.094158923464464,
          0.21930454522962683,
          0.8354226939734191,
          1.1112027436645884,
          0.5706132554817172,
          1.5175492736710126,
          -0.741270592687962,
          0.7179471066369602,
          -0.11923765585506343,
          -0.5190825867431396,
          -1.223108562573393,
          -0.24851600060140075,
          1.1382508831643312,
          -0.033081660969711255,
          0.5175216536790487,
          0.7544486986602126,
          -0.6518679982601071,
          2.070787774933711,
          0.4426842316054046,
          0.05653702034559746,
          -1.0053907104192161,
          -0.786399787410555,
          0.27850043786370504,
          0.3916013705575103,
          0.43507671462973674,
          1.3045455981258764,
          1.5209664834575232,
          0.5703063793983049,
          -0.20123025062794503,
          -0.04784662293665812,
          0.9508747258949924,
          0.10041817141614233,
          0.05723625804651315,
          -0.04030529057318736,
          0.7335235062619401,
          0.8982570392990319,
          1.1155809290713437,
          0.8844599452843706,
          -0.6148252072505153,
          1.1594874940128568,
          -1.216817774524191,
          -0.8890426465705751,
          -1.893518423950157,
          -0.33140872246822817,
          -0.26953768733587197,
          0.9961753075937271,
          0.03607656273618685,
          -0.4870399182323607,
          -0.7339647437901523,
          0.5475059713581206,
          -1.1018093852788269,
          -1.4823859267101909,
          -1.6501041838493982,
          0.20377009012743325,
          0.1762274744366041,
          -0.6017592186585072,
          0.3590576908726275,
          0.7428489289251691,
          0.48584201834020807,
          0.6945617012876489,
          -1.1489156980425708,
          0.6131057392500935,
          0.17885470690537067,
          0.26446508278372033,
          -0.10706051662167917,
          0.6223017828248917
         ]
        },
        {
         "line": {
          "color": "rgba(55, 128, 191, 1.0)",
          "dash": "solid",
          "shape": "linear",
          "width": 1.3
         },
         "mode": "lines",
         "name": "B",
         "text": "",
         "type": "scatter",
         "x": [
          0,
          1,
          2,
          3,
          4,
          5,
          6,
          7,
          8,
          9,
          10,
          11,
          12,
          13,
          14,
          15,
          16,
          17,
          18,
          19,
          20,
          21,
          22,
          23,
          24,
          25,
          26,
          27,
          28,
          29,
          30,
          31,
          32,
          33,
          34,
          35,
          36,
          37,
          38,
          39,
          40,
          41,
          42,
          43,
          44,
          45,
          46,
          47,
          48,
          49,
          50,
          51,
          52,
          53,
          54,
          55,
          56,
          57,
          58,
          59,
          60,
          61,
          62,
          63,
          64,
          65,
          66,
          67,
          68,
          69,
          70,
          71,
          72,
          73,
          74,
          75,
          76,
          77,
          78,
          79,
          80,
          81,
          82,
          83,
          84,
          85,
          86,
          87,
          88,
          89,
          90,
          91,
          92,
          93,
          94,
          95,
          96,
          97,
          98,
          99
         ],
         "y": [
          -0.5811999608120723,
          -0.8036697312678183,
          0.3854041880109005,
          0.4209603813984334,
          -0.4281246077274638,
          -0.19852210221305122,
          -2.054418519812087,
          0.4077891217927148,
          -0.5945240763963975,
          -1.536557826592104,
          0.672332698408608,
          1.4028979182530195,
          1.4439820744695246,
          0.20886292761525518,
          -0.7393879162186503,
          -0.5368487628608516,
          -1.3688133482970724,
          0.19474772168671534,
          0.2647889831001665,
          -1.251547816940817,
          0.48556271338398527,
          0.5285982029460005,
          -0.6397201840797241,
          0.5081278922806333,
          0.2659176640020525,
          2.552614374126511,
          -1.1493716413393977,
          1.3345305675591104,
          0.5974633782328114,
          -0.786979507572439,
          0.06608038797047978,
          -0.8145816284732865,
          1.5847483366580726,
          -1.1202607419391661,
          -1.049640524535017,
          -0.006903395515333687,
          -0.524048042000973,
          0.44602741836718635,
          0.20789948771212124,
          -1.7806121425814323,
          0.0854339021506031,
          0.6102089740674195,
          0.9728652238276162,
          -1.4346181102507178,
          0.4991602969072206,
          1.7848098537008248,
          0.47678906443316527,
          0.30715039761978874,
          -0.08716260522525818,
          0.35767698840008727,
          -0.11745608886652367,
          -1.786882759539797,
          1.6238306895783923,
          -1.1762234413326496,
          -0.8428802127555798,
          0.9966021977974714,
          0.8373405137607192,
          0.8659528776627187,
          2.0692017376026457,
          1.4272810302299084,
          -1.7892289543718998,
          1.6576497596199353,
          -0.03281965544361487,
          -1.8153586870341933,
          -0.7179954280924857,
          -1.0977240279134834,
          -0.9259475104250532,
          0.9852912806939138,
          -0.4840186387488574,
          -0.43089106542389977,
          0.2911652394892015,
          -0.965132820164843,
          -0.7180607125895234,
          -1.0041459219518847,
          -0.7846987822530055,
          0.12630702047120732,
          -0.3812210919119034,
          -0.3037783960675797,
          -0.282441006815986,
          0.42824543291257966,
          0.006255871853128791,
          0.7851077459102427,
          -0.6255412712308532,
          -0.06663669277893636,
          0.7293892078205981,
          1.512249438121794,
          0.05893141654083086,
          0.9760093768519751,
          -0.28824847602835263,
          -0.30940127812256835,
          0.537953257392704,
          0.6381235440509992,
          0.7727316578039034,
          -0.25435089513654213,
          -0.6790857730570136,
          -0.6249789946320716,
          1.4731436561408768,
          -0.0637549971579087,
          -0.30502694841740013,
          0.37810360901576967
         ]
        },
        {
         "connectgaps": false,
         "fill": "tozeroy",
         "line": {
          "color": "green",
          "dash": "solid",
          "shape": "linear",
          "width": 0.5
         },
         "mode": "lines",
         "name": "Spread",
         "showlegend": false,
         "type": "scatter",
         "x": [
          0,
          1,
          2,
          3,
          4,
          5,
          6,
          7,
          8,
          9,
          10,
          11,
          12,
          13,
          14,
          15,
          16,
          17,
          18,
          19,
          20,
          21,
          22,
          23,
          24,
          25,
          26,
          27,
          28,
          29,
          30,
          31,
          32,
          33,
          34,
          35,
          36,
          37,
          38,
          39,
          40,
          41,
          42,
          43,
          44,
          45,
          46,
          47,
          48,
          49,
          50,
          51,
          52,
          53,
          54,
          55,
          56,
          57,
          58,
          59,
          60,
          61,
          62,
          63,
          64,
          65,
          66,
          67,
          68,
          69,
          70,
          71,
          72,
          73,
          74,
          75,
          76,
          77,
          78,
          79,
          80,
          81,
          82,
          83,
          84,
          85,
          86,
          87,
          88,
          89,
          90,
          91,
          92,
          93,
          94,
          95,
          96,
          97,
          98,
          99
         ],
         "xaxis": "x2",
         "y": [
          "",
          "",
          1.2284978562230817,
          1.4108390417768528,
          "",
          "",
          2.4100909567417563,
          0.18182766821310598,
          0.4286364621011996,
          2.789375716781411,
          0.15215867039512887,
          "",
          "",
          0.6725292678206743,
          0.7694711777253058,
          2.3337840292966696,
          1.7382151654728255,
          "",
          "",
          0.8047271288819575,
          "",
          "",
          "",
          "",
          "",
          "",
          2.0186869539564016,
          "",
          "",
          1.3853770282738753,
          "",
          "",
          "",
          2.4489392767008047,
          "",
          0.22620794074496053,
          1.359470735974392,
          0.665175325297402,
          0.3627137677695959,
          3.298161416252445,
          "",
          0.10773813256954068,
          "",
          0.9155355235075783,
          "",
          "",
          0.6614618187311659,
          "",
          0.6046842589043069,
          0.3967717102601253,
          "",
          3.857670534473508,
          "",
          1.232760461678247,
          "",
          "",
          "",
          "",
          "",
          "",
          3.3101954378294227,
          "",
          "",
          1.7675120640975353,
          1.6688701539874782,
          1.1981421993296257,
          0.9831837684715663,
          "",
          1.2175421450107975,
          1.3291481047229317,
          0.8244156895821422,
          1.8495927654492137,
          0.10323550533900816,
          2.1636334159647417,
          "",
          "",
          "",
          "",
          0.012903319480114028,
          0.5679298746811474,
          0.029820690883058054,
          "",
          "",
          0.614142664137057,
          "",
          "",
          "",
          "",
          0.4644759504649567,
          "",
          "",
          0.10472538487416982,
          "",
          0.9489125964241911,
          "",
          1.238084733882165,
          "",
          0.32822007994162905,
          0.19796643179572096,
          0.244198173809122
         ],
         "yaxis": "y2"
        },
        {
         "connectgaps": false,
         "fill": "tozeroy",
         "line": {
          "color": "red",
          "dash": "solid",
          "shape": "linear",
          "width": 0.5
         },
         "mode": "lines",
         "name": "Spread",
         "showlegend": false,
         "type": "scatter",
         "x": [
          0,
          1,
          2,
          3,
          4,
          5,
          6,
          7,
          8,
          9,
          10,
          11,
          12,
          13,
          14,
          15,
          16,
          17,
          18,
          19,
          20,
          21,
          22,
          23,
          24,
          25,
          26,
          27,
          28,
          29,
          30,
          31,
          32,
          33,
          34,
          35,
          36,
          37,
          38,
          39,
          40,
          41,
          42,
          43,
          44,
          45,
          46,
          47,
          48,
          49,
          50,
          51,
          52,
          53,
          54,
          55,
          56,
          57,
          58,
          59,
          60,
          61,
          62,
          63,
          64,
          65,
          66,
          67,
          68,
          69,
          70,
          71,
          72,
          73,
          74,
          75,
          76,
          77,
          78,
          79,
          80,
          81,
          82,
          83,
          84,
          85,
          86,
          87,
          88,
          89,
          90,
          91,
          92,
          93,
          94,
          95,
          96,
          97,
          98,
          99
         ],
         "xaxis": "x2",
         "y": [
          -0.3922496134721013,
          -1.0279254654735752,
          "",
          "",
          -0.14226043223049328,
          -1.2755837728705863,
          "",
          "",
          "",
          "",
          "",
          -2.2339613415841155,
          -2.715512205586956,
          "",
          "",
          "",
          "",
          -1.076064769356262,
          -0.5794030167227333,
          "",
          -0.16152744298830318,
          -0.9460910939762747,
          -0.2539098064912301,
          -2.281163064841629,
          -0.44101541557247204,
          -0.7670393360775878,
          "",
          -2.246463999508895,
          -0.5289040187669066,
          "",
          -0.37860934740908836,
          -0.8090891776315225,
          -3.12680729621483,
          "",
          -0.04451839892944687,
          "",
          "",
          "",
          "",
          "",
          -0.8267044948385651,
          "",
          -1.0921028796826797,
          "",
          -1.7222688594806137,
          -2.0333258543022255,
          "",
          -0.3402320585895,
          "",
          "",
          -0.5344119093935834,
          "",
          -1.1811464579729876,
          "",
          -0.16251049766363634,
          -1.7830019852080263,
          -0.5588400758970141,
          -0.47435150710520835,
          -1.634125022972909,
          -0.12273543210403193,
          "",
          -1.0873433802216304,
          -0.16841059518433016,
          "",
          "",
          "",
          "",
          -1.0255965712671011,
          "",
          "",
          "",
          "",
          "",
          "",
          -0.43211899227118555,
          -1.0153496670417823,
          -1.5122973320382536,
          -0.02763032640064844,
          "",
          "",
          "",
          -1.2721476641426035,
          -0.10842347255929907,
          "",
          -1.831198593099425,
          -2.994635364831985,
          -1.709035600390229,
          -0.7722392867245418,
          "",
          -0.2923579405359389,
          -0.17889556652007654,
          "",
          -0.28688963946369533,
          "",
          -0.4698299249855572,
          "",
          -1.294288949235506,
          "",
          "",
          ""
         ],
         "yaxis": "y2"
        }
       ],
       "layout": {
        "hovermode": "x",
        "legend": {
         "bgcolor": "#F5F6F9",
         "font": {
          "color": "#4D5663"
         }
        },
        "paper_bgcolor": "#F5F6F9",
        "plot_bgcolor": "#F5F6F9",
        "template": {
         "data": {
          "bar": [
           {
            "error_x": {
             "color": "#2a3f5f"
            },
            "error_y": {
             "color": "#2a3f5f"
            },
            "marker": {
             "line": {
              "color": "#E5ECF6",
              "width": 0.5
             }
            },
            "type": "bar"
           }
          ],
          "barpolar": [
           {
            "marker": {
             "line": {
              "color": "#E5ECF6",
              "width": 0.5
             }
            },
            "type": "barpolar"
           }
          ],
          "carpet": [
           {
            "aaxis": {
             "endlinecolor": "#2a3f5f",
             "gridcolor": "white",
             "linecolor": "white",
             "minorgridcolor": "white",
             "startlinecolor": "#2a3f5f"
            },
            "baxis": {
             "endlinecolor": "#2a3f5f",
             "gridcolor": "white",
             "linecolor": "white",
             "minorgridcolor": "white",
             "startlinecolor": "#2a3f5f"
            },
            "type": "carpet"
           }
          ],
          "choropleth": [
           {
            "colorbar": {
             "outlinewidth": 0,
             "ticks": ""
            },
            "type": "choropleth"
           }
          ],
          "contour": [
           {
            "colorbar": {
             "outlinewidth": 0,
             "ticks": ""
            },
            "colorscale": [
             [
              0,
              "#0d0887"
             ],
             [
              0.1111111111111111,
              "#46039f"
             ],
             [
              0.2222222222222222,
              "#7201a8"
             ],
             [
              0.3333333333333333,
              "#9c179e"
             ],
             [
              0.4444444444444444,
              "#bd3786"
             ],
             [
              0.5555555555555556,
              "#d8576b"
             ],
             [
              0.6666666666666666,
              "#ed7953"
             ],
             [
              0.7777777777777778,
              "#fb9f3a"
             ],
             [
              0.8888888888888888,
              "#fdca26"
             ],
             [
              1,
              "#f0f921"
             ]
            ],
            "type": "contour"
           }
          ],
          "contourcarpet": [
           {
            "colorbar": {
             "outlinewidth": 0,
             "ticks": ""
            },
            "type": "contourcarpet"
           }
          ],
          "heatmap": [
           {
            "colorbar": {
             "outlinewidth": 0,
             "ticks": ""
            },
            "colorscale": [
             [
              0,
              "#0d0887"
             ],
             [
              0.1111111111111111,
              "#46039f"
             ],
             [
              0.2222222222222222,
              "#7201a8"
             ],
             [
              0.3333333333333333,
              "#9c179e"
             ],
             [
              0.4444444444444444,
              "#bd3786"
             ],
             [
              0.5555555555555556,
              "#d8576b"
             ],
             [
              0.6666666666666666,
              "#ed7953"
             ],
             [
              0.7777777777777778,
              "#fb9f3a"
             ],
             [
              0.8888888888888888,
              "#fdca26"
             ],
             [
              1,
              "#f0f921"
             ]
            ],
            "type": "heatmap"
           }
          ],
          "heatmapgl": [
           {
            "colorbar": {
             "outlinewidth": 0,
             "ticks": ""
            },
            "colorscale": [
             [
              0,
              "#0d0887"
             ],
             [
              0.1111111111111111,
              "#46039f"
             ],
             [
              0.2222222222222222,
              "#7201a8"
             ],
             [
              0.3333333333333333,
              "#9c179e"
             ],
             [
              0.4444444444444444,
              "#bd3786"
             ],
             [
              0.5555555555555556,
              "#d8576b"
             ],
             [
              0.6666666666666666,
              "#ed7953"
             ],
             [
              0.7777777777777778,
              "#fb9f3a"
             ],
             [
              0.8888888888888888,
              "#fdca26"
             ],
             [
              1,
              "#f0f921"
             ]
            ],
            "type": "heatmapgl"
           }
          ],
          "histogram": [
           {
            "marker": {
             "colorbar": {
              "outlinewidth": 0,
              "ticks": ""
             }
            },
            "type": "histogram"
           }
          ],
          "histogram2d": [
           {
            "colorbar": {
             "outlinewidth": 0,
             "ticks": ""
            },
            "colorscale": [
             [
              0,
              "#0d0887"
             ],
             [
              0.1111111111111111,
              "#46039f"
             ],
             [
              0.2222222222222222,
              "#7201a8"
             ],
             [
              0.3333333333333333,
              "#9c179e"
             ],
             [
              0.4444444444444444,
              "#bd3786"
             ],
             [
              0.5555555555555556,
              "#d8576b"
             ],
             [
              0.6666666666666666,
              "#ed7953"
             ],
             [
              0.7777777777777778,
              "#fb9f3a"
             ],
             [
              0.8888888888888888,
              "#fdca26"
             ],
             [
              1,
              "#f0f921"
             ]
            ],
            "type": "histogram2d"
           }
          ],
          "histogram2dcontour": [
           {
            "colorbar": {
             "outlinewidth": 0,
             "ticks": ""
            },
            "colorscale": [
             [
              0,
              "#0d0887"
             ],
             [
              0.1111111111111111,
              "#46039f"
             ],
             [
              0.2222222222222222,
              "#7201a8"
             ],
             [
              0.3333333333333333,
              "#9c179e"
             ],
             [
              0.4444444444444444,
              "#bd3786"
             ],
             [
              0.5555555555555556,
              "#d8576b"
             ],
             [
              0.6666666666666666,
              "#ed7953"
             ],
             [
              0.7777777777777778,
              "#fb9f3a"
             ],
             [
              0.8888888888888888,
              "#fdca26"
             ],
             [
              1,
              "#f0f921"
             ]
            ],
            "type": "histogram2dcontour"
           }
          ],
          "mesh3d": [
           {
            "colorbar": {
             "outlinewidth": 0,
             "ticks": ""
            },
            "type": "mesh3d"
           }
          ],
          "parcoords": [
           {
            "line": {
             "colorbar": {
              "outlinewidth": 0,
              "ticks": ""
             }
            },
            "type": "parcoords"
           }
          ],
          "pie": [
           {
            "automargin": true,
            "type": "pie"
           }
          ],
          "scatter": [
           {
            "marker": {
             "colorbar": {
              "outlinewidth": 0,
              "ticks": ""
             }
            },
            "type": "scatter"
           }
          ],
          "scatter3d": [
           {
            "line": {
             "colorbar": {
              "outlinewidth": 0,
              "ticks": ""
             }
            },
            "marker": {
             "colorbar": {
              "outlinewidth": 0,
              "ticks": ""
             }
            },
            "type": "scatter3d"
           }
          ],
          "scattercarpet": [
           {
            "marker": {
             "colorbar": {
              "outlinewidth": 0,
              "ticks": ""
             }
            },
            "type": "scattercarpet"
           }
          ],
          "scattergeo": [
           {
            "marker": {
             "colorbar": {
              "outlinewidth": 0,
              "ticks": ""
             }
            },
            "type": "scattergeo"
           }
          ],
          "scattergl": [
           {
            "marker": {
             "colorbar": {
              "outlinewidth": 0,
              "ticks": ""
             }
            },
            "type": "scattergl"
           }
          ],
          "scattermapbox": [
           {
            "marker": {
             "colorbar": {
              "outlinewidth": 0,
              "ticks": ""
             }
            },
            "type": "scattermapbox"
           }
          ],
          "scatterpolar": [
           {
            "marker": {
             "colorbar": {
              "outlinewidth": 0,
              "ticks": ""
             }
            },
            "type": "scatterpolar"
           }
          ],
          "scatterpolargl": [
           {
            "marker": {
             "colorbar": {
              "outlinewidth": 0,
              "ticks": ""
             }
            },
            "type": "scatterpolargl"
           }
          ],
          "scatterternary": [
           {
            "marker": {
             "colorbar": {
              "outlinewidth": 0,
              "ticks": ""
             }
            },
            "type": "scatterternary"
           }
          ],
          "surface": [
           {
            "colorbar": {
             "outlinewidth": 0,
             "ticks": ""
            },
            "colorscale": [
             [
              0,
              "#0d0887"
             ],
             [
              0.1111111111111111,
              "#46039f"
             ],
             [
              0.2222222222222222,
              "#7201a8"
             ],
             [
              0.3333333333333333,
              "#9c179e"
             ],
             [
              0.4444444444444444,
              "#bd3786"
             ],
             [
              0.5555555555555556,
              "#d8576b"
             ],
             [
              0.6666666666666666,
              "#ed7953"
             ],
             [
              0.7777777777777778,
              "#fb9f3a"
             ],
             [
              0.8888888888888888,
              "#fdca26"
             ],
             [
              1,
              "#f0f921"
             ]
            ],
            "type": "surface"
           }
          ],
          "table": [
           {
            "cells": {
             "fill": {
              "color": "#EBF0F8"
             },
             "line": {
              "color": "white"
             }
            },
            "header": {
             "fill": {
              "color": "#C8D4E3"
             },
             "line": {
              "color": "white"
             }
            },
            "type": "table"
           }
          ]
         },
         "layout": {
          "annotationdefaults": {
           "arrowcolor": "#2a3f5f",
           "arrowhead": 0,
           "arrowwidth": 1
          },
          "coloraxis": {
           "colorbar": {
            "outlinewidth": 0,
            "ticks": ""
           }
          },
          "colorscale": {
           "diverging": [
            [
             0,
             "#8e0152"
            ],
            [
             0.1,
             "#c51b7d"
            ],
            [
             0.2,
             "#de77ae"
            ],
            [
             0.3,
             "#f1b6da"
            ],
            [
             0.4,
             "#fde0ef"
            ],
            [
             0.5,
             "#f7f7f7"
            ],
            [
             0.6,
             "#e6f5d0"
            ],
            [
             0.7,
             "#b8e186"
            ],
            [
             0.8,
             "#7fbc41"
            ],
            [
             0.9,
             "#4d9221"
            ],
            [
             1,
             "#276419"
            ]
           ],
           "sequential": [
            [
             0,
             "#0d0887"
            ],
            [
             0.1111111111111111,
             "#46039f"
            ],
            [
             0.2222222222222222,
             "#7201a8"
            ],
            [
             0.3333333333333333,
             "#9c179e"
            ],
            [
             0.4444444444444444,
             "#bd3786"
            ],
            [
             0.5555555555555556,
             "#d8576b"
            ],
            [
             0.6666666666666666,
             "#ed7953"
            ],
            [
             0.7777777777777778,
             "#fb9f3a"
            ],
            [
             0.8888888888888888,
             "#fdca26"
            ],
            [
             1,
             "#f0f921"
            ]
           ],
           "sequentialminus": [
            [
             0,
             "#0d0887"
            ],
            [
             0.1111111111111111,
             "#46039f"
            ],
            [
             0.2222222222222222,
             "#7201a8"
            ],
            [
             0.3333333333333333,
             "#9c179e"
            ],
            [
             0.4444444444444444,
             "#bd3786"
            ],
            [
             0.5555555555555556,
             "#d8576b"
            ],
            [
             0.6666666666666666,
             "#ed7953"
            ],
            [
             0.7777777777777778,
             "#fb9f3a"
            ],
            [
             0.8888888888888888,
             "#fdca26"
            ],
            [
             1,
             "#f0f921"
            ]
           ]
          },
          "colorway": [
           "#636efa",
           "#EF553B",
           "#00cc96",
           "#ab63fa",
           "#FFA15A",
           "#19d3f3",
           "#FF6692",
           "#B6E880",
           "#FF97FF",
           "#FECB52"
          ],
          "font": {
           "color": "#2a3f5f"
          },
          "geo": {
           "bgcolor": "white",
           "lakecolor": "white",
           "landcolor": "#E5ECF6",
           "showlakes": true,
           "showland": true,
           "subunitcolor": "white"
          },
          "hoverlabel": {
           "align": "left"
          },
          "hovermode": "closest",
          "mapbox": {
           "style": "light"
          },
          "paper_bgcolor": "white",
          "plot_bgcolor": "#E5ECF6",
          "polar": {
           "angularaxis": {
            "gridcolor": "white",
            "linecolor": "white",
            "ticks": ""
           },
           "bgcolor": "#E5ECF6",
           "radialaxis": {
            "gridcolor": "white",
            "linecolor": "white",
            "ticks": ""
           }
          },
          "scene": {
           "xaxis": {
            "backgroundcolor": "#E5ECF6",
            "gridcolor": "white",
            "gridwidth": 2,
            "linecolor": "white",
            "showbackground": true,
            "ticks": "",
            "zerolinecolor": "white"
           },
           "yaxis": {
            "backgroundcolor": "#E5ECF6",
            "gridcolor": "white",
            "gridwidth": 2,
            "linecolor": "white",
            "showbackground": true,
            "ticks": "",
            "zerolinecolor": "white"
           },
           "zaxis": {
            "backgroundcolor": "#E5ECF6",
            "gridcolor": "white",
            "gridwidth": 2,
            "linecolor": "white",
            "showbackground": true,
            "ticks": "",
            "zerolinecolor": "white"
           }
          },
          "shapedefaults": {
           "line": {
            "color": "#2a3f5f"
           }
          },
          "ternary": {
           "aaxis": {
            "gridcolor": "white",
            "linecolor": "white",
            "ticks": ""
           },
           "baxis": {
            "gridcolor": "white",
            "linecolor": "white",
            "ticks": ""
           },
           "bgcolor": "#E5ECF6",
           "caxis": {
            "gridcolor": "white",
            "linecolor": "white",
            "ticks": ""
           }
          },
          "title": {
           "x": 0.05
          },
          "xaxis": {
           "automargin": true,
           "gridcolor": "white",
           "linecolor": "white",
           "ticks": "",
           "title": {
            "standoff": 15
           },
           "zerolinecolor": "white",
           "zerolinewidth": 2
          },
          "yaxis": {
           "automargin": true,
           "gridcolor": "white",
           "linecolor": "white",
           "ticks": "",
           "title": {
            "standoff": 15
           },
           "zerolinecolor": "white",
           "zerolinewidth": 2
          }
         }
        },
        "title": {
         "font": {
          "color": "#4D5663"
         }
        },
        "xaxis": {
         "gridcolor": "#E1E5ED",
         "showgrid": true,
         "tickfont": {
          "color": "#4D5663"
         },
         "title": {
          "font": {
           "color": "#4D5663"
          },
          "text": ""
         },
         "zerolinecolor": "#E1E5ED"
        },
        "xaxis2": {
         "anchor": "y2",
         "gridcolor": "#E1E5ED",
         "showgrid": true,
         "showticklabels": false,
         "tickfont": {
          "color": "#4D5663"
         },
         "title": {
          "font": {
           "color": "#4D5663"
          },
          "text": ""
         },
         "zerolinecolor": "#E1E5ED"
        },
        "yaxis": {
         "domain": [
          0.3,
          1
         ],
         "gridcolor": "#E1E5ED",
         "showgrid": true,
         "tickfont": {
          "color": "#4D5663"
         },
         "title": {
          "font": {
           "color": "#4D5663"
          },
          "text": ""
         },
         "zerolinecolor": "#E1E5ED"
        },
        "yaxis2": {
         "domain": [
          0,
          0.25
         ],
         "gridcolor": "#E1E5ED",
         "showgrid": true,
         "tickfont": {
          "color": "#4D5663"
         },
         "title": {
          "font": {
           "color": "#4D5663"
          },
          "text": "Spread"
         },
         "zerolinecolor": "#E1E5ED"
        }
       }
      },
      "text/html": [
       "<div>\n",
       "        \n",
       "        \n",
       "            <div id=\"1530ef8d-740a-430c-acf8-240f01d060a1\" class=\"plotly-graph-div\" style=\"height:525px; width:100%;\"></div>\n",
       "            <script type=\"text/javascript\">\n",
       "                require([\"plotly\"], function(Plotly) {\n",
       "                    window.PLOTLYENV=window.PLOTLYENV || {};\n",
       "                    window.PLOTLYENV.BASE_URL='https://plot.ly';\n",
       "                    \n",
       "                if (document.getElementById(\"1530ef8d-740a-430c-acf8-240f01d060a1\")) {\n",
       "                    Plotly.newPlot(\n",
       "                        '1530ef8d-740a-430c-acf8-240f01d060a1',\n",
       "                        [{\"line\": {\"color\": \"rgba(255, 153, 51, 1.0)\", \"dash\": \"solid\", \"shape\": \"linear\", \"width\": 1.3}, \"mode\": \"lines\", \"name\": \"A\", \"text\": \"\", \"type\": \"scatter\", \"x\": [0, 1, 2, 3, 4, 5, 6, 7, 8, 9, 10, 11, 12, 13, 14, 15, 16, 17, 18, 19, 20, 21, 22, 23, 24, 25, 26, 27, 28, 29, 30, 31, 32, 33, 34, 35, 36, 37, 38, 39, 40, 41, 42, 43, 44, 45, 46, 47, 48, 49, 50, 51, 52, 53, 54, 55, 56, 57, 58, 59, 60, 61, 62, 63, 64, 65, 66, 67, 68, 69, 70, 71, 72, 73, 74, 75, 76, 77, 78, 79, 80, 81, 82, 83, 84, 85, 86, 87, 88, 89, 90, 91, 92, 93, 94, 95, 96, 97, 98, 99], \"y\": [-0.9734495742841736, -1.8315951967413935, 1.6139020442339822, 1.8317994231752863, -0.5703850399579571, -1.4741058750836376, 0.3556724369296695, 0.5896167900058208, -0.16588761429519788, 1.252817890189307, 0.8244913688037369, -0.8310634233310962, -1.2715301311174314, 0.8813921954359295, 0.03008326150665548, 1.796935266435818, 0.36940181717575304, -0.8813170476695465, -0.31461403362256685, -0.4468206880588594, 0.3240352703956821, -0.4174928910302742, -0.8936299905709542, -1.7730351725609956, -0.17509775157041949, 1.785575038048923, 0.8693153126170038, -0.9119334319497847, 0.06855935946590477, 0.5983975207014364, -0.3125289594386086, -1.623670806104809, -1.5420589595567573, 1.3286785347616383, -1.094158923464464, 0.21930454522962683, 0.8354226939734191, 1.1112027436645884, 0.5706132554817172, 1.5175492736710126, -0.741270592687962, 0.7179471066369602, -0.11923765585506343, -0.5190825867431396, -1.223108562573393, -0.24851600060140075, 1.1382508831643312, -0.033081660969711255, 0.5175216536790487, 0.7544486986602126, -0.6518679982601071, 2.070787774933711, 0.4426842316054046, 0.05653702034559746, -1.0053907104192161, -0.786399787410555, 0.27850043786370504, 0.3916013705575103, 0.43507671462973674, 1.3045455981258764, 1.5209664834575232, 0.5703063793983049, -0.20123025062794503, -0.04784662293665812, 0.9508747258949924, 0.10041817141614233, 0.05723625804651315, -0.04030529057318736, 0.7335235062619401, 0.8982570392990319, 1.1155809290713437, 0.8844599452843706, -0.6148252072505153, 1.1594874940128568, -1.216817774524191, -0.8890426465705751, -1.893518423950157, -0.33140872246822817, -0.26953768733587197, 0.9961753075937271, 0.03607656273618685, -0.4870399182323607, -0.7339647437901523, 0.5475059713581206, -1.1018093852788269, -1.4823859267101909, -1.6501041838493982, 0.20377009012743325, 0.1762274744366041, -0.6017592186585072, 0.3590576908726275, 0.7428489289251691, 0.48584201834020807, 0.6945617012876489, -1.1489156980425708, 0.6131057392500935, 0.17885470690537067, 0.26446508278372033, -0.10706051662167917, 0.6223017828248917]}, {\"line\": {\"color\": \"rgba(55, 128, 191, 1.0)\", \"dash\": \"solid\", \"shape\": \"linear\", \"width\": 1.3}, \"mode\": \"lines\", \"name\": \"B\", \"text\": \"\", \"type\": \"scatter\", \"x\": [0, 1, 2, 3, 4, 5, 6, 7, 8, 9, 10, 11, 12, 13, 14, 15, 16, 17, 18, 19, 20, 21, 22, 23, 24, 25, 26, 27, 28, 29, 30, 31, 32, 33, 34, 35, 36, 37, 38, 39, 40, 41, 42, 43, 44, 45, 46, 47, 48, 49, 50, 51, 52, 53, 54, 55, 56, 57, 58, 59, 60, 61, 62, 63, 64, 65, 66, 67, 68, 69, 70, 71, 72, 73, 74, 75, 76, 77, 78, 79, 80, 81, 82, 83, 84, 85, 86, 87, 88, 89, 90, 91, 92, 93, 94, 95, 96, 97, 98, 99], \"y\": [-0.5811999608120723, -0.8036697312678183, 0.3854041880109005, 0.4209603813984334, -0.4281246077274638, -0.19852210221305122, -2.054418519812087, 0.4077891217927148, -0.5945240763963975, -1.536557826592104, 0.672332698408608, 1.4028979182530195, 1.4439820744695246, 0.20886292761525518, -0.7393879162186503, -0.5368487628608516, -1.3688133482970724, 0.19474772168671534, 0.2647889831001665, -1.251547816940817, 0.48556271338398527, 0.5285982029460005, -0.6397201840797241, 0.5081278922806333, 0.2659176640020525, 2.552614374126511, -1.1493716413393977, 1.3345305675591104, 0.5974633782328114, -0.786979507572439, 0.06608038797047978, -0.8145816284732865, 1.5847483366580726, -1.1202607419391661, -1.049640524535017, -0.006903395515333687, -0.524048042000973, 0.44602741836718635, 0.20789948771212124, -1.7806121425814323, 0.0854339021506031, 0.6102089740674195, 0.9728652238276162, -1.4346181102507178, 0.4991602969072206, 1.7848098537008248, 0.47678906443316527, 0.30715039761978874, -0.08716260522525818, 0.35767698840008727, -0.11745608886652367, -1.786882759539797, 1.6238306895783923, -1.1762234413326496, -0.8428802127555798, 0.9966021977974714, 0.8373405137607192, 0.8659528776627187, 2.0692017376026457, 1.4272810302299084, -1.7892289543718998, 1.6576497596199353, -0.03281965544361487, -1.8153586870341933, -0.7179954280924857, -1.0977240279134834, -0.9259475104250532, 0.9852912806939138, -0.4840186387488574, -0.43089106542389977, 0.2911652394892015, -0.965132820164843, -0.7180607125895234, -1.0041459219518847, -0.7846987822530055, 0.12630702047120732, -0.3812210919119034, -0.3037783960675797, -0.282441006815986, 0.42824543291257966, 0.006255871853128791, 0.7851077459102427, -0.6255412712308532, -0.06663669277893636, 0.7293892078205981, 1.512249438121794, 0.05893141654083086, 0.9760093768519751, -0.28824847602835263, -0.30940127812256835, 0.537953257392704, 0.6381235440509992, 0.7727316578039034, -0.25435089513654213, -0.6790857730570136, -0.6249789946320716, 1.4731436561408768, -0.0637549971579087, -0.30502694841740013, 0.37810360901576967]}, {\"connectgaps\": false, \"fill\": \"tozeroy\", \"line\": {\"color\": \"green\", \"dash\": \"solid\", \"shape\": \"linear\", \"width\": 0.5}, \"mode\": \"lines\", \"name\": \"Spread\", \"showlegend\": false, \"type\": \"scatter\", \"x\": [0, 1, 2, 3, 4, 5, 6, 7, 8, 9, 10, 11, 12, 13, 14, 15, 16, 17, 18, 19, 20, 21, 22, 23, 24, 25, 26, 27, 28, 29, 30, 31, 32, 33, 34, 35, 36, 37, 38, 39, 40, 41, 42, 43, 44, 45, 46, 47, 48, 49, 50, 51, 52, 53, 54, 55, 56, 57, 58, 59, 60, 61, 62, 63, 64, 65, 66, 67, 68, 69, 70, 71, 72, 73, 74, 75, 76, 77, 78, 79, 80, 81, 82, 83, 84, 85, 86, 87, 88, 89, 90, 91, 92, 93, 94, 95, 96, 97, 98, 99], \"xaxis\": \"x2\", \"y\": [\"\", \"\", 1.2284978562230817, 1.4108390417768528, \"\", \"\", 2.4100909567417563, 0.18182766821310598, 0.4286364621011996, 2.789375716781411, 0.15215867039512887, \"\", \"\", 0.6725292678206743, 0.7694711777253058, 2.3337840292966696, 1.7382151654728255, \"\", \"\", 0.8047271288819575, \"\", \"\", \"\", \"\", \"\", \"\", 2.0186869539564016, \"\", \"\", 1.3853770282738753, \"\", \"\", \"\", 2.4489392767008047, \"\", 0.22620794074496053, 1.359470735974392, 0.665175325297402, 0.3627137677695959, 3.298161416252445, \"\", 0.10773813256954068, \"\", 0.9155355235075783, \"\", \"\", 0.6614618187311659, \"\", 0.6046842589043069, 0.3967717102601253, \"\", 3.857670534473508, \"\", 1.232760461678247, \"\", \"\", \"\", \"\", \"\", \"\", 3.3101954378294227, \"\", \"\", 1.7675120640975353, 1.6688701539874782, 1.1981421993296257, 0.9831837684715663, \"\", 1.2175421450107975, 1.3291481047229317, 0.8244156895821422, 1.8495927654492137, 0.10323550533900816, 2.1636334159647417, \"\", \"\", \"\", \"\", 0.012903319480114028, 0.5679298746811474, 0.029820690883058054, \"\", \"\", 0.614142664137057, \"\", \"\", \"\", \"\", 0.4644759504649567, \"\", \"\", 0.10472538487416982, \"\", 0.9489125964241911, \"\", 1.238084733882165, \"\", 0.32822007994162905, 0.19796643179572096, 0.244198173809122], \"yaxis\": \"y2\"}, {\"connectgaps\": false, \"fill\": \"tozeroy\", \"line\": {\"color\": \"red\", \"dash\": \"solid\", \"shape\": \"linear\", \"width\": 0.5}, \"mode\": \"lines\", \"name\": \"Spread\", \"showlegend\": false, \"type\": \"scatter\", \"x\": [0, 1, 2, 3, 4, 5, 6, 7, 8, 9, 10, 11, 12, 13, 14, 15, 16, 17, 18, 19, 20, 21, 22, 23, 24, 25, 26, 27, 28, 29, 30, 31, 32, 33, 34, 35, 36, 37, 38, 39, 40, 41, 42, 43, 44, 45, 46, 47, 48, 49, 50, 51, 52, 53, 54, 55, 56, 57, 58, 59, 60, 61, 62, 63, 64, 65, 66, 67, 68, 69, 70, 71, 72, 73, 74, 75, 76, 77, 78, 79, 80, 81, 82, 83, 84, 85, 86, 87, 88, 89, 90, 91, 92, 93, 94, 95, 96, 97, 98, 99], \"xaxis\": \"x2\", \"y\": [-0.3922496134721013, -1.0279254654735752, \"\", \"\", -0.14226043223049328, -1.2755837728705863, \"\", \"\", \"\", \"\", \"\", -2.2339613415841155, -2.715512205586956, \"\", \"\", \"\", \"\", -1.076064769356262, -0.5794030167227333, \"\", -0.16152744298830318, -0.9460910939762747, -0.2539098064912301, -2.281163064841629, -0.44101541557247204, -0.7670393360775878, \"\", -2.246463999508895, -0.5289040187669066, \"\", -0.37860934740908836, -0.8090891776315225, -3.12680729621483, \"\", -0.04451839892944687, \"\", \"\", \"\", \"\", \"\", -0.8267044948385651, \"\", -1.0921028796826797, \"\", -1.7222688594806137, -2.0333258543022255, \"\", -0.3402320585895, \"\", \"\", -0.5344119093935834, \"\", -1.1811464579729876, \"\", -0.16251049766363634, -1.7830019852080263, -0.5588400758970141, -0.47435150710520835, -1.634125022972909, -0.12273543210403193, \"\", -1.0873433802216304, -0.16841059518433016, \"\", \"\", \"\", \"\", -1.0255965712671011, \"\", \"\", \"\", \"\", \"\", \"\", -0.43211899227118555, -1.0153496670417823, -1.5122973320382536, -0.02763032640064844, \"\", \"\", \"\", -1.2721476641426035, -0.10842347255929907, \"\", -1.831198593099425, -2.994635364831985, -1.709035600390229, -0.7722392867245418, \"\", -0.2923579405359389, -0.17889556652007654, \"\", -0.28688963946369533, \"\", -0.4698299249855572, \"\", -1.294288949235506, \"\", \"\", \"\"], \"yaxis\": \"y2\"}],\n",
       "                        {\"hovermode\": \"x\", \"legend\": {\"bgcolor\": \"#F5F6F9\", \"font\": {\"color\": \"#4D5663\"}}, \"paper_bgcolor\": \"#F5F6F9\", \"plot_bgcolor\": \"#F5F6F9\", \"template\": {\"data\": {\"bar\": [{\"error_x\": {\"color\": \"#2a3f5f\"}, \"error_y\": {\"color\": \"#2a3f5f\"}, \"marker\": {\"line\": {\"color\": \"#E5ECF6\", \"width\": 0.5}}, \"type\": \"bar\"}], \"barpolar\": [{\"marker\": {\"line\": {\"color\": \"#E5ECF6\", \"width\": 0.5}}, \"type\": \"barpolar\"}], \"carpet\": [{\"aaxis\": {\"endlinecolor\": \"#2a3f5f\", \"gridcolor\": \"white\", \"linecolor\": \"white\", \"minorgridcolor\": \"white\", \"startlinecolor\": \"#2a3f5f\"}, \"baxis\": {\"endlinecolor\": \"#2a3f5f\", \"gridcolor\": \"white\", \"linecolor\": \"white\", \"minorgridcolor\": \"white\", \"startlinecolor\": \"#2a3f5f\"}, \"type\": \"carpet\"}], \"choropleth\": [{\"colorbar\": {\"outlinewidth\": 0, \"ticks\": \"\"}, \"type\": \"choropleth\"}], \"contour\": [{\"colorbar\": {\"outlinewidth\": 0, \"ticks\": \"\"}, \"colorscale\": [[0.0, \"#0d0887\"], [0.1111111111111111, \"#46039f\"], [0.2222222222222222, \"#7201a8\"], [0.3333333333333333, \"#9c179e\"], [0.4444444444444444, \"#bd3786\"], [0.5555555555555556, \"#d8576b\"], [0.6666666666666666, \"#ed7953\"], [0.7777777777777778, \"#fb9f3a\"], [0.8888888888888888, \"#fdca26\"], [1.0, \"#f0f921\"]], \"type\": \"contour\"}], \"contourcarpet\": [{\"colorbar\": {\"outlinewidth\": 0, \"ticks\": \"\"}, \"type\": \"contourcarpet\"}], \"heatmap\": [{\"colorbar\": {\"outlinewidth\": 0, \"ticks\": \"\"}, \"colorscale\": [[0.0, \"#0d0887\"], [0.1111111111111111, \"#46039f\"], [0.2222222222222222, \"#7201a8\"], [0.3333333333333333, \"#9c179e\"], [0.4444444444444444, \"#bd3786\"], [0.5555555555555556, \"#d8576b\"], [0.6666666666666666, \"#ed7953\"], [0.7777777777777778, \"#fb9f3a\"], [0.8888888888888888, \"#fdca26\"], [1.0, \"#f0f921\"]], \"type\": \"heatmap\"}], \"heatmapgl\": [{\"colorbar\": {\"outlinewidth\": 0, \"ticks\": \"\"}, \"colorscale\": [[0.0, \"#0d0887\"], [0.1111111111111111, \"#46039f\"], [0.2222222222222222, \"#7201a8\"], [0.3333333333333333, \"#9c179e\"], [0.4444444444444444, \"#bd3786\"], [0.5555555555555556, \"#d8576b\"], [0.6666666666666666, \"#ed7953\"], [0.7777777777777778, \"#fb9f3a\"], [0.8888888888888888, \"#fdca26\"], [1.0, \"#f0f921\"]], \"type\": \"heatmapgl\"}], \"histogram\": [{\"marker\": {\"colorbar\": {\"outlinewidth\": 0, \"ticks\": \"\"}}, \"type\": \"histogram\"}], \"histogram2d\": [{\"colorbar\": {\"outlinewidth\": 0, \"ticks\": \"\"}, \"colorscale\": [[0.0, \"#0d0887\"], [0.1111111111111111, \"#46039f\"], [0.2222222222222222, \"#7201a8\"], [0.3333333333333333, \"#9c179e\"], [0.4444444444444444, \"#bd3786\"], [0.5555555555555556, \"#d8576b\"], [0.6666666666666666, \"#ed7953\"], [0.7777777777777778, \"#fb9f3a\"], [0.8888888888888888, \"#fdca26\"], [1.0, \"#f0f921\"]], \"type\": \"histogram2d\"}], \"histogram2dcontour\": [{\"colorbar\": {\"outlinewidth\": 0, \"ticks\": \"\"}, \"colorscale\": [[0.0, \"#0d0887\"], [0.1111111111111111, \"#46039f\"], [0.2222222222222222, \"#7201a8\"], [0.3333333333333333, \"#9c179e\"], [0.4444444444444444, \"#bd3786\"], [0.5555555555555556, \"#d8576b\"], [0.6666666666666666, \"#ed7953\"], [0.7777777777777778, \"#fb9f3a\"], [0.8888888888888888, \"#fdca26\"], [1.0, \"#f0f921\"]], \"type\": \"histogram2dcontour\"}], \"mesh3d\": [{\"colorbar\": {\"outlinewidth\": 0, \"ticks\": \"\"}, \"type\": \"mesh3d\"}], \"parcoords\": [{\"line\": {\"colorbar\": {\"outlinewidth\": 0, \"ticks\": \"\"}}, \"type\": \"parcoords\"}], \"pie\": [{\"automargin\": true, \"type\": \"pie\"}], \"scatter\": [{\"marker\": {\"colorbar\": {\"outlinewidth\": 0, \"ticks\": \"\"}}, \"type\": \"scatter\"}], \"scatter3d\": [{\"line\": {\"colorbar\": {\"outlinewidth\": 0, \"ticks\": \"\"}}, \"marker\": {\"colorbar\": {\"outlinewidth\": 0, \"ticks\": \"\"}}, \"type\": \"scatter3d\"}], \"scattercarpet\": [{\"marker\": {\"colorbar\": {\"outlinewidth\": 0, \"ticks\": \"\"}}, \"type\": \"scattercarpet\"}], \"scattergeo\": [{\"marker\": {\"colorbar\": {\"outlinewidth\": 0, \"ticks\": \"\"}}, \"type\": \"scattergeo\"}], \"scattergl\": [{\"marker\": {\"colorbar\": {\"outlinewidth\": 0, \"ticks\": \"\"}}, \"type\": \"scattergl\"}], \"scattermapbox\": [{\"marker\": {\"colorbar\": {\"outlinewidth\": 0, \"ticks\": \"\"}}, \"type\": \"scattermapbox\"}], \"scatterpolar\": [{\"marker\": {\"colorbar\": {\"outlinewidth\": 0, \"ticks\": \"\"}}, \"type\": \"scatterpolar\"}], \"scatterpolargl\": [{\"marker\": {\"colorbar\": {\"outlinewidth\": 0, \"ticks\": \"\"}}, \"type\": \"scatterpolargl\"}], \"scatterternary\": [{\"marker\": {\"colorbar\": {\"outlinewidth\": 0, \"ticks\": \"\"}}, \"type\": \"scatterternary\"}], \"surface\": [{\"colorbar\": {\"outlinewidth\": 0, \"ticks\": \"\"}, \"colorscale\": [[0.0, \"#0d0887\"], [0.1111111111111111, \"#46039f\"], [0.2222222222222222, \"#7201a8\"], [0.3333333333333333, \"#9c179e\"], [0.4444444444444444, \"#bd3786\"], [0.5555555555555556, \"#d8576b\"], [0.6666666666666666, \"#ed7953\"], [0.7777777777777778, \"#fb9f3a\"], [0.8888888888888888, \"#fdca26\"], [1.0, \"#f0f921\"]], \"type\": \"surface\"}], \"table\": [{\"cells\": {\"fill\": {\"color\": \"#EBF0F8\"}, \"line\": {\"color\": \"white\"}}, \"header\": {\"fill\": {\"color\": \"#C8D4E3\"}, \"line\": {\"color\": \"white\"}}, \"type\": \"table\"}]}, \"layout\": {\"annotationdefaults\": {\"arrowcolor\": \"#2a3f5f\", \"arrowhead\": 0, \"arrowwidth\": 1}, \"coloraxis\": {\"colorbar\": {\"outlinewidth\": 0, \"ticks\": \"\"}}, \"colorscale\": {\"diverging\": [[0, \"#8e0152\"], [0.1, \"#c51b7d\"], [0.2, \"#de77ae\"], [0.3, \"#f1b6da\"], [0.4, \"#fde0ef\"], [0.5, \"#f7f7f7\"], [0.6, \"#e6f5d0\"], [0.7, \"#b8e186\"], [0.8, \"#7fbc41\"], [0.9, \"#4d9221\"], [1, \"#276419\"]], \"sequential\": [[0.0, \"#0d0887\"], [0.1111111111111111, \"#46039f\"], [0.2222222222222222, \"#7201a8\"], [0.3333333333333333, \"#9c179e\"], [0.4444444444444444, \"#bd3786\"], [0.5555555555555556, \"#d8576b\"], [0.6666666666666666, \"#ed7953\"], [0.7777777777777778, \"#fb9f3a\"], [0.8888888888888888, \"#fdca26\"], [1.0, \"#f0f921\"]], \"sequentialminus\": [[0.0, \"#0d0887\"], [0.1111111111111111, \"#46039f\"], [0.2222222222222222, \"#7201a8\"], [0.3333333333333333, \"#9c179e\"], [0.4444444444444444, \"#bd3786\"], [0.5555555555555556, \"#d8576b\"], [0.6666666666666666, \"#ed7953\"], [0.7777777777777778, \"#fb9f3a\"], [0.8888888888888888, \"#fdca26\"], [1.0, \"#f0f921\"]]}, \"colorway\": [\"#636efa\", \"#EF553B\", \"#00cc96\", \"#ab63fa\", \"#FFA15A\", \"#19d3f3\", \"#FF6692\", \"#B6E880\", \"#FF97FF\", \"#FECB52\"], \"font\": {\"color\": \"#2a3f5f\"}, \"geo\": {\"bgcolor\": \"white\", \"lakecolor\": \"white\", \"landcolor\": \"#E5ECF6\", \"showlakes\": true, \"showland\": true, \"subunitcolor\": \"white\"}, \"hoverlabel\": {\"align\": \"left\"}, \"hovermode\": \"closest\", \"mapbox\": {\"style\": \"light\"}, \"paper_bgcolor\": \"white\", \"plot_bgcolor\": \"#E5ECF6\", \"polar\": {\"angularaxis\": {\"gridcolor\": \"white\", \"linecolor\": \"white\", \"ticks\": \"\"}, \"bgcolor\": \"#E5ECF6\", \"radialaxis\": {\"gridcolor\": \"white\", \"linecolor\": \"white\", \"ticks\": \"\"}}, \"scene\": {\"xaxis\": {\"backgroundcolor\": \"#E5ECF6\", \"gridcolor\": \"white\", \"gridwidth\": 2, \"linecolor\": \"white\", \"showbackground\": true, \"ticks\": \"\", \"zerolinecolor\": \"white\"}, \"yaxis\": {\"backgroundcolor\": \"#E5ECF6\", \"gridcolor\": \"white\", \"gridwidth\": 2, \"linecolor\": \"white\", \"showbackground\": true, \"ticks\": \"\", \"zerolinecolor\": \"white\"}, \"zaxis\": {\"backgroundcolor\": \"#E5ECF6\", \"gridcolor\": \"white\", \"gridwidth\": 2, \"linecolor\": \"white\", \"showbackground\": true, \"ticks\": \"\", \"zerolinecolor\": \"white\"}}, \"shapedefaults\": {\"line\": {\"color\": \"#2a3f5f\"}}, \"ternary\": {\"aaxis\": {\"gridcolor\": \"white\", \"linecolor\": \"white\", \"ticks\": \"\"}, \"baxis\": {\"gridcolor\": \"white\", \"linecolor\": \"white\", \"ticks\": \"\"}, \"bgcolor\": \"#E5ECF6\", \"caxis\": {\"gridcolor\": \"white\", \"linecolor\": \"white\", \"ticks\": \"\"}}, \"title\": {\"x\": 0.05}, \"xaxis\": {\"automargin\": true, \"gridcolor\": \"white\", \"linecolor\": \"white\", \"ticks\": \"\", \"title\": {\"standoff\": 15}, \"zerolinecolor\": \"white\", \"zerolinewidth\": 2}, \"yaxis\": {\"automargin\": true, \"gridcolor\": \"white\", \"linecolor\": \"white\", \"ticks\": \"\", \"title\": {\"standoff\": 15}, \"zerolinecolor\": \"white\", \"zerolinewidth\": 2}}}, \"title\": {\"font\": {\"color\": \"#4D5663\"}}, \"xaxis\": {\"gridcolor\": \"#E1E5ED\", \"showgrid\": true, \"tickfont\": {\"color\": \"#4D5663\"}, \"title\": {\"font\": {\"color\": \"#4D5663\"}, \"text\": \"\"}, \"zerolinecolor\": \"#E1E5ED\"}, \"xaxis2\": {\"anchor\": \"y2\", \"gridcolor\": \"#E1E5ED\", \"showgrid\": true, \"showticklabels\": false, \"tickfont\": {\"color\": \"#4D5663\"}, \"title\": {\"font\": {\"color\": \"#4D5663\"}, \"text\": \"\"}, \"zerolinecolor\": \"#E1E5ED\"}, \"yaxis\": {\"domain\": [0.3, 1], \"gridcolor\": \"#E1E5ED\", \"showgrid\": true, \"tickfont\": {\"color\": \"#4D5663\"}, \"title\": {\"font\": {\"color\": \"#4D5663\"}, \"text\": \"\"}, \"zerolinecolor\": \"#E1E5ED\"}, \"yaxis2\": {\"domain\": [0, 0.25], \"gridcolor\": \"#E1E5ED\", \"showgrid\": true, \"tickfont\": {\"color\": \"#4D5663\"}, \"title\": {\"font\": {\"color\": \"#4D5663\"}, \"text\": \"Spread\"}, \"zerolinecolor\": \"#E1E5ED\"}},\n",
       "                        {\"showLink\": true, \"linkText\": \"Export to plot.ly\", \"plotlyServerURL\": \"https://plot.ly\", \"responsive\": true}\n",
       "                    ).then(function(){\n",
       "                            \n",
       "var gd = document.getElementById('1530ef8d-740a-430c-acf8-240f01d060a1');\n",
       "var x = new MutationObserver(function (mutations, observer) {{\n",
       "        var display = window.getComputedStyle(gd).display;\n",
       "        if (!display || display === 'none') {{\n",
       "            console.log([gd, 'removed!']);\n",
       "            Plotly.purge(gd);\n",
       "            observer.disconnect();\n",
       "        }}\n",
       "}});\n",
       "\n",
       "// Listen for the removal of the full notebook cells\n",
       "var notebookContainer = gd.closest('#notebook-container');\n",
       "if (notebookContainer) {{\n",
       "    x.observe(notebookContainer, {childList: true});\n",
       "}}\n",
       "\n",
       "// Listen for the clearing of the current output cell\n",
       "var outputEl = gd.closest('.output');\n",
       "if (outputEl) {{\n",
       "    x.observe(outputEl, {childList: true});\n",
       "}}\n",
       "\n",
       "                        })\n",
       "                };\n",
       "                });\n",
       "            </script>\n",
       "        </div>"
      ]
     },
     "metadata": {},
     "output_type": "display_data"
    },
    {
     "name": "stdout",
     "output_type": "stream",
     "text": [
      "0 A -0.9734495742841736 B -0.5811999608120723 A-B -0.3922496134721013\n",
      "1 A -1.8315951967413935 B -0.8036697312678183 A-B -1.0279254654735752\n",
      "2 A 1.6139020442339822 B 0.3854041880109005 A-B 1.2284978562230817\n",
      "3 A 1.8317994231752863 B 0.4209603813984334 A-B 1.4108390417768528\n",
      "4 A -0.5703850399579571 B -0.4281246077274638 A-B -0.14226043223049328\n",
      "5 A -1.4741058750836376 B -0.19852210221305122 A-B -1.2755837728705863\n",
      "6 A 0.3556724369296695 B -2.054418519812087 A-B 2.4100909567417563\n",
      "7 A 0.5896167900058208 B 0.4077891217927148 A-B 0.18182766821310598\n",
      "8 A -0.16588761429519788 B -0.5945240763963975 A-B 0.4286364621011996\n",
      "9 A 1.252817890189307 B -1.536557826592104 A-B 2.789375716781411\n",
      "10 A 0.8244913688037369 B 0.672332698408608 A-B 0.15215867039512887\n",
      "11 A -0.8310634233310962 B 1.4028979182530195 A-B -2.2339613415841155\n",
      "12 A -1.2715301311174314 B 1.4439820744695246 A-B -2.715512205586956\n",
      "13 A 0.8813921954359295 B 0.20886292761525518 A-B 0.6725292678206743\n",
      "14 A 0.03008326150665548 B -0.7393879162186503 A-B 0.7694711777253058\n",
      "15 A 1.796935266435818 B -0.5368487628608516 A-B 2.3337840292966696\n",
      "16 A 0.36940181717575304 B -1.3688133482970724 A-B 1.7382151654728255\n",
      "17 A -0.8813170476695465 B 0.19474772168671534 A-B -1.076064769356262\n",
      "18 A -0.31461403362256685 B 0.2647889831001665 A-B -0.5794030167227333\n",
      "19 A -0.4468206880588594 B -1.251547816940817 A-B 0.8047271288819575\n",
      "20 A 0.3240352703956821 B 0.48556271338398527 A-B -0.16152744298830318\n",
      "21 A -0.4174928910302742 B 0.5285982029460005 A-B -0.9460910939762747\n",
      "22 A -0.8936299905709542 B -0.6397201840797241 A-B -0.2539098064912301\n",
      "23 A -1.7730351725609956 B 0.5081278922806333 A-B -2.281163064841629\n",
      "24 A -0.17509775157041949 B 0.2659176640020525 A-B -0.44101541557247204\n",
      "25 A 1.785575038048923 B 2.552614374126511 A-B -0.7670393360775878\n",
      "26 A 0.8693153126170038 B -1.1493716413393977 A-B 2.0186869539564016\n",
      "27 A -0.9119334319497847 B 1.3345305675591104 A-B -2.246463999508895\n",
      "28 A 0.06855935946590477 B 0.5974633782328114 A-B -0.5289040187669066\n",
      "29 A 0.5983975207014364 B -0.786979507572439 A-B 1.3853770282738753\n"
     ]
    }
   ],
   "source": [
    "df[['A','B']].iplot(kind='spread')\n",
    "#No gráfico de Spread o valor é a diferença A e B\n",
    "\n",
    "for i in range(0,30):\n",
    "    print(i, 'A',df['A'][i], 'B',df['B'][i], 'A-B', (df['A'][i]-df['B'][i]))"
   ]
  },
  {
   "cell_type": "markdown",
   "metadata": {},
   "source": [
    "## Histograma"
   ]
  },
  {
   "cell_type": "code",
   "execution_count": 25,
   "metadata": {},
   "outputs": [
    {
     "data": {
      "application/vnd.plotly.v1+json": {
       "config": {
        "linkText": "Export to plot.ly",
        "plotlyServerURL": "https://plot.ly",
        "showLink": true
       },
       "data": [
        {
         "histfunc": "count",
         "histnorm": "",
         "marker": {
          "color": "rgba(255, 153, 51, 1.0)",
          "line": {
           "color": "#4D5663",
           "width": 1.3
          }
         },
         "name": "A",
         "nbinsx": 25,
         "opacity": 0.8,
         "orientation": "v",
         "type": "histogram",
         "x": [
          -0.9734495742841736,
          -1.8315951967413935,
          1.6139020442339822,
          1.8317994231752863,
          -0.5703850399579571,
          -1.4741058750836376,
          0.3556724369296695,
          0.5896167900058208,
          -0.16588761429519788,
          1.252817890189307,
          0.8244913688037369,
          -0.8310634233310962,
          -1.2715301311174314,
          0.8813921954359295,
          0.03008326150665548,
          1.796935266435818,
          0.36940181717575304,
          -0.8813170476695465,
          -0.31461403362256685,
          -0.4468206880588594,
          0.3240352703956821,
          -0.4174928910302742,
          -0.8936299905709542,
          -1.7730351725609956,
          -0.17509775157041949,
          1.785575038048923,
          0.8693153126170038,
          -0.9119334319497847,
          0.06855935946590477,
          0.5983975207014364,
          -0.3125289594386086,
          -1.623670806104809,
          -1.5420589595567573,
          1.3286785347616383,
          -1.094158923464464,
          0.21930454522962683,
          0.8354226939734191,
          1.1112027436645884,
          0.5706132554817172,
          1.5175492736710126,
          -0.741270592687962,
          0.7179471066369602,
          -0.11923765585506343,
          -0.5190825867431396,
          -1.223108562573393,
          -0.24851600060140075,
          1.1382508831643312,
          -0.033081660969711255,
          0.5175216536790487,
          0.7544486986602126,
          -0.6518679982601071,
          2.070787774933711,
          0.4426842316054046,
          0.05653702034559746,
          -1.0053907104192161,
          -0.786399787410555,
          0.27850043786370504,
          0.3916013705575103,
          0.43507671462973674,
          1.3045455981258764,
          1.5209664834575232,
          0.5703063793983049,
          -0.20123025062794503,
          -0.04784662293665812,
          0.9508747258949924,
          0.10041817141614233,
          0.05723625804651315,
          -0.04030529057318736,
          0.7335235062619401,
          0.8982570392990319,
          1.1155809290713437,
          0.8844599452843706,
          -0.6148252072505153,
          1.1594874940128568,
          -1.216817774524191,
          -0.8890426465705751,
          -1.893518423950157,
          -0.33140872246822817,
          -0.26953768733587197,
          0.9961753075937271,
          0.03607656273618685,
          -0.4870399182323607,
          -0.7339647437901523,
          0.5475059713581206,
          -1.1018093852788269,
          -1.4823859267101909,
          -1.6501041838493982,
          0.20377009012743325,
          0.1762274744366041,
          -0.6017592186585072,
          0.3590576908726275,
          0.7428489289251691,
          0.48584201834020807,
          0.6945617012876489,
          -1.1489156980425708,
          0.6131057392500935,
          0.17885470690537067,
          0.26446508278372033,
          -0.10706051662167917,
          0.6223017828248917
         ]
        }
       ],
       "layout": {
        "barmode": "overlay",
        "legend": {
         "bgcolor": "#F5F6F9",
         "font": {
          "color": "#4D5663"
         }
        },
        "paper_bgcolor": "#F5F6F9",
        "plot_bgcolor": "#F5F6F9",
        "template": {
         "data": {
          "bar": [
           {
            "error_x": {
             "color": "#2a3f5f"
            },
            "error_y": {
             "color": "#2a3f5f"
            },
            "marker": {
             "line": {
              "color": "#E5ECF6",
              "width": 0.5
             }
            },
            "type": "bar"
           }
          ],
          "barpolar": [
           {
            "marker": {
             "line": {
              "color": "#E5ECF6",
              "width": 0.5
             }
            },
            "type": "barpolar"
           }
          ],
          "carpet": [
           {
            "aaxis": {
             "endlinecolor": "#2a3f5f",
             "gridcolor": "white",
             "linecolor": "white",
             "minorgridcolor": "white",
             "startlinecolor": "#2a3f5f"
            },
            "baxis": {
             "endlinecolor": "#2a3f5f",
             "gridcolor": "white",
             "linecolor": "white",
             "minorgridcolor": "white",
             "startlinecolor": "#2a3f5f"
            },
            "type": "carpet"
           }
          ],
          "choropleth": [
           {
            "colorbar": {
             "outlinewidth": 0,
             "ticks": ""
            },
            "type": "choropleth"
           }
          ],
          "contour": [
           {
            "colorbar": {
             "outlinewidth": 0,
             "ticks": ""
            },
            "colorscale": [
             [
              0,
              "#0d0887"
             ],
             [
              0.1111111111111111,
              "#46039f"
             ],
             [
              0.2222222222222222,
              "#7201a8"
             ],
             [
              0.3333333333333333,
              "#9c179e"
             ],
             [
              0.4444444444444444,
              "#bd3786"
             ],
             [
              0.5555555555555556,
              "#d8576b"
             ],
             [
              0.6666666666666666,
              "#ed7953"
             ],
             [
              0.7777777777777778,
              "#fb9f3a"
             ],
             [
              0.8888888888888888,
              "#fdca26"
             ],
             [
              1,
              "#f0f921"
             ]
            ],
            "type": "contour"
           }
          ],
          "contourcarpet": [
           {
            "colorbar": {
             "outlinewidth": 0,
             "ticks": ""
            },
            "type": "contourcarpet"
           }
          ],
          "heatmap": [
           {
            "colorbar": {
             "outlinewidth": 0,
             "ticks": ""
            },
            "colorscale": [
             [
              0,
              "#0d0887"
             ],
             [
              0.1111111111111111,
              "#46039f"
             ],
             [
              0.2222222222222222,
              "#7201a8"
             ],
             [
              0.3333333333333333,
              "#9c179e"
             ],
             [
              0.4444444444444444,
              "#bd3786"
             ],
             [
              0.5555555555555556,
              "#d8576b"
             ],
             [
              0.6666666666666666,
              "#ed7953"
             ],
             [
              0.7777777777777778,
              "#fb9f3a"
             ],
             [
              0.8888888888888888,
              "#fdca26"
             ],
             [
              1,
              "#f0f921"
             ]
            ],
            "type": "heatmap"
           }
          ],
          "heatmapgl": [
           {
            "colorbar": {
             "outlinewidth": 0,
             "ticks": ""
            },
            "colorscale": [
             [
              0,
              "#0d0887"
             ],
             [
              0.1111111111111111,
              "#46039f"
             ],
             [
              0.2222222222222222,
              "#7201a8"
             ],
             [
              0.3333333333333333,
              "#9c179e"
             ],
             [
              0.4444444444444444,
              "#bd3786"
             ],
             [
              0.5555555555555556,
              "#d8576b"
             ],
             [
              0.6666666666666666,
              "#ed7953"
             ],
             [
              0.7777777777777778,
              "#fb9f3a"
             ],
             [
              0.8888888888888888,
              "#fdca26"
             ],
             [
              1,
              "#f0f921"
             ]
            ],
            "type": "heatmapgl"
           }
          ],
          "histogram": [
           {
            "marker": {
             "colorbar": {
              "outlinewidth": 0,
              "ticks": ""
             }
            },
            "type": "histogram"
           }
          ],
          "histogram2d": [
           {
            "colorbar": {
             "outlinewidth": 0,
             "ticks": ""
            },
            "colorscale": [
             [
              0,
              "#0d0887"
             ],
             [
              0.1111111111111111,
              "#46039f"
             ],
             [
              0.2222222222222222,
              "#7201a8"
             ],
             [
              0.3333333333333333,
              "#9c179e"
             ],
             [
              0.4444444444444444,
              "#bd3786"
             ],
             [
              0.5555555555555556,
              "#d8576b"
             ],
             [
              0.6666666666666666,
              "#ed7953"
             ],
             [
              0.7777777777777778,
              "#fb9f3a"
             ],
             [
              0.8888888888888888,
              "#fdca26"
             ],
             [
              1,
              "#f0f921"
             ]
            ],
            "type": "histogram2d"
           }
          ],
          "histogram2dcontour": [
           {
            "colorbar": {
             "outlinewidth": 0,
             "ticks": ""
            },
            "colorscale": [
             [
              0,
              "#0d0887"
             ],
             [
              0.1111111111111111,
              "#46039f"
             ],
             [
              0.2222222222222222,
              "#7201a8"
             ],
             [
              0.3333333333333333,
              "#9c179e"
             ],
             [
              0.4444444444444444,
              "#bd3786"
             ],
             [
              0.5555555555555556,
              "#d8576b"
             ],
             [
              0.6666666666666666,
              "#ed7953"
             ],
             [
              0.7777777777777778,
              "#fb9f3a"
             ],
             [
              0.8888888888888888,
              "#fdca26"
             ],
             [
              1,
              "#f0f921"
             ]
            ],
            "type": "histogram2dcontour"
           }
          ],
          "mesh3d": [
           {
            "colorbar": {
             "outlinewidth": 0,
             "ticks": ""
            },
            "type": "mesh3d"
           }
          ],
          "parcoords": [
           {
            "line": {
             "colorbar": {
              "outlinewidth": 0,
              "ticks": ""
             }
            },
            "type": "parcoords"
           }
          ],
          "pie": [
           {
            "automargin": true,
            "type": "pie"
           }
          ],
          "scatter": [
           {
            "marker": {
             "colorbar": {
              "outlinewidth": 0,
              "ticks": ""
             }
            },
            "type": "scatter"
           }
          ],
          "scatter3d": [
           {
            "line": {
             "colorbar": {
              "outlinewidth": 0,
              "ticks": ""
             }
            },
            "marker": {
             "colorbar": {
              "outlinewidth": 0,
              "ticks": ""
             }
            },
            "type": "scatter3d"
           }
          ],
          "scattercarpet": [
           {
            "marker": {
             "colorbar": {
              "outlinewidth": 0,
              "ticks": ""
             }
            },
            "type": "scattercarpet"
           }
          ],
          "scattergeo": [
           {
            "marker": {
             "colorbar": {
              "outlinewidth": 0,
              "ticks": ""
             }
            },
            "type": "scattergeo"
           }
          ],
          "scattergl": [
           {
            "marker": {
             "colorbar": {
              "outlinewidth": 0,
              "ticks": ""
             }
            },
            "type": "scattergl"
           }
          ],
          "scattermapbox": [
           {
            "marker": {
             "colorbar": {
              "outlinewidth": 0,
              "ticks": ""
             }
            },
            "type": "scattermapbox"
           }
          ],
          "scatterpolar": [
           {
            "marker": {
             "colorbar": {
              "outlinewidth": 0,
              "ticks": ""
             }
            },
            "type": "scatterpolar"
           }
          ],
          "scatterpolargl": [
           {
            "marker": {
             "colorbar": {
              "outlinewidth": 0,
              "ticks": ""
             }
            },
            "type": "scatterpolargl"
           }
          ],
          "scatterternary": [
           {
            "marker": {
             "colorbar": {
              "outlinewidth": 0,
              "ticks": ""
             }
            },
            "type": "scatterternary"
           }
          ],
          "surface": [
           {
            "colorbar": {
             "outlinewidth": 0,
             "ticks": ""
            },
            "colorscale": [
             [
              0,
              "#0d0887"
             ],
             [
              0.1111111111111111,
              "#46039f"
             ],
             [
              0.2222222222222222,
              "#7201a8"
             ],
             [
              0.3333333333333333,
              "#9c179e"
             ],
             [
              0.4444444444444444,
              "#bd3786"
             ],
             [
              0.5555555555555556,
              "#d8576b"
             ],
             [
              0.6666666666666666,
              "#ed7953"
             ],
             [
              0.7777777777777778,
              "#fb9f3a"
             ],
             [
              0.8888888888888888,
              "#fdca26"
             ],
             [
              1,
              "#f0f921"
             ]
            ],
            "type": "surface"
           }
          ],
          "table": [
           {
            "cells": {
             "fill": {
              "color": "#EBF0F8"
             },
             "line": {
              "color": "white"
             }
            },
            "header": {
             "fill": {
              "color": "#C8D4E3"
             },
             "line": {
              "color": "white"
             }
            },
            "type": "table"
           }
          ]
         },
         "layout": {
          "annotationdefaults": {
           "arrowcolor": "#2a3f5f",
           "arrowhead": 0,
           "arrowwidth": 1
          },
          "coloraxis": {
           "colorbar": {
            "outlinewidth": 0,
            "ticks": ""
           }
          },
          "colorscale": {
           "diverging": [
            [
             0,
             "#8e0152"
            ],
            [
             0.1,
             "#c51b7d"
            ],
            [
             0.2,
             "#de77ae"
            ],
            [
             0.3,
             "#f1b6da"
            ],
            [
             0.4,
             "#fde0ef"
            ],
            [
             0.5,
             "#f7f7f7"
            ],
            [
             0.6,
             "#e6f5d0"
            ],
            [
             0.7,
             "#b8e186"
            ],
            [
             0.8,
             "#7fbc41"
            ],
            [
             0.9,
             "#4d9221"
            ],
            [
             1,
             "#276419"
            ]
           ],
           "sequential": [
            [
             0,
             "#0d0887"
            ],
            [
             0.1111111111111111,
             "#46039f"
            ],
            [
             0.2222222222222222,
             "#7201a8"
            ],
            [
             0.3333333333333333,
             "#9c179e"
            ],
            [
             0.4444444444444444,
             "#bd3786"
            ],
            [
             0.5555555555555556,
             "#d8576b"
            ],
            [
             0.6666666666666666,
             "#ed7953"
            ],
            [
             0.7777777777777778,
             "#fb9f3a"
            ],
            [
             0.8888888888888888,
             "#fdca26"
            ],
            [
             1,
             "#f0f921"
            ]
           ],
           "sequentialminus": [
            [
             0,
             "#0d0887"
            ],
            [
             0.1111111111111111,
             "#46039f"
            ],
            [
             0.2222222222222222,
             "#7201a8"
            ],
            [
             0.3333333333333333,
             "#9c179e"
            ],
            [
             0.4444444444444444,
             "#bd3786"
            ],
            [
             0.5555555555555556,
             "#d8576b"
            ],
            [
             0.6666666666666666,
             "#ed7953"
            ],
            [
             0.7777777777777778,
             "#fb9f3a"
            ],
            [
             0.8888888888888888,
             "#fdca26"
            ],
            [
             1,
             "#f0f921"
            ]
           ]
          },
          "colorway": [
           "#636efa",
           "#EF553B",
           "#00cc96",
           "#ab63fa",
           "#FFA15A",
           "#19d3f3",
           "#FF6692",
           "#B6E880",
           "#FF97FF",
           "#FECB52"
          ],
          "font": {
           "color": "#2a3f5f"
          },
          "geo": {
           "bgcolor": "white",
           "lakecolor": "white",
           "landcolor": "#E5ECF6",
           "showlakes": true,
           "showland": true,
           "subunitcolor": "white"
          },
          "hoverlabel": {
           "align": "left"
          },
          "hovermode": "closest",
          "mapbox": {
           "style": "light"
          },
          "paper_bgcolor": "white",
          "plot_bgcolor": "#E5ECF6",
          "polar": {
           "angularaxis": {
            "gridcolor": "white",
            "linecolor": "white",
            "ticks": ""
           },
           "bgcolor": "#E5ECF6",
           "radialaxis": {
            "gridcolor": "white",
            "linecolor": "white",
            "ticks": ""
           }
          },
          "scene": {
           "xaxis": {
            "backgroundcolor": "#E5ECF6",
            "gridcolor": "white",
            "gridwidth": 2,
            "linecolor": "white",
            "showbackground": true,
            "ticks": "",
            "zerolinecolor": "white"
           },
           "yaxis": {
            "backgroundcolor": "#E5ECF6",
            "gridcolor": "white",
            "gridwidth": 2,
            "linecolor": "white",
            "showbackground": true,
            "ticks": "",
            "zerolinecolor": "white"
           },
           "zaxis": {
            "backgroundcolor": "#E5ECF6",
            "gridcolor": "white",
            "gridwidth": 2,
            "linecolor": "white",
            "showbackground": true,
            "ticks": "",
            "zerolinecolor": "white"
           }
          },
          "shapedefaults": {
           "line": {
            "color": "#2a3f5f"
           }
          },
          "ternary": {
           "aaxis": {
            "gridcolor": "white",
            "linecolor": "white",
            "ticks": ""
           },
           "baxis": {
            "gridcolor": "white",
            "linecolor": "white",
            "ticks": ""
           },
           "bgcolor": "#E5ECF6",
           "caxis": {
            "gridcolor": "white",
            "linecolor": "white",
            "ticks": ""
           }
          },
          "title": {
           "x": 0.05
          },
          "xaxis": {
           "automargin": true,
           "gridcolor": "white",
           "linecolor": "white",
           "ticks": "",
           "title": {
            "standoff": 15
           },
           "zerolinecolor": "white",
           "zerolinewidth": 2
          },
          "yaxis": {
           "automargin": true,
           "gridcolor": "white",
           "linecolor": "white",
           "ticks": "",
           "title": {
            "standoff": 15
           },
           "zerolinecolor": "white",
           "zerolinewidth": 2
          }
         }
        },
        "title": {
         "font": {
          "color": "#4D5663"
         }
        },
        "xaxis": {
         "gridcolor": "#E1E5ED",
         "showgrid": true,
         "tickfont": {
          "color": "#4D5663"
         },
         "title": {
          "font": {
           "color": "#4D5663"
          },
          "text": ""
         },
         "zerolinecolor": "#E1E5ED"
        },
        "yaxis": {
         "gridcolor": "#E1E5ED",
         "showgrid": true,
         "tickfont": {
          "color": "#4D5663"
         },
         "title": {
          "font": {
           "color": "#4D5663"
          },
          "text": ""
         },
         "zerolinecolor": "#E1E5ED"
        }
       }
      },
      "text/html": [
       "<div>\n",
       "        \n",
       "        \n",
       "            <div id=\"7d6ca571-d5c1-4ec0-a22f-e7782e66d77c\" class=\"plotly-graph-div\" style=\"height:525px; width:100%;\"></div>\n",
       "            <script type=\"text/javascript\">\n",
       "                require([\"plotly\"], function(Plotly) {\n",
       "                    window.PLOTLYENV=window.PLOTLYENV || {};\n",
       "                    window.PLOTLYENV.BASE_URL='https://plot.ly';\n",
       "                    \n",
       "                if (document.getElementById(\"7d6ca571-d5c1-4ec0-a22f-e7782e66d77c\")) {\n",
       "                    Plotly.newPlot(\n",
       "                        '7d6ca571-d5c1-4ec0-a22f-e7782e66d77c',\n",
       "                        [{\"histfunc\": \"count\", \"histnorm\": \"\", \"marker\": {\"color\": \"rgba(255, 153, 51, 1.0)\", \"line\": {\"color\": \"#4D5663\", \"width\": 1.3}}, \"name\": \"A\", \"nbinsx\": 25, \"opacity\": 0.8, \"orientation\": \"v\", \"type\": \"histogram\", \"x\": [-0.9734495742841736, -1.8315951967413935, 1.6139020442339822, 1.8317994231752863, -0.5703850399579571, -1.4741058750836376, 0.3556724369296695, 0.5896167900058208, -0.16588761429519788, 1.252817890189307, 0.8244913688037369, -0.8310634233310962, -1.2715301311174314, 0.8813921954359295, 0.03008326150665548, 1.796935266435818, 0.36940181717575304, -0.8813170476695465, -0.31461403362256685, -0.4468206880588594, 0.3240352703956821, -0.4174928910302742, -0.8936299905709542, -1.7730351725609956, -0.17509775157041949, 1.785575038048923, 0.8693153126170038, -0.9119334319497847, 0.06855935946590477, 0.5983975207014364, -0.3125289594386086, -1.623670806104809, -1.5420589595567573, 1.3286785347616383, -1.094158923464464, 0.21930454522962683, 0.8354226939734191, 1.1112027436645884, 0.5706132554817172, 1.5175492736710126, -0.741270592687962, 0.7179471066369602, -0.11923765585506343, -0.5190825867431396, -1.223108562573393, -0.24851600060140075, 1.1382508831643312, -0.033081660969711255, 0.5175216536790487, 0.7544486986602126, -0.6518679982601071, 2.070787774933711, 0.4426842316054046, 0.05653702034559746, -1.0053907104192161, -0.786399787410555, 0.27850043786370504, 0.3916013705575103, 0.43507671462973674, 1.3045455981258764, 1.5209664834575232, 0.5703063793983049, -0.20123025062794503, -0.04784662293665812, 0.9508747258949924, 0.10041817141614233, 0.05723625804651315, -0.04030529057318736, 0.7335235062619401, 0.8982570392990319, 1.1155809290713437, 0.8844599452843706, -0.6148252072505153, 1.1594874940128568, -1.216817774524191, -0.8890426465705751, -1.893518423950157, -0.33140872246822817, -0.26953768733587197, 0.9961753075937271, 0.03607656273618685, -0.4870399182323607, -0.7339647437901523, 0.5475059713581206, -1.1018093852788269, -1.4823859267101909, -1.6501041838493982, 0.20377009012743325, 0.1762274744366041, -0.6017592186585072, 0.3590576908726275, 0.7428489289251691, 0.48584201834020807, 0.6945617012876489, -1.1489156980425708, 0.6131057392500935, 0.17885470690537067, 0.26446508278372033, -0.10706051662167917, 0.6223017828248917]}],\n",
       "                        {\"barmode\": \"overlay\", \"legend\": {\"bgcolor\": \"#F5F6F9\", \"font\": {\"color\": \"#4D5663\"}}, \"paper_bgcolor\": \"#F5F6F9\", \"plot_bgcolor\": \"#F5F6F9\", \"template\": {\"data\": {\"bar\": [{\"error_x\": {\"color\": \"#2a3f5f\"}, \"error_y\": {\"color\": \"#2a3f5f\"}, \"marker\": {\"line\": {\"color\": \"#E5ECF6\", \"width\": 0.5}}, \"type\": \"bar\"}], \"barpolar\": [{\"marker\": {\"line\": {\"color\": \"#E5ECF6\", \"width\": 0.5}}, \"type\": \"barpolar\"}], \"carpet\": [{\"aaxis\": {\"endlinecolor\": \"#2a3f5f\", \"gridcolor\": \"white\", \"linecolor\": \"white\", \"minorgridcolor\": \"white\", \"startlinecolor\": \"#2a3f5f\"}, \"baxis\": {\"endlinecolor\": \"#2a3f5f\", \"gridcolor\": \"white\", \"linecolor\": \"white\", \"minorgridcolor\": \"white\", \"startlinecolor\": \"#2a3f5f\"}, \"type\": \"carpet\"}], \"choropleth\": [{\"colorbar\": {\"outlinewidth\": 0, \"ticks\": \"\"}, \"type\": \"choropleth\"}], \"contour\": [{\"colorbar\": {\"outlinewidth\": 0, \"ticks\": \"\"}, \"colorscale\": [[0.0, \"#0d0887\"], [0.1111111111111111, \"#46039f\"], [0.2222222222222222, \"#7201a8\"], [0.3333333333333333, \"#9c179e\"], [0.4444444444444444, \"#bd3786\"], [0.5555555555555556, \"#d8576b\"], [0.6666666666666666, \"#ed7953\"], [0.7777777777777778, \"#fb9f3a\"], [0.8888888888888888, \"#fdca26\"], [1.0, \"#f0f921\"]], \"type\": \"contour\"}], \"contourcarpet\": [{\"colorbar\": {\"outlinewidth\": 0, \"ticks\": \"\"}, \"type\": \"contourcarpet\"}], \"heatmap\": [{\"colorbar\": {\"outlinewidth\": 0, \"ticks\": \"\"}, \"colorscale\": [[0.0, \"#0d0887\"], [0.1111111111111111, \"#46039f\"], [0.2222222222222222, \"#7201a8\"], [0.3333333333333333, \"#9c179e\"], [0.4444444444444444, \"#bd3786\"], [0.5555555555555556, \"#d8576b\"], [0.6666666666666666, \"#ed7953\"], [0.7777777777777778, \"#fb9f3a\"], [0.8888888888888888, \"#fdca26\"], [1.0, \"#f0f921\"]], \"type\": \"heatmap\"}], \"heatmapgl\": [{\"colorbar\": {\"outlinewidth\": 0, \"ticks\": \"\"}, \"colorscale\": [[0.0, \"#0d0887\"], [0.1111111111111111, \"#46039f\"], [0.2222222222222222, \"#7201a8\"], [0.3333333333333333, \"#9c179e\"], [0.4444444444444444, \"#bd3786\"], [0.5555555555555556, \"#d8576b\"], [0.6666666666666666, \"#ed7953\"], [0.7777777777777778, \"#fb9f3a\"], [0.8888888888888888, \"#fdca26\"], [1.0, \"#f0f921\"]], \"type\": \"heatmapgl\"}], \"histogram\": [{\"marker\": {\"colorbar\": {\"outlinewidth\": 0, \"ticks\": \"\"}}, \"type\": \"histogram\"}], \"histogram2d\": [{\"colorbar\": {\"outlinewidth\": 0, \"ticks\": \"\"}, \"colorscale\": [[0.0, \"#0d0887\"], [0.1111111111111111, \"#46039f\"], [0.2222222222222222, \"#7201a8\"], [0.3333333333333333, \"#9c179e\"], [0.4444444444444444, \"#bd3786\"], [0.5555555555555556, \"#d8576b\"], [0.6666666666666666, \"#ed7953\"], [0.7777777777777778, \"#fb9f3a\"], [0.8888888888888888, \"#fdca26\"], [1.0, \"#f0f921\"]], \"type\": \"histogram2d\"}], \"histogram2dcontour\": [{\"colorbar\": {\"outlinewidth\": 0, \"ticks\": \"\"}, \"colorscale\": [[0.0, \"#0d0887\"], [0.1111111111111111, \"#46039f\"], [0.2222222222222222, \"#7201a8\"], [0.3333333333333333, \"#9c179e\"], [0.4444444444444444, \"#bd3786\"], [0.5555555555555556, \"#d8576b\"], [0.6666666666666666, \"#ed7953\"], [0.7777777777777778, \"#fb9f3a\"], [0.8888888888888888, \"#fdca26\"], [1.0, \"#f0f921\"]], \"type\": \"histogram2dcontour\"}], \"mesh3d\": [{\"colorbar\": {\"outlinewidth\": 0, \"ticks\": \"\"}, \"type\": \"mesh3d\"}], \"parcoords\": [{\"line\": {\"colorbar\": {\"outlinewidth\": 0, \"ticks\": \"\"}}, \"type\": \"parcoords\"}], \"pie\": [{\"automargin\": true, \"type\": \"pie\"}], \"scatter\": [{\"marker\": {\"colorbar\": {\"outlinewidth\": 0, \"ticks\": \"\"}}, \"type\": \"scatter\"}], \"scatter3d\": [{\"line\": {\"colorbar\": {\"outlinewidth\": 0, \"ticks\": \"\"}}, \"marker\": {\"colorbar\": {\"outlinewidth\": 0, \"ticks\": \"\"}}, \"type\": \"scatter3d\"}], \"scattercarpet\": [{\"marker\": {\"colorbar\": {\"outlinewidth\": 0, \"ticks\": \"\"}}, \"type\": \"scattercarpet\"}], \"scattergeo\": [{\"marker\": {\"colorbar\": {\"outlinewidth\": 0, \"ticks\": \"\"}}, \"type\": \"scattergeo\"}], \"scattergl\": [{\"marker\": {\"colorbar\": {\"outlinewidth\": 0, \"ticks\": \"\"}}, \"type\": \"scattergl\"}], \"scattermapbox\": [{\"marker\": {\"colorbar\": {\"outlinewidth\": 0, \"ticks\": \"\"}}, \"type\": \"scattermapbox\"}], \"scatterpolar\": [{\"marker\": {\"colorbar\": {\"outlinewidth\": 0, \"ticks\": \"\"}}, \"type\": \"scatterpolar\"}], \"scatterpolargl\": [{\"marker\": {\"colorbar\": {\"outlinewidth\": 0, \"ticks\": \"\"}}, \"type\": \"scatterpolargl\"}], \"scatterternary\": [{\"marker\": {\"colorbar\": {\"outlinewidth\": 0, \"ticks\": \"\"}}, \"type\": \"scatterternary\"}], \"surface\": [{\"colorbar\": {\"outlinewidth\": 0, \"ticks\": \"\"}, \"colorscale\": [[0.0, \"#0d0887\"], [0.1111111111111111, \"#46039f\"], [0.2222222222222222, \"#7201a8\"], [0.3333333333333333, \"#9c179e\"], [0.4444444444444444, \"#bd3786\"], [0.5555555555555556, \"#d8576b\"], [0.6666666666666666, \"#ed7953\"], [0.7777777777777778, \"#fb9f3a\"], [0.8888888888888888, \"#fdca26\"], [1.0, \"#f0f921\"]], \"type\": \"surface\"}], \"table\": [{\"cells\": {\"fill\": {\"color\": \"#EBF0F8\"}, \"line\": {\"color\": \"white\"}}, \"header\": {\"fill\": {\"color\": \"#C8D4E3\"}, \"line\": {\"color\": \"white\"}}, \"type\": \"table\"}]}, \"layout\": {\"annotationdefaults\": {\"arrowcolor\": \"#2a3f5f\", \"arrowhead\": 0, \"arrowwidth\": 1}, \"coloraxis\": {\"colorbar\": {\"outlinewidth\": 0, \"ticks\": \"\"}}, \"colorscale\": {\"diverging\": [[0, \"#8e0152\"], [0.1, \"#c51b7d\"], [0.2, \"#de77ae\"], [0.3, \"#f1b6da\"], [0.4, \"#fde0ef\"], [0.5, \"#f7f7f7\"], [0.6, \"#e6f5d0\"], [0.7, \"#b8e186\"], [0.8, \"#7fbc41\"], [0.9, \"#4d9221\"], [1, \"#276419\"]], \"sequential\": [[0.0, \"#0d0887\"], [0.1111111111111111, \"#46039f\"], [0.2222222222222222, \"#7201a8\"], [0.3333333333333333, \"#9c179e\"], [0.4444444444444444, \"#bd3786\"], [0.5555555555555556, \"#d8576b\"], [0.6666666666666666, \"#ed7953\"], [0.7777777777777778, \"#fb9f3a\"], [0.8888888888888888, \"#fdca26\"], [1.0, \"#f0f921\"]], \"sequentialminus\": [[0.0, \"#0d0887\"], [0.1111111111111111, \"#46039f\"], [0.2222222222222222, \"#7201a8\"], [0.3333333333333333, \"#9c179e\"], [0.4444444444444444, \"#bd3786\"], [0.5555555555555556, \"#d8576b\"], [0.6666666666666666, \"#ed7953\"], [0.7777777777777778, \"#fb9f3a\"], [0.8888888888888888, \"#fdca26\"], [1.0, \"#f0f921\"]]}, \"colorway\": [\"#636efa\", \"#EF553B\", \"#00cc96\", \"#ab63fa\", \"#FFA15A\", \"#19d3f3\", \"#FF6692\", \"#B6E880\", \"#FF97FF\", \"#FECB52\"], \"font\": {\"color\": \"#2a3f5f\"}, \"geo\": {\"bgcolor\": \"white\", \"lakecolor\": \"white\", \"landcolor\": \"#E5ECF6\", \"showlakes\": true, \"showland\": true, \"subunitcolor\": \"white\"}, \"hoverlabel\": {\"align\": \"left\"}, \"hovermode\": \"closest\", \"mapbox\": {\"style\": \"light\"}, \"paper_bgcolor\": \"white\", \"plot_bgcolor\": \"#E5ECF6\", \"polar\": {\"angularaxis\": {\"gridcolor\": \"white\", \"linecolor\": \"white\", \"ticks\": \"\"}, \"bgcolor\": \"#E5ECF6\", \"radialaxis\": {\"gridcolor\": \"white\", \"linecolor\": \"white\", \"ticks\": \"\"}}, \"scene\": {\"xaxis\": {\"backgroundcolor\": \"#E5ECF6\", \"gridcolor\": \"white\", \"gridwidth\": 2, \"linecolor\": \"white\", \"showbackground\": true, \"ticks\": \"\", \"zerolinecolor\": \"white\"}, \"yaxis\": {\"backgroundcolor\": \"#E5ECF6\", \"gridcolor\": \"white\", \"gridwidth\": 2, \"linecolor\": \"white\", \"showbackground\": true, \"ticks\": \"\", \"zerolinecolor\": \"white\"}, \"zaxis\": {\"backgroundcolor\": \"#E5ECF6\", \"gridcolor\": \"white\", \"gridwidth\": 2, \"linecolor\": \"white\", \"showbackground\": true, \"ticks\": \"\", \"zerolinecolor\": \"white\"}}, \"shapedefaults\": {\"line\": {\"color\": \"#2a3f5f\"}}, \"ternary\": {\"aaxis\": {\"gridcolor\": \"white\", \"linecolor\": \"white\", \"ticks\": \"\"}, \"baxis\": {\"gridcolor\": \"white\", \"linecolor\": \"white\", \"ticks\": \"\"}, \"bgcolor\": \"#E5ECF6\", \"caxis\": {\"gridcolor\": \"white\", \"linecolor\": \"white\", \"ticks\": \"\"}}, \"title\": {\"x\": 0.05}, \"xaxis\": {\"automargin\": true, \"gridcolor\": \"white\", \"linecolor\": \"white\", \"ticks\": \"\", \"title\": {\"standoff\": 15}, \"zerolinecolor\": \"white\", \"zerolinewidth\": 2}, \"yaxis\": {\"automargin\": true, \"gridcolor\": \"white\", \"linecolor\": \"white\", \"ticks\": \"\", \"title\": {\"standoff\": 15}, \"zerolinecolor\": \"white\", \"zerolinewidth\": 2}}}, \"title\": {\"font\": {\"color\": \"#4D5663\"}}, \"xaxis\": {\"gridcolor\": \"#E1E5ED\", \"showgrid\": true, \"tickfont\": {\"color\": \"#4D5663\"}, \"title\": {\"font\": {\"color\": \"#4D5663\"}, \"text\": \"\"}, \"zerolinecolor\": \"#E1E5ED\"}, \"yaxis\": {\"gridcolor\": \"#E1E5ED\", \"showgrid\": true, \"tickfont\": {\"color\": \"#4D5663\"}, \"title\": {\"font\": {\"color\": \"#4D5663\"}, \"text\": \"\"}, \"zerolinecolor\": \"#E1E5ED\"}},\n",
       "                        {\"showLink\": true, \"linkText\": \"Export to plot.ly\", \"plotlyServerURL\": \"https://plot.ly\", \"responsive\": true}\n",
       "                    ).then(function(){\n",
       "                            \n",
       "var gd = document.getElementById('7d6ca571-d5c1-4ec0-a22f-e7782e66d77c');\n",
       "var x = new MutationObserver(function (mutations, observer) {{\n",
       "        var display = window.getComputedStyle(gd).display;\n",
       "        if (!display || display === 'none') {{\n",
       "            console.log([gd, 'removed!']);\n",
       "            Plotly.purge(gd);\n",
       "            observer.disconnect();\n",
       "        }}\n",
       "}});\n",
       "\n",
       "// Listen for the removal of the full notebook cells\n",
       "var notebookContainer = gd.closest('#notebook-container');\n",
       "if (notebookContainer) {{\n",
       "    x.observe(notebookContainer, {childList: true});\n",
       "}}\n",
       "\n",
       "// Listen for the clearing of the current output cell\n",
       "var outputEl = gd.closest('.output');\n",
       "if (outputEl) {{\n",
       "    x.observe(outputEl, {childList: true});\n",
       "}}\n",
       "\n",
       "                        })\n",
       "                };\n",
       "                });\n",
       "            </script>\n",
       "        </div>"
      ]
     },
     "metadata": {},
     "output_type": "display_data"
    }
   ],
   "source": [
    "df['A'].iplot(kind='hist',bins=25)"
   ]
  },
  {
   "cell_type": "markdown",
   "metadata": {},
   "source": [
    "## Bolha"
   ]
  },
  {
   "cell_type": "code",
   "execution_count": 26,
   "metadata": {},
   "outputs": [
    {
     "data": {
      "application/vnd.plotly.v1+json": {
       "config": {
        "linkText": "Export to plot.ly",
        "plotlyServerURL": "https://plot.ly",
        "showLink": true
       },
       "data": [
        {
         "marker": {
          "color": [
           "rgb(255, 153, 51)",
           "rgb(55, 128, 191)",
           "rgb(50, 171, 96)",
           "rgb(128, 0, 128)",
           "rgb(219, 64, 82)",
           "rgb(0, 128, 128)",
           "rgb(255, 255, 51)",
           "rgb(128, 128, 0)",
           "rgb(251, 128, 114)",
           "rgb(128, 177, 211)"
          ],
          "line": {
           "width": 1.3
          },
          "size": [
           67,
           54,
           51,
           52,
           31,
           75,
           33,
           89,
           18,
           60,
           58,
           61,
           42,
           76,
           45,
           58,
           87,
           76,
           40,
           80,
           43,
           27,
           37,
           63,
           77,
           39,
           55,
           24,
           112,
           63,
           42,
           60,
           70,
           97,
           36,
           101,
           31,
           74,
           69,
           72,
           39,
           69,
           86,
           36,
           55,
           42,
           39,
           33,
           58,
           44,
           32,
           58,
           56,
           58,
           67,
           56,
           64,
           56,
           57,
           57,
           40,
           65,
           109,
           86,
           38,
           56,
           45,
           82,
           61,
           92,
           70,
           71,
           37,
           70,
           61,
           70,
           21,
           44,
           46,
           37,
           56,
           106,
           74,
           20,
           30,
           41,
           74,
           48,
           44,
           31,
           37,
           75,
           83,
           92,
           88,
           92,
           56,
           86,
           44,
           12
          ],
          "symbol": "circle"
         },
         "mode": "markers",
         "text": "",
         "type": "scatter",
         "x": [
          -0.9734495742841736,
          -1.8315951967413935,
          1.6139020442339822,
          1.8317994231752863,
          -0.5703850399579571,
          -1.4741058750836376,
          0.3556724369296695,
          0.5896167900058208,
          -0.16588761429519788,
          1.252817890189307,
          0.8244913688037369,
          -0.8310634233310962,
          -1.2715301311174314,
          0.8813921954359295,
          0.03008326150665548,
          1.796935266435818,
          0.36940181717575304,
          -0.8813170476695465,
          -0.31461403362256685,
          -0.4468206880588594,
          0.3240352703956821,
          -0.4174928910302742,
          -0.8936299905709542,
          -1.7730351725609956,
          -0.17509775157041949,
          1.785575038048923,
          0.8693153126170038,
          -0.9119334319497847,
          0.06855935946590477,
          0.5983975207014364,
          -0.3125289594386086,
          -1.623670806104809,
          -1.5420589595567573,
          1.3286785347616383,
          -1.094158923464464,
          0.21930454522962683,
          0.8354226939734191,
          1.1112027436645884,
          0.5706132554817172,
          1.5175492736710126,
          -0.741270592687962,
          0.7179471066369602,
          -0.11923765585506343,
          -0.5190825867431396,
          -1.223108562573393,
          -0.24851600060140075,
          1.1382508831643312,
          -0.033081660969711255,
          0.5175216536790487,
          0.7544486986602126,
          -0.6518679982601071,
          2.070787774933711,
          0.4426842316054046,
          0.05653702034559746,
          -1.0053907104192161,
          -0.786399787410555,
          0.27850043786370504,
          0.3916013705575103,
          0.43507671462973674,
          1.3045455981258764,
          1.5209664834575232,
          0.5703063793983049,
          -0.20123025062794503,
          -0.04784662293665812,
          0.9508747258949924,
          0.10041817141614233,
          0.05723625804651315,
          -0.04030529057318736,
          0.7335235062619401,
          0.8982570392990319,
          1.1155809290713437,
          0.8844599452843706,
          -0.6148252072505153,
          1.1594874940128568,
          -1.216817774524191,
          -0.8890426465705751,
          -1.893518423950157,
          -0.33140872246822817,
          -0.26953768733587197,
          0.9961753075937271,
          0.03607656273618685,
          -0.4870399182323607,
          -0.7339647437901523,
          0.5475059713581206,
          -1.1018093852788269,
          -1.4823859267101909,
          -1.6501041838493982,
          0.20377009012743325,
          0.1762274744366041,
          -0.6017592186585072,
          0.3590576908726275,
          0.7428489289251691,
          0.48584201834020807,
          0.6945617012876489,
          -1.1489156980425708,
          0.6131057392500935,
          0.17885470690537067,
          0.26446508278372033,
          -0.10706051662167917,
          0.6223017828248917
         ],
         "y": [
          -0.5811999608120723,
          -0.8036697312678183,
          0.3854041880109005,
          0.4209603813984334,
          -0.4281246077274638,
          -0.19852210221305122,
          -2.054418519812087,
          0.4077891217927148,
          -0.5945240763963975,
          -1.536557826592104,
          0.672332698408608,
          1.4028979182530195,
          1.4439820744695246,
          0.20886292761525518,
          -0.7393879162186503,
          -0.5368487628608516,
          -1.3688133482970724,
          0.19474772168671534,
          0.2647889831001665,
          -1.251547816940817,
          0.48556271338398527,
          0.5285982029460005,
          -0.6397201840797241,
          0.5081278922806333,
          0.2659176640020525,
          2.552614374126511,
          -1.1493716413393977,
          1.3345305675591104,
          0.5974633782328114,
          -0.786979507572439,
          0.06608038797047978,
          -0.8145816284732865,
          1.5847483366580726,
          -1.1202607419391661,
          -1.049640524535017,
          -0.006903395515333687,
          -0.524048042000973,
          0.44602741836718635,
          0.20789948771212124,
          -1.7806121425814323,
          0.0854339021506031,
          0.6102089740674195,
          0.9728652238276162,
          -1.4346181102507178,
          0.4991602969072206,
          1.7848098537008248,
          0.47678906443316527,
          0.30715039761978874,
          -0.08716260522525818,
          0.35767698840008727,
          -0.11745608886652367,
          -1.786882759539797,
          1.6238306895783923,
          -1.1762234413326496,
          -0.8428802127555798,
          0.9966021977974714,
          0.8373405137607192,
          0.8659528776627187,
          2.0692017376026457,
          1.4272810302299084,
          -1.7892289543718998,
          1.6576497596199353,
          -0.03281965544361487,
          -1.8153586870341933,
          -0.7179954280924857,
          -1.0977240279134834,
          -0.9259475104250532,
          0.9852912806939138,
          -0.4840186387488574,
          -0.43089106542389977,
          0.2911652394892015,
          -0.965132820164843,
          -0.7180607125895234,
          -1.0041459219518847,
          -0.7846987822530055,
          0.12630702047120732,
          -0.3812210919119034,
          -0.3037783960675797,
          -0.282441006815986,
          0.42824543291257966,
          0.006255871853128791,
          0.7851077459102427,
          -0.6255412712308532,
          -0.06663669277893636,
          0.7293892078205981,
          1.512249438121794,
          0.05893141654083086,
          0.9760093768519751,
          -0.28824847602835263,
          -0.30940127812256835,
          0.537953257392704,
          0.6381235440509992,
          0.7727316578039034,
          -0.25435089513654213,
          -0.6790857730570136,
          -0.6249789946320716,
          1.4731436561408768,
          -0.0637549971579087,
          -0.30502694841740013,
          0.37810360901576967
         ]
        }
       ],
       "layout": {
        "legend": {
         "bgcolor": "#F5F6F9",
         "font": {
          "color": "#4D5663"
         }
        },
        "paper_bgcolor": "#F5F6F9",
        "plot_bgcolor": "#F5F6F9",
        "template": {
         "data": {
          "bar": [
           {
            "error_x": {
             "color": "#2a3f5f"
            },
            "error_y": {
             "color": "#2a3f5f"
            },
            "marker": {
             "line": {
              "color": "#E5ECF6",
              "width": 0.5
             }
            },
            "type": "bar"
           }
          ],
          "barpolar": [
           {
            "marker": {
             "line": {
              "color": "#E5ECF6",
              "width": 0.5
             }
            },
            "type": "barpolar"
           }
          ],
          "carpet": [
           {
            "aaxis": {
             "endlinecolor": "#2a3f5f",
             "gridcolor": "white",
             "linecolor": "white",
             "minorgridcolor": "white",
             "startlinecolor": "#2a3f5f"
            },
            "baxis": {
             "endlinecolor": "#2a3f5f",
             "gridcolor": "white",
             "linecolor": "white",
             "minorgridcolor": "white",
             "startlinecolor": "#2a3f5f"
            },
            "type": "carpet"
           }
          ],
          "choropleth": [
           {
            "colorbar": {
             "outlinewidth": 0,
             "ticks": ""
            },
            "type": "choropleth"
           }
          ],
          "contour": [
           {
            "colorbar": {
             "outlinewidth": 0,
             "ticks": ""
            },
            "colorscale": [
             [
              0,
              "#0d0887"
             ],
             [
              0.1111111111111111,
              "#46039f"
             ],
             [
              0.2222222222222222,
              "#7201a8"
             ],
             [
              0.3333333333333333,
              "#9c179e"
             ],
             [
              0.4444444444444444,
              "#bd3786"
             ],
             [
              0.5555555555555556,
              "#d8576b"
             ],
             [
              0.6666666666666666,
              "#ed7953"
             ],
             [
              0.7777777777777778,
              "#fb9f3a"
             ],
             [
              0.8888888888888888,
              "#fdca26"
             ],
             [
              1,
              "#f0f921"
             ]
            ],
            "type": "contour"
           }
          ],
          "contourcarpet": [
           {
            "colorbar": {
             "outlinewidth": 0,
             "ticks": ""
            },
            "type": "contourcarpet"
           }
          ],
          "heatmap": [
           {
            "colorbar": {
             "outlinewidth": 0,
             "ticks": ""
            },
            "colorscale": [
             [
              0,
              "#0d0887"
             ],
             [
              0.1111111111111111,
              "#46039f"
             ],
             [
              0.2222222222222222,
              "#7201a8"
             ],
             [
              0.3333333333333333,
              "#9c179e"
             ],
             [
              0.4444444444444444,
              "#bd3786"
             ],
             [
              0.5555555555555556,
              "#d8576b"
             ],
             [
              0.6666666666666666,
              "#ed7953"
             ],
             [
              0.7777777777777778,
              "#fb9f3a"
             ],
             [
              0.8888888888888888,
              "#fdca26"
             ],
             [
              1,
              "#f0f921"
             ]
            ],
            "type": "heatmap"
           }
          ],
          "heatmapgl": [
           {
            "colorbar": {
             "outlinewidth": 0,
             "ticks": ""
            },
            "colorscale": [
             [
              0,
              "#0d0887"
             ],
             [
              0.1111111111111111,
              "#46039f"
             ],
             [
              0.2222222222222222,
              "#7201a8"
             ],
             [
              0.3333333333333333,
              "#9c179e"
             ],
             [
              0.4444444444444444,
              "#bd3786"
             ],
             [
              0.5555555555555556,
              "#d8576b"
             ],
             [
              0.6666666666666666,
              "#ed7953"
             ],
             [
              0.7777777777777778,
              "#fb9f3a"
             ],
             [
              0.8888888888888888,
              "#fdca26"
             ],
             [
              1,
              "#f0f921"
             ]
            ],
            "type": "heatmapgl"
           }
          ],
          "histogram": [
           {
            "marker": {
             "colorbar": {
              "outlinewidth": 0,
              "ticks": ""
             }
            },
            "type": "histogram"
           }
          ],
          "histogram2d": [
           {
            "colorbar": {
             "outlinewidth": 0,
             "ticks": ""
            },
            "colorscale": [
             [
              0,
              "#0d0887"
             ],
             [
              0.1111111111111111,
              "#46039f"
             ],
             [
              0.2222222222222222,
              "#7201a8"
             ],
             [
              0.3333333333333333,
              "#9c179e"
             ],
             [
              0.4444444444444444,
              "#bd3786"
             ],
             [
              0.5555555555555556,
              "#d8576b"
             ],
             [
              0.6666666666666666,
              "#ed7953"
             ],
             [
              0.7777777777777778,
              "#fb9f3a"
             ],
             [
              0.8888888888888888,
              "#fdca26"
             ],
             [
              1,
              "#f0f921"
             ]
            ],
            "type": "histogram2d"
           }
          ],
          "histogram2dcontour": [
           {
            "colorbar": {
             "outlinewidth": 0,
             "ticks": ""
            },
            "colorscale": [
             [
              0,
              "#0d0887"
             ],
             [
              0.1111111111111111,
              "#46039f"
             ],
             [
              0.2222222222222222,
              "#7201a8"
             ],
             [
              0.3333333333333333,
              "#9c179e"
             ],
             [
              0.4444444444444444,
              "#bd3786"
             ],
             [
              0.5555555555555556,
              "#d8576b"
             ],
             [
              0.6666666666666666,
              "#ed7953"
             ],
             [
              0.7777777777777778,
              "#fb9f3a"
             ],
             [
              0.8888888888888888,
              "#fdca26"
             ],
             [
              1,
              "#f0f921"
             ]
            ],
            "type": "histogram2dcontour"
           }
          ],
          "mesh3d": [
           {
            "colorbar": {
             "outlinewidth": 0,
             "ticks": ""
            },
            "type": "mesh3d"
           }
          ],
          "parcoords": [
           {
            "line": {
             "colorbar": {
              "outlinewidth": 0,
              "ticks": ""
             }
            },
            "type": "parcoords"
           }
          ],
          "pie": [
           {
            "automargin": true,
            "type": "pie"
           }
          ],
          "scatter": [
           {
            "marker": {
             "colorbar": {
              "outlinewidth": 0,
              "ticks": ""
             }
            },
            "type": "scatter"
           }
          ],
          "scatter3d": [
           {
            "line": {
             "colorbar": {
              "outlinewidth": 0,
              "ticks": ""
             }
            },
            "marker": {
             "colorbar": {
              "outlinewidth": 0,
              "ticks": ""
             }
            },
            "type": "scatter3d"
           }
          ],
          "scattercarpet": [
           {
            "marker": {
             "colorbar": {
              "outlinewidth": 0,
              "ticks": ""
             }
            },
            "type": "scattercarpet"
           }
          ],
          "scattergeo": [
           {
            "marker": {
             "colorbar": {
              "outlinewidth": 0,
              "ticks": ""
             }
            },
            "type": "scattergeo"
           }
          ],
          "scattergl": [
           {
            "marker": {
             "colorbar": {
              "outlinewidth": 0,
              "ticks": ""
             }
            },
            "type": "scattergl"
           }
          ],
          "scattermapbox": [
           {
            "marker": {
             "colorbar": {
              "outlinewidth": 0,
              "ticks": ""
             }
            },
            "type": "scattermapbox"
           }
          ],
          "scatterpolar": [
           {
            "marker": {
             "colorbar": {
              "outlinewidth": 0,
              "ticks": ""
             }
            },
            "type": "scatterpolar"
           }
          ],
          "scatterpolargl": [
           {
            "marker": {
             "colorbar": {
              "outlinewidth": 0,
              "ticks": ""
             }
            },
            "type": "scatterpolargl"
           }
          ],
          "scatterternary": [
           {
            "marker": {
             "colorbar": {
              "outlinewidth": 0,
              "ticks": ""
             }
            },
            "type": "scatterternary"
           }
          ],
          "surface": [
           {
            "colorbar": {
             "outlinewidth": 0,
             "ticks": ""
            },
            "colorscale": [
             [
              0,
              "#0d0887"
             ],
             [
              0.1111111111111111,
              "#46039f"
             ],
             [
              0.2222222222222222,
              "#7201a8"
             ],
             [
              0.3333333333333333,
              "#9c179e"
             ],
             [
              0.4444444444444444,
              "#bd3786"
             ],
             [
              0.5555555555555556,
              "#d8576b"
             ],
             [
              0.6666666666666666,
              "#ed7953"
             ],
             [
              0.7777777777777778,
              "#fb9f3a"
             ],
             [
              0.8888888888888888,
              "#fdca26"
             ],
             [
              1,
              "#f0f921"
             ]
            ],
            "type": "surface"
           }
          ],
          "table": [
           {
            "cells": {
             "fill": {
              "color": "#EBF0F8"
             },
             "line": {
              "color": "white"
             }
            },
            "header": {
             "fill": {
              "color": "#C8D4E3"
             },
             "line": {
              "color": "white"
             }
            },
            "type": "table"
           }
          ]
         },
         "layout": {
          "annotationdefaults": {
           "arrowcolor": "#2a3f5f",
           "arrowhead": 0,
           "arrowwidth": 1
          },
          "coloraxis": {
           "colorbar": {
            "outlinewidth": 0,
            "ticks": ""
           }
          },
          "colorscale": {
           "diverging": [
            [
             0,
             "#8e0152"
            ],
            [
             0.1,
             "#c51b7d"
            ],
            [
             0.2,
             "#de77ae"
            ],
            [
             0.3,
             "#f1b6da"
            ],
            [
             0.4,
             "#fde0ef"
            ],
            [
             0.5,
             "#f7f7f7"
            ],
            [
             0.6,
             "#e6f5d0"
            ],
            [
             0.7,
             "#b8e186"
            ],
            [
             0.8,
             "#7fbc41"
            ],
            [
             0.9,
             "#4d9221"
            ],
            [
             1,
             "#276419"
            ]
           ],
           "sequential": [
            [
             0,
             "#0d0887"
            ],
            [
             0.1111111111111111,
             "#46039f"
            ],
            [
             0.2222222222222222,
             "#7201a8"
            ],
            [
             0.3333333333333333,
             "#9c179e"
            ],
            [
             0.4444444444444444,
             "#bd3786"
            ],
            [
             0.5555555555555556,
             "#d8576b"
            ],
            [
             0.6666666666666666,
             "#ed7953"
            ],
            [
             0.7777777777777778,
             "#fb9f3a"
            ],
            [
             0.8888888888888888,
             "#fdca26"
            ],
            [
             1,
             "#f0f921"
            ]
           ],
           "sequentialminus": [
            [
             0,
             "#0d0887"
            ],
            [
             0.1111111111111111,
             "#46039f"
            ],
            [
             0.2222222222222222,
             "#7201a8"
            ],
            [
             0.3333333333333333,
             "#9c179e"
            ],
            [
             0.4444444444444444,
             "#bd3786"
            ],
            [
             0.5555555555555556,
             "#d8576b"
            ],
            [
             0.6666666666666666,
             "#ed7953"
            ],
            [
             0.7777777777777778,
             "#fb9f3a"
            ],
            [
             0.8888888888888888,
             "#fdca26"
            ],
            [
             1,
             "#f0f921"
            ]
           ]
          },
          "colorway": [
           "#636efa",
           "#EF553B",
           "#00cc96",
           "#ab63fa",
           "#FFA15A",
           "#19d3f3",
           "#FF6692",
           "#B6E880",
           "#FF97FF",
           "#FECB52"
          ],
          "font": {
           "color": "#2a3f5f"
          },
          "geo": {
           "bgcolor": "white",
           "lakecolor": "white",
           "landcolor": "#E5ECF6",
           "showlakes": true,
           "showland": true,
           "subunitcolor": "white"
          },
          "hoverlabel": {
           "align": "left"
          },
          "hovermode": "closest",
          "mapbox": {
           "style": "light"
          },
          "paper_bgcolor": "white",
          "plot_bgcolor": "#E5ECF6",
          "polar": {
           "angularaxis": {
            "gridcolor": "white",
            "linecolor": "white",
            "ticks": ""
           },
           "bgcolor": "#E5ECF6",
           "radialaxis": {
            "gridcolor": "white",
            "linecolor": "white",
            "ticks": ""
           }
          },
          "scene": {
           "xaxis": {
            "backgroundcolor": "#E5ECF6",
            "gridcolor": "white",
            "gridwidth": 2,
            "linecolor": "white",
            "showbackground": true,
            "ticks": "",
            "zerolinecolor": "white"
           },
           "yaxis": {
            "backgroundcolor": "#E5ECF6",
            "gridcolor": "white",
            "gridwidth": 2,
            "linecolor": "white",
            "showbackground": true,
            "ticks": "",
            "zerolinecolor": "white"
           },
           "zaxis": {
            "backgroundcolor": "#E5ECF6",
            "gridcolor": "white",
            "gridwidth": 2,
            "linecolor": "white",
            "showbackground": true,
            "ticks": "",
            "zerolinecolor": "white"
           }
          },
          "shapedefaults": {
           "line": {
            "color": "#2a3f5f"
           }
          },
          "ternary": {
           "aaxis": {
            "gridcolor": "white",
            "linecolor": "white",
            "ticks": ""
           },
           "baxis": {
            "gridcolor": "white",
            "linecolor": "white",
            "ticks": ""
           },
           "bgcolor": "#E5ECF6",
           "caxis": {
            "gridcolor": "white",
            "linecolor": "white",
            "ticks": ""
           }
          },
          "title": {
           "x": 0.05
          },
          "xaxis": {
           "automargin": true,
           "gridcolor": "white",
           "linecolor": "white",
           "ticks": "",
           "title": {
            "standoff": 15
           },
           "zerolinecolor": "white",
           "zerolinewidth": 2
          },
          "yaxis": {
           "automargin": true,
           "gridcolor": "white",
           "linecolor": "white",
           "ticks": "",
           "title": {
            "standoff": 15
           },
           "zerolinecolor": "white",
           "zerolinewidth": 2
          }
         }
        },
        "title": {
         "font": {
          "color": "#4D5663"
         }
        },
        "xaxis": {
         "gridcolor": "#E1E5ED",
         "showgrid": true,
         "tickfont": {
          "color": "#4D5663"
         },
         "title": {
          "font": {
           "color": "#4D5663"
          },
          "text": ""
         },
         "zerolinecolor": "#E1E5ED"
        },
        "yaxis": {
         "gridcolor": "#E1E5ED",
         "showgrid": true,
         "tickfont": {
          "color": "#4D5663"
         },
         "title": {
          "font": {
           "color": "#4D5663"
          },
          "text": ""
         },
         "zerolinecolor": "#E1E5ED"
        }
       }
      },
      "text/html": [
       "<div>\n",
       "        \n",
       "        \n",
       "            <div id=\"e4ead84d-28e6-4000-ba6b-acd92e8b647a\" class=\"plotly-graph-div\" style=\"height:525px; width:100%;\"></div>\n",
       "            <script type=\"text/javascript\">\n",
       "                require([\"plotly\"], function(Plotly) {\n",
       "                    window.PLOTLYENV=window.PLOTLYENV || {};\n",
       "                    window.PLOTLYENV.BASE_URL='https://plot.ly';\n",
       "                    \n",
       "                if (document.getElementById(\"e4ead84d-28e6-4000-ba6b-acd92e8b647a\")) {\n",
       "                    Plotly.newPlot(\n",
       "                        'e4ead84d-28e6-4000-ba6b-acd92e8b647a',\n",
       "                        [{\"marker\": {\"color\": [\"rgb(255, 153, 51)\", \"rgb(55, 128, 191)\", \"rgb(50, 171, 96)\", \"rgb(128, 0, 128)\", \"rgb(219, 64, 82)\", \"rgb(0, 128, 128)\", \"rgb(255, 255, 51)\", \"rgb(128, 128, 0)\", \"rgb(251, 128, 114)\", \"rgb(128, 177, 211)\"], \"line\": {\"width\": 1.3}, \"size\": [67, 54, 51, 52, 31, 75, 33, 89, 18, 60, 58, 61, 42, 76, 45, 58, 87, 76, 40, 80, 43, 27, 37, 63, 77, 39, 55, 24, 112, 63, 42, 60, 70, 97, 36, 101, 31, 74, 69, 72, 39, 69, 86, 36, 55, 42, 39, 33, 58, 44, 32, 58, 56, 58, 67, 56, 64, 56, 57, 57, 40, 65, 109, 86, 38, 56, 45, 82, 61, 92, 70, 71, 37, 70, 61, 70, 21, 44, 46, 37, 56, 106, 74, 20, 30, 41, 74, 48, 44, 31, 37, 75, 83, 92, 88, 92, 56, 86, 44, 12], \"symbol\": \"circle\"}, \"mode\": \"markers\", \"text\": \"\", \"type\": \"scatter\", \"x\": [-0.9734495742841736, -1.8315951967413935, 1.6139020442339822, 1.8317994231752863, -0.5703850399579571, -1.4741058750836376, 0.3556724369296695, 0.5896167900058208, -0.16588761429519788, 1.252817890189307, 0.8244913688037369, -0.8310634233310962, -1.2715301311174314, 0.8813921954359295, 0.03008326150665548, 1.796935266435818, 0.36940181717575304, -0.8813170476695465, -0.31461403362256685, -0.4468206880588594, 0.3240352703956821, -0.4174928910302742, -0.8936299905709542, -1.7730351725609956, -0.17509775157041949, 1.785575038048923, 0.8693153126170038, -0.9119334319497847, 0.06855935946590477, 0.5983975207014364, -0.3125289594386086, -1.623670806104809, -1.5420589595567573, 1.3286785347616383, -1.094158923464464, 0.21930454522962683, 0.8354226939734191, 1.1112027436645884, 0.5706132554817172, 1.5175492736710126, -0.741270592687962, 0.7179471066369602, -0.11923765585506343, -0.5190825867431396, -1.223108562573393, -0.24851600060140075, 1.1382508831643312, -0.033081660969711255, 0.5175216536790487, 0.7544486986602126, -0.6518679982601071, 2.070787774933711, 0.4426842316054046, 0.05653702034559746, -1.0053907104192161, -0.786399787410555, 0.27850043786370504, 0.3916013705575103, 0.43507671462973674, 1.3045455981258764, 1.5209664834575232, 0.5703063793983049, -0.20123025062794503, -0.04784662293665812, 0.9508747258949924, 0.10041817141614233, 0.05723625804651315, -0.04030529057318736, 0.7335235062619401, 0.8982570392990319, 1.1155809290713437, 0.8844599452843706, -0.6148252072505153, 1.1594874940128568, -1.216817774524191, -0.8890426465705751, -1.893518423950157, -0.33140872246822817, -0.26953768733587197, 0.9961753075937271, 0.03607656273618685, -0.4870399182323607, -0.7339647437901523, 0.5475059713581206, -1.1018093852788269, -1.4823859267101909, -1.6501041838493982, 0.20377009012743325, 0.1762274744366041, -0.6017592186585072, 0.3590576908726275, 0.7428489289251691, 0.48584201834020807, 0.6945617012876489, -1.1489156980425708, 0.6131057392500935, 0.17885470690537067, 0.26446508278372033, -0.10706051662167917, 0.6223017828248917], \"y\": [-0.5811999608120723, -0.8036697312678183, 0.3854041880109005, 0.4209603813984334, -0.4281246077274638, -0.19852210221305122, -2.054418519812087, 0.4077891217927148, -0.5945240763963975, -1.536557826592104, 0.672332698408608, 1.4028979182530195, 1.4439820744695246, 0.20886292761525518, -0.7393879162186503, -0.5368487628608516, -1.3688133482970724, 0.19474772168671534, 0.2647889831001665, -1.251547816940817, 0.48556271338398527, 0.5285982029460005, -0.6397201840797241, 0.5081278922806333, 0.2659176640020525, 2.552614374126511, -1.1493716413393977, 1.3345305675591104, 0.5974633782328114, -0.786979507572439, 0.06608038797047978, -0.8145816284732865, 1.5847483366580726, -1.1202607419391661, -1.049640524535017, -0.006903395515333687, -0.524048042000973, 0.44602741836718635, 0.20789948771212124, -1.7806121425814323, 0.0854339021506031, 0.6102089740674195, 0.9728652238276162, -1.4346181102507178, 0.4991602969072206, 1.7848098537008248, 0.47678906443316527, 0.30715039761978874, -0.08716260522525818, 0.35767698840008727, -0.11745608886652367, -1.786882759539797, 1.6238306895783923, -1.1762234413326496, -0.8428802127555798, 0.9966021977974714, 0.8373405137607192, 0.8659528776627187, 2.0692017376026457, 1.4272810302299084, -1.7892289543718998, 1.6576497596199353, -0.03281965544361487, -1.8153586870341933, -0.7179954280924857, -1.0977240279134834, -0.9259475104250532, 0.9852912806939138, -0.4840186387488574, -0.43089106542389977, 0.2911652394892015, -0.965132820164843, -0.7180607125895234, -1.0041459219518847, -0.7846987822530055, 0.12630702047120732, -0.3812210919119034, -0.3037783960675797, -0.282441006815986, 0.42824543291257966, 0.006255871853128791, 0.7851077459102427, -0.6255412712308532, -0.06663669277893636, 0.7293892078205981, 1.512249438121794, 0.05893141654083086, 0.9760093768519751, -0.28824847602835263, -0.30940127812256835, 0.537953257392704, 0.6381235440509992, 0.7727316578039034, -0.25435089513654213, -0.6790857730570136, -0.6249789946320716, 1.4731436561408768, -0.0637549971579087, -0.30502694841740013, 0.37810360901576967]}],\n",
       "                        {\"legend\": {\"bgcolor\": \"#F5F6F9\", \"font\": {\"color\": \"#4D5663\"}}, \"paper_bgcolor\": \"#F5F6F9\", \"plot_bgcolor\": \"#F5F6F9\", \"template\": {\"data\": {\"bar\": [{\"error_x\": {\"color\": \"#2a3f5f\"}, \"error_y\": {\"color\": \"#2a3f5f\"}, \"marker\": {\"line\": {\"color\": \"#E5ECF6\", \"width\": 0.5}}, \"type\": \"bar\"}], \"barpolar\": [{\"marker\": {\"line\": {\"color\": \"#E5ECF6\", \"width\": 0.5}}, \"type\": \"barpolar\"}], \"carpet\": [{\"aaxis\": {\"endlinecolor\": \"#2a3f5f\", \"gridcolor\": \"white\", \"linecolor\": \"white\", \"minorgridcolor\": \"white\", \"startlinecolor\": \"#2a3f5f\"}, \"baxis\": {\"endlinecolor\": \"#2a3f5f\", \"gridcolor\": \"white\", \"linecolor\": \"white\", \"minorgridcolor\": \"white\", \"startlinecolor\": \"#2a3f5f\"}, \"type\": \"carpet\"}], \"choropleth\": [{\"colorbar\": {\"outlinewidth\": 0, \"ticks\": \"\"}, \"type\": \"choropleth\"}], \"contour\": [{\"colorbar\": {\"outlinewidth\": 0, \"ticks\": \"\"}, \"colorscale\": [[0.0, \"#0d0887\"], [0.1111111111111111, \"#46039f\"], [0.2222222222222222, \"#7201a8\"], [0.3333333333333333, \"#9c179e\"], [0.4444444444444444, \"#bd3786\"], [0.5555555555555556, \"#d8576b\"], [0.6666666666666666, \"#ed7953\"], [0.7777777777777778, \"#fb9f3a\"], [0.8888888888888888, \"#fdca26\"], [1.0, \"#f0f921\"]], \"type\": \"contour\"}], \"contourcarpet\": [{\"colorbar\": {\"outlinewidth\": 0, \"ticks\": \"\"}, \"type\": \"contourcarpet\"}], \"heatmap\": [{\"colorbar\": {\"outlinewidth\": 0, \"ticks\": \"\"}, \"colorscale\": [[0.0, \"#0d0887\"], [0.1111111111111111, \"#46039f\"], [0.2222222222222222, \"#7201a8\"], [0.3333333333333333, \"#9c179e\"], [0.4444444444444444, \"#bd3786\"], [0.5555555555555556, \"#d8576b\"], [0.6666666666666666, \"#ed7953\"], [0.7777777777777778, \"#fb9f3a\"], [0.8888888888888888, \"#fdca26\"], [1.0, \"#f0f921\"]], \"type\": \"heatmap\"}], \"heatmapgl\": [{\"colorbar\": {\"outlinewidth\": 0, \"ticks\": \"\"}, \"colorscale\": [[0.0, \"#0d0887\"], [0.1111111111111111, \"#46039f\"], [0.2222222222222222, \"#7201a8\"], [0.3333333333333333, \"#9c179e\"], [0.4444444444444444, \"#bd3786\"], [0.5555555555555556, \"#d8576b\"], [0.6666666666666666, \"#ed7953\"], [0.7777777777777778, \"#fb9f3a\"], [0.8888888888888888, \"#fdca26\"], [1.0, \"#f0f921\"]], \"type\": \"heatmapgl\"}], \"histogram\": [{\"marker\": {\"colorbar\": {\"outlinewidth\": 0, \"ticks\": \"\"}}, \"type\": \"histogram\"}], \"histogram2d\": [{\"colorbar\": {\"outlinewidth\": 0, \"ticks\": \"\"}, \"colorscale\": [[0.0, \"#0d0887\"], [0.1111111111111111, \"#46039f\"], [0.2222222222222222, \"#7201a8\"], [0.3333333333333333, \"#9c179e\"], [0.4444444444444444, \"#bd3786\"], [0.5555555555555556, \"#d8576b\"], [0.6666666666666666, \"#ed7953\"], [0.7777777777777778, \"#fb9f3a\"], [0.8888888888888888, \"#fdca26\"], [1.0, \"#f0f921\"]], \"type\": \"histogram2d\"}], \"histogram2dcontour\": [{\"colorbar\": {\"outlinewidth\": 0, \"ticks\": \"\"}, \"colorscale\": [[0.0, \"#0d0887\"], [0.1111111111111111, \"#46039f\"], [0.2222222222222222, \"#7201a8\"], [0.3333333333333333, \"#9c179e\"], [0.4444444444444444, \"#bd3786\"], [0.5555555555555556, \"#d8576b\"], [0.6666666666666666, \"#ed7953\"], [0.7777777777777778, \"#fb9f3a\"], [0.8888888888888888, \"#fdca26\"], [1.0, \"#f0f921\"]], \"type\": \"histogram2dcontour\"}], \"mesh3d\": [{\"colorbar\": {\"outlinewidth\": 0, \"ticks\": \"\"}, \"type\": \"mesh3d\"}], \"parcoords\": [{\"line\": {\"colorbar\": {\"outlinewidth\": 0, \"ticks\": \"\"}}, \"type\": \"parcoords\"}], \"pie\": [{\"automargin\": true, \"type\": \"pie\"}], \"scatter\": [{\"marker\": {\"colorbar\": {\"outlinewidth\": 0, \"ticks\": \"\"}}, \"type\": \"scatter\"}], \"scatter3d\": [{\"line\": {\"colorbar\": {\"outlinewidth\": 0, \"ticks\": \"\"}}, \"marker\": {\"colorbar\": {\"outlinewidth\": 0, \"ticks\": \"\"}}, \"type\": \"scatter3d\"}], \"scattercarpet\": [{\"marker\": {\"colorbar\": {\"outlinewidth\": 0, \"ticks\": \"\"}}, \"type\": \"scattercarpet\"}], \"scattergeo\": [{\"marker\": {\"colorbar\": {\"outlinewidth\": 0, \"ticks\": \"\"}}, \"type\": \"scattergeo\"}], \"scattergl\": [{\"marker\": {\"colorbar\": {\"outlinewidth\": 0, \"ticks\": \"\"}}, \"type\": \"scattergl\"}], \"scattermapbox\": [{\"marker\": {\"colorbar\": {\"outlinewidth\": 0, \"ticks\": \"\"}}, \"type\": \"scattermapbox\"}], \"scatterpolar\": [{\"marker\": {\"colorbar\": {\"outlinewidth\": 0, \"ticks\": \"\"}}, \"type\": \"scatterpolar\"}], \"scatterpolargl\": [{\"marker\": {\"colorbar\": {\"outlinewidth\": 0, \"ticks\": \"\"}}, \"type\": \"scatterpolargl\"}], \"scatterternary\": [{\"marker\": {\"colorbar\": {\"outlinewidth\": 0, \"ticks\": \"\"}}, \"type\": \"scatterternary\"}], \"surface\": [{\"colorbar\": {\"outlinewidth\": 0, \"ticks\": \"\"}, \"colorscale\": [[0.0, \"#0d0887\"], [0.1111111111111111, \"#46039f\"], [0.2222222222222222, \"#7201a8\"], [0.3333333333333333, \"#9c179e\"], [0.4444444444444444, \"#bd3786\"], [0.5555555555555556, \"#d8576b\"], [0.6666666666666666, \"#ed7953\"], [0.7777777777777778, \"#fb9f3a\"], [0.8888888888888888, \"#fdca26\"], [1.0, \"#f0f921\"]], \"type\": \"surface\"}], \"table\": [{\"cells\": {\"fill\": {\"color\": \"#EBF0F8\"}, \"line\": {\"color\": \"white\"}}, \"header\": {\"fill\": {\"color\": \"#C8D4E3\"}, \"line\": {\"color\": \"white\"}}, \"type\": \"table\"}]}, \"layout\": {\"annotationdefaults\": {\"arrowcolor\": \"#2a3f5f\", \"arrowhead\": 0, \"arrowwidth\": 1}, \"coloraxis\": {\"colorbar\": {\"outlinewidth\": 0, \"ticks\": \"\"}}, \"colorscale\": {\"diverging\": [[0, \"#8e0152\"], [0.1, \"#c51b7d\"], [0.2, \"#de77ae\"], [0.3, \"#f1b6da\"], [0.4, \"#fde0ef\"], [0.5, \"#f7f7f7\"], [0.6, \"#e6f5d0\"], [0.7, \"#b8e186\"], [0.8, \"#7fbc41\"], [0.9, \"#4d9221\"], [1, \"#276419\"]], \"sequential\": [[0.0, \"#0d0887\"], [0.1111111111111111, \"#46039f\"], [0.2222222222222222, \"#7201a8\"], [0.3333333333333333, \"#9c179e\"], [0.4444444444444444, \"#bd3786\"], [0.5555555555555556, \"#d8576b\"], [0.6666666666666666, \"#ed7953\"], [0.7777777777777778, \"#fb9f3a\"], [0.8888888888888888, \"#fdca26\"], [1.0, \"#f0f921\"]], \"sequentialminus\": [[0.0, \"#0d0887\"], [0.1111111111111111, \"#46039f\"], [0.2222222222222222, \"#7201a8\"], [0.3333333333333333, \"#9c179e\"], [0.4444444444444444, \"#bd3786\"], [0.5555555555555556, \"#d8576b\"], [0.6666666666666666, \"#ed7953\"], [0.7777777777777778, \"#fb9f3a\"], [0.8888888888888888, \"#fdca26\"], [1.0, \"#f0f921\"]]}, \"colorway\": [\"#636efa\", \"#EF553B\", \"#00cc96\", \"#ab63fa\", \"#FFA15A\", \"#19d3f3\", \"#FF6692\", \"#B6E880\", \"#FF97FF\", \"#FECB52\"], \"font\": {\"color\": \"#2a3f5f\"}, \"geo\": {\"bgcolor\": \"white\", \"lakecolor\": \"white\", \"landcolor\": \"#E5ECF6\", \"showlakes\": true, \"showland\": true, \"subunitcolor\": \"white\"}, \"hoverlabel\": {\"align\": \"left\"}, \"hovermode\": \"closest\", \"mapbox\": {\"style\": \"light\"}, \"paper_bgcolor\": \"white\", \"plot_bgcolor\": \"#E5ECF6\", \"polar\": {\"angularaxis\": {\"gridcolor\": \"white\", \"linecolor\": \"white\", \"ticks\": \"\"}, \"bgcolor\": \"#E5ECF6\", \"radialaxis\": {\"gridcolor\": \"white\", \"linecolor\": \"white\", \"ticks\": \"\"}}, \"scene\": {\"xaxis\": {\"backgroundcolor\": \"#E5ECF6\", \"gridcolor\": \"white\", \"gridwidth\": 2, \"linecolor\": \"white\", \"showbackground\": true, \"ticks\": \"\", \"zerolinecolor\": \"white\"}, \"yaxis\": {\"backgroundcolor\": \"#E5ECF6\", \"gridcolor\": \"white\", \"gridwidth\": 2, \"linecolor\": \"white\", \"showbackground\": true, \"ticks\": \"\", \"zerolinecolor\": \"white\"}, \"zaxis\": {\"backgroundcolor\": \"#E5ECF6\", \"gridcolor\": \"white\", \"gridwidth\": 2, \"linecolor\": \"white\", \"showbackground\": true, \"ticks\": \"\", \"zerolinecolor\": \"white\"}}, \"shapedefaults\": {\"line\": {\"color\": \"#2a3f5f\"}}, \"ternary\": {\"aaxis\": {\"gridcolor\": \"white\", \"linecolor\": \"white\", \"ticks\": \"\"}, \"baxis\": {\"gridcolor\": \"white\", \"linecolor\": \"white\", \"ticks\": \"\"}, \"bgcolor\": \"#E5ECF6\", \"caxis\": {\"gridcolor\": \"white\", \"linecolor\": \"white\", \"ticks\": \"\"}}, \"title\": {\"x\": 0.05}, \"xaxis\": {\"automargin\": true, \"gridcolor\": \"white\", \"linecolor\": \"white\", \"ticks\": \"\", \"title\": {\"standoff\": 15}, \"zerolinecolor\": \"white\", \"zerolinewidth\": 2}, \"yaxis\": {\"automargin\": true, \"gridcolor\": \"white\", \"linecolor\": \"white\", \"ticks\": \"\", \"title\": {\"standoff\": 15}, \"zerolinecolor\": \"white\", \"zerolinewidth\": 2}}}, \"title\": {\"font\": {\"color\": \"#4D5663\"}}, \"xaxis\": {\"gridcolor\": \"#E1E5ED\", \"showgrid\": true, \"tickfont\": {\"color\": \"#4D5663\"}, \"title\": {\"font\": {\"color\": \"#4D5663\"}, \"text\": \"\"}, \"zerolinecolor\": \"#E1E5ED\"}, \"yaxis\": {\"gridcolor\": \"#E1E5ED\", \"showgrid\": true, \"tickfont\": {\"color\": \"#4D5663\"}, \"title\": {\"font\": {\"color\": \"#4D5663\"}, \"text\": \"\"}, \"zerolinecolor\": \"#E1E5ED\"}},\n",
       "                        {\"showLink\": true, \"linkText\": \"Export to plot.ly\", \"plotlyServerURL\": \"https://plot.ly\", \"responsive\": true}\n",
       "                    ).then(function(){\n",
       "                            \n",
       "var gd = document.getElementById('e4ead84d-28e6-4000-ba6b-acd92e8b647a');\n",
       "var x = new MutationObserver(function (mutations, observer) {{\n",
       "        var display = window.getComputedStyle(gd).display;\n",
       "        if (!display || display === 'none') {{\n",
       "            console.log([gd, 'removed!']);\n",
       "            Plotly.purge(gd);\n",
       "            observer.disconnect();\n",
       "        }}\n",
       "}});\n",
       "\n",
       "// Listen for the removal of the full notebook cells\n",
       "var notebookContainer = gd.closest('#notebook-container');\n",
       "if (notebookContainer) {{\n",
       "    x.observe(notebookContainer, {childList: true});\n",
       "}}\n",
       "\n",
       "// Listen for the clearing of the current output cell\n",
       "var outputEl = gd.closest('.output');\n",
       "if (outputEl) {{\n",
       "    x.observe(outputEl, {childList: true});\n",
       "}}\n",
       "\n",
       "                        })\n",
       "                };\n",
       "                });\n",
       "            </script>\n",
       "        </div>"
      ]
     },
     "metadata": {},
     "output_type": "display_data"
    }
   ],
   "source": [
    "df.iplot(kind='bubble',x='A',y='B',size='C')"
   ]
  },
  {
   "cell_type": "markdown",
   "metadata": {},
   "source": [
    "## scatter_matrix()\n",
    "\n",
    "Similar à sns.pairplot()"
   ]
  },
  {
   "cell_type": "code",
   "execution_count": 28,
   "metadata": {},
   "outputs": [
    {
     "data": {
      "application/vnd.plotly.v1+json": {
       "config": {
        "linkText": "Export to plot.ly",
        "plotlyServerURL": "https://plot.ly",
        "showLink": true
       },
       "data": [
        {
         "histfunc": "count",
         "histnorm": "",
         "marker": {
          "color": "rgba(255, 153, 51, 1.0)",
          "line": {
           "color": "#4D5663",
           "width": 1.3
          }
         },
         "name": "A",
         "nbinsx": 10,
         "opacity": 0.8,
         "orientation": "v",
         "type": "histogram",
         "x": [
          -0.9734495742841736,
          -1.8315951967413935,
          1.6139020442339822,
          1.8317994231752863,
          -0.5703850399579571,
          -1.4741058750836376,
          0.3556724369296695,
          0.5896167900058208,
          -0.16588761429519788,
          1.252817890189307,
          0.8244913688037369,
          -0.8310634233310962,
          -1.2715301311174314,
          0.8813921954359295,
          0.03008326150665548,
          1.796935266435818,
          0.36940181717575304,
          -0.8813170476695465,
          -0.31461403362256685,
          -0.4468206880588594,
          0.3240352703956821,
          -0.4174928910302742,
          -0.8936299905709542,
          -1.7730351725609956,
          -0.17509775157041949,
          1.785575038048923,
          0.8693153126170038,
          -0.9119334319497847,
          0.06855935946590477,
          0.5983975207014364,
          -0.3125289594386086,
          -1.623670806104809,
          -1.5420589595567573,
          1.3286785347616383,
          -1.094158923464464,
          0.21930454522962683,
          0.8354226939734191,
          1.1112027436645884,
          0.5706132554817172,
          1.5175492736710126,
          -0.741270592687962,
          0.7179471066369602,
          -0.11923765585506343,
          -0.5190825867431396,
          -1.223108562573393,
          -0.24851600060140075,
          1.1382508831643312,
          -0.033081660969711255,
          0.5175216536790487,
          0.7544486986602126,
          -0.6518679982601071,
          2.070787774933711,
          0.4426842316054046,
          0.05653702034559746,
          -1.0053907104192161,
          -0.786399787410555,
          0.27850043786370504,
          0.3916013705575103,
          0.43507671462973674,
          1.3045455981258764,
          1.5209664834575232,
          0.5703063793983049,
          -0.20123025062794503,
          -0.04784662293665812,
          0.9508747258949924,
          0.10041817141614233,
          0.05723625804651315,
          -0.04030529057318736,
          0.7335235062619401,
          0.8982570392990319,
          1.1155809290713437,
          0.8844599452843706,
          -0.6148252072505153,
          1.1594874940128568,
          -1.216817774524191,
          -0.8890426465705751,
          -1.893518423950157,
          -0.33140872246822817,
          -0.26953768733587197,
          0.9961753075937271,
          0.03607656273618685,
          -0.4870399182323607,
          -0.7339647437901523,
          0.5475059713581206,
          -1.1018093852788269,
          -1.4823859267101909,
          -1.6501041838493982,
          0.20377009012743325,
          0.1762274744366041,
          -0.6017592186585072,
          0.3590576908726275,
          0.7428489289251691,
          0.48584201834020807,
          0.6945617012876489,
          -1.1489156980425708,
          0.6131057392500935,
          0.17885470690537067,
          0.26446508278372033,
          -0.10706051662167917,
          0.6223017828248917
         ],
         "xaxis": "x",
         "yaxis": "y"
        },
        {
         "line": {
          "color": "rgba(128, 128, 128, 1.0)",
          "dash": "solid",
          "shape": "linear",
          "width": 1.3
         },
         "marker": {
          "size": 2,
          "symbol": "circle"
         },
         "mode": "markers",
         "name": "A",
         "text": "",
         "type": "scatter",
         "x": [
          -0.5811999608120723,
          -0.8036697312678183,
          0.3854041880109005,
          0.4209603813984334,
          -0.4281246077274638,
          -0.19852210221305122,
          -2.054418519812087,
          0.4077891217927148,
          -0.5945240763963975,
          -1.536557826592104,
          0.672332698408608,
          1.4028979182530195,
          1.4439820744695246,
          0.20886292761525518,
          -0.7393879162186503,
          -0.5368487628608516,
          -1.3688133482970724,
          0.19474772168671534,
          0.2647889831001665,
          -1.251547816940817,
          0.48556271338398527,
          0.5285982029460005,
          -0.6397201840797241,
          0.5081278922806333,
          0.2659176640020525,
          2.552614374126511,
          -1.1493716413393977,
          1.3345305675591104,
          0.5974633782328114,
          -0.786979507572439,
          0.06608038797047978,
          -0.8145816284732865,
          1.5847483366580726,
          -1.1202607419391661,
          -1.049640524535017,
          -0.006903395515333687,
          -0.524048042000973,
          0.44602741836718635,
          0.20789948771212124,
          -1.7806121425814323,
          0.0854339021506031,
          0.6102089740674195,
          0.9728652238276162,
          -1.4346181102507178,
          0.4991602969072206,
          1.7848098537008248,
          0.47678906443316527,
          0.30715039761978874,
          -0.08716260522525818,
          0.35767698840008727,
          -0.11745608886652367,
          -1.786882759539797,
          1.6238306895783923,
          -1.1762234413326496,
          -0.8428802127555798,
          0.9966021977974714,
          0.8373405137607192,
          0.8659528776627187,
          2.0692017376026457,
          1.4272810302299084,
          -1.7892289543718998,
          1.6576497596199353,
          -0.03281965544361487,
          -1.8153586870341933,
          -0.7179954280924857,
          -1.0977240279134834,
          -0.9259475104250532,
          0.9852912806939138,
          -0.4840186387488574,
          -0.43089106542389977,
          0.2911652394892015,
          -0.965132820164843,
          -0.7180607125895234,
          -1.0041459219518847,
          -0.7846987822530055,
          0.12630702047120732,
          -0.3812210919119034,
          -0.3037783960675797,
          -0.282441006815986,
          0.42824543291257966,
          0.006255871853128791,
          0.7851077459102427,
          -0.6255412712308532,
          -0.06663669277893636,
          0.7293892078205981,
          1.512249438121794,
          0.05893141654083086,
          0.9760093768519751,
          -0.28824847602835263,
          -0.30940127812256835,
          0.537953257392704,
          0.6381235440509992,
          0.7727316578039034,
          -0.25435089513654213,
          -0.6790857730570136,
          -0.6249789946320716,
          1.4731436561408768,
          -0.0637549971579087,
          -0.30502694841740013,
          0.37810360901576967
         ],
         "xaxis": "x2",
         "y": [
          -0.9734495742841736,
          -1.8315951967413935,
          1.6139020442339822,
          1.8317994231752863,
          -0.5703850399579571,
          -1.4741058750836376,
          0.3556724369296695,
          0.5896167900058208,
          -0.16588761429519788,
          1.252817890189307,
          0.8244913688037369,
          -0.8310634233310962,
          -1.2715301311174314,
          0.8813921954359295,
          0.03008326150665548,
          1.796935266435818,
          0.36940181717575304,
          -0.8813170476695465,
          -0.31461403362256685,
          -0.4468206880588594,
          0.3240352703956821,
          -0.4174928910302742,
          -0.8936299905709542,
          -1.7730351725609956,
          -0.17509775157041949,
          1.785575038048923,
          0.8693153126170038,
          -0.9119334319497847,
          0.06855935946590477,
          0.5983975207014364,
          -0.3125289594386086,
          -1.623670806104809,
          -1.5420589595567573,
          1.3286785347616383,
          -1.094158923464464,
          0.21930454522962683,
          0.8354226939734191,
          1.1112027436645884,
          0.5706132554817172,
          1.5175492736710126,
          -0.741270592687962,
          0.7179471066369602,
          -0.11923765585506343,
          -0.5190825867431396,
          -1.223108562573393,
          -0.24851600060140075,
          1.1382508831643312,
          -0.033081660969711255,
          0.5175216536790487,
          0.7544486986602126,
          -0.6518679982601071,
          2.070787774933711,
          0.4426842316054046,
          0.05653702034559746,
          -1.0053907104192161,
          -0.786399787410555,
          0.27850043786370504,
          0.3916013705575103,
          0.43507671462973674,
          1.3045455981258764,
          1.5209664834575232,
          0.5703063793983049,
          -0.20123025062794503,
          -0.04784662293665812,
          0.9508747258949924,
          0.10041817141614233,
          0.05723625804651315,
          -0.04030529057318736,
          0.7335235062619401,
          0.8982570392990319,
          1.1155809290713437,
          0.8844599452843706,
          -0.6148252072505153,
          1.1594874940128568,
          -1.216817774524191,
          -0.8890426465705751,
          -1.893518423950157,
          -0.33140872246822817,
          -0.26953768733587197,
          0.9961753075937271,
          0.03607656273618685,
          -0.4870399182323607,
          -0.7339647437901523,
          0.5475059713581206,
          -1.1018093852788269,
          -1.4823859267101909,
          -1.6501041838493982,
          0.20377009012743325,
          0.1762274744366041,
          -0.6017592186585072,
          0.3590576908726275,
          0.7428489289251691,
          0.48584201834020807,
          0.6945617012876489,
          -1.1489156980425708,
          0.6131057392500935,
          0.17885470690537067,
          0.26446508278372033,
          -0.10706051662167917,
          0.6223017828248917
         ],
         "yaxis": "y2"
        },
        {
         "line": {
          "color": "rgba(128, 128, 128, 1.0)",
          "dash": "solid",
          "shape": "linear",
          "width": 1.3
         },
         "marker": {
          "size": 2,
          "symbol": "circle"
         },
         "mode": "markers",
         "name": "A",
         "text": "",
         "type": "scatter",
         "x": [
          0.4465946591692149,
          -0.16486231085411854,
          -0.2982897748061894,
          -0.23411003689093351,
          -1.2116097866053412,
          0.8253673770836158,
          -1.148999781191789,
          1.4793187197489317,
          -1.8278615001710312,
          0.10793947769491719,
          0.013210085189908979,
          0.1915405875072082,
          -0.740424717839089,
          0.8753765623144861,
          -0.5820215653049959,
          0.02952435573406176,
          1.3800918755008555,
          0.8829600699652781,
          -0.7899359672227325,
          1.0480987514065763,
          -0.661342190204746,
          -1.437532002146367,
          -0.9347259262952119,
          0.2711441527009754,
          0.9370994639846763,
          -0.8510998725071435,
          -0.10901940707699512,
          -1.5670525760540877,
          2.5500612373045435,
          0.25316419368897436,
          -0.7348893605846597,
          0.1354147034953102,
          0.5909033184761552,
          1.8698919963948077,
          -1.017584445365926,
          2.0664060265275794,
          -1.244086825630889,
          0.7658621916231835,
          0.562898699100837,
          0.6780684477561032,
          -0.8802058709296295,
          0.575335737009437,
          1.3403402794924335,
          -1.006790440287403,
          -0.09625773583783136,
          -0.7372422026148387,
          -0.8713067597021921,
          -1.121267427250573,
          0.014520832299060196,
          -0.623431807530587,
          -1.2030039545655682,
          0.02702242494766879,
          -0.07319362795788485,
          0.026927518795224967,
          0.4545713532247032,
          -0.07828220808835416,
          0.3057447235537578,
          -0.07894598635092011,
          0.010818280208694245,
          -0.0014020639789387019,
          -0.7889084335136599,
          0.34483105903604977,
          2.4355337763902942,
          1.3414174390131024,
          -0.9044209394970005,
          -0.04786040943686782,
          -0.5651928414422082,
          1.180654787239047,
          0.17497182194333832,
          1.6447684917816974,
          0.6204256291321893,
          0.6508427104690401,
          -0.9716419250001527,
          0.5951087500017701,
          0.1661758983675416,
          0.6011190061024035,
          -1.6825903839447376,
          -0.6120102985816349,
          -0.5488089546191786,
          -0.9578877517845851,
          -0.060102094105688175,
          2.2812115930732637,
          0.8029602338025977,
          -1.7601645850839462,
          -1.2672108160954711,
          -0.7754988415258066,
          0.7700989925557424,
          -0.42033232131429676,
          -0.6092157256666687,
          -1.214898858131597,
          -0.9502243168822014,
          0.830944977952104,
          1.2015754737748736,
          1.641226772233783,
          1.43306751285687,
          1.638961428726828,
          -0.07502882892345157,
          1.329747633643722,
          -0.6089988187792902,
          -2.1507734614985874
         ],
         "xaxis": "x3",
         "y": [
          -0.9734495742841736,
          -1.8315951967413935,
          1.6139020442339822,
          1.8317994231752863,
          -0.5703850399579571,
          -1.4741058750836376,
          0.3556724369296695,
          0.5896167900058208,
          -0.16588761429519788,
          1.252817890189307,
          0.8244913688037369,
          -0.8310634233310962,
          -1.2715301311174314,
          0.8813921954359295,
          0.03008326150665548,
          1.796935266435818,
          0.36940181717575304,
          -0.8813170476695465,
          -0.31461403362256685,
          -0.4468206880588594,
          0.3240352703956821,
          -0.4174928910302742,
          -0.8936299905709542,
          -1.7730351725609956,
          -0.17509775157041949,
          1.785575038048923,
          0.8693153126170038,
          -0.9119334319497847,
          0.06855935946590477,
          0.5983975207014364,
          -0.3125289594386086,
          -1.623670806104809,
          -1.5420589595567573,
          1.3286785347616383,
          -1.094158923464464,
          0.21930454522962683,
          0.8354226939734191,
          1.1112027436645884,
          0.5706132554817172,
          1.5175492736710126,
          -0.741270592687962,
          0.7179471066369602,
          -0.11923765585506343,
          -0.5190825867431396,
          -1.223108562573393,
          -0.24851600060140075,
          1.1382508831643312,
          -0.033081660969711255,
          0.5175216536790487,
          0.7544486986602126,
          -0.6518679982601071,
          2.070787774933711,
          0.4426842316054046,
          0.05653702034559746,
          -1.0053907104192161,
          -0.786399787410555,
          0.27850043786370504,
          0.3916013705575103,
          0.43507671462973674,
          1.3045455981258764,
          1.5209664834575232,
          0.5703063793983049,
          -0.20123025062794503,
          -0.04784662293665812,
          0.9508747258949924,
          0.10041817141614233,
          0.05723625804651315,
          -0.04030529057318736,
          0.7335235062619401,
          0.8982570392990319,
          1.1155809290713437,
          0.8844599452843706,
          -0.6148252072505153,
          1.1594874940128568,
          -1.216817774524191,
          -0.8890426465705751,
          -1.893518423950157,
          -0.33140872246822817,
          -0.26953768733587197,
          0.9961753075937271,
          0.03607656273618685,
          -0.4870399182323607,
          -0.7339647437901523,
          0.5475059713581206,
          -1.1018093852788269,
          -1.4823859267101909,
          -1.6501041838493982,
          0.20377009012743325,
          0.1762274744366041,
          -0.6017592186585072,
          0.3590576908726275,
          0.7428489289251691,
          0.48584201834020807,
          0.6945617012876489,
          -1.1489156980425708,
          0.6131057392500935,
          0.17885470690537067,
          0.26446508278372033,
          -0.10706051662167917,
          0.6223017828248917
         ],
         "yaxis": "y3"
        },
        {
         "line": {
          "color": "rgba(128, 128, 128, 1.0)",
          "dash": "solid",
          "shape": "linear",
          "width": 1.3
         },
         "marker": {
          "size": 2,
          "symbol": "circle"
         },
         "mode": "markers",
         "name": "A",
         "text": "",
         "type": "scatter",
         "x": [
          -0.2192232435712407,
          0.0283268131023829,
          0.8964696723539963,
          -1.0283885000833466,
          -1.3182351327351098,
          -0.5277647422987509,
          -0.9385086936869956,
          1.2061977978951748,
          0.1421902406605246,
          0.6184168052550945,
          -0.039877045490074994,
          -0.9752394987162321,
          -1.7751520163220462,
          -0.4722921655201741,
          -0.12274985283625083,
          -0.9274559744283062,
          1.894270929614533,
          -2.672694771207034,
          0.07997402295206053,
          0.7491965681213448,
          -0.7152711078609697,
          -0.32855979832250526,
          -0.05323711387502112,
          0.9167917248097514,
          -0.6179467194794326,
          0.05256963946619909,
          -0.6312899349076002,
          0.22351194814481504,
          -0.3067313893917002,
          -0.8456113471311655,
          0.6211118901589805,
          -1.112525092466899,
          0.9619251622482322,
          -0.26877353141176263,
          -0.0014630302593012106,
          -1.0191297589773674,
          -1.3672715614444393,
          0.38710677050744735,
          -0.4899293153653744,
          -0.12630803511377184,
          0.9815905655982257,
          -0.4175055812147094,
          1.1260620582587195,
          -1.244106024305591,
          1.2163029421357596,
          0.7300378523525042,
          0.6539537619265317,
          1.2339106042088626,
          0.8112364534231554,
          -1.2829068140569275,
          -0.6756773844832522,
          -0.7091020795886301,
          0.31764685592615666,
          -0.4502973343925804,
          1.7274832888038356,
          -0.11525108286821455,
          0.19010588366922107,
          0.797255107372613,
          1.163288964252091,
          1.0590557596414987,
          -0.7011592168034892,
          1.2060006342909675,
          1.0893990791408414,
          -1.5229207242328573,
          -0.3997213570588383,
          2.874689786857148,
          0.10611024585499639,
          -0.8555094032339574,
          1.6096275851091222,
          -1.8783119998528792,
          0.8640234633966536,
          2.0859932005692703,
          0.6702785786050622,
          0.6323768743595102,
          -1.1055358574342864,
          -0.2924966496013419,
          1.7759060786073706,
          0.6212449630378699,
          2.0118187423184657,
          0.7508843587411196,
          -1.2002570321997699,
          1.4795863669983513,
          -0.2598826343604322,
          -0.10963908013096199,
          2.2077184815927877,
          -2.1720097869633683,
          1.0987939610199553,
          0.8865809203216175,
          0.06022492757025151,
          -0.35863420685446684,
          -1.1832813827837794,
          -0.28699537868668434,
          -0.46883213875517077,
          -0.4635016862238375,
          -0.4017998218990491,
          -1.0870154401924637,
          -0.991984450544098,
          -0.152825678547246,
          -1.5095653176917445,
          0.4563221193826911
         ],
         "xaxis": "x4",
         "y": [
          -0.9734495742841736,
          -1.8315951967413935,
          1.6139020442339822,
          1.8317994231752863,
          -0.5703850399579571,
          -1.4741058750836376,
          0.3556724369296695,
          0.5896167900058208,
          -0.16588761429519788,
          1.252817890189307,
          0.8244913688037369,
          -0.8310634233310962,
          -1.2715301311174314,
          0.8813921954359295,
          0.03008326150665548,
          1.796935266435818,
          0.36940181717575304,
          -0.8813170476695465,
          -0.31461403362256685,
          -0.4468206880588594,
          0.3240352703956821,
          -0.4174928910302742,
          -0.8936299905709542,
          -1.7730351725609956,
          -0.17509775157041949,
          1.785575038048923,
          0.8693153126170038,
          -0.9119334319497847,
          0.06855935946590477,
          0.5983975207014364,
          -0.3125289594386086,
          -1.623670806104809,
          -1.5420589595567573,
          1.3286785347616383,
          -1.094158923464464,
          0.21930454522962683,
          0.8354226939734191,
          1.1112027436645884,
          0.5706132554817172,
          1.5175492736710126,
          -0.741270592687962,
          0.7179471066369602,
          -0.11923765585506343,
          -0.5190825867431396,
          -1.223108562573393,
          -0.24851600060140075,
          1.1382508831643312,
          -0.033081660969711255,
          0.5175216536790487,
          0.7544486986602126,
          -0.6518679982601071,
          2.070787774933711,
          0.4426842316054046,
          0.05653702034559746,
          -1.0053907104192161,
          -0.786399787410555,
          0.27850043786370504,
          0.3916013705575103,
          0.43507671462973674,
          1.3045455981258764,
          1.5209664834575232,
          0.5703063793983049,
          -0.20123025062794503,
          -0.04784662293665812,
          0.9508747258949924,
          0.10041817141614233,
          0.05723625804651315,
          -0.04030529057318736,
          0.7335235062619401,
          0.8982570392990319,
          1.1155809290713437,
          0.8844599452843706,
          -0.6148252072505153,
          1.1594874940128568,
          -1.216817774524191,
          -0.8890426465705751,
          -1.893518423950157,
          -0.33140872246822817,
          -0.26953768733587197,
          0.9961753075937271,
          0.03607656273618685,
          -0.4870399182323607,
          -0.7339647437901523,
          0.5475059713581206,
          -1.1018093852788269,
          -1.4823859267101909,
          -1.6501041838493982,
          0.20377009012743325,
          0.1762274744366041,
          -0.6017592186585072,
          0.3590576908726275,
          0.7428489289251691,
          0.48584201834020807,
          0.6945617012876489,
          -1.1489156980425708,
          0.6131057392500935,
          0.17885470690537067,
          0.26446508278372033,
          -0.10706051662167917,
          0.6223017828248917
         ],
         "yaxis": "y4"
        },
        {
         "line": {
          "color": "rgba(128, 128, 128, 1.0)",
          "dash": "solid",
          "shape": "linear",
          "width": 1.3
         },
         "marker": {
          "size": 2,
          "symbol": "circle"
         },
         "mode": "markers",
         "name": "B",
         "text": "",
         "type": "scatter",
         "x": [
          -0.9734495742841736,
          -1.8315951967413935,
          1.6139020442339822,
          1.8317994231752863,
          -0.5703850399579571,
          -1.4741058750836376,
          0.3556724369296695,
          0.5896167900058208,
          -0.16588761429519788,
          1.252817890189307,
          0.8244913688037369,
          -0.8310634233310962,
          -1.2715301311174314,
          0.8813921954359295,
          0.03008326150665548,
          1.796935266435818,
          0.36940181717575304,
          -0.8813170476695465,
          -0.31461403362256685,
          -0.4468206880588594,
          0.3240352703956821,
          -0.4174928910302742,
          -0.8936299905709542,
          -1.7730351725609956,
          -0.17509775157041949,
          1.785575038048923,
          0.8693153126170038,
          -0.9119334319497847,
          0.06855935946590477,
          0.5983975207014364,
          -0.3125289594386086,
          -1.623670806104809,
          -1.5420589595567573,
          1.3286785347616383,
          -1.094158923464464,
          0.21930454522962683,
          0.8354226939734191,
          1.1112027436645884,
          0.5706132554817172,
          1.5175492736710126,
          -0.741270592687962,
          0.7179471066369602,
          -0.11923765585506343,
          -0.5190825867431396,
          -1.223108562573393,
          -0.24851600060140075,
          1.1382508831643312,
          -0.033081660969711255,
          0.5175216536790487,
          0.7544486986602126,
          -0.6518679982601071,
          2.070787774933711,
          0.4426842316054046,
          0.05653702034559746,
          -1.0053907104192161,
          -0.786399787410555,
          0.27850043786370504,
          0.3916013705575103,
          0.43507671462973674,
          1.3045455981258764,
          1.5209664834575232,
          0.5703063793983049,
          -0.20123025062794503,
          -0.04784662293665812,
          0.9508747258949924,
          0.10041817141614233,
          0.05723625804651315,
          -0.04030529057318736,
          0.7335235062619401,
          0.8982570392990319,
          1.1155809290713437,
          0.8844599452843706,
          -0.6148252072505153,
          1.1594874940128568,
          -1.216817774524191,
          -0.8890426465705751,
          -1.893518423950157,
          -0.33140872246822817,
          -0.26953768733587197,
          0.9961753075937271,
          0.03607656273618685,
          -0.4870399182323607,
          -0.7339647437901523,
          0.5475059713581206,
          -1.1018093852788269,
          -1.4823859267101909,
          -1.6501041838493982,
          0.20377009012743325,
          0.1762274744366041,
          -0.6017592186585072,
          0.3590576908726275,
          0.7428489289251691,
          0.48584201834020807,
          0.6945617012876489,
          -1.1489156980425708,
          0.6131057392500935,
          0.17885470690537067,
          0.26446508278372033,
          -0.10706051662167917,
          0.6223017828248917
         ],
         "xaxis": "x5",
         "y": [
          -0.5811999608120723,
          -0.8036697312678183,
          0.3854041880109005,
          0.4209603813984334,
          -0.4281246077274638,
          -0.19852210221305122,
          -2.054418519812087,
          0.4077891217927148,
          -0.5945240763963975,
          -1.536557826592104,
          0.672332698408608,
          1.4028979182530195,
          1.4439820744695246,
          0.20886292761525518,
          -0.7393879162186503,
          -0.5368487628608516,
          -1.3688133482970724,
          0.19474772168671534,
          0.2647889831001665,
          -1.251547816940817,
          0.48556271338398527,
          0.5285982029460005,
          -0.6397201840797241,
          0.5081278922806333,
          0.2659176640020525,
          2.552614374126511,
          -1.1493716413393977,
          1.3345305675591104,
          0.5974633782328114,
          -0.786979507572439,
          0.06608038797047978,
          -0.8145816284732865,
          1.5847483366580726,
          -1.1202607419391661,
          -1.049640524535017,
          -0.006903395515333687,
          -0.524048042000973,
          0.44602741836718635,
          0.20789948771212124,
          -1.7806121425814323,
          0.0854339021506031,
          0.6102089740674195,
          0.9728652238276162,
          -1.4346181102507178,
          0.4991602969072206,
          1.7848098537008248,
          0.47678906443316527,
          0.30715039761978874,
          -0.08716260522525818,
          0.35767698840008727,
          -0.11745608886652367,
          -1.786882759539797,
          1.6238306895783923,
          -1.1762234413326496,
          -0.8428802127555798,
          0.9966021977974714,
          0.8373405137607192,
          0.8659528776627187,
          2.0692017376026457,
          1.4272810302299084,
          -1.7892289543718998,
          1.6576497596199353,
          -0.03281965544361487,
          -1.8153586870341933,
          -0.7179954280924857,
          -1.0977240279134834,
          -0.9259475104250532,
          0.9852912806939138,
          -0.4840186387488574,
          -0.43089106542389977,
          0.2911652394892015,
          -0.965132820164843,
          -0.7180607125895234,
          -1.0041459219518847,
          -0.7846987822530055,
          0.12630702047120732,
          -0.3812210919119034,
          -0.3037783960675797,
          -0.282441006815986,
          0.42824543291257966,
          0.006255871853128791,
          0.7851077459102427,
          -0.6255412712308532,
          -0.06663669277893636,
          0.7293892078205981,
          1.512249438121794,
          0.05893141654083086,
          0.9760093768519751,
          -0.28824847602835263,
          -0.30940127812256835,
          0.537953257392704,
          0.6381235440509992,
          0.7727316578039034,
          -0.25435089513654213,
          -0.6790857730570136,
          -0.6249789946320716,
          1.4731436561408768,
          -0.0637549971579087,
          -0.30502694841740013,
          0.37810360901576967
         ],
         "yaxis": "y5"
        },
        {
         "histfunc": "count",
         "histnorm": "",
         "marker": {
          "color": "rgba(55, 128, 191, 1.0)",
          "line": {
           "color": "#4D5663",
           "width": 1.3
          }
         },
         "name": "B",
         "nbinsx": 10,
         "opacity": 0.8,
         "orientation": "v",
         "type": "histogram",
         "x": [
          -0.5811999608120723,
          -0.8036697312678183,
          0.3854041880109005,
          0.4209603813984334,
          -0.4281246077274638,
          -0.19852210221305122,
          -2.054418519812087,
          0.4077891217927148,
          -0.5945240763963975,
          -1.536557826592104,
          0.672332698408608,
          1.4028979182530195,
          1.4439820744695246,
          0.20886292761525518,
          -0.7393879162186503,
          -0.5368487628608516,
          -1.3688133482970724,
          0.19474772168671534,
          0.2647889831001665,
          -1.251547816940817,
          0.48556271338398527,
          0.5285982029460005,
          -0.6397201840797241,
          0.5081278922806333,
          0.2659176640020525,
          2.552614374126511,
          -1.1493716413393977,
          1.3345305675591104,
          0.5974633782328114,
          -0.786979507572439,
          0.06608038797047978,
          -0.8145816284732865,
          1.5847483366580726,
          -1.1202607419391661,
          -1.049640524535017,
          -0.006903395515333687,
          -0.524048042000973,
          0.44602741836718635,
          0.20789948771212124,
          -1.7806121425814323,
          0.0854339021506031,
          0.6102089740674195,
          0.9728652238276162,
          -1.4346181102507178,
          0.4991602969072206,
          1.7848098537008248,
          0.47678906443316527,
          0.30715039761978874,
          -0.08716260522525818,
          0.35767698840008727,
          -0.11745608886652367,
          -1.786882759539797,
          1.6238306895783923,
          -1.1762234413326496,
          -0.8428802127555798,
          0.9966021977974714,
          0.8373405137607192,
          0.8659528776627187,
          2.0692017376026457,
          1.4272810302299084,
          -1.7892289543718998,
          1.6576497596199353,
          -0.03281965544361487,
          -1.8153586870341933,
          -0.7179954280924857,
          -1.0977240279134834,
          -0.9259475104250532,
          0.9852912806939138,
          -0.4840186387488574,
          -0.43089106542389977,
          0.2911652394892015,
          -0.965132820164843,
          -0.7180607125895234,
          -1.0041459219518847,
          -0.7846987822530055,
          0.12630702047120732,
          -0.3812210919119034,
          -0.3037783960675797,
          -0.282441006815986,
          0.42824543291257966,
          0.006255871853128791,
          0.7851077459102427,
          -0.6255412712308532,
          -0.06663669277893636,
          0.7293892078205981,
          1.512249438121794,
          0.05893141654083086,
          0.9760093768519751,
          -0.28824847602835263,
          -0.30940127812256835,
          0.537953257392704,
          0.6381235440509992,
          0.7727316578039034,
          -0.25435089513654213,
          -0.6790857730570136,
          -0.6249789946320716,
          1.4731436561408768,
          -0.0637549971579087,
          -0.30502694841740013,
          0.37810360901576967
         ],
         "xaxis": "x6",
         "yaxis": "y6"
        },
        {
         "line": {
          "color": "rgba(128, 128, 128, 1.0)",
          "dash": "solid",
          "shape": "linear",
          "width": 1.3
         },
         "marker": {
          "size": 2,
          "symbol": "circle"
         },
         "mode": "markers",
         "name": "B",
         "text": "",
         "type": "scatter",
         "x": [
          0.4465946591692149,
          -0.16486231085411854,
          -0.2982897748061894,
          -0.23411003689093351,
          -1.2116097866053412,
          0.8253673770836158,
          -1.148999781191789,
          1.4793187197489317,
          -1.8278615001710312,
          0.10793947769491719,
          0.013210085189908979,
          0.1915405875072082,
          -0.740424717839089,
          0.8753765623144861,
          -0.5820215653049959,
          0.02952435573406176,
          1.3800918755008555,
          0.8829600699652781,
          -0.7899359672227325,
          1.0480987514065763,
          -0.661342190204746,
          -1.437532002146367,
          -0.9347259262952119,
          0.2711441527009754,
          0.9370994639846763,
          -0.8510998725071435,
          -0.10901940707699512,
          -1.5670525760540877,
          2.5500612373045435,
          0.25316419368897436,
          -0.7348893605846597,
          0.1354147034953102,
          0.5909033184761552,
          1.8698919963948077,
          -1.017584445365926,
          2.0664060265275794,
          -1.244086825630889,
          0.7658621916231835,
          0.562898699100837,
          0.6780684477561032,
          -0.8802058709296295,
          0.575335737009437,
          1.3403402794924335,
          -1.006790440287403,
          -0.09625773583783136,
          -0.7372422026148387,
          -0.8713067597021921,
          -1.121267427250573,
          0.014520832299060196,
          -0.623431807530587,
          -1.2030039545655682,
          0.02702242494766879,
          -0.07319362795788485,
          0.026927518795224967,
          0.4545713532247032,
          -0.07828220808835416,
          0.3057447235537578,
          -0.07894598635092011,
          0.010818280208694245,
          -0.0014020639789387019,
          -0.7889084335136599,
          0.34483105903604977,
          2.4355337763902942,
          1.3414174390131024,
          -0.9044209394970005,
          -0.04786040943686782,
          -0.5651928414422082,
          1.180654787239047,
          0.17497182194333832,
          1.6447684917816974,
          0.6204256291321893,
          0.6508427104690401,
          -0.9716419250001527,
          0.5951087500017701,
          0.1661758983675416,
          0.6011190061024035,
          -1.6825903839447376,
          -0.6120102985816349,
          -0.5488089546191786,
          -0.9578877517845851,
          -0.060102094105688175,
          2.2812115930732637,
          0.8029602338025977,
          -1.7601645850839462,
          -1.2672108160954711,
          -0.7754988415258066,
          0.7700989925557424,
          -0.42033232131429676,
          -0.6092157256666687,
          -1.214898858131597,
          -0.9502243168822014,
          0.830944977952104,
          1.2015754737748736,
          1.641226772233783,
          1.43306751285687,
          1.638961428726828,
          -0.07502882892345157,
          1.329747633643722,
          -0.6089988187792902,
          -2.1507734614985874
         ],
         "xaxis": "x7",
         "y": [
          -0.5811999608120723,
          -0.8036697312678183,
          0.3854041880109005,
          0.4209603813984334,
          -0.4281246077274638,
          -0.19852210221305122,
          -2.054418519812087,
          0.4077891217927148,
          -0.5945240763963975,
          -1.536557826592104,
          0.672332698408608,
          1.4028979182530195,
          1.4439820744695246,
          0.20886292761525518,
          -0.7393879162186503,
          -0.5368487628608516,
          -1.3688133482970724,
          0.19474772168671534,
          0.2647889831001665,
          -1.251547816940817,
          0.48556271338398527,
          0.5285982029460005,
          -0.6397201840797241,
          0.5081278922806333,
          0.2659176640020525,
          2.552614374126511,
          -1.1493716413393977,
          1.3345305675591104,
          0.5974633782328114,
          -0.786979507572439,
          0.06608038797047978,
          -0.8145816284732865,
          1.5847483366580726,
          -1.1202607419391661,
          -1.049640524535017,
          -0.006903395515333687,
          -0.524048042000973,
          0.44602741836718635,
          0.20789948771212124,
          -1.7806121425814323,
          0.0854339021506031,
          0.6102089740674195,
          0.9728652238276162,
          -1.4346181102507178,
          0.4991602969072206,
          1.7848098537008248,
          0.47678906443316527,
          0.30715039761978874,
          -0.08716260522525818,
          0.35767698840008727,
          -0.11745608886652367,
          -1.786882759539797,
          1.6238306895783923,
          -1.1762234413326496,
          -0.8428802127555798,
          0.9966021977974714,
          0.8373405137607192,
          0.8659528776627187,
          2.0692017376026457,
          1.4272810302299084,
          -1.7892289543718998,
          1.6576497596199353,
          -0.03281965544361487,
          -1.8153586870341933,
          -0.7179954280924857,
          -1.0977240279134834,
          -0.9259475104250532,
          0.9852912806939138,
          -0.4840186387488574,
          -0.43089106542389977,
          0.2911652394892015,
          -0.965132820164843,
          -0.7180607125895234,
          -1.0041459219518847,
          -0.7846987822530055,
          0.12630702047120732,
          -0.3812210919119034,
          -0.3037783960675797,
          -0.282441006815986,
          0.42824543291257966,
          0.006255871853128791,
          0.7851077459102427,
          -0.6255412712308532,
          -0.06663669277893636,
          0.7293892078205981,
          1.512249438121794,
          0.05893141654083086,
          0.9760093768519751,
          -0.28824847602835263,
          -0.30940127812256835,
          0.537953257392704,
          0.6381235440509992,
          0.7727316578039034,
          -0.25435089513654213,
          -0.6790857730570136,
          -0.6249789946320716,
          1.4731436561408768,
          -0.0637549971579087,
          -0.30502694841740013,
          0.37810360901576967
         ],
         "yaxis": "y7"
        },
        {
         "line": {
          "color": "rgba(128, 128, 128, 1.0)",
          "dash": "solid",
          "shape": "linear",
          "width": 1.3
         },
         "marker": {
          "size": 2,
          "symbol": "circle"
         },
         "mode": "markers",
         "name": "B",
         "text": "",
         "type": "scatter",
         "x": [
          -0.2192232435712407,
          0.0283268131023829,
          0.8964696723539963,
          -1.0283885000833466,
          -1.3182351327351098,
          -0.5277647422987509,
          -0.9385086936869956,
          1.2061977978951748,
          0.1421902406605246,
          0.6184168052550945,
          -0.039877045490074994,
          -0.9752394987162321,
          -1.7751520163220462,
          -0.4722921655201741,
          -0.12274985283625083,
          -0.9274559744283062,
          1.894270929614533,
          -2.672694771207034,
          0.07997402295206053,
          0.7491965681213448,
          -0.7152711078609697,
          -0.32855979832250526,
          -0.05323711387502112,
          0.9167917248097514,
          -0.6179467194794326,
          0.05256963946619909,
          -0.6312899349076002,
          0.22351194814481504,
          -0.3067313893917002,
          -0.8456113471311655,
          0.6211118901589805,
          -1.112525092466899,
          0.9619251622482322,
          -0.26877353141176263,
          -0.0014630302593012106,
          -1.0191297589773674,
          -1.3672715614444393,
          0.38710677050744735,
          -0.4899293153653744,
          -0.12630803511377184,
          0.9815905655982257,
          -0.4175055812147094,
          1.1260620582587195,
          -1.244106024305591,
          1.2163029421357596,
          0.7300378523525042,
          0.6539537619265317,
          1.2339106042088626,
          0.8112364534231554,
          -1.2829068140569275,
          -0.6756773844832522,
          -0.7091020795886301,
          0.31764685592615666,
          -0.4502973343925804,
          1.7274832888038356,
          -0.11525108286821455,
          0.19010588366922107,
          0.797255107372613,
          1.163288964252091,
          1.0590557596414987,
          -0.7011592168034892,
          1.2060006342909675,
          1.0893990791408414,
          -1.5229207242328573,
          -0.3997213570588383,
          2.874689786857148,
          0.10611024585499639,
          -0.8555094032339574,
          1.6096275851091222,
          -1.8783119998528792,
          0.8640234633966536,
          2.0859932005692703,
          0.6702785786050622,
          0.6323768743595102,
          -1.1055358574342864,
          -0.2924966496013419,
          1.7759060786073706,
          0.6212449630378699,
          2.0118187423184657,
          0.7508843587411196,
          -1.2002570321997699,
          1.4795863669983513,
          -0.2598826343604322,
          -0.10963908013096199,
          2.2077184815927877,
          -2.1720097869633683,
          1.0987939610199553,
          0.8865809203216175,
          0.06022492757025151,
          -0.35863420685446684,
          -1.1832813827837794,
          -0.28699537868668434,
          -0.46883213875517077,
          -0.4635016862238375,
          -0.4017998218990491,
          -1.0870154401924637,
          -0.991984450544098,
          -0.152825678547246,
          -1.5095653176917445,
          0.4563221193826911
         ],
         "xaxis": "x8",
         "y": [
          -0.5811999608120723,
          -0.8036697312678183,
          0.3854041880109005,
          0.4209603813984334,
          -0.4281246077274638,
          -0.19852210221305122,
          -2.054418519812087,
          0.4077891217927148,
          -0.5945240763963975,
          -1.536557826592104,
          0.672332698408608,
          1.4028979182530195,
          1.4439820744695246,
          0.20886292761525518,
          -0.7393879162186503,
          -0.5368487628608516,
          -1.3688133482970724,
          0.19474772168671534,
          0.2647889831001665,
          -1.251547816940817,
          0.48556271338398527,
          0.5285982029460005,
          -0.6397201840797241,
          0.5081278922806333,
          0.2659176640020525,
          2.552614374126511,
          -1.1493716413393977,
          1.3345305675591104,
          0.5974633782328114,
          -0.786979507572439,
          0.06608038797047978,
          -0.8145816284732865,
          1.5847483366580726,
          -1.1202607419391661,
          -1.049640524535017,
          -0.006903395515333687,
          -0.524048042000973,
          0.44602741836718635,
          0.20789948771212124,
          -1.7806121425814323,
          0.0854339021506031,
          0.6102089740674195,
          0.9728652238276162,
          -1.4346181102507178,
          0.4991602969072206,
          1.7848098537008248,
          0.47678906443316527,
          0.30715039761978874,
          -0.08716260522525818,
          0.35767698840008727,
          -0.11745608886652367,
          -1.786882759539797,
          1.6238306895783923,
          -1.1762234413326496,
          -0.8428802127555798,
          0.9966021977974714,
          0.8373405137607192,
          0.8659528776627187,
          2.0692017376026457,
          1.4272810302299084,
          -1.7892289543718998,
          1.6576497596199353,
          -0.03281965544361487,
          -1.8153586870341933,
          -0.7179954280924857,
          -1.0977240279134834,
          -0.9259475104250532,
          0.9852912806939138,
          -0.4840186387488574,
          -0.43089106542389977,
          0.2911652394892015,
          -0.965132820164843,
          -0.7180607125895234,
          -1.0041459219518847,
          -0.7846987822530055,
          0.12630702047120732,
          -0.3812210919119034,
          -0.3037783960675797,
          -0.282441006815986,
          0.42824543291257966,
          0.006255871853128791,
          0.7851077459102427,
          -0.6255412712308532,
          -0.06663669277893636,
          0.7293892078205981,
          1.512249438121794,
          0.05893141654083086,
          0.9760093768519751,
          -0.28824847602835263,
          -0.30940127812256835,
          0.537953257392704,
          0.6381235440509992,
          0.7727316578039034,
          -0.25435089513654213,
          -0.6790857730570136,
          -0.6249789946320716,
          1.4731436561408768,
          -0.0637549971579087,
          -0.30502694841740013,
          0.37810360901576967
         ],
         "yaxis": "y8"
        },
        {
         "line": {
          "color": "rgba(128, 128, 128, 1.0)",
          "dash": "solid",
          "shape": "linear",
          "width": 1.3
         },
         "marker": {
          "size": 2,
          "symbol": "circle"
         },
         "mode": "markers",
         "name": "C",
         "text": "",
         "type": "scatter",
         "x": [
          -0.9734495742841736,
          -1.8315951967413935,
          1.6139020442339822,
          1.8317994231752863,
          -0.5703850399579571,
          -1.4741058750836376,
          0.3556724369296695,
          0.5896167900058208,
          -0.16588761429519788,
          1.252817890189307,
          0.8244913688037369,
          -0.8310634233310962,
          -1.2715301311174314,
          0.8813921954359295,
          0.03008326150665548,
          1.796935266435818,
          0.36940181717575304,
          -0.8813170476695465,
          -0.31461403362256685,
          -0.4468206880588594,
          0.3240352703956821,
          -0.4174928910302742,
          -0.8936299905709542,
          -1.7730351725609956,
          -0.17509775157041949,
          1.785575038048923,
          0.8693153126170038,
          -0.9119334319497847,
          0.06855935946590477,
          0.5983975207014364,
          -0.3125289594386086,
          -1.623670806104809,
          -1.5420589595567573,
          1.3286785347616383,
          -1.094158923464464,
          0.21930454522962683,
          0.8354226939734191,
          1.1112027436645884,
          0.5706132554817172,
          1.5175492736710126,
          -0.741270592687962,
          0.7179471066369602,
          -0.11923765585506343,
          -0.5190825867431396,
          -1.223108562573393,
          -0.24851600060140075,
          1.1382508831643312,
          -0.033081660969711255,
          0.5175216536790487,
          0.7544486986602126,
          -0.6518679982601071,
          2.070787774933711,
          0.4426842316054046,
          0.05653702034559746,
          -1.0053907104192161,
          -0.786399787410555,
          0.27850043786370504,
          0.3916013705575103,
          0.43507671462973674,
          1.3045455981258764,
          1.5209664834575232,
          0.5703063793983049,
          -0.20123025062794503,
          -0.04784662293665812,
          0.9508747258949924,
          0.10041817141614233,
          0.05723625804651315,
          -0.04030529057318736,
          0.7335235062619401,
          0.8982570392990319,
          1.1155809290713437,
          0.8844599452843706,
          -0.6148252072505153,
          1.1594874940128568,
          -1.216817774524191,
          -0.8890426465705751,
          -1.893518423950157,
          -0.33140872246822817,
          -0.26953768733587197,
          0.9961753075937271,
          0.03607656273618685,
          -0.4870399182323607,
          -0.7339647437901523,
          0.5475059713581206,
          -1.1018093852788269,
          -1.4823859267101909,
          -1.6501041838493982,
          0.20377009012743325,
          0.1762274744366041,
          -0.6017592186585072,
          0.3590576908726275,
          0.7428489289251691,
          0.48584201834020807,
          0.6945617012876489,
          -1.1489156980425708,
          0.6131057392500935,
          0.17885470690537067,
          0.26446508278372033,
          -0.10706051662167917,
          0.6223017828248917
         ],
         "xaxis": "x9",
         "y": [
          0.4465946591692149,
          -0.16486231085411854,
          -0.2982897748061894,
          -0.23411003689093351,
          -1.2116097866053412,
          0.8253673770836158,
          -1.148999781191789,
          1.4793187197489317,
          -1.8278615001710312,
          0.10793947769491719,
          0.013210085189908979,
          0.1915405875072082,
          -0.740424717839089,
          0.8753765623144861,
          -0.5820215653049959,
          0.02952435573406176,
          1.3800918755008555,
          0.8829600699652781,
          -0.7899359672227325,
          1.0480987514065763,
          -0.661342190204746,
          -1.437532002146367,
          -0.9347259262952119,
          0.2711441527009754,
          0.9370994639846763,
          -0.8510998725071435,
          -0.10901940707699512,
          -1.5670525760540877,
          2.5500612373045435,
          0.25316419368897436,
          -0.7348893605846597,
          0.1354147034953102,
          0.5909033184761552,
          1.8698919963948077,
          -1.017584445365926,
          2.0664060265275794,
          -1.244086825630889,
          0.7658621916231835,
          0.562898699100837,
          0.6780684477561032,
          -0.8802058709296295,
          0.575335737009437,
          1.3403402794924335,
          -1.006790440287403,
          -0.09625773583783136,
          -0.7372422026148387,
          -0.8713067597021921,
          -1.121267427250573,
          0.014520832299060196,
          -0.623431807530587,
          -1.2030039545655682,
          0.02702242494766879,
          -0.07319362795788485,
          0.026927518795224967,
          0.4545713532247032,
          -0.07828220808835416,
          0.3057447235537578,
          -0.07894598635092011,
          0.010818280208694245,
          -0.0014020639789387019,
          -0.7889084335136599,
          0.34483105903604977,
          2.4355337763902942,
          1.3414174390131024,
          -0.9044209394970005,
          -0.04786040943686782,
          -0.5651928414422082,
          1.180654787239047,
          0.17497182194333832,
          1.6447684917816974,
          0.6204256291321893,
          0.6508427104690401,
          -0.9716419250001527,
          0.5951087500017701,
          0.1661758983675416,
          0.6011190061024035,
          -1.6825903839447376,
          -0.6120102985816349,
          -0.5488089546191786,
          -0.9578877517845851,
          -0.060102094105688175,
          2.2812115930732637,
          0.8029602338025977,
          -1.7601645850839462,
          -1.2672108160954711,
          -0.7754988415258066,
          0.7700989925557424,
          -0.42033232131429676,
          -0.6092157256666687,
          -1.214898858131597,
          -0.9502243168822014,
          0.830944977952104,
          1.2015754737748736,
          1.641226772233783,
          1.43306751285687,
          1.638961428726828,
          -0.07502882892345157,
          1.329747633643722,
          -0.6089988187792902,
          -2.1507734614985874
         ],
         "yaxis": "y9"
        },
        {
         "line": {
          "color": "rgba(128, 128, 128, 1.0)",
          "dash": "solid",
          "shape": "linear",
          "width": 1.3
         },
         "marker": {
          "size": 2,
          "symbol": "circle"
         },
         "mode": "markers",
         "name": "C",
         "text": "",
         "type": "scatter",
         "x": [
          -0.5811999608120723,
          -0.8036697312678183,
          0.3854041880109005,
          0.4209603813984334,
          -0.4281246077274638,
          -0.19852210221305122,
          -2.054418519812087,
          0.4077891217927148,
          -0.5945240763963975,
          -1.536557826592104,
          0.672332698408608,
          1.4028979182530195,
          1.4439820744695246,
          0.20886292761525518,
          -0.7393879162186503,
          -0.5368487628608516,
          -1.3688133482970724,
          0.19474772168671534,
          0.2647889831001665,
          -1.251547816940817,
          0.48556271338398527,
          0.5285982029460005,
          -0.6397201840797241,
          0.5081278922806333,
          0.2659176640020525,
          2.552614374126511,
          -1.1493716413393977,
          1.3345305675591104,
          0.5974633782328114,
          -0.786979507572439,
          0.06608038797047978,
          -0.8145816284732865,
          1.5847483366580726,
          -1.1202607419391661,
          -1.049640524535017,
          -0.006903395515333687,
          -0.524048042000973,
          0.44602741836718635,
          0.20789948771212124,
          -1.7806121425814323,
          0.0854339021506031,
          0.6102089740674195,
          0.9728652238276162,
          -1.4346181102507178,
          0.4991602969072206,
          1.7848098537008248,
          0.47678906443316527,
          0.30715039761978874,
          -0.08716260522525818,
          0.35767698840008727,
          -0.11745608886652367,
          -1.786882759539797,
          1.6238306895783923,
          -1.1762234413326496,
          -0.8428802127555798,
          0.9966021977974714,
          0.8373405137607192,
          0.8659528776627187,
          2.0692017376026457,
          1.4272810302299084,
          -1.7892289543718998,
          1.6576497596199353,
          -0.03281965544361487,
          -1.8153586870341933,
          -0.7179954280924857,
          -1.0977240279134834,
          -0.9259475104250532,
          0.9852912806939138,
          -0.4840186387488574,
          -0.43089106542389977,
          0.2911652394892015,
          -0.965132820164843,
          -0.7180607125895234,
          -1.0041459219518847,
          -0.7846987822530055,
          0.12630702047120732,
          -0.3812210919119034,
          -0.3037783960675797,
          -0.282441006815986,
          0.42824543291257966,
          0.006255871853128791,
          0.7851077459102427,
          -0.6255412712308532,
          -0.06663669277893636,
          0.7293892078205981,
          1.512249438121794,
          0.05893141654083086,
          0.9760093768519751,
          -0.28824847602835263,
          -0.30940127812256835,
          0.537953257392704,
          0.6381235440509992,
          0.7727316578039034,
          -0.25435089513654213,
          -0.6790857730570136,
          -0.6249789946320716,
          1.4731436561408768,
          -0.0637549971579087,
          -0.30502694841740013,
          0.37810360901576967
         ],
         "xaxis": "x10",
         "y": [
          0.4465946591692149,
          -0.16486231085411854,
          -0.2982897748061894,
          -0.23411003689093351,
          -1.2116097866053412,
          0.8253673770836158,
          -1.148999781191789,
          1.4793187197489317,
          -1.8278615001710312,
          0.10793947769491719,
          0.013210085189908979,
          0.1915405875072082,
          -0.740424717839089,
          0.8753765623144861,
          -0.5820215653049959,
          0.02952435573406176,
          1.3800918755008555,
          0.8829600699652781,
          -0.7899359672227325,
          1.0480987514065763,
          -0.661342190204746,
          -1.437532002146367,
          -0.9347259262952119,
          0.2711441527009754,
          0.9370994639846763,
          -0.8510998725071435,
          -0.10901940707699512,
          -1.5670525760540877,
          2.5500612373045435,
          0.25316419368897436,
          -0.7348893605846597,
          0.1354147034953102,
          0.5909033184761552,
          1.8698919963948077,
          -1.017584445365926,
          2.0664060265275794,
          -1.244086825630889,
          0.7658621916231835,
          0.562898699100837,
          0.6780684477561032,
          -0.8802058709296295,
          0.575335737009437,
          1.3403402794924335,
          -1.006790440287403,
          -0.09625773583783136,
          -0.7372422026148387,
          -0.8713067597021921,
          -1.121267427250573,
          0.014520832299060196,
          -0.623431807530587,
          -1.2030039545655682,
          0.02702242494766879,
          -0.07319362795788485,
          0.026927518795224967,
          0.4545713532247032,
          -0.07828220808835416,
          0.3057447235537578,
          -0.07894598635092011,
          0.010818280208694245,
          -0.0014020639789387019,
          -0.7889084335136599,
          0.34483105903604977,
          2.4355337763902942,
          1.3414174390131024,
          -0.9044209394970005,
          -0.04786040943686782,
          -0.5651928414422082,
          1.180654787239047,
          0.17497182194333832,
          1.6447684917816974,
          0.6204256291321893,
          0.6508427104690401,
          -0.9716419250001527,
          0.5951087500017701,
          0.1661758983675416,
          0.6011190061024035,
          -1.6825903839447376,
          -0.6120102985816349,
          -0.5488089546191786,
          -0.9578877517845851,
          -0.060102094105688175,
          2.2812115930732637,
          0.8029602338025977,
          -1.7601645850839462,
          -1.2672108160954711,
          -0.7754988415258066,
          0.7700989925557424,
          -0.42033232131429676,
          -0.6092157256666687,
          -1.214898858131597,
          -0.9502243168822014,
          0.830944977952104,
          1.2015754737748736,
          1.641226772233783,
          1.43306751285687,
          1.638961428726828,
          -0.07502882892345157,
          1.329747633643722,
          -0.6089988187792902,
          -2.1507734614985874
         ],
         "yaxis": "y10"
        },
        {
         "histfunc": "count",
         "histnorm": "",
         "marker": {
          "color": "rgba(50, 171, 96, 1.0)",
          "line": {
           "color": "#4D5663",
           "width": 1.3
          }
         },
         "name": "C",
         "nbinsx": 10,
         "opacity": 0.8,
         "orientation": "v",
         "type": "histogram",
         "x": [
          0.4465946591692149,
          -0.16486231085411854,
          -0.2982897748061894,
          -0.23411003689093351,
          -1.2116097866053412,
          0.8253673770836158,
          -1.148999781191789,
          1.4793187197489317,
          -1.8278615001710312,
          0.10793947769491719,
          0.013210085189908979,
          0.1915405875072082,
          -0.740424717839089,
          0.8753765623144861,
          -0.5820215653049959,
          0.02952435573406176,
          1.3800918755008555,
          0.8829600699652781,
          -0.7899359672227325,
          1.0480987514065763,
          -0.661342190204746,
          -1.437532002146367,
          -0.9347259262952119,
          0.2711441527009754,
          0.9370994639846763,
          -0.8510998725071435,
          -0.10901940707699512,
          -1.5670525760540877,
          2.5500612373045435,
          0.25316419368897436,
          -0.7348893605846597,
          0.1354147034953102,
          0.5909033184761552,
          1.8698919963948077,
          -1.017584445365926,
          2.0664060265275794,
          -1.244086825630889,
          0.7658621916231835,
          0.562898699100837,
          0.6780684477561032,
          -0.8802058709296295,
          0.575335737009437,
          1.3403402794924335,
          -1.006790440287403,
          -0.09625773583783136,
          -0.7372422026148387,
          -0.8713067597021921,
          -1.121267427250573,
          0.014520832299060196,
          -0.623431807530587,
          -1.2030039545655682,
          0.02702242494766879,
          -0.07319362795788485,
          0.026927518795224967,
          0.4545713532247032,
          -0.07828220808835416,
          0.3057447235537578,
          -0.07894598635092011,
          0.010818280208694245,
          -0.0014020639789387019,
          -0.7889084335136599,
          0.34483105903604977,
          2.4355337763902942,
          1.3414174390131024,
          -0.9044209394970005,
          -0.04786040943686782,
          -0.5651928414422082,
          1.180654787239047,
          0.17497182194333832,
          1.6447684917816974,
          0.6204256291321893,
          0.6508427104690401,
          -0.9716419250001527,
          0.5951087500017701,
          0.1661758983675416,
          0.6011190061024035,
          -1.6825903839447376,
          -0.6120102985816349,
          -0.5488089546191786,
          -0.9578877517845851,
          -0.060102094105688175,
          2.2812115930732637,
          0.8029602338025977,
          -1.7601645850839462,
          -1.2672108160954711,
          -0.7754988415258066,
          0.7700989925557424,
          -0.42033232131429676,
          -0.6092157256666687,
          -1.214898858131597,
          -0.9502243168822014,
          0.830944977952104,
          1.2015754737748736,
          1.641226772233783,
          1.43306751285687,
          1.638961428726828,
          -0.07502882892345157,
          1.329747633643722,
          -0.6089988187792902,
          -2.1507734614985874
         ],
         "xaxis": "x11",
         "yaxis": "y11"
        },
        {
         "line": {
          "color": "rgba(128, 128, 128, 1.0)",
          "dash": "solid",
          "shape": "linear",
          "width": 1.3
         },
         "marker": {
          "size": 2,
          "symbol": "circle"
         },
         "mode": "markers",
         "name": "C",
         "text": "",
         "type": "scatter",
         "x": [
          -0.2192232435712407,
          0.0283268131023829,
          0.8964696723539963,
          -1.0283885000833466,
          -1.3182351327351098,
          -0.5277647422987509,
          -0.9385086936869956,
          1.2061977978951748,
          0.1421902406605246,
          0.6184168052550945,
          -0.039877045490074994,
          -0.9752394987162321,
          -1.7751520163220462,
          -0.4722921655201741,
          -0.12274985283625083,
          -0.9274559744283062,
          1.894270929614533,
          -2.672694771207034,
          0.07997402295206053,
          0.7491965681213448,
          -0.7152711078609697,
          -0.32855979832250526,
          -0.05323711387502112,
          0.9167917248097514,
          -0.6179467194794326,
          0.05256963946619909,
          -0.6312899349076002,
          0.22351194814481504,
          -0.3067313893917002,
          -0.8456113471311655,
          0.6211118901589805,
          -1.112525092466899,
          0.9619251622482322,
          -0.26877353141176263,
          -0.0014630302593012106,
          -1.0191297589773674,
          -1.3672715614444393,
          0.38710677050744735,
          -0.4899293153653744,
          -0.12630803511377184,
          0.9815905655982257,
          -0.4175055812147094,
          1.1260620582587195,
          -1.244106024305591,
          1.2163029421357596,
          0.7300378523525042,
          0.6539537619265317,
          1.2339106042088626,
          0.8112364534231554,
          -1.2829068140569275,
          -0.6756773844832522,
          -0.7091020795886301,
          0.31764685592615666,
          -0.4502973343925804,
          1.7274832888038356,
          -0.11525108286821455,
          0.19010588366922107,
          0.797255107372613,
          1.163288964252091,
          1.0590557596414987,
          -0.7011592168034892,
          1.2060006342909675,
          1.0893990791408414,
          -1.5229207242328573,
          -0.3997213570588383,
          2.874689786857148,
          0.10611024585499639,
          -0.8555094032339574,
          1.6096275851091222,
          -1.8783119998528792,
          0.8640234633966536,
          2.0859932005692703,
          0.6702785786050622,
          0.6323768743595102,
          -1.1055358574342864,
          -0.2924966496013419,
          1.7759060786073706,
          0.6212449630378699,
          2.0118187423184657,
          0.7508843587411196,
          -1.2002570321997699,
          1.4795863669983513,
          -0.2598826343604322,
          -0.10963908013096199,
          2.2077184815927877,
          -2.1720097869633683,
          1.0987939610199553,
          0.8865809203216175,
          0.06022492757025151,
          -0.35863420685446684,
          -1.1832813827837794,
          -0.28699537868668434,
          -0.46883213875517077,
          -0.4635016862238375,
          -0.4017998218990491,
          -1.0870154401924637,
          -0.991984450544098,
          -0.152825678547246,
          -1.5095653176917445,
          0.4563221193826911
         ],
         "xaxis": "x12",
         "y": [
          0.4465946591692149,
          -0.16486231085411854,
          -0.2982897748061894,
          -0.23411003689093351,
          -1.2116097866053412,
          0.8253673770836158,
          -1.148999781191789,
          1.4793187197489317,
          -1.8278615001710312,
          0.10793947769491719,
          0.013210085189908979,
          0.1915405875072082,
          -0.740424717839089,
          0.8753765623144861,
          -0.5820215653049959,
          0.02952435573406176,
          1.3800918755008555,
          0.8829600699652781,
          -0.7899359672227325,
          1.0480987514065763,
          -0.661342190204746,
          -1.437532002146367,
          -0.9347259262952119,
          0.2711441527009754,
          0.9370994639846763,
          -0.8510998725071435,
          -0.10901940707699512,
          -1.5670525760540877,
          2.5500612373045435,
          0.25316419368897436,
          -0.7348893605846597,
          0.1354147034953102,
          0.5909033184761552,
          1.8698919963948077,
          -1.017584445365926,
          2.0664060265275794,
          -1.244086825630889,
          0.7658621916231835,
          0.562898699100837,
          0.6780684477561032,
          -0.8802058709296295,
          0.575335737009437,
          1.3403402794924335,
          -1.006790440287403,
          -0.09625773583783136,
          -0.7372422026148387,
          -0.8713067597021921,
          -1.121267427250573,
          0.014520832299060196,
          -0.623431807530587,
          -1.2030039545655682,
          0.02702242494766879,
          -0.07319362795788485,
          0.026927518795224967,
          0.4545713532247032,
          -0.07828220808835416,
          0.3057447235537578,
          -0.07894598635092011,
          0.010818280208694245,
          -0.0014020639789387019,
          -0.7889084335136599,
          0.34483105903604977,
          2.4355337763902942,
          1.3414174390131024,
          -0.9044209394970005,
          -0.04786040943686782,
          -0.5651928414422082,
          1.180654787239047,
          0.17497182194333832,
          1.6447684917816974,
          0.6204256291321893,
          0.6508427104690401,
          -0.9716419250001527,
          0.5951087500017701,
          0.1661758983675416,
          0.6011190061024035,
          -1.6825903839447376,
          -0.6120102985816349,
          -0.5488089546191786,
          -0.9578877517845851,
          -0.060102094105688175,
          2.2812115930732637,
          0.8029602338025977,
          -1.7601645850839462,
          -1.2672108160954711,
          -0.7754988415258066,
          0.7700989925557424,
          -0.42033232131429676,
          -0.6092157256666687,
          -1.214898858131597,
          -0.9502243168822014,
          0.830944977952104,
          1.2015754737748736,
          1.641226772233783,
          1.43306751285687,
          1.638961428726828,
          -0.07502882892345157,
          1.329747633643722,
          -0.6089988187792902,
          -2.1507734614985874
         ],
         "yaxis": "y12"
        },
        {
         "line": {
          "color": "rgba(128, 128, 128, 1.0)",
          "dash": "solid",
          "shape": "linear",
          "width": 1.3
         },
         "marker": {
          "size": 2,
          "symbol": "circle"
         },
         "mode": "markers",
         "name": "D",
         "text": "",
         "type": "scatter",
         "x": [
          -0.9734495742841736,
          -1.8315951967413935,
          1.6139020442339822,
          1.8317994231752863,
          -0.5703850399579571,
          -1.4741058750836376,
          0.3556724369296695,
          0.5896167900058208,
          -0.16588761429519788,
          1.252817890189307,
          0.8244913688037369,
          -0.8310634233310962,
          -1.2715301311174314,
          0.8813921954359295,
          0.03008326150665548,
          1.796935266435818,
          0.36940181717575304,
          -0.8813170476695465,
          -0.31461403362256685,
          -0.4468206880588594,
          0.3240352703956821,
          -0.4174928910302742,
          -0.8936299905709542,
          -1.7730351725609956,
          -0.17509775157041949,
          1.785575038048923,
          0.8693153126170038,
          -0.9119334319497847,
          0.06855935946590477,
          0.5983975207014364,
          -0.3125289594386086,
          -1.623670806104809,
          -1.5420589595567573,
          1.3286785347616383,
          -1.094158923464464,
          0.21930454522962683,
          0.8354226939734191,
          1.1112027436645884,
          0.5706132554817172,
          1.5175492736710126,
          -0.741270592687962,
          0.7179471066369602,
          -0.11923765585506343,
          -0.5190825867431396,
          -1.223108562573393,
          -0.24851600060140075,
          1.1382508831643312,
          -0.033081660969711255,
          0.5175216536790487,
          0.7544486986602126,
          -0.6518679982601071,
          2.070787774933711,
          0.4426842316054046,
          0.05653702034559746,
          -1.0053907104192161,
          -0.786399787410555,
          0.27850043786370504,
          0.3916013705575103,
          0.43507671462973674,
          1.3045455981258764,
          1.5209664834575232,
          0.5703063793983049,
          -0.20123025062794503,
          -0.04784662293665812,
          0.9508747258949924,
          0.10041817141614233,
          0.05723625804651315,
          -0.04030529057318736,
          0.7335235062619401,
          0.8982570392990319,
          1.1155809290713437,
          0.8844599452843706,
          -0.6148252072505153,
          1.1594874940128568,
          -1.216817774524191,
          -0.8890426465705751,
          -1.893518423950157,
          -0.33140872246822817,
          -0.26953768733587197,
          0.9961753075937271,
          0.03607656273618685,
          -0.4870399182323607,
          -0.7339647437901523,
          0.5475059713581206,
          -1.1018093852788269,
          -1.4823859267101909,
          -1.6501041838493982,
          0.20377009012743325,
          0.1762274744366041,
          -0.6017592186585072,
          0.3590576908726275,
          0.7428489289251691,
          0.48584201834020807,
          0.6945617012876489,
          -1.1489156980425708,
          0.6131057392500935,
          0.17885470690537067,
          0.26446508278372033,
          -0.10706051662167917,
          0.6223017828248917
         ],
         "xaxis": "x13",
         "y": [
          -0.2192232435712407,
          0.0283268131023829,
          0.8964696723539963,
          -1.0283885000833466,
          -1.3182351327351098,
          -0.5277647422987509,
          -0.9385086936869956,
          1.2061977978951748,
          0.1421902406605246,
          0.6184168052550945,
          -0.039877045490074994,
          -0.9752394987162321,
          -1.7751520163220462,
          -0.4722921655201741,
          -0.12274985283625083,
          -0.9274559744283062,
          1.894270929614533,
          -2.672694771207034,
          0.07997402295206053,
          0.7491965681213448,
          -0.7152711078609697,
          -0.32855979832250526,
          -0.05323711387502112,
          0.9167917248097514,
          -0.6179467194794326,
          0.05256963946619909,
          -0.6312899349076002,
          0.22351194814481504,
          -0.3067313893917002,
          -0.8456113471311655,
          0.6211118901589805,
          -1.112525092466899,
          0.9619251622482322,
          -0.26877353141176263,
          -0.0014630302593012106,
          -1.0191297589773674,
          -1.3672715614444393,
          0.38710677050744735,
          -0.4899293153653744,
          -0.12630803511377184,
          0.9815905655982257,
          -0.4175055812147094,
          1.1260620582587195,
          -1.244106024305591,
          1.2163029421357596,
          0.7300378523525042,
          0.6539537619265317,
          1.2339106042088626,
          0.8112364534231554,
          -1.2829068140569275,
          -0.6756773844832522,
          -0.7091020795886301,
          0.31764685592615666,
          -0.4502973343925804,
          1.7274832888038356,
          -0.11525108286821455,
          0.19010588366922107,
          0.797255107372613,
          1.163288964252091,
          1.0590557596414987,
          -0.7011592168034892,
          1.2060006342909675,
          1.0893990791408414,
          -1.5229207242328573,
          -0.3997213570588383,
          2.874689786857148,
          0.10611024585499639,
          -0.8555094032339574,
          1.6096275851091222,
          -1.8783119998528792,
          0.8640234633966536,
          2.0859932005692703,
          0.6702785786050622,
          0.6323768743595102,
          -1.1055358574342864,
          -0.2924966496013419,
          1.7759060786073706,
          0.6212449630378699,
          2.0118187423184657,
          0.7508843587411196,
          -1.2002570321997699,
          1.4795863669983513,
          -0.2598826343604322,
          -0.10963908013096199,
          2.2077184815927877,
          -2.1720097869633683,
          1.0987939610199553,
          0.8865809203216175,
          0.06022492757025151,
          -0.35863420685446684,
          -1.1832813827837794,
          -0.28699537868668434,
          -0.46883213875517077,
          -0.4635016862238375,
          -0.4017998218990491,
          -1.0870154401924637,
          -0.991984450544098,
          -0.152825678547246,
          -1.5095653176917445,
          0.4563221193826911
         ],
         "yaxis": "y13"
        },
        {
         "line": {
          "color": "rgba(128, 128, 128, 1.0)",
          "dash": "solid",
          "shape": "linear",
          "width": 1.3
         },
         "marker": {
          "size": 2,
          "symbol": "circle"
         },
         "mode": "markers",
         "name": "D",
         "text": "",
         "type": "scatter",
         "x": [
          -0.5811999608120723,
          -0.8036697312678183,
          0.3854041880109005,
          0.4209603813984334,
          -0.4281246077274638,
          -0.19852210221305122,
          -2.054418519812087,
          0.4077891217927148,
          -0.5945240763963975,
          -1.536557826592104,
          0.672332698408608,
          1.4028979182530195,
          1.4439820744695246,
          0.20886292761525518,
          -0.7393879162186503,
          -0.5368487628608516,
          -1.3688133482970724,
          0.19474772168671534,
          0.2647889831001665,
          -1.251547816940817,
          0.48556271338398527,
          0.5285982029460005,
          -0.6397201840797241,
          0.5081278922806333,
          0.2659176640020525,
          2.552614374126511,
          -1.1493716413393977,
          1.3345305675591104,
          0.5974633782328114,
          -0.786979507572439,
          0.06608038797047978,
          -0.8145816284732865,
          1.5847483366580726,
          -1.1202607419391661,
          -1.049640524535017,
          -0.006903395515333687,
          -0.524048042000973,
          0.44602741836718635,
          0.20789948771212124,
          -1.7806121425814323,
          0.0854339021506031,
          0.6102089740674195,
          0.9728652238276162,
          -1.4346181102507178,
          0.4991602969072206,
          1.7848098537008248,
          0.47678906443316527,
          0.30715039761978874,
          -0.08716260522525818,
          0.35767698840008727,
          -0.11745608886652367,
          -1.786882759539797,
          1.6238306895783923,
          -1.1762234413326496,
          -0.8428802127555798,
          0.9966021977974714,
          0.8373405137607192,
          0.8659528776627187,
          2.0692017376026457,
          1.4272810302299084,
          -1.7892289543718998,
          1.6576497596199353,
          -0.03281965544361487,
          -1.8153586870341933,
          -0.7179954280924857,
          -1.0977240279134834,
          -0.9259475104250532,
          0.9852912806939138,
          -0.4840186387488574,
          -0.43089106542389977,
          0.2911652394892015,
          -0.965132820164843,
          -0.7180607125895234,
          -1.0041459219518847,
          -0.7846987822530055,
          0.12630702047120732,
          -0.3812210919119034,
          -0.3037783960675797,
          -0.282441006815986,
          0.42824543291257966,
          0.006255871853128791,
          0.7851077459102427,
          -0.6255412712308532,
          -0.06663669277893636,
          0.7293892078205981,
          1.512249438121794,
          0.05893141654083086,
          0.9760093768519751,
          -0.28824847602835263,
          -0.30940127812256835,
          0.537953257392704,
          0.6381235440509992,
          0.7727316578039034,
          -0.25435089513654213,
          -0.6790857730570136,
          -0.6249789946320716,
          1.4731436561408768,
          -0.0637549971579087,
          -0.30502694841740013,
          0.37810360901576967
         ],
         "xaxis": "x14",
         "y": [
          -0.2192232435712407,
          0.0283268131023829,
          0.8964696723539963,
          -1.0283885000833466,
          -1.3182351327351098,
          -0.5277647422987509,
          -0.9385086936869956,
          1.2061977978951748,
          0.1421902406605246,
          0.6184168052550945,
          -0.039877045490074994,
          -0.9752394987162321,
          -1.7751520163220462,
          -0.4722921655201741,
          -0.12274985283625083,
          -0.9274559744283062,
          1.894270929614533,
          -2.672694771207034,
          0.07997402295206053,
          0.7491965681213448,
          -0.7152711078609697,
          -0.32855979832250526,
          -0.05323711387502112,
          0.9167917248097514,
          -0.6179467194794326,
          0.05256963946619909,
          -0.6312899349076002,
          0.22351194814481504,
          -0.3067313893917002,
          -0.8456113471311655,
          0.6211118901589805,
          -1.112525092466899,
          0.9619251622482322,
          -0.26877353141176263,
          -0.0014630302593012106,
          -1.0191297589773674,
          -1.3672715614444393,
          0.38710677050744735,
          -0.4899293153653744,
          -0.12630803511377184,
          0.9815905655982257,
          -0.4175055812147094,
          1.1260620582587195,
          -1.244106024305591,
          1.2163029421357596,
          0.7300378523525042,
          0.6539537619265317,
          1.2339106042088626,
          0.8112364534231554,
          -1.2829068140569275,
          -0.6756773844832522,
          -0.7091020795886301,
          0.31764685592615666,
          -0.4502973343925804,
          1.7274832888038356,
          -0.11525108286821455,
          0.19010588366922107,
          0.797255107372613,
          1.163288964252091,
          1.0590557596414987,
          -0.7011592168034892,
          1.2060006342909675,
          1.0893990791408414,
          -1.5229207242328573,
          -0.3997213570588383,
          2.874689786857148,
          0.10611024585499639,
          -0.8555094032339574,
          1.6096275851091222,
          -1.8783119998528792,
          0.8640234633966536,
          2.0859932005692703,
          0.6702785786050622,
          0.6323768743595102,
          -1.1055358574342864,
          -0.2924966496013419,
          1.7759060786073706,
          0.6212449630378699,
          2.0118187423184657,
          0.7508843587411196,
          -1.2002570321997699,
          1.4795863669983513,
          -0.2598826343604322,
          -0.10963908013096199,
          2.2077184815927877,
          -2.1720097869633683,
          1.0987939610199553,
          0.8865809203216175,
          0.06022492757025151,
          -0.35863420685446684,
          -1.1832813827837794,
          -0.28699537868668434,
          -0.46883213875517077,
          -0.4635016862238375,
          -0.4017998218990491,
          -1.0870154401924637,
          -0.991984450544098,
          -0.152825678547246,
          -1.5095653176917445,
          0.4563221193826911
         ],
         "yaxis": "y14"
        },
        {
         "line": {
          "color": "rgba(128, 128, 128, 1.0)",
          "dash": "solid",
          "shape": "linear",
          "width": 1.3
         },
         "marker": {
          "size": 2,
          "symbol": "circle"
         },
         "mode": "markers",
         "name": "D",
         "text": "",
         "type": "scatter",
         "x": [
          0.4465946591692149,
          -0.16486231085411854,
          -0.2982897748061894,
          -0.23411003689093351,
          -1.2116097866053412,
          0.8253673770836158,
          -1.148999781191789,
          1.4793187197489317,
          -1.8278615001710312,
          0.10793947769491719,
          0.013210085189908979,
          0.1915405875072082,
          -0.740424717839089,
          0.8753765623144861,
          -0.5820215653049959,
          0.02952435573406176,
          1.3800918755008555,
          0.8829600699652781,
          -0.7899359672227325,
          1.0480987514065763,
          -0.661342190204746,
          -1.437532002146367,
          -0.9347259262952119,
          0.2711441527009754,
          0.9370994639846763,
          -0.8510998725071435,
          -0.10901940707699512,
          -1.5670525760540877,
          2.5500612373045435,
          0.25316419368897436,
          -0.7348893605846597,
          0.1354147034953102,
          0.5909033184761552,
          1.8698919963948077,
          -1.017584445365926,
          2.0664060265275794,
          -1.244086825630889,
          0.7658621916231835,
          0.562898699100837,
          0.6780684477561032,
          -0.8802058709296295,
          0.575335737009437,
          1.3403402794924335,
          -1.006790440287403,
          -0.09625773583783136,
          -0.7372422026148387,
          -0.8713067597021921,
          -1.121267427250573,
          0.014520832299060196,
          -0.623431807530587,
          -1.2030039545655682,
          0.02702242494766879,
          -0.07319362795788485,
          0.026927518795224967,
          0.4545713532247032,
          -0.07828220808835416,
          0.3057447235537578,
          -0.07894598635092011,
          0.010818280208694245,
          -0.0014020639789387019,
          -0.7889084335136599,
          0.34483105903604977,
          2.4355337763902942,
          1.3414174390131024,
          -0.9044209394970005,
          -0.04786040943686782,
          -0.5651928414422082,
          1.180654787239047,
          0.17497182194333832,
          1.6447684917816974,
          0.6204256291321893,
          0.6508427104690401,
          -0.9716419250001527,
          0.5951087500017701,
          0.1661758983675416,
          0.6011190061024035,
          -1.6825903839447376,
          -0.6120102985816349,
          -0.5488089546191786,
          -0.9578877517845851,
          -0.060102094105688175,
          2.2812115930732637,
          0.8029602338025977,
          -1.7601645850839462,
          -1.2672108160954711,
          -0.7754988415258066,
          0.7700989925557424,
          -0.42033232131429676,
          -0.6092157256666687,
          -1.214898858131597,
          -0.9502243168822014,
          0.830944977952104,
          1.2015754737748736,
          1.641226772233783,
          1.43306751285687,
          1.638961428726828,
          -0.07502882892345157,
          1.329747633643722,
          -0.6089988187792902,
          -2.1507734614985874
         ],
         "xaxis": "x15",
         "y": [
          -0.2192232435712407,
          0.0283268131023829,
          0.8964696723539963,
          -1.0283885000833466,
          -1.3182351327351098,
          -0.5277647422987509,
          -0.9385086936869956,
          1.2061977978951748,
          0.1421902406605246,
          0.6184168052550945,
          -0.039877045490074994,
          -0.9752394987162321,
          -1.7751520163220462,
          -0.4722921655201741,
          -0.12274985283625083,
          -0.9274559744283062,
          1.894270929614533,
          -2.672694771207034,
          0.07997402295206053,
          0.7491965681213448,
          -0.7152711078609697,
          -0.32855979832250526,
          -0.05323711387502112,
          0.9167917248097514,
          -0.6179467194794326,
          0.05256963946619909,
          -0.6312899349076002,
          0.22351194814481504,
          -0.3067313893917002,
          -0.8456113471311655,
          0.6211118901589805,
          -1.112525092466899,
          0.9619251622482322,
          -0.26877353141176263,
          -0.0014630302593012106,
          -1.0191297589773674,
          -1.3672715614444393,
          0.38710677050744735,
          -0.4899293153653744,
          -0.12630803511377184,
          0.9815905655982257,
          -0.4175055812147094,
          1.1260620582587195,
          -1.244106024305591,
          1.2163029421357596,
          0.7300378523525042,
          0.6539537619265317,
          1.2339106042088626,
          0.8112364534231554,
          -1.2829068140569275,
          -0.6756773844832522,
          -0.7091020795886301,
          0.31764685592615666,
          -0.4502973343925804,
          1.7274832888038356,
          -0.11525108286821455,
          0.19010588366922107,
          0.797255107372613,
          1.163288964252091,
          1.0590557596414987,
          -0.7011592168034892,
          1.2060006342909675,
          1.0893990791408414,
          -1.5229207242328573,
          -0.3997213570588383,
          2.874689786857148,
          0.10611024585499639,
          -0.8555094032339574,
          1.6096275851091222,
          -1.8783119998528792,
          0.8640234633966536,
          2.0859932005692703,
          0.6702785786050622,
          0.6323768743595102,
          -1.1055358574342864,
          -0.2924966496013419,
          1.7759060786073706,
          0.6212449630378699,
          2.0118187423184657,
          0.7508843587411196,
          -1.2002570321997699,
          1.4795863669983513,
          -0.2598826343604322,
          -0.10963908013096199,
          2.2077184815927877,
          -2.1720097869633683,
          1.0987939610199553,
          0.8865809203216175,
          0.06022492757025151,
          -0.35863420685446684,
          -1.1832813827837794,
          -0.28699537868668434,
          -0.46883213875517077,
          -0.4635016862238375,
          -0.4017998218990491,
          -1.0870154401924637,
          -0.991984450544098,
          -0.152825678547246,
          -1.5095653176917445,
          0.4563221193826911
         ],
         "yaxis": "y15"
        },
        {
         "histfunc": "count",
         "histnorm": "",
         "marker": {
          "color": "rgba(128, 0, 128, 1.0)",
          "line": {
           "color": "#4D5663",
           "width": 1.3
          }
         },
         "name": "D",
         "nbinsx": 10,
         "opacity": 0.8,
         "orientation": "v",
         "type": "histogram",
         "x": [
          -0.2192232435712407,
          0.0283268131023829,
          0.8964696723539963,
          -1.0283885000833466,
          -1.3182351327351098,
          -0.5277647422987509,
          -0.9385086936869956,
          1.2061977978951748,
          0.1421902406605246,
          0.6184168052550945,
          -0.039877045490074994,
          -0.9752394987162321,
          -1.7751520163220462,
          -0.4722921655201741,
          -0.12274985283625083,
          -0.9274559744283062,
          1.894270929614533,
          -2.672694771207034,
          0.07997402295206053,
          0.7491965681213448,
          -0.7152711078609697,
          -0.32855979832250526,
          -0.05323711387502112,
          0.9167917248097514,
          -0.6179467194794326,
          0.05256963946619909,
          -0.6312899349076002,
          0.22351194814481504,
          -0.3067313893917002,
          -0.8456113471311655,
          0.6211118901589805,
          -1.112525092466899,
          0.9619251622482322,
          -0.26877353141176263,
          -0.0014630302593012106,
          -1.0191297589773674,
          -1.3672715614444393,
          0.38710677050744735,
          -0.4899293153653744,
          -0.12630803511377184,
          0.9815905655982257,
          -0.4175055812147094,
          1.1260620582587195,
          -1.244106024305591,
          1.2163029421357596,
          0.7300378523525042,
          0.6539537619265317,
          1.2339106042088626,
          0.8112364534231554,
          -1.2829068140569275,
          -0.6756773844832522,
          -0.7091020795886301,
          0.31764685592615666,
          -0.4502973343925804,
          1.7274832888038356,
          -0.11525108286821455,
          0.19010588366922107,
          0.797255107372613,
          1.163288964252091,
          1.0590557596414987,
          -0.7011592168034892,
          1.2060006342909675,
          1.0893990791408414,
          -1.5229207242328573,
          -0.3997213570588383,
          2.874689786857148,
          0.10611024585499639,
          -0.8555094032339574,
          1.6096275851091222,
          -1.8783119998528792,
          0.8640234633966536,
          2.0859932005692703,
          0.6702785786050622,
          0.6323768743595102,
          -1.1055358574342864,
          -0.2924966496013419,
          1.7759060786073706,
          0.6212449630378699,
          2.0118187423184657,
          0.7508843587411196,
          -1.2002570321997699,
          1.4795863669983513,
          -0.2598826343604322,
          -0.10963908013096199,
          2.2077184815927877,
          -2.1720097869633683,
          1.0987939610199553,
          0.8865809203216175,
          0.06022492757025151,
          -0.35863420685446684,
          -1.1832813827837794,
          -0.28699537868668434,
          -0.46883213875517077,
          -0.4635016862238375,
          -0.4017998218990491,
          -1.0870154401924637,
          -0.991984450544098,
          -0.152825678547246,
          -1.5095653176917445,
          0.4563221193826911
         ],
         "xaxis": "x16",
         "yaxis": "y16"
        }
       ],
       "layout": {
        "bargap": 0.02,
        "legend": {
         "bgcolor": "#F5F6F9",
         "font": {
          "color": "#4D5663"
         }
        },
        "paper_bgcolor": "#F5F6F9",
        "plot_bgcolor": "#F5F6F9",
        "showlegend": false,
        "template": {
         "data": {
          "bar": [
           {
            "error_x": {
             "color": "#2a3f5f"
            },
            "error_y": {
             "color": "#2a3f5f"
            },
            "marker": {
             "line": {
              "color": "#E5ECF6",
              "width": 0.5
             }
            },
            "type": "bar"
           }
          ],
          "barpolar": [
           {
            "marker": {
             "line": {
              "color": "#E5ECF6",
              "width": 0.5
             }
            },
            "type": "barpolar"
           }
          ],
          "carpet": [
           {
            "aaxis": {
             "endlinecolor": "#2a3f5f",
             "gridcolor": "white",
             "linecolor": "white",
             "minorgridcolor": "white",
             "startlinecolor": "#2a3f5f"
            },
            "baxis": {
             "endlinecolor": "#2a3f5f",
             "gridcolor": "white",
             "linecolor": "white",
             "minorgridcolor": "white",
             "startlinecolor": "#2a3f5f"
            },
            "type": "carpet"
           }
          ],
          "choropleth": [
           {
            "colorbar": {
             "outlinewidth": 0,
             "ticks": ""
            },
            "type": "choropleth"
           }
          ],
          "contour": [
           {
            "colorbar": {
             "outlinewidth": 0,
             "ticks": ""
            },
            "colorscale": [
             [
              0,
              "#0d0887"
             ],
             [
              0.1111111111111111,
              "#46039f"
             ],
             [
              0.2222222222222222,
              "#7201a8"
             ],
             [
              0.3333333333333333,
              "#9c179e"
             ],
             [
              0.4444444444444444,
              "#bd3786"
             ],
             [
              0.5555555555555556,
              "#d8576b"
             ],
             [
              0.6666666666666666,
              "#ed7953"
             ],
             [
              0.7777777777777778,
              "#fb9f3a"
             ],
             [
              0.8888888888888888,
              "#fdca26"
             ],
             [
              1,
              "#f0f921"
             ]
            ],
            "type": "contour"
           }
          ],
          "contourcarpet": [
           {
            "colorbar": {
             "outlinewidth": 0,
             "ticks": ""
            },
            "type": "contourcarpet"
           }
          ],
          "heatmap": [
           {
            "colorbar": {
             "outlinewidth": 0,
             "ticks": ""
            },
            "colorscale": [
             [
              0,
              "#0d0887"
             ],
             [
              0.1111111111111111,
              "#46039f"
             ],
             [
              0.2222222222222222,
              "#7201a8"
             ],
             [
              0.3333333333333333,
              "#9c179e"
             ],
             [
              0.4444444444444444,
              "#bd3786"
             ],
             [
              0.5555555555555556,
              "#d8576b"
             ],
             [
              0.6666666666666666,
              "#ed7953"
             ],
             [
              0.7777777777777778,
              "#fb9f3a"
             ],
             [
              0.8888888888888888,
              "#fdca26"
             ],
             [
              1,
              "#f0f921"
             ]
            ],
            "type": "heatmap"
           }
          ],
          "heatmapgl": [
           {
            "colorbar": {
             "outlinewidth": 0,
             "ticks": ""
            },
            "colorscale": [
             [
              0,
              "#0d0887"
             ],
             [
              0.1111111111111111,
              "#46039f"
             ],
             [
              0.2222222222222222,
              "#7201a8"
             ],
             [
              0.3333333333333333,
              "#9c179e"
             ],
             [
              0.4444444444444444,
              "#bd3786"
             ],
             [
              0.5555555555555556,
              "#d8576b"
             ],
             [
              0.6666666666666666,
              "#ed7953"
             ],
             [
              0.7777777777777778,
              "#fb9f3a"
             ],
             [
              0.8888888888888888,
              "#fdca26"
             ],
             [
              1,
              "#f0f921"
             ]
            ],
            "type": "heatmapgl"
           }
          ],
          "histogram": [
           {
            "marker": {
             "colorbar": {
              "outlinewidth": 0,
              "ticks": ""
             }
            },
            "type": "histogram"
           }
          ],
          "histogram2d": [
           {
            "colorbar": {
             "outlinewidth": 0,
             "ticks": ""
            },
            "colorscale": [
             [
              0,
              "#0d0887"
             ],
             [
              0.1111111111111111,
              "#46039f"
             ],
             [
              0.2222222222222222,
              "#7201a8"
             ],
             [
              0.3333333333333333,
              "#9c179e"
             ],
             [
              0.4444444444444444,
              "#bd3786"
             ],
             [
              0.5555555555555556,
              "#d8576b"
             ],
             [
              0.6666666666666666,
              "#ed7953"
             ],
             [
              0.7777777777777778,
              "#fb9f3a"
             ],
             [
              0.8888888888888888,
              "#fdca26"
             ],
             [
              1,
              "#f0f921"
             ]
            ],
            "type": "histogram2d"
           }
          ],
          "histogram2dcontour": [
           {
            "colorbar": {
             "outlinewidth": 0,
             "ticks": ""
            },
            "colorscale": [
             [
              0,
              "#0d0887"
             ],
             [
              0.1111111111111111,
              "#46039f"
             ],
             [
              0.2222222222222222,
              "#7201a8"
             ],
             [
              0.3333333333333333,
              "#9c179e"
             ],
             [
              0.4444444444444444,
              "#bd3786"
             ],
             [
              0.5555555555555556,
              "#d8576b"
             ],
             [
              0.6666666666666666,
              "#ed7953"
             ],
             [
              0.7777777777777778,
              "#fb9f3a"
             ],
             [
              0.8888888888888888,
              "#fdca26"
             ],
             [
              1,
              "#f0f921"
             ]
            ],
            "type": "histogram2dcontour"
           }
          ],
          "mesh3d": [
           {
            "colorbar": {
             "outlinewidth": 0,
             "ticks": ""
            },
            "type": "mesh3d"
           }
          ],
          "parcoords": [
           {
            "line": {
             "colorbar": {
              "outlinewidth": 0,
              "ticks": ""
             }
            },
            "type": "parcoords"
           }
          ],
          "pie": [
           {
            "automargin": true,
            "type": "pie"
           }
          ],
          "scatter": [
           {
            "marker": {
             "colorbar": {
              "outlinewidth": 0,
              "ticks": ""
             }
            },
            "type": "scatter"
           }
          ],
          "scatter3d": [
           {
            "line": {
             "colorbar": {
              "outlinewidth": 0,
              "ticks": ""
             }
            },
            "marker": {
             "colorbar": {
              "outlinewidth": 0,
              "ticks": ""
             }
            },
            "type": "scatter3d"
           }
          ],
          "scattercarpet": [
           {
            "marker": {
             "colorbar": {
              "outlinewidth": 0,
              "ticks": ""
             }
            },
            "type": "scattercarpet"
           }
          ],
          "scattergeo": [
           {
            "marker": {
             "colorbar": {
              "outlinewidth": 0,
              "ticks": ""
             }
            },
            "type": "scattergeo"
           }
          ],
          "scattergl": [
           {
            "marker": {
             "colorbar": {
              "outlinewidth": 0,
              "ticks": ""
             }
            },
            "type": "scattergl"
           }
          ],
          "scattermapbox": [
           {
            "marker": {
             "colorbar": {
              "outlinewidth": 0,
              "ticks": ""
             }
            },
            "type": "scattermapbox"
           }
          ],
          "scatterpolar": [
           {
            "marker": {
             "colorbar": {
              "outlinewidth": 0,
              "ticks": ""
             }
            },
            "type": "scatterpolar"
           }
          ],
          "scatterpolargl": [
           {
            "marker": {
             "colorbar": {
              "outlinewidth": 0,
              "ticks": ""
             }
            },
            "type": "scatterpolargl"
           }
          ],
          "scatterternary": [
           {
            "marker": {
             "colorbar": {
              "outlinewidth": 0,
              "ticks": ""
             }
            },
            "type": "scatterternary"
           }
          ],
          "surface": [
           {
            "colorbar": {
             "outlinewidth": 0,
             "ticks": ""
            },
            "colorscale": [
             [
              0,
              "#0d0887"
             ],
             [
              0.1111111111111111,
              "#46039f"
             ],
             [
              0.2222222222222222,
              "#7201a8"
             ],
             [
              0.3333333333333333,
              "#9c179e"
             ],
             [
              0.4444444444444444,
              "#bd3786"
             ],
             [
              0.5555555555555556,
              "#d8576b"
             ],
             [
              0.6666666666666666,
              "#ed7953"
             ],
             [
              0.7777777777777778,
              "#fb9f3a"
             ],
             [
              0.8888888888888888,
              "#fdca26"
             ],
             [
              1,
              "#f0f921"
             ]
            ],
            "type": "surface"
           }
          ],
          "table": [
           {
            "cells": {
             "fill": {
              "color": "#EBF0F8"
             },
             "line": {
              "color": "white"
             }
            },
            "header": {
             "fill": {
              "color": "#C8D4E3"
             },
             "line": {
              "color": "white"
             }
            },
            "type": "table"
           }
          ]
         },
         "layout": {
          "annotationdefaults": {
           "arrowcolor": "#2a3f5f",
           "arrowhead": 0,
           "arrowwidth": 1
          },
          "coloraxis": {
           "colorbar": {
            "outlinewidth": 0,
            "ticks": ""
           }
          },
          "colorscale": {
           "diverging": [
            [
             0,
             "#8e0152"
            ],
            [
             0.1,
             "#c51b7d"
            ],
            [
             0.2,
             "#de77ae"
            ],
            [
             0.3,
             "#f1b6da"
            ],
            [
             0.4,
             "#fde0ef"
            ],
            [
             0.5,
             "#f7f7f7"
            ],
            [
             0.6,
             "#e6f5d0"
            ],
            [
             0.7,
             "#b8e186"
            ],
            [
             0.8,
             "#7fbc41"
            ],
            [
             0.9,
             "#4d9221"
            ],
            [
             1,
             "#276419"
            ]
           ],
           "sequential": [
            [
             0,
             "#0d0887"
            ],
            [
             0.1111111111111111,
             "#46039f"
            ],
            [
             0.2222222222222222,
             "#7201a8"
            ],
            [
             0.3333333333333333,
             "#9c179e"
            ],
            [
             0.4444444444444444,
             "#bd3786"
            ],
            [
             0.5555555555555556,
             "#d8576b"
            ],
            [
             0.6666666666666666,
             "#ed7953"
            ],
            [
             0.7777777777777778,
             "#fb9f3a"
            ],
            [
             0.8888888888888888,
             "#fdca26"
            ],
            [
             1,
             "#f0f921"
            ]
           ],
           "sequentialminus": [
            [
             0,
             "#0d0887"
            ],
            [
             0.1111111111111111,
             "#46039f"
            ],
            [
             0.2222222222222222,
             "#7201a8"
            ],
            [
             0.3333333333333333,
             "#9c179e"
            ],
            [
             0.4444444444444444,
             "#bd3786"
            ],
            [
             0.5555555555555556,
             "#d8576b"
            ],
            [
             0.6666666666666666,
             "#ed7953"
            ],
            [
             0.7777777777777778,
             "#fb9f3a"
            ],
            [
             0.8888888888888888,
             "#fdca26"
            ],
            [
             1,
             "#f0f921"
            ]
           ]
          },
          "colorway": [
           "#636efa",
           "#EF553B",
           "#00cc96",
           "#ab63fa",
           "#FFA15A",
           "#19d3f3",
           "#FF6692",
           "#B6E880",
           "#FF97FF",
           "#FECB52"
          ],
          "font": {
           "color": "#2a3f5f"
          },
          "geo": {
           "bgcolor": "white",
           "lakecolor": "white",
           "landcolor": "#E5ECF6",
           "showlakes": true,
           "showland": true,
           "subunitcolor": "white"
          },
          "hoverlabel": {
           "align": "left"
          },
          "hovermode": "closest",
          "mapbox": {
           "style": "light"
          },
          "paper_bgcolor": "white",
          "plot_bgcolor": "#E5ECF6",
          "polar": {
           "angularaxis": {
            "gridcolor": "white",
            "linecolor": "white",
            "ticks": ""
           },
           "bgcolor": "#E5ECF6",
           "radialaxis": {
            "gridcolor": "white",
            "linecolor": "white",
            "ticks": ""
           }
          },
          "scene": {
           "xaxis": {
            "backgroundcolor": "#E5ECF6",
            "gridcolor": "white",
            "gridwidth": 2,
            "linecolor": "white",
            "showbackground": true,
            "ticks": "",
            "zerolinecolor": "white"
           },
           "yaxis": {
            "backgroundcolor": "#E5ECF6",
            "gridcolor": "white",
            "gridwidth": 2,
            "linecolor": "white",
            "showbackground": true,
            "ticks": "",
            "zerolinecolor": "white"
           },
           "zaxis": {
            "backgroundcolor": "#E5ECF6",
            "gridcolor": "white",
            "gridwidth": 2,
            "linecolor": "white",
            "showbackground": true,
            "ticks": "",
            "zerolinecolor": "white"
           }
          },
          "shapedefaults": {
           "line": {
            "color": "#2a3f5f"
           }
          },
          "ternary": {
           "aaxis": {
            "gridcolor": "white",
            "linecolor": "white",
            "ticks": ""
           },
           "baxis": {
            "gridcolor": "white",
            "linecolor": "white",
            "ticks": ""
           },
           "bgcolor": "#E5ECF6",
           "caxis": {
            "gridcolor": "white",
            "linecolor": "white",
            "ticks": ""
           }
          },
          "title": {
           "x": 0.05
          },
          "xaxis": {
           "automargin": true,
           "gridcolor": "white",
           "linecolor": "white",
           "ticks": "",
           "title": {
            "standoff": 15
           },
           "zerolinecolor": "white",
           "zerolinewidth": 2
          },
          "yaxis": {
           "automargin": true,
           "gridcolor": "white",
           "linecolor": "white",
           "ticks": "",
           "title": {
            "standoff": 15
           },
           "zerolinecolor": "white",
           "zerolinewidth": 2
          }
         }
        },
        "title": {
         "font": {
          "color": "#4D5663"
         }
        },
        "xaxis": {
         "anchor": "y",
         "domain": [
          0,
          0.2125
         ],
         "gridcolor": "#E1E5ED",
         "showgrid": false,
         "tickfont": {
          "color": "#4D5663"
         },
         "title": {
          "font": {
           "color": "#4D5663"
          },
          "text": ""
         },
         "zerolinecolor": "#E1E5ED"
        },
        "xaxis10": {
         "anchor": "y10",
         "domain": [
          0.2625,
          0.475
         ],
         "gridcolor": "#E1E5ED",
         "showgrid": false,
         "tickfont": {
          "color": "#4D5663"
         },
         "title": {
          "font": {
           "color": "#4D5663"
          },
          "text": ""
         },
         "zerolinecolor": "#E1E5ED"
        },
        "xaxis11": {
         "anchor": "y11",
         "domain": [
          0.525,
          0.7375
         ],
         "gridcolor": "#E1E5ED",
         "showgrid": false,
         "tickfont": {
          "color": "#4D5663"
         },
         "title": {
          "font": {
           "color": "#4D5663"
          },
          "text": ""
         },
         "zerolinecolor": "#E1E5ED"
        },
        "xaxis12": {
         "anchor": "y12",
         "domain": [
          0.7875,
          1
         ],
         "gridcolor": "#E1E5ED",
         "showgrid": false,
         "tickfont": {
          "color": "#4D5663"
         },
         "title": {
          "font": {
           "color": "#4D5663"
          },
          "text": ""
         },
         "zerolinecolor": "#E1E5ED"
        },
        "xaxis13": {
         "anchor": "y13",
         "domain": [
          0,
          0.2125
         ],
         "gridcolor": "#E1E5ED",
         "showgrid": false,
         "tickfont": {
          "color": "#4D5663"
         },
         "title": {
          "font": {
           "color": "#4D5663"
          },
          "text": ""
         },
         "zerolinecolor": "#E1E5ED"
        },
        "xaxis14": {
         "anchor": "y14",
         "domain": [
          0.2625,
          0.475
         ],
         "gridcolor": "#E1E5ED",
         "showgrid": false,
         "tickfont": {
          "color": "#4D5663"
         },
         "title": {
          "font": {
           "color": "#4D5663"
          },
          "text": ""
         },
         "zerolinecolor": "#E1E5ED"
        },
        "xaxis15": {
         "anchor": "y15",
         "domain": [
          0.525,
          0.7375
         ],
         "gridcolor": "#E1E5ED",
         "showgrid": false,
         "tickfont": {
          "color": "#4D5663"
         },
         "title": {
          "font": {
           "color": "#4D5663"
          },
          "text": ""
         },
         "zerolinecolor": "#E1E5ED"
        },
        "xaxis16": {
         "anchor": "y16",
         "domain": [
          0.7875,
          1
         ],
         "gridcolor": "#E1E5ED",
         "showgrid": false,
         "tickfont": {
          "color": "#4D5663"
         },
         "title": {
          "font": {
           "color": "#4D5663"
          },
          "text": ""
         },
         "zerolinecolor": "#E1E5ED"
        },
        "xaxis2": {
         "anchor": "y2",
         "domain": [
          0.2625,
          0.475
         ],
         "gridcolor": "#E1E5ED",
         "showgrid": false,
         "tickfont": {
          "color": "#4D5663"
         },
         "title": {
          "font": {
           "color": "#4D5663"
          },
          "text": ""
         },
         "zerolinecolor": "#E1E5ED"
        },
        "xaxis3": {
         "anchor": "y3",
         "domain": [
          0.525,
          0.7375
         ],
         "gridcolor": "#E1E5ED",
         "showgrid": false,
         "tickfont": {
          "color": "#4D5663"
         },
         "title": {
          "font": {
           "color": "#4D5663"
          },
          "text": ""
         },
         "zerolinecolor": "#E1E5ED"
        },
        "xaxis4": {
         "anchor": "y4",
         "domain": [
          0.7875,
          1
         ],
         "gridcolor": "#E1E5ED",
         "showgrid": false,
         "tickfont": {
          "color": "#4D5663"
         },
         "title": {
          "font": {
           "color": "#4D5663"
          },
          "text": ""
         },
         "zerolinecolor": "#E1E5ED"
        },
        "xaxis5": {
         "anchor": "y5",
         "domain": [
          0,
          0.2125
         ],
         "gridcolor": "#E1E5ED",
         "showgrid": false,
         "tickfont": {
          "color": "#4D5663"
         },
         "title": {
          "font": {
           "color": "#4D5663"
          },
          "text": ""
         },
         "zerolinecolor": "#E1E5ED"
        },
        "xaxis6": {
         "anchor": "y6",
         "domain": [
          0.2625,
          0.475
         ],
         "gridcolor": "#E1E5ED",
         "showgrid": false,
         "tickfont": {
          "color": "#4D5663"
         },
         "title": {
          "font": {
           "color": "#4D5663"
          },
          "text": ""
         },
         "zerolinecolor": "#E1E5ED"
        },
        "xaxis7": {
         "anchor": "y7",
         "domain": [
          0.525,
          0.7375
         ],
         "gridcolor": "#E1E5ED",
         "showgrid": false,
         "tickfont": {
          "color": "#4D5663"
         },
         "title": {
          "font": {
           "color": "#4D5663"
          },
          "text": ""
         },
         "zerolinecolor": "#E1E5ED"
        },
        "xaxis8": {
         "anchor": "y8",
         "domain": [
          0.7875,
          1
         ],
         "gridcolor": "#E1E5ED",
         "showgrid": false,
         "tickfont": {
          "color": "#4D5663"
         },
         "title": {
          "font": {
           "color": "#4D5663"
          },
          "text": ""
         },
         "zerolinecolor": "#E1E5ED"
        },
        "xaxis9": {
         "anchor": "y9",
         "domain": [
          0,
          0.2125
         ],
         "gridcolor": "#E1E5ED",
         "showgrid": false,
         "tickfont": {
          "color": "#4D5663"
         },
         "title": {
          "font": {
           "color": "#4D5663"
          },
          "text": ""
         },
         "zerolinecolor": "#E1E5ED"
        },
        "yaxis": {
         "anchor": "x",
         "domain": [
          0.8025,
          1
         ],
         "gridcolor": "#E1E5ED",
         "showgrid": false,
         "tickfont": {
          "color": "#4D5663"
         },
         "title": {
          "font": {
           "color": "#4D5663"
          },
          "text": ""
         },
         "zerolinecolor": "#E1E5ED"
        },
        "yaxis10": {
         "anchor": "x10",
         "domain": [
          0.2675,
          0.465
         ],
         "gridcolor": "#E1E5ED",
         "showgrid": false,
         "tickfont": {
          "color": "#4D5663"
         },
         "title": {
          "font": {
           "color": "#4D5663"
          },
          "text": ""
         },
         "zerolinecolor": "#E1E5ED"
        },
        "yaxis11": {
         "anchor": "x11",
         "domain": [
          0.2675,
          0.465
         ],
         "gridcolor": "#E1E5ED",
         "showgrid": false,
         "tickfont": {
          "color": "#4D5663"
         },
         "title": {
          "font": {
           "color": "#4D5663"
          },
          "text": ""
         },
         "zerolinecolor": "#E1E5ED"
        },
        "yaxis12": {
         "anchor": "x12",
         "domain": [
          0.2675,
          0.465
         ],
         "gridcolor": "#E1E5ED",
         "showgrid": false,
         "tickfont": {
          "color": "#4D5663"
         },
         "title": {
          "font": {
           "color": "#4D5663"
          },
          "text": ""
         },
         "zerolinecolor": "#E1E5ED"
        },
        "yaxis13": {
         "anchor": "x13",
         "domain": [
          0,
          0.1975
         ],
         "gridcolor": "#E1E5ED",
         "showgrid": false,
         "tickfont": {
          "color": "#4D5663"
         },
         "title": {
          "font": {
           "color": "#4D5663"
          },
          "text": ""
         },
         "zerolinecolor": "#E1E5ED"
        },
        "yaxis14": {
         "anchor": "x14",
         "domain": [
          0,
          0.1975
         ],
         "gridcolor": "#E1E5ED",
         "showgrid": false,
         "tickfont": {
          "color": "#4D5663"
         },
         "title": {
          "font": {
           "color": "#4D5663"
          },
          "text": ""
         },
         "zerolinecolor": "#E1E5ED"
        },
        "yaxis15": {
         "anchor": "x15",
         "domain": [
          0,
          0.1975
         ],
         "gridcolor": "#E1E5ED",
         "showgrid": false,
         "tickfont": {
          "color": "#4D5663"
         },
         "title": {
          "font": {
           "color": "#4D5663"
          },
          "text": ""
         },
         "zerolinecolor": "#E1E5ED"
        },
        "yaxis16": {
         "anchor": "x16",
         "domain": [
          0,
          0.1975
         ],
         "gridcolor": "#E1E5ED",
         "showgrid": false,
         "tickfont": {
          "color": "#4D5663"
         },
         "title": {
          "font": {
           "color": "#4D5663"
          },
          "text": ""
         },
         "zerolinecolor": "#E1E5ED"
        },
        "yaxis2": {
         "anchor": "x2",
         "domain": [
          0.8025,
          1
         ],
         "gridcolor": "#E1E5ED",
         "showgrid": false,
         "tickfont": {
          "color": "#4D5663"
         },
         "title": {
          "font": {
           "color": "#4D5663"
          },
          "text": ""
         },
         "zerolinecolor": "#E1E5ED"
        },
        "yaxis3": {
         "anchor": "x3",
         "domain": [
          0.8025,
          1
         ],
         "gridcolor": "#E1E5ED",
         "showgrid": false,
         "tickfont": {
          "color": "#4D5663"
         },
         "title": {
          "font": {
           "color": "#4D5663"
          },
          "text": ""
         },
         "zerolinecolor": "#E1E5ED"
        },
        "yaxis4": {
         "anchor": "x4",
         "domain": [
          0.8025,
          1
         ],
         "gridcolor": "#E1E5ED",
         "showgrid": false,
         "tickfont": {
          "color": "#4D5663"
         },
         "title": {
          "font": {
           "color": "#4D5663"
          },
          "text": ""
         },
         "zerolinecolor": "#E1E5ED"
        },
        "yaxis5": {
         "anchor": "x5",
         "domain": [
          0.535,
          0.7325
         ],
         "gridcolor": "#E1E5ED",
         "showgrid": false,
         "tickfont": {
          "color": "#4D5663"
         },
         "title": {
          "font": {
           "color": "#4D5663"
          },
          "text": ""
         },
         "zerolinecolor": "#E1E5ED"
        },
        "yaxis6": {
         "anchor": "x6",
         "domain": [
          0.535,
          0.7325
         ],
         "gridcolor": "#E1E5ED",
         "showgrid": false,
         "tickfont": {
          "color": "#4D5663"
         },
         "title": {
          "font": {
           "color": "#4D5663"
          },
          "text": ""
         },
         "zerolinecolor": "#E1E5ED"
        },
        "yaxis7": {
         "anchor": "x7",
         "domain": [
          0.535,
          0.7325
         ],
         "gridcolor": "#E1E5ED",
         "showgrid": false,
         "tickfont": {
          "color": "#4D5663"
         },
         "title": {
          "font": {
           "color": "#4D5663"
          },
          "text": ""
         },
         "zerolinecolor": "#E1E5ED"
        },
        "yaxis8": {
         "anchor": "x8",
         "domain": [
          0.535,
          0.7325
         ],
         "gridcolor": "#E1E5ED",
         "showgrid": false,
         "tickfont": {
          "color": "#4D5663"
         },
         "title": {
          "font": {
           "color": "#4D5663"
          },
          "text": ""
         },
         "zerolinecolor": "#E1E5ED"
        },
        "yaxis9": {
         "anchor": "x9",
         "domain": [
          0.2675,
          0.465
         ],
         "gridcolor": "#E1E5ED",
         "showgrid": false,
         "tickfont": {
          "color": "#4D5663"
         },
         "title": {
          "font": {
           "color": "#4D5663"
          },
          "text": ""
         },
         "zerolinecolor": "#E1E5ED"
        }
       }
      },
      "text/html": [
       "<div>\n",
       "        \n",
       "        \n",
       "            <div id=\"9e319967-6539-4522-ad39-295aa3316002\" class=\"plotly-graph-div\" style=\"height:525px; width:100%;\"></div>\n",
       "            <script type=\"text/javascript\">\n",
       "                require([\"plotly\"], function(Plotly) {\n",
       "                    window.PLOTLYENV=window.PLOTLYENV || {};\n",
       "                    window.PLOTLYENV.BASE_URL='https://plot.ly';\n",
       "                    \n",
       "                if (document.getElementById(\"9e319967-6539-4522-ad39-295aa3316002\")) {\n",
       "                    Plotly.newPlot(\n",
       "                        '9e319967-6539-4522-ad39-295aa3316002',\n",
       "                        [{\"histfunc\": \"count\", \"histnorm\": \"\", \"marker\": {\"color\": \"rgba(255, 153, 51, 1.0)\", \"line\": {\"color\": \"#4D5663\", \"width\": 1.3}}, \"name\": \"A\", \"nbinsx\": 10, \"opacity\": 0.8, \"orientation\": \"v\", \"type\": \"histogram\", \"x\": [-0.9734495742841736, -1.8315951967413935, 1.6139020442339822, 1.8317994231752863, -0.5703850399579571, -1.4741058750836376, 0.3556724369296695, 0.5896167900058208, -0.16588761429519788, 1.252817890189307, 0.8244913688037369, -0.8310634233310962, -1.2715301311174314, 0.8813921954359295, 0.03008326150665548, 1.796935266435818, 0.36940181717575304, -0.8813170476695465, -0.31461403362256685, -0.4468206880588594, 0.3240352703956821, -0.4174928910302742, -0.8936299905709542, -1.7730351725609956, -0.17509775157041949, 1.785575038048923, 0.8693153126170038, -0.9119334319497847, 0.06855935946590477, 0.5983975207014364, -0.3125289594386086, -1.623670806104809, -1.5420589595567573, 1.3286785347616383, -1.094158923464464, 0.21930454522962683, 0.8354226939734191, 1.1112027436645884, 0.5706132554817172, 1.5175492736710126, -0.741270592687962, 0.7179471066369602, -0.11923765585506343, -0.5190825867431396, -1.223108562573393, -0.24851600060140075, 1.1382508831643312, -0.033081660969711255, 0.5175216536790487, 0.7544486986602126, -0.6518679982601071, 2.070787774933711, 0.4426842316054046, 0.05653702034559746, -1.0053907104192161, -0.786399787410555, 0.27850043786370504, 0.3916013705575103, 0.43507671462973674, 1.3045455981258764, 1.5209664834575232, 0.5703063793983049, -0.20123025062794503, -0.04784662293665812, 0.9508747258949924, 0.10041817141614233, 0.05723625804651315, -0.04030529057318736, 0.7335235062619401, 0.8982570392990319, 1.1155809290713437, 0.8844599452843706, -0.6148252072505153, 1.1594874940128568, -1.216817774524191, -0.8890426465705751, -1.893518423950157, -0.33140872246822817, -0.26953768733587197, 0.9961753075937271, 0.03607656273618685, -0.4870399182323607, -0.7339647437901523, 0.5475059713581206, -1.1018093852788269, -1.4823859267101909, -1.6501041838493982, 0.20377009012743325, 0.1762274744366041, -0.6017592186585072, 0.3590576908726275, 0.7428489289251691, 0.48584201834020807, 0.6945617012876489, -1.1489156980425708, 0.6131057392500935, 0.17885470690537067, 0.26446508278372033, -0.10706051662167917, 0.6223017828248917], \"xaxis\": \"x\", \"yaxis\": \"y\"}, {\"line\": {\"color\": \"rgba(128, 128, 128, 1.0)\", \"dash\": \"solid\", \"shape\": \"linear\", \"width\": 1.3}, \"marker\": {\"size\": 2, \"symbol\": \"circle\"}, \"mode\": \"markers\", \"name\": \"A\", \"text\": \"\", \"type\": \"scatter\", \"x\": [-0.5811999608120723, -0.8036697312678183, 0.3854041880109005, 0.4209603813984334, -0.4281246077274638, -0.19852210221305122, -2.054418519812087, 0.4077891217927148, -0.5945240763963975, -1.536557826592104, 0.672332698408608, 1.4028979182530195, 1.4439820744695246, 0.20886292761525518, -0.7393879162186503, -0.5368487628608516, -1.3688133482970724, 0.19474772168671534, 0.2647889831001665, -1.251547816940817, 0.48556271338398527, 0.5285982029460005, -0.6397201840797241, 0.5081278922806333, 0.2659176640020525, 2.552614374126511, -1.1493716413393977, 1.3345305675591104, 0.5974633782328114, -0.786979507572439, 0.06608038797047978, -0.8145816284732865, 1.5847483366580726, -1.1202607419391661, -1.049640524535017, -0.006903395515333687, -0.524048042000973, 0.44602741836718635, 0.20789948771212124, -1.7806121425814323, 0.0854339021506031, 0.6102089740674195, 0.9728652238276162, -1.4346181102507178, 0.4991602969072206, 1.7848098537008248, 0.47678906443316527, 0.30715039761978874, -0.08716260522525818, 0.35767698840008727, -0.11745608886652367, -1.786882759539797, 1.6238306895783923, -1.1762234413326496, -0.8428802127555798, 0.9966021977974714, 0.8373405137607192, 0.8659528776627187, 2.0692017376026457, 1.4272810302299084, -1.7892289543718998, 1.6576497596199353, -0.03281965544361487, -1.8153586870341933, -0.7179954280924857, -1.0977240279134834, -0.9259475104250532, 0.9852912806939138, -0.4840186387488574, -0.43089106542389977, 0.2911652394892015, -0.965132820164843, -0.7180607125895234, -1.0041459219518847, -0.7846987822530055, 0.12630702047120732, -0.3812210919119034, -0.3037783960675797, -0.282441006815986, 0.42824543291257966, 0.006255871853128791, 0.7851077459102427, -0.6255412712308532, -0.06663669277893636, 0.7293892078205981, 1.512249438121794, 0.05893141654083086, 0.9760093768519751, -0.28824847602835263, -0.30940127812256835, 0.537953257392704, 0.6381235440509992, 0.7727316578039034, -0.25435089513654213, -0.6790857730570136, -0.6249789946320716, 1.4731436561408768, -0.0637549971579087, -0.30502694841740013, 0.37810360901576967], \"xaxis\": \"x2\", \"y\": [-0.9734495742841736, -1.8315951967413935, 1.6139020442339822, 1.8317994231752863, -0.5703850399579571, -1.4741058750836376, 0.3556724369296695, 0.5896167900058208, -0.16588761429519788, 1.252817890189307, 0.8244913688037369, -0.8310634233310962, -1.2715301311174314, 0.8813921954359295, 0.03008326150665548, 1.796935266435818, 0.36940181717575304, -0.8813170476695465, -0.31461403362256685, -0.4468206880588594, 0.3240352703956821, -0.4174928910302742, -0.8936299905709542, -1.7730351725609956, -0.17509775157041949, 1.785575038048923, 0.8693153126170038, -0.9119334319497847, 0.06855935946590477, 0.5983975207014364, -0.3125289594386086, -1.623670806104809, -1.5420589595567573, 1.3286785347616383, -1.094158923464464, 0.21930454522962683, 0.8354226939734191, 1.1112027436645884, 0.5706132554817172, 1.5175492736710126, -0.741270592687962, 0.7179471066369602, -0.11923765585506343, -0.5190825867431396, -1.223108562573393, -0.24851600060140075, 1.1382508831643312, -0.033081660969711255, 0.5175216536790487, 0.7544486986602126, -0.6518679982601071, 2.070787774933711, 0.4426842316054046, 0.05653702034559746, -1.0053907104192161, -0.786399787410555, 0.27850043786370504, 0.3916013705575103, 0.43507671462973674, 1.3045455981258764, 1.5209664834575232, 0.5703063793983049, -0.20123025062794503, -0.04784662293665812, 0.9508747258949924, 0.10041817141614233, 0.05723625804651315, -0.04030529057318736, 0.7335235062619401, 0.8982570392990319, 1.1155809290713437, 0.8844599452843706, -0.6148252072505153, 1.1594874940128568, -1.216817774524191, -0.8890426465705751, -1.893518423950157, -0.33140872246822817, -0.26953768733587197, 0.9961753075937271, 0.03607656273618685, -0.4870399182323607, -0.7339647437901523, 0.5475059713581206, -1.1018093852788269, -1.4823859267101909, -1.6501041838493982, 0.20377009012743325, 0.1762274744366041, -0.6017592186585072, 0.3590576908726275, 0.7428489289251691, 0.48584201834020807, 0.6945617012876489, -1.1489156980425708, 0.6131057392500935, 0.17885470690537067, 0.26446508278372033, -0.10706051662167917, 0.6223017828248917], \"yaxis\": \"y2\"}, {\"line\": {\"color\": \"rgba(128, 128, 128, 1.0)\", \"dash\": \"solid\", \"shape\": \"linear\", \"width\": 1.3}, \"marker\": {\"size\": 2, \"symbol\": \"circle\"}, \"mode\": \"markers\", \"name\": \"A\", \"text\": \"\", \"type\": \"scatter\", \"x\": [0.4465946591692149, -0.16486231085411854, -0.2982897748061894, -0.23411003689093351, -1.2116097866053412, 0.8253673770836158, -1.148999781191789, 1.4793187197489317, -1.8278615001710312, 0.10793947769491719, 0.013210085189908979, 0.1915405875072082, -0.740424717839089, 0.8753765623144861, -0.5820215653049959, 0.02952435573406176, 1.3800918755008555, 0.8829600699652781, -0.7899359672227325, 1.0480987514065763, -0.661342190204746, -1.437532002146367, -0.9347259262952119, 0.2711441527009754, 0.9370994639846763, -0.8510998725071435, -0.10901940707699512, -1.5670525760540877, 2.5500612373045435, 0.25316419368897436, -0.7348893605846597, 0.1354147034953102, 0.5909033184761552, 1.8698919963948077, -1.017584445365926, 2.0664060265275794, -1.244086825630889, 0.7658621916231835, 0.562898699100837, 0.6780684477561032, -0.8802058709296295, 0.575335737009437, 1.3403402794924335, -1.006790440287403, -0.09625773583783136, -0.7372422026148387, -0.8713067597021921, -1.121267427250573, 0.014520832299060196, -0.623431807530587, -1.2030039545655682, 0.02702242494766879, -0.07319362795788485, 0.026927518795224967, 0.4545713532247032, -0.07828220808835416, 0.3057447235537578, -0.07894598635092011, 0.010818280208694245, -0.0014020639789387019, -0.7889084335136599, 0.34483105903604977, 2.4355337763902942, 1.3414174390131024, -0.9044209394970005, -0.04786040943686782, -0.5651928414422082, 1.180654787239047, 0.17497182194333832, 1.6447684917816974, 0.6204256291321893, 0.6508427104690401, -0.9716419250001527, 0.5951087500017701, 0.1661758983675416, 0.6011190061024035, -1.6825903839447376, -0.6120102985816349, -0.5488089546191786, -0.9578877517845851, -0.060102094105688175, 2.2812115930732637, 0.8029602338025977, -1.7601645850839462, -1.2672108160954711, -0.7754988415258066, 0.7700989925557424, -0.42033232131429676, -0.6092157256666687, -1.214898858131597, -0.9502243168822014, 0.830944977952104, 1.2015754737748736, 1.641226772233783, 1.43306751285687, 1.638961428726828, -0.07502882892345157, 1.329747633643722, -0.6089988187792902, -2.1507734614985874], \"xaxis\": \"x3\", \"y\": [-0.9734495742841736, -1.8315951967413935, 1.6139020442339822, 1.8317994231752863, -0.5703850399579571, -1.4741058750836376, 0.3556724369296695, 0.5896167900058208, -0.16588761429519788, 1.252817890189307, 0.8244913688037369, -0.8310634233310962, -1.2715301311174314, 0.8813921954359295, 0.03008326150665548, 1.796935266435818, 0.36940181717575304, -0.8813170476695465, -0.31461403362256685, -0.4468206880588594, 0.3240352703956821, -0.4174928910302742, -0.8936299905709542, -1.7730351725609956, -0.17509775157041949, 1.785575038048923, 0.8693153126170038, -0.9119334319497847, 0.06855935946590477, 0.5983975207014364, -0.3125289594386086, -1.623670806104809, -1.5420589595567573, 1.3286785347616383, -1.094158923464464, 0.21930454522962683, 0.8354226939734191, 1.1112027436645884, 0.5706132554817172, 1.5175492736710126, -0.741270592687962, 0.7179471066369602, -0.11923765585506343, -0.5190825867431396, -1.223108562573393, -0.24851600060140075, 1.1382508831643312, -0.033081660969711255, 0.5175216536790487, 0.7544486986602126, -0.6518679982601071, 2.070787774933711, 0.4426842316054046, 0.05653702034559746, -1.0053907104192161, -0.786399787410555, 0.27850043786370504, 0.3916013705575103, 0.43507671462973674, 1.3045455981258764, 1.5209664834575232, 0.5703063793983049, -0.20123025062794503, -0.04784662293665812, 0.9508747258949924, 0.10041817141614233, 0.05723625804651315, -0.04030529057318736, 0.7335235062619401, 0.8982570392990319, 1.1155809290713437, 0.8844599452843706, -0.6148252072505153, 1.1594874940128568, -1.216817774524191, -0.8890426465705751, -1.893518423950157, -0.33140872246822817, -0.26953768733587197, 0.9961753075937271, 0.03607656273618685, -0.4870399182323607, -0.7339647437901523, 0.5475059713581206, -1.1018093852788269, -1.4823859267101909, -1.6501041838493982, 0.20377009012743325, 0.1762274744366041, -0.6017592186585072, 0.3590576908726275, 0.7428489289251691, 0.48584201834020807, 0.6945617012876489, -1.1489156980425708, 0.6131057392500935, 0.17885470690537067, 0.26446508278372033, -0.10706051662167917, 0.6223017828248917], \"yaxis\": \"y3\"}, {\"line\": {\"color\": \"rgba(128, 128, 128, 1.0)\", \"dash\": \"solid\", \"shape\": \"linear\", \"width\": 1.3}, \"marker\": {\"size\": 2, \"symbol\": \"circle\"}, \"mode\": \"markers\", \"name\": \"A\", \"text\": \"\", \"type\": \"scatter\", \"x\": [-0.2192232435712407, 0.0283268131023829, 0.8964696723539963, -1.0283885000833466, -1.3182351327351098, -0.5277647422987509, -0.9385086936869956, 1.2061977978951748, 0.1421902406605246, 0.6184168052550945, -0.039877045490074994, -0.9752394987162321, -1.7751520163220462, -0.4722921655201741, -0.12274985283625083, -0.9274559744283062, 1.894270929614533, -2.672694771207034, 0.07997402295206053, 0.7491965681213448, -0.7152711078609697, -0.32855979832250526, -0.05323711387502112, 0.9167917248097514, -0.6179467194794326, 0.05256963946619909, -0.6312899349076002, 0.22351194814481504, -0.3067313893917002, -0.8456113471311655, 0.6211118901589805, -1.112525092466899, 0.9619251622482322, -0.26877353141176263, -0.0014630302593012106, -1.0191297589773674, -1.3672715614444393, 0.38710677050744735, -0.4899293153653744, -0.12630803511377184, 0.9815905655982257, -0.4175055812147094, 1.1260620582587195, -1.244106024305591, 1.2163029421357596, 0.7300378523525042, 0.6539537619265317, 1.2339106042088626, 0.8112364534231554, -1.2829068140569275, -0.6756773844832522, -0.7091020795886301, 0.31764685592615666, -0.4502973343925804, 1.7274832888038356, -0.11525108286821455, 0.19010588366922107, 0.797255107372613, 1.163288964252091, 1.0590557596414987, -0.7011592168034892, 1.2060006342909675, 1.0893990791408414, -1.5229207242328573, -0.3997213570588383, 2.874689786857148, 0.10611024585499639, -0.8555094032339574, 1.6096275851091222, -1.8783119998528792, 0.8640234633966536, 2.0859932005692703, 0.6702785786050622, 0.6323768743595102, -1.1055358574342864, -0.2924966496013419, 1.7759060786073706, 0.6212449630378699, 2.0118187423184657, 0.7508843587411196, -1.2002570321997699, 1.4795863669983513, -0.2598826343604322, -0.10963908013096199, 2.2077184815927877, -2.1720097869633683, 1.0987939610199553, 0.8865809203216175, 0.06022492757025151, -0.35863420685446684, -1.1832813827837794, -0.28699537868668434, -0.46883213875517077, -0.4635016862238375, -0.4017998218990491, -1.0870154401924637, -0.991984450544098, -0.152825678547246, -1.5095653176917445, 0.4563221193826911], \"xaxis\": \"x4\", \"y\": [-0.9734495742841736, -1.8315951967413935, 1.6139020442339822, 1.8317994231752863, -0.5703850399579571, -1.4741058750836376, 0.3556724369296695, 0.5896167900058208, -0.16588761429519788, 1.252817890189307, 0.8244913688037369, -0.8310634233310962, -1.2715301311174314, 0.8813921954359295, 0.03008326150665548, 1.796935266435818, 0.36940181717575304, -0.8813170476695465, -0.31461403362256685, -0.4468206880588594, 0.3240352703956821, -0.4174928910302742, -0.8936299905709542, -1.7730351725609956, -0.17509775157041949, 1.785575038048923, 0.8693153126170038, -0.9119334319497847, 0.06855935946590477, 0.5983975207014364, -0.3125289594386086, -1.623670806104809, -1.5420589595567573, 1.3286785347616383, -1.094158923464464, 0.21930454522962683, 0.8354226939734191, 1.1112027436645884, 0.5706132554817172, 1.5175492736710126, -0.741270592687962, 0.7179471066369602, -0.11923765585506343, -0.5190825867431396, -1.223108562573393, -0.24851600060140075, 1.1382508831643312, -0.033081660969711255, 0.5175216536790487, 0.7544486986602126, -0.6518679982601071, 2.070787774933711, 0.4426842316054046, 0.05653702034559746, -1.0053907104192161, -0.786399787410555, 0.27850043786370504, 0.3916013705575103, 0.43507671462973674, 1.3045455981258764, 1.5209664834575232, 0.5703063793983049, -0.20123025062794503, -0.04784662293665812, 0.9508747258949924, 0.10041817141614233, 0.05723625804651315, -0.04030529057318736, 0.7335235062619401, 0.8982570392990319, 1.1155809290713437, 0.8844599452843706, -0.6148252072505153, 1.1594874940128568, -1.216817774524191, -0.8890426465705751, -1.893518423950157, -0.33140872246822817, -0.26953768733587197, 0.9961753075937271, 0.03607656273618685, -0.4870399182323607, -0.7339647437901523, 0.5475059713581206, -1.1018093852788269, -1.4823859267101909, -1.6501041838493982, 0.20377009012743325, 0.1762274744366041, -0.6017592186585072, 0.3590576908726275, 0.7428489289251691, 0.48584201834020807, 0.6945617012876489, -1.1489156980425708, 0.6131057392500935, 0.17885470690537067, 0.26446508278372033, -0.10706051662167917, 0.6223017828248917], \"yaxis\": \"y4\"}, {\"line\": {\"color\": \"rgba(128, 128, 128, 1.0)\", \"dash\": \"solid\", \"shape\": \"linear\", \"width\": 1.3}, \"marker\": {\"size\": 2, \"symbol\": \"circle\"}, \"mode\": \"markers\", \"name\": \"B\", \"text\": \"\", \"type\": \"scatter\", \"x\": [-0.9734495742841736, -1.8315951967413935, 1.6139020442339822, 1.8317994231752863, -0.5703850399579571, -1.4741058750836376, 0.3556724369296695, 0.5896167900058208, -0.16588761429519788, 1.252817890189307, 0.8244913688037369, -0.8310634233310962, -1.2715301311174314, 0.8813921954359295, 0.03008326150665548, 1.796935266435818, 0.36940181717575304, -0.8813170476695465, -0.31461403362256685, -0.4468206880588594, 0.3240352703956821, -0.4174928910302742, -0.8936299905709542, -1.7730351725609956, -0.17509775157041949, 1.785575038048923, 0.8693153126170038, -0.9119334319497847, 0.06855935946590477, 0.5983975207014364, -0.3125289594386086, -1.623670806104809, -1.5420589595567573, 1.3286785347616383, -1.094158923464464, 0.21930454522962683, 0.8354226939734191, 1.1112027436645884, 0.5706132554817172, 1.5175492736710126, -0.741270592687962, 0.7179471066369602, -0.11923765585506343, -0.5190825867431396, -1.223108562573393, -0.24851600060140075, 1.1382508831643312, -0.033081660969711255, 0.5175216536790487, 0.7544486986602126, -0.6518679982601071, 2.070787774933711, 0.4426842316054046, 0.05653702034559746, -1.0053907104192161, -0.786399787410555, 0.27850043786370504, 0.3916013705575103, 0.43507671462973674, 1.3045455981258764, 1.5209664834575232, 0.5703063793983049, -0.20123025062794503, -0.04784662293665812, 0.9508747258949924, 0.10041817141614233, 0.05723625804651315, -0.04030529057318736, 0.7335235062619401, 0.8982570392990319, 1.1155809290713437, 0.8844599452843706, -0.6148252072505153, 1.1594874940128568, -1.216817774524191, -0.8890426465705751, -1.893518423950157, -0.33140872246822817, -0.26953768733587197, 0.9961753075937271, 0.03607656273618685, -0.4870399182323607, -0.7339647437901523, 0.5475059713581206, -1.1018093852788269, -1.4823859267101909, -1.6501041838493982, 0.20377009012743325, 0.1762274744366041, -0.6017592186585072, 0.3590576908726275, 0.7428489289251691, 0.48584201834020807, 0.6945617012876489, -1.1489156980425708, 0.6131057392500935, 0.17885470690537067, 0.26446508278372033, -0.10706051662167917, 0.6223017828248917], \"xaxis\": \"x5\", \"y\": [-0.5811999608120723, -0.8036697312678183, 0.3854041880109005, 0.4209603813984334, -0.4281246077274638, -0.19852210221305122, -2.054418519812087, 0.4077891217927148, -0.5945240763963975, -1.536557826592104, 0.672332698408608, 1.4028979182530195, 1.4439820744695246, 0.20886292761525518, -0.7393879162186503, -0.5368487628608516, -1.3688133482970724, 0.19474772168671534, 0.2647889831001665, -1.251547816940817, 0.48556271338398527, 0.5285982029460005, -0.6397201840797241, 0.5081278922806333, 0.2659176640020525, 2.552614374126511, -1.1493716413393977, 1.3345305675591104, 0.5974633782328114, -0.786979507572439, 0.06608038797047978, -0.8145816284732865, 1.5847483366580726, -1.1202607419391661, -1.049640524535017, -0.006903395515333687, -0.524048042000973, 0.44602741836718635, 0.20789948771212124, -1.7806121425814323, 0.0854339021506031, 0.6102089740674195, 0.9728652238276162, -1.4346181102507178, 0.4991602969072206, 1.7848098537008248, 0.47678906443316527, 0.30715039761978874, -0.08716260522525818, 0.35767698840008727, -0.11745608886652367, -1.786882759539797, 1.6238306895783923, -1.1762234413326496, -0.8428802127555798, 0.9966021977974714, 0.8373405137607192, 0.8659528776627187, 2.0692017376026457, 1.4272810302299084, -1.7892289543718998, 1.6576497596199353, -0.03281965544361487, -1.8153586870341933, -0.7179954280924857, -1.0977240279134834, -0.9259475104250532, 0.9852912806939138, -0.4840186387488574, -0.43089106542389977, 0.2911652394892015, -0.965132820164843, -0.7180607125895234, -1.0041459219518847, -0.7846987822530055, 0.12630702047120732, -0.3812210919119034, -0.3037783960675797, -0.282441006815986, 0.42824543291257966, 0.006255871853128791, 0.7851077459102427, -0.6255412712308532, -0.06663669277893636, 0.7293892078205981, 1.512249438121794, 0.05893141654083086, 0.9760093768519751, -0.28824847602835263, -0.30940127812256835, 0.537953257392704, 0.6381235440509992, 0.7727316578039034, -0.25435089513654213, -0.6790857730570136, -0.6249789946320716, 1.4731436561408768, -0.0637549971579087, -0.30502694841740013, 0.37810360901576967], \"yaxis\": \"y5\"}, {\"histfunc\": \"count\", \"histnorm\": \"\", \"marker\": {\"color\": \"rgba(55, 128, 191, 1.0)\", \"line\": {\"color\": \"#4D5663\", \"width\": 1.3}}, \"name\": \"B\", \"nbinsx\": 10, \"opacity\": 0.8, \"orientation\": \"v\", \"type\": \"histogram\", \"x\": [-0.5811999608120723, -0.8036697312678183, 0.3854041880109005, 0.4209603813984334, -0.4281246077274638, -0.19852210221305122, -2.054418519812087, 0.4077891217927148, -0.5945240763963975, -1.536557826592104, 0.672332698408608, 1.4028979182530195, 1.4439820744695246, 0.20886292761525518, -0.7393879162186503, -0.5368487628608516, -1.3688133482970724, 0.19474772168671534, 0.2647889831001665, -1.251547816940817, 0.48556271338398527, 0.5285982029460005, -0.6397201840797241, 0.5081278922806333, 0.2659176640020525, 2.552614374126511, -1.1493716413393977, 1.3345305675591104, 0.5974633782328114, -0.786979507572439, 0.06608038797047978, -0.8145816284732865, 1.5847483366580726, -1.1202607419391661, -1.049640524535017, -0.006903395515333687, -0.524048042000973, 0.44602741836718635, 0.20789948771212124, -1.7806121425814323, 0.0854339021506031, 0.6102089740674195, 0.9728652238276162, -1.4346181102507178, 0.4991602969072206, 1.7848098537008248, 0.47678906443316527, 0.30715039761978874, -0.08716260522525818, 0.35767698840008727, -0.11745608886652367, -1.786882759539797, 1.6238306895783923, -1.1762234413326496, -0.8428802127555798, 0.9966021977974714, 0.8373405137607192, 0.8659528776627187, 2.0692017376026457, 1.4272810302299084, -1.7892289543718998, 1.6576497596199353, -0.03281965544361487, -1.8153586870341933, -0.7179954280924857, -1.0977240279134834, -0.9259475104250532, 0.9852912806939138, -0.4840186387488574, -0.43089106542389977, 0.2911652394892015, -0.965132820164843, -0.7180607125895234, -1.0041459219518847, -0.7846987822530055, 0.12630702047120732, -0.3812210919119034, -0.3037783960675797, -0.282441006815986, 0.42824543291257966, 0.006255871853128791, 0.7851077459102427, -0.6255412712308532, -0.06663669277893636, 0.7293892078205981, 1.512249438121794, 0.05893141654083086, 0.9760093768519751, -0.28824847602835263, -0.30940127812256835, 0.537953257392704, 0.6381235440509992, 0.7727316578039034, -0.25435089513654213, -0.6790857730570136, -0.6249789946320716, 1.4731436561408768, -0.0637549971579087, -0.30502694841740013, 0.37810360901576967], \"xaxis\": \"x6\", \"yaxis\": \"y6\"}, {\"line\": {\"color\": \"rgba(128, 128, 128, 1.0)\", \"dash\": \"solid\", \"shape\": \"linear\", \"width\": 1.3}, \"marker\": {\"size\": 2, \"symbol\": \"circle\"}, \"mode\": \"markers\", \"name\": \"B\", \"text\": \"\", \"type\": \"scatter\", \"x\": [0.4465946591692149, -0.16486231085411854, -0.2982897748061894, -0.23411003689093351, -1.2116097866053412, 0.8253673770836158, -1.148999781191789, 1.4793187197489317, -1.8278615001710312, 0.10793947769491719, 0.013210085189908979, 0.1915405875072082, -0.740424717839089, 0.8753765623144861, -0.5820215653049959, 0.02952435573406176, 1.3800918755008555, 0.8829600699652781, -0.7899359672227325, 1.0480987514065763, -0.661342190204746, -1.437532002146367, -0.9347259262952119, 0.2711441527009754, 0.9370994639846763, -0.8510998725071435, -0.10901940707699512, -1.5670525760540877, 2.5500612373045435, 0.25316419368897436, -0.7348893605846597, 0.1354147034953102, 0.5909033184761552, 1.8698919963948077, -1.017584445365926, 2.0664060265275794, -1.244086825630889, 0.7658621916231835, 0.562898699100837, 0.6780684477561032, -0.8802058709296295, 0.575335737009437, 1.3403402794924335, -1.006790440287403, -0.09625773583783136, -0.7372422026148387, -0.8713067597021921, -1.121267427250573, 0.014520832299060196, -0.623431807530587, -1.2030039545655682, 0.02702242494766879, -0.07319362795788485, 0.026927518795224967, 0.4545713532247032, -0.07828220808835416, 0.3057447235537578, -0.07894598635092011, 0.010818280208694245, -0.0014020639789387019, -0.7889084335136599, 0.34483105903604977, 2.4355337763902942, 1.3414174390131024, -0.9044209394970005, -0.04786040943686782, -0.5651928414422082, 1.180654787239047, 0.17497182194333832, 1.6447684917816974, 0.6204256291321893, 0.6508427104690401, -0.9716419250001527, 0.5951087500017701, 0.1661758983675416, 0.6011190061024035, -1.6825903839447376, -0.6120102985816349, -0.5488089546191786, -0.9578877517845851, -0.060102094105688175, 2.2812115930732637, 0.8029602338025977, -1.7601645850839462, -1.2672108160954711, -0.7754988415258066, 0.7700989925557424, -0.42033232131429676, -0.6092157256666687, -1.214898858131597, -0.9502243168822014, 0.830944977952104, 1.2015754737748736, 1.641226772233783, 1.43306751285687, 1.638961428726828, -0.07502882892345157, 1.329747633643722, -0.6089988187792902, -2.1507734614985874], \"xaxis\": \"x7\", \"y\": [-0.5811999608120723, -0.8036697312678183, 0.3854041880109005, 0.4209603813984334, -0.4281246077274638, -0.19852210221305122, -2.054418519812087, 0.4077891217927148, -0.5945240763963975, -1.536557826592104, 0.672332698408608, 1.4028979182530195, 1.4439820744695246, 0.20886292761525518, -0.7393879162186503, -0.5368487628608516, -1.3688133482970724, 0.19474772168671534, 0.2647889831001665, -1.251547816940817, 0.48556271338398527, 0.5285982029460005, -0.6397201840797241, 0.5081278922806333, 0.2659176640020525, 2.552614374126511, -1.1493716413393977, 1.3345305675591104, 0.5974633782328114, -0.786979507572439, 0.06608038797047978, -0.8145816284732865, 1.5847483366580726, -1.1202607419391661, -1.049640524535017, -0.006903395515333687, -0.524048042000973, 0.44602741836718635, 0.20789948771212124, -1.7806121425814323, 0.0854339021506031, 0.6102089740674195, 0.9728652238276162, -1.4346181102507178, 0.4991602969072206, 1.7848098537008248, 0.47678906443316527, 0.30715039761978874, -0.08716260522525818, 0.35767698840008727, -0.11745608886652367, -1.786882759539797, 1.6238306895783923, -1.1762234413326496, -0.8428802127555798, 0.9966021977974714, 0.8373405137607192, 0.8659528776627187, 2.0692017376026457, 1.4272810302299084, -1.7892289543718998, 1.6576497596199353, -0.03281965544361487, -1.8153586870341933, -0.7179954280924857, -1.0977240279134834, -0.9259475104250532, 0.9852912806939138, -0.4840186387488574, -0.43089106542389977, 0.2911652394892015, -0.965132820164843, -0.7180607125895234, -1.0041459219518847, -0.7846987822530055, 0.12630702047120732, -0.3812210919119034, -0.3037783960675797, -0.282441006815986, 0.42824543291257966, 0.006255871853128791, 0.7851077459102427, -0.6255412712308532, -0.06663669277893636, 0.7293892078205981, 1.512249438121794, 0.05893141654083086, 0.9760093768519751, -0.28824847602835263, -0.30940127812256835, 0.537953257392704, 0.6381235440509992, 0.7727316578039034, -0.25435089513654213, -0.6790857730570136, -0.6249789946320716, 1.4731436561408768, -0.0637549971579087, -0.30502694841740013, 0.37810360901576967], \"yaxis\": \"y7\"}, {\"line\": {\"color\": \"rgba(128, 128, 128, 1.0)\", \"dash\": \"solid\", \"shape\": \"linear\", \"width\": 1.3}, \"marker\": {\"size\": 2, \"symbol\": \"circle\"}, \"mode\": \"markers\", \"name\": \"B\", \"text\": \"\", \"type\": \"scatter\", \"x\": [-0.2192232435712407, 0.0283268131023829, 0.8964696723539963, -1.0283885000833466, -1.3182351327351098, -0.5277647422987509, -0.9385086936869956, 1.2061977978951748, 0.1421902406605246, 0.6184168052550945, -0.039877045490074994, -0.9752394987162321, -1.7751520163220462, -0.4722921655201741, -0.12274985283625083, -0.9274559744283062, 1.894270929614533, -2.672694771207034, 0.07997402295206053, 0.7491965681213448, -0.7152711078609697, -0.32855979832250526, -0.05323711387502112, 0.9167917248097514, -0.6179467194794326, 0.05256963946619909, -0.6312899349076002, 0.22351194814481504, -0.3067313893917002, -0.8456113471311655, 0.6211118901589805, -1.112525092466899, 0.9619251622482322, -0.26877353141176263, -0.0014630302593012106, -1.0191297589773674, -1.3672715614444393, 0.38710677050744735, -0.4899293153653744, -0.12630803511377184, 0.9815905655982257, -0.4175055812147094, 1.1260620582587195, -1.244106024305591, 1.2163029421357596, 0.7300378523525042, 0.6539537619265317, 1.2339106042088626, 0.8112364534231554, -1.2829068140569275, -0.6756773844832522, -0.7091020795886301, 0.31764685592615666, -0.4502973343925804, 1.7274832888038356, -0.11525108286821455, 0.19010588366922107, 0.797255107372613, 1.163288964252091, 1.0590557596414987, -0.7011592168034892, 1.2060006342909675, 1.0893990791408414, -1.5229207242328573, -0.3997213570588383, 2.874689786857148, 0.10611024585499639, -0.8555094032339574, 1.6096275851091222, -1.8783119998528792, 0.8640234633966536, 2.0859932005692703, 0.6702785786050622, 0.6323768743595102, -1.1055358574342864, -0.2924966496013419, 1.7759060786073706, 0.6212449630378699, 2.0118187423184657, 0.7508843587411196, -1.2002570321997699, 1.4795863669983513, -0.2598826343604322, -0.10963908013096199, 2.2077184815927877, -2.1720097869633683, 1.0987939610199553, 0.8865809203216175, 0.06022492757025151, -0.35863420685446684, -1.1832813827837794, -0.28699537868668434, -0.46883213875517077, -0.4635016862238375, -0.4017998218990491, -1.0870154401924637, -0.991984450544098, -0.152825678547246, -1.5095653176917445, 0.4563221193826911], \"xaxis\": \"x8\", \"y\": [-0.5811999608120723, -0.8036697312678183, 0.3854041880109005, 0.4209603813984334, -0.4281246077274638, -0.19852210221305122, -2.054418519812087, 0.4077891217927148, -0.5945240763963975, -1.536557826592104, 0.672332698408608, 1.4028979182530195, 1.4439820744695246, 0.20886292761525518, -0.7393879162186503, -0.5368487628608516, -1.3688133482970724, 0.19474772168671534, 0.2647889831001665, -1.251547816940817, 0.48556271338398527, 0.5285982029460005, -0.6397201840797241, 0.5081278922806333, 0.2659176640020525, 2.552614374126511, -1.1493716413393977, 1.3345305675591104, 0.5974633782328114, -0.786979507572439, 0.06608038797047978, -0.8145816284732865, 1.5847483366580726, -1.1202607419391661, -1.049640524535017, -0.006903395515333687, -0.524048042000973, 0.44602741836718635, 0.20789948771212124, -1.7806121425814323, 0.0854339021506031, 0.6102089740674195, 0.9728652238276162, -1.4346181102507178, 0.4991602969072206, 1.7848098537008248, 0.47678906443316527, 0.30715039761978874, -0.08716260522525818, 0.35767698840008727, -0.11745608886652367, -1.786882759539797, 1.6238306895783923, -1.1762234413326496, -0.8428802127555798, 0.9966021977974714, 0.8373405137607192, 0.8659528776627187, 2.0692017376026457, 1.4272810302299084, -1.7892289543718998, 1.6576497596199353, -0.03281965544361487, -1.8153586870341933, -0.7179954280924857, -1.0977240279134834, -0.9259475104250532, 0.9852912806939138, -0.4840186387488574, -0.43089106542389977, 0.2911652394892015, -0.965132820164843, -0.7180607125895234, -1.0041459219518847, -0.7846987822530055, 0.12630702047120732, -0.3812210919119034, -0.3037783960675797, -0.282441006815986, 0.42824543291257966, 0.006255871853128791, 0.7851077459102427, -0.6255412712308532, -0.06663669277893636, 0.7293892078205981, 1.512249438121794, 0.05893141654083086, 0.9760093768519751, -0.28824847602835263, -0.30940127812256835, 0.537953257392704, 0.6381235440509992, 0.7727316578039034, -0.25435089513654213, -0.6790857730570136, -0.6249789946320716, 1.4731436561408768, -0.0637549971579087, -0.30502694841740013, 0.37810360901576967], \"yaxis\": \"y8\"}, {\"line\": {\"color\": \"rgba(128, 128, 128, 1.0)\", \"dash\": \"solid\", \"shape\": \"linear\", \"width\": 1.3}, \"marker\": {\"size\": 2, \"symbol\": \"circle\"}, \"mode\": \"markers\", \"name\": \"C\", \"text\": \"\", \"type\": \"scatter\", \"x\": [-0.9734495742841736, -1.8315951967413935, 1.6139020442339822, 1.8317994231752863, -0.5703850399579571, -1.4741058750836376, 0.3556724369296695, 0.5896167900058208, -0.16588761429519788, 1.252817890189307, 0.8244913688037369, -0.8310634233310962, -1.2715301311174314, 0.8813921954359295, 0.03008326150665548, 1.796935266435818, 0.36940181717575304, -0.8813170476695465, -0.31461403362256685, -0.4468206880588594, 0.3240352703956821, -0.4174928910302742, -0.8936299905709542, -1.7730351725609956, -0.17509775157041949, 1.785575038048923, 0.8693153126170038, -0.9119334319497847, 0.06855935946590477, 0.5983975207014364, -0.3125289594386086, -1.623670806104809, -1.5420589595567573, 1.3286785347616383, -1.094158923464464, 0.21930454522962683, 0.8354226939734191, 1.1112027436645884, 0.5706132554817172, 1.5175492736710126, -0.741270592687962, 0.7179471066369602, -0.11923765585506343, -0.5190825867431396, -1.223108562573393, -0.24851600060140075, 1.1382508831643312, -0.033081660969711255, 0.5175216536790487, 0.7544486986602126, -0.6518679982601071, 2.070787774933711, 0.4426842316054046, 0.05653702034559746, -1.0053907104192161, -0.786399787410555, 0.27850043786370504, 0.3916013705575103, 0.43507671462973674, 1.3045455981258764, 1.5209664834575232, 0.5703063793983049, -0.20123025062794503, -0.04784662293665812, 0.9508747258949924, 0.10041817141614233, 0.05723625804651315, -0.04030529057318736, 0.7335235062619401, 0.8982570392990319, 1.1155809290713437, 0.8844599452843706, -0.6148252072505153, 1.1594874940128568, -1.216817774524191, -0.8890426465705751, -1.893518423950157, -0.33140872246822817, -0.26953768733587197, 0.9961753075937271, 0.03607656273618685, -0.4870399182323607, -0.7339647437901523, 0.5475059713581206, -1.1018093852788269, -1.4823859267101909, -1.6501041838493982, 0.20377009012743325, 0.1762274744366041, -0.6017592186585072, 0.3590576908726275, 0.7428489289251691, 0.48584201834020807, 0.6945617012876489, -1.1489156980425708, 0.6131057392500935, 0.17885470690537067, 0.26446508278372033, -0.10706051662167917, 0.6223017828248917], \"xaxis\": \"x9\", \"y\": [0.4465946591692149, -0.16486231085411854, -0.2982897748061894, -0.23411003689093351, -1.2116097866053412, 0.8253673770836158, -1.148999781191789, 1.4793187197489317, -1.8278615001710312, 0.10793947769491719, 0.013210085189908979, 0.1915405875072082, -0.740424717839089, 0.8753765623144861, -0.5820215653049959, 0.02952435573406176, 1.3800918755008555, 0.8829600699652781, -0.7899359672227325, 1.0480987514065763, -0.661342190204746, -1.437532002146367, -0.9347259262952119, 0.2711441527009754, 0.9370994639846763, -0.8510998725071435, -0.10901940707699512, -1.5670525760540877, 2.5500612373045435, 0.25316419368897436, -0.7348893605846597, 0.1354147034953102, 0.5909033184761552, 1.8698919963948077, -1.017584445365926, 2.0664060265275794, -1.244086825630889, 0.7658621916231835, 0.562898699100837, 0.6780684477561032, -0.8802058709296295, 0.575335737009437, 1.3403402794924335, -1.006790440287403, -0.09625773583783136, -0.7372422026148387, -0.8713067597021921, -1.121267427250573, 0.014520832299060196, -0.623431807530587, -1.2030039545655682, 0.02702242494766879, -0.07319362795788485, 0.026927518795224967, 0.4545713532247032, -0.07828220808835416, 0.3057447235537578, -0.07894598635092011, 0.010818280208694245, -0.0014020639789387019, -0.7889084335136599, 0.34483105903604977, 2.4355337763902942, 1.3414174390131024, -0.9044209394970005, -0.04786040943686782, -0.5651928414422082, 1.180654787239047, 0.17497182194333832, 1.6447684917816974, 0.6204256291321893, 0.6508427104690401, -0.9716419250001527, 0.5951087500017701, 0.1661758983675416, 0.6011190061024035, -1.6825903839447376, -0.6120102985816349, -0.5488089546191786, -0.9578877517845851, -0.060102094105688175, 2.2812115930732637, 0.8029602338025977, -1.7601645850839462, -1.2672108160954711, -0.7754988415258066, 0.7700989925557424, -0.42033232131429676, -0.6092157256666687, -1.214898858131597, -0.9502243168822014, 0.830944977952104, 1.2015754737748736, 1.641226772233783, 1.43306751285687, 1.638961428726828, -0.07502882892345157, 1.329747633643722, -0.6089988187792902, -2.1507734614985874], \"yaxis\": \"y9\"}, {\"line\": {\"color\": \"rgba(128, 128, 128, 1.0)\", \"dash\": \"solid\", \"shape\": \"linear\", \"width\": 1.3}, \"marker\": {\"size\": 2, \"symbol\": \"circle\"}, \"mode\": \"markers\", \"name\": \"C\", \"text\": \"\", \"type\": \"scatter\", \"x\": [-0.5811999608120723, -0.8036697312678183, 0.3854041880109005, 0.4209603813984334, -0.4281246077274638, -0.19852210221305122, -2.054418519812087, 0.4077891217927148, -0.5945240763963975, -1.536557826592104, 0.672332698408608, 1.4028979182530195, 1.4439820744695246, 0.20886292761525518, -0.7393879162186503, -0.5368487628608516, -1.3688133482970724, 0.19474772168671534, 0.2647889831001665, -1.251547816940817, 0.48556271338398527, 0.5285982029460005, -0.6397201840797241, 0.5081278922806333, 0.2659176640020525, 2.552614374126511, -1.1493716413393977, 1.3345305675591104, 0.5974633782328114, -0.786979507572439, 0.06608038797047978, -0.8145816284732865, 1.5847483366580726, -1.1202607419391661, -1.049640524535017, -0.006903395515333687, -0.524048042000973, 0.44602741836718635, 0.20789948771212124, -1.7806121425814323, 0.0854339021506031, 0.6102089740674195, 0.9728652238276162, -1.4346181102507178, 0.4991602969072206, 1.7848098537008248, 0.47678906443316527, 0.30715039761978874, -0.08716260522525818, 0.35767698840008727, -0.11745608886652367, -1.786882759539797, 1.6238306895783923, -1.1762234413326496, -0.8428802127555798, 0.9966021977974714, 0.8373405137607192, 0.8659528776627187, 2.0692017376026457, 1.4272810302299084, -1.7892289543718998, 1.6576497596199353, -0.03281965544361487, -1.8153586870341933, -0.7179954280924857, -1.0977240279134834, -0.9259475104250532, 0.9852912806939138, -0.4840186387488574, -0.43089106542389977, 0.2911652394892015, -0.965132820164843, -0.7180607125895234, -1.0041459219518847, -0.7846987822530055, 0.12630702047120732, -0.3812210919119034, -0.3037783960675797, -0.282441006815986, 0.42824543291257966, 0.006255871853128791, 0.7851077459102427, -0.6255412712308532, -0.06663669277893636, 0.7293892078205981, 1.512249438121794, 0.05893141654083086, 0.9760093768519751, -0.28824847602835263, -0.30940127812256835, 0.537953257392704, 0.6381235440509992, 0.7727316578039034, -0.25435089513654213, -0.6790857730570136, -0.6249789946320716, 1.4731436561408768, -0.0637549971579087, -0.30502694841740013, 0.37810360901576967], \"xaxis\": \"x10\", \"y\": [0.4465946591692149, -0.16486231085411854, -0.2982897748061894, -0.23411003689093351, -1.2116097866053412, 0.8253673770836158, -1.148999781191789, 1.4793187197489317, -1.8278615001710312, 0.10793947769491719, 0.013210085189908979, 0.1915405875072082, -0.740424717839089, 0.8753765623144861, -0.5820215653049959, 0.02952435573406176, 1.3800918755008555, 0.8829600699652781, -0.7899359672227325, 1.0480987514065763, -0.661342190204746, -1.437532002146367, -0.9347259262952119, 0.2711441527009754, 0.9370994639846763, -0.8510998725071435, -0.10901940707699512, -1.5670525760540877, 2.5500612373045435, 0.25316419368897436, -0.7348893605846597, 0.1354147034953102, 0.5909033184761552, 1.8698919963948077, -1.017584445365926, 2.0664060265275794, -1.244086825630889, 0.7658621916231835, 0.562898699100837, 0.6780684477561032, -0.8802058709296295, 0.575335737009437, 1.3403402794924335, -1.006790440287403, -0.09625773583783136, -0.7372422026148387, -0.8713067597021921, -1.121267427250573, 0.014520832299060196, -0.623431807530587, -1.2030039545655682, 0.02702242494766879, -0.07319362795788485, 0.026927518795224967, 0.4545713532247032, -0.07828220808835416, 0.3057447235537578, -0.07894598635092011, 0.010818280208694245, -0.0014020639789387019, -0.7889084335136599, 0.34483105903604977, 2.4355337763902942, 1.3414174390131024, -0.9044209394970005, -0.04786040943686782, -0.5651928414422082, 1.180654787239047, 0.17497182194333832, 1.6447684917816974, 0.6204256291321893, 0.6508427104690401, -0.9716419250001527, 0.5951087500017701, 0.1661758983675416, 0.6011190061024035, -1.6825903839447376, -0.6120102985816349, -0.5488089546191786, -0.9578877517845851, -0.060102094105688175, 2.2812115930732637, 0.8029602338025977, -1.7601645850839462, -1.2672108160954711, -0.7754988415258066, 0.7700989925557424, -0.42033232131429676, -0.6092157256666687, -1.214898858131597, -0.9502243168822014, 0.830944977952104, 1.2015754737748736, 1.641226772233783, 1.43306751285687, 1.638961428726828, -0.07502882892345157, 1.329747633643722, -0.6089988187792902, -2.1507734614985874], \"yaxis\": \"y10\"}, {\"histfunc\": \"count\", \"histnorm\": \"\", \"marker\": {\"color\": \"rgba(50, 171, 96, 1.0)\", \"line\": {\"color\": \"#4D5663\", \"width\": 1.3}}, \"name\": \"C\", \"nbinsx\": 10, \"opacity\": 0.8, \"orientation\": \"v\", \"type\": \"histogram\", \"x\": [0.4465946591692149, -0.16486231085411854, -0.2982897748061894, -0.23411003689093351, -1.2116097866053412, 0.8253673770836158, -1.148999781191789, 1.4793187197489317, -1.8278615001710312, 0.10793947769491719, 0.013210085189908979, 0.1915405875072082, -0.740424717839089, 0.8753765623144861, -0.5820215653049959, 0.02952435573406176, 1.3800918755008555, 0.8829600699652781, -0.7899359672227325, 1.0480987514065763, -0.661342190204746, -1.437532002146367, -0.9347259262952119, 0.2711441527009754, 0.9370994639846763, -0.8510998725071435, -0.10901940707699512, -1.5670525760540877, 2.5500612373045435, 0.25316419368897436, -0.7348893605846597, 0.1354147034953102, 0.5909033184761552, 1.8698919963948077, -1.017584445365926, 2.0664060265275794, -1.244086825630889, 0.7658621916231835, 0.562898699100837, 0.6780684477561032, -0.8802058709296295, 0.575335737009437, 1.3403402794924335, -1.006790440287403, -0.09625773583783136, -0.7372422026148387, -0.8713067597021921, -1.121267427250573, 0.014520832299060196, -0.623431807530587, -1.2030039545655682, 0.02702242494766879, -0.07319362795788485, 0.026927518795224967, 0.4545713532247032, -0.07828220808835416, 0.3057447235537578, -0.07894598635092011, 0.010818280208694245, -0.0014020639789387019, -0.7889084335136599, 0.34483105903604977, 2.4355337763902942, 1.3414174390131024, -0.9044209394970005, -0.04786040943686782, -0.5651928414422082, 1.180654787239047, 0.17497182194333832, 1.6447684917816974, 0.6204256291321893, 0.6508427104690401, -0.9716419250001527, 0.5951087500017701, 0.1661758983675416, 0.6011190061024035, -1.6825903839447376, -0.6120102985816349, -0.5488089546191786, -0.9578877517845851, -0.060102094105688175, 2.2812115930732637, 0.8029602338025977, -1.7601645850839462, -1.2672108160954711, -0.7754988415258066, 0.7700989925557424, -0.42033232131429676, -0.6092157256666687, -1.214898858131597, -0.9502243168822014, 0.830944977952104, 1.2015754737748736, 1.641226772233783, 1.43306751285687, 1.638961428726828, -0.07502882892345157, 1.329747633643722, -0.6089988187792902, -2.1507734614985874], \"xaxis\": \"x11\", \"yaxis\": \"y11\"}, {\"line\": {\"color\": \"rgba(128, 128, 128, 1.0)\", \"dash\": \"solid\", \"shape\": \"linear\", \"width\": 1.3}, \"marker\": {\"size\": 2, \"symbol\": \"circle\"}, \"mode\": \"markers\", \"name\": \"C\", \"text\": \"\", \"type\": \"scatter\", \"x\": [-0.2192232435712407, 0.0283268131023829, 0.8964696723539963, -1.0283885000833466, -1.3182351327351098, -0.5277647422987509, -0.9385086936869956, 1.2061977978951748, 0.1421902406605246, 0.6184168052550945, -0.039877045490074994, -0.9752394987162321, -1.7751520163220462, -0.4722921655201741, -0.12274985283625083, -0.9274559744283062, 1.894270929614533, -2.672694771207034, 0.07997402295206053, 0.7491965681213448, -0.7152711078609697, -0.32855979832250526, -0.05323711387502112, 0.9167917248097514, -0.6179467194794326, 0.05256963946619909, -0.6312899349076002, 0.22351194814481504, -0.3067313893917002, -0.8456113471311655, 0.6211118901589805, -1.112525092466899, 0.9619251622482322, -0.26877353141176263, -0.0014630302593012106, -1.0191297589773674, -1.3672715614444393, 0.38710677050744735, -0.4899293153653744, -0.12630803511377184, 0.9815905655982257, -0.4175055812147094, 1.1260620582587195, -1.244106024305591, 1.2163029421357596, 0.7300378523525042, 0.6539537619265317, 1.2339106042088626, 0.8112364534231554, -1.2829068140569275, -0.6756773844832522, -0.7091020795886301, 0.31764685592615666, -0.4502973343925804, 1.7274832888038356, -0.11525108286821455, 0.19010588366922107, 0.797255107372613, 1.163288964252091, 1.0590557596414987, -0.7011592168034892, 1.2060006342909675, 1.0893990791408414, -1.5229207242328573, -0.3997213570588383, 2.874689786857148, 0.10611024585499639, -0.8555094032339574, 1.6096275851091222, -1.8783119998528792, 0.8640234633966536, 2.0859932005692703, 0.6702785786050622, 0.6323768743595102, -1.1055358574342864, -0.2924966496013419, 1.7759060786073706, 0.6212449630378699, 2.0118187423184657, 0.7508843587411196, -1.2002570321997699, 1.4795863669983513, -0.2598826343604322, -0.10963908013096199, 2.2077184815927877, -2.1720097869633683, 1.0987939610199553, 0.8865809203216175, 0.06022492757025151, -0.35863420685446684, -1.1832813827837794, -0.28699537868668434, -0.46883213875517077, -0.4635016862238375, -0.4017998218990491, -1.0870154401924637, -0.991984450544098, -0.152825678547246, -1.5095653176917445, 0.4563221193826911], \"xaxis\": \"x12\", \"y\": [0.4465946591692149, -0.16486231085411854, -0.2982897748061894, -0.23411003689093351, -1.2116097866053412, 0.8253673770836158, -1.148999781191789, 1.4793187197489317, -1.8278615001710312, 0.10793947769491719, 0.013210085189908979, 0.1915405875072082, -0.740424717839089, 0.8753765623144861, -0.5820215653049959, 0.02952435573406176, 1.3800918755008555, 0.8829600699652781, -0.7899359672227325, 1.0480987514065763, -0.661342190204746, -1.437532002146367, -0.9347259262952119, 0.2711441527009754, 0.9370994639846763, -0.8510998725071435, -0.10901940707699512, -1.5670525760540877, 2.5500612373045435, 0.25316419368897436, -0.7348893605846597, 0.1354147034953102, 0.5909033184761552, 1.8698919963948077, -1.017584445365926, 2.0664060265275794, -1.244086825630889, 0.7658621916231835, 0.562898699100837, 0.6780684477561032, -0.8802058709296295, 0.575335737009437, 1.3403402794924335, -1.006790440287403, -0.09625773583783136, -0.7372422026148387, -0.8713067597021921, -1.121267427250573, 0.014520832299060196, -0.623431807530587, -1.2030039545655682, 0.02702242494766879, -0.07319362795788485, 0.026927518795224967, 0.4545713532247032, -0.07828220808835416, 0.3057447235537578, -0.07894598635092011, 0.010818280208694245, -0.0014020639789387019, -0.7889084335136599, 0.34483105903604977, 2.4355337763902942, 1.3414174390131024, -0.9044209394970005, -0.04786040943686782, -0.5651928414422082, 1.180654787239047, 0.17497182194333832, 1.6447684917816974, 0.6204256291321893, 0.6508427104690401, -0.9716419250001527, 0.5951087500017701, 0.1661758983675416, 0.6011190061024035, -1.6825903839447376, -0.6120102985816349, -0.5488089546191786, -0.9578877517845851, -0.060102094105688175, 2.2812115930732637, 0.8029602338025977, -1.7601645850839462, -1.2672108160954711, -0.7754988415258066, 0.7700989925557424, -0.42033232131429676, -0.6092157256666687, -1.214898858131597, -0.9502243168822014, 0.830944977952104, 1.2015754737748736, 1.641226772233783, 1.43306751285687, 1.638961428726828, -0.07502882892345157, 1.329747633643722, -0.6089988187792902, -2.1507734614985874], \"yaxis\": \"y12\"}, {\"line\": {\"color\": \"rgba(128, 128, 128, 1.0)\", \"dash\": \"solid\", \"shape\": \"linear\", \"width\": 1.3}, \"marker\": {\"size\": 2, \"symbol\": \"circle\"}, \"mode\": \"markers\", \"name\": \"D\", \"text\": \"\", \"type\": \"scatter\", \"x\": [-0.9734495742841736, -1.8315951967413935, 1.6139020442339822, 1.8317994231752863, -0.5703850399579571, -1.4741058750836376, 0.3556724369296695, 0.5896167900058208, -0.16588761429519788, 1.252817890189307, 0.8244913688037369, -0.8310634233310962, -1.2715301311174314, 0.8813921954359295, 0.03008326150665548, 1.796935266435818, 0.36940181717575304, -0.8813170476695465, -0.31461403362256685, -0.4468206880588594, 0.3240352703956821, -0.4174928910302742, -0.8936299905709542, -1.7730351725609956, -0.17509775157041949, 1.785575038048923, 0.8693153126170038, -0.9119334319497847, 0.06855935946590477, 0.5983975207014364, -0.3125289594386086, -1.623670806104809, -1.5420589595567573, 1.3286785347616383, -1.094158923464464, 0.21930454522962683, 0.8354226939734191, 1.1112027436645884, 0.5706132554817172, 1.5175492736710126, -0.741270592687962, 0.7179471066369602, -0.11923765585506343, -0.5190825867431396, -1.223108562573393, -0.24851600060140075, 1.1382508831643312, -0.033081660969711255, 0.5175216536790487, 0.7544486986602126, -0.6518679982601071, 2.070787774933711, 0.4426842316054046, 0.05653702034559746, -1.0053907104192161, -0.786399787410555, 0.27850043786370504, 0.3916013705575103, 0.43507671462973674, 1.3045455981258764, 1.5209664834575232, 0.5703063793983049, -0.20123025062794503, -0.04784662293665812, 0.9508747258949924, 0.10041817141614233, 0.05723625804651315, -0.04030529057318736, 0.7335235062619401, 0.8982570392990319, 1.1155809290713437, 0.8844599452843706, -0.6148252072505153, 1.1594874940128568, -1.216817774524191, -0.8890426465705751, -1.893518423950157, -0.33140872246822817, -0.26953768733587197, 0.9961753075937271, 0.03607656273618685, -0.4870399182323607, -0.7339647437901523, 0.5475059713581206, -1.1018093852788269, -1.4823859267101909, -1.6501041838493982, 0.20377009012743325, 0.1762274744366041, -0.6017592186585072, 0.3590576908726275, 0.7428489289251691, 0.48584201834020807, 0.6945617012876489, -1.1489156980425708, 0.6131057392500935, 0.17885470690537067, 0.26446508278372033, -0.10706051662167917, 0.6223017828248917], \"xaxis\": \"x13\", \"y\": [-0.2192232435712407, 0.0283268131023829, 0.8964696723539963, -1.0283885000833466, -1.3182351327351098, -0.5277647422987509, -0.9385086936869956, 1.2061977978951748, 0.1421902406605246, 0.6184168052550945, -0.039877045490074994, -0.9752394987162321, -1.7751520163220462, -0.4722921655201741, -0.12274985283625083, -0.9274559744283062, 1.894270929614533, -2.672694771207034, 0.07997402295206053, 0.7491965681213448, -0.7152711078609697, -0.32855979832250526, -0.05323711387502112, 0.9167917248097514, -0.6179467194794326, 0.05256963946619909, -0.6312899349076002, 0.22351194814481504, -0.3067313893917002, -0.8456113471311655, 0.6211118901589805, -1.112525092466899, 0.9619251622482322, -0.26877353141176263, -0.0014630302593012106, -1.0191297589773674, -1.3672715614444393, 0.38710677050744735, -0.4899293153653744, -0.12630803511377184, 0.9815905655982257, -0.4175055812147094, 1.1260620582587195, -1.244106024305591, 1.2163029421357596, 0.7300378523525042, 0.6539537619265317, 1.2339106042088626, 0.8112364534231554, -1.2829068140569275, -0.6756773844832522, -0.7091020795886301, 0.31764685592615666, -0.4502973343925804, 1.7274832888038356, -0.11525108286821455, 0.19010588366922107, 0.797255107372613, 1.163288964252091, 1.0590557596414987, -0.7011592168034892, 1.2060006342909675, 1.0893990791408414, -1.5229207242328573, -0.3997213570588383, 2.874689786857148, 0.10611024585499639, -0.8555094032339574, 1.6096275851091222, -1.8783119998528792, 0.8640234633966536, 2.0859932005692703, 0.6702785786050622, 0.6323768743595102, -1.1055358574342864, -0.2924966496013419, 1.7759060786073706, 0.6212449630378699, 2.0118187423184657, 0.7508843587411196, -1.2002570321997699, 1.4795863669983513, -0.2598826343604322, -0.10963908013096199, 2.2077184815927877, -2.1720097869633683, 1.0987939610199553, 0.8865809203216175, 0.06022492757025151, -0.35863420685446684, -1.1832813827837794, -0.28699537868668434, -0.46883213875517077, -0.4635016862238375, -0.4017998218990491, -1.0870154401924637, -0.991984450544098, -0.152825678547246, -1.5095653176917445, 0.4563221193826911], \"yaxis\": \"y13\"}, {\"line\": {\"color\": \"rgba(128, 128, 128, 1.0)\", \"dash\": \"solid\", \"shape\": \"linear\", \"width\": 1.3}, \"marker\": {\"size\": 2, \"symbol\": \"circle\"}, \"mode\": \"markers\", \"name\": \"D\", \"text\": \"\", \"type\": \"scatter\", \"x\": [-0.5811999608120723, -0.8036697312678183, 0.3854041880109005, 0.4209603813984334, -0.4281246077274638, -0.19852210221305122, -2.054418519812087, 0.4077891217927148, -0.5945240763963975, -1.536557826592104, 0.672332698408608, 1.4028979182530195, 1.4439820744695246, 0.20886292761525518, -0.7393879162186503, -0.5368487628608516, -1.3688133482970724, 0.19474772168671534, 0.2647889831001665, -1.251547816940817, 0.48556271338398527, 0.5285982029460005, -0.6397201840797241, 0.5081278922806333, 0.2659176640020525, 2.552614374126511, -1.1493716413393977, 1.3345305675591104, 0.5974633782328114, -0.786979507572439, 0.06608038797047978, -0.8145816284732865, 1.5847483366580726, -1.1202607419391661, -1.049640524535017, -0.006903395515333687, -0.524048042000973, 0.44602741836718635, 0.20789948771212124, -1.7806121425814323, 0.0854339021506031, 0.6102089740674195, 0.9728652238276162, -1.4346181102507178, 0.4991602969072206, 1.7848098537008248, 0.47678906443316527, 0.30715039761978874, -0.08716260522525818, 0.35767698840008727, -0.11745608886652367, -1.786882759539797, 1.6238306895783923, -1.1762234413326496, -0.8428802127555798, 0.9966021977974714, 0.8373405137607192, 0.8659528776627187, 2.0692017376026457, 1.4272810302299084, -1.7892289543718998, 1.6576497596199353, -0.03281965544361487, -1.8153586870341933, -0.7179954280924857, -1.0977240279134834, -0.9259475104250532, 0.9852912806939138, -0.4840186387488574, -0.43089106542389977, 0.2911652394892015, -0.965132820164843, -0.7180607125895234, -1.0041459219518847, -0.7846987822530055, 0.12630702047120732, -0.3812210919119034, -0.3037783960675797, -0.282441006815986, 0.42824543291257966, 0.006255871853128791, 0.7851077459102427, -0.6255412712308532, -0.06663669277893636, 0.7293892078205981, 1.512249438121794, 0.05893141654083086, 0.9760093768519751, -0.28824847602835263, -0.30940127812256835, 0.537953257392704, 0.6381235440509992, 0.7727316578039034, -0.25435089513654213, -0.6790857730570136, -0.6249789946320716, 1.4731436561408768, -0.0637549971579087, -0.30502694841740013, 0.37810360901576967], \"xaxis\": \"x14\", \"y\": [-0.2192232435712407, 0.0283268131023829, 0.8964696723539963, -1.0283885000833466, -1.3182351327351098, -0.5277647422987509, -0.9385086936869956, 1.2061977978951748, 0.1421902406605246, 0.6184168052550945, -0.039877045490074994, -0.9752394987162321, -1.7751520163220462, -0.4722921655201741, -0.12274985283625083, -0.9274559744283062, 1.894270929614533, -2.672694771207034, 0.07997402295206053, 0.7491965681213448, -0.7152711078609697, -0.32855979832250526, -0.05323711387502112, 0.9167917248097514, -0.6179467194794326, 0.05256963946619909, -0.6312899349076002, 0.22351194814481504, -0.3067313893917002, -0.8456113471311655, 0.6211118901589805, -1.112525092466899, 0.9619251622482322, -0.26877353141176263, -0.0014630302593012106, -1.0191297589773674, -1.3672715614444393, 0.38710677050744735, -0.4899293153653744, -0.12630803511377184, 0.9815905655982257, -0.4175055812147094, 1.1260620582587195, -1.244106024305591, 1.2163029421357596, 0.7300378523525042, 0.6539537619265317, 1.2339106042088626, 0.8112364534231554, -1.2829068140569275, -0.6756773844832522, -0.7091020795886301, 0.31764685592615666, -0.4502973343925804, 1.7274832888038356, -0.11525108286821455, 0.19010588366922107, 0.797255107372613, 1.163288964252091, 1.0590557596414987, -0.7011592168034892, 1.2060006342909675, 1.0893990791408414, -1.5229207242328573, -0.3997213570588383, 2.874689786857148, 0.10611024585499639, -0.8555094032339574, 1.6096275851091222, -1.8783119998528792, 0.8640234633966536, 2.0859932005692703, 0.6702785786050622, 0.6323768743595102, -1.1055358574342864, -0.2924966496013419, 1.7759060786073706, 0.6212449630378699, 2.0118187423184657, 0.7508843587411196, -1.2002570321997699, 1.4795863669983513, -0.2598826343604322, -0.10963908013096199, 2.2077184815927877, -2.1720097869633683, 1.0987939610199553, 0.8865809203216175, 0.06022492757025151, -0.35863420685446684, -1.1832813827837794, -0.28699537868668434, -0.46883213875517077, -0.4635016862238375, -0.4017998218990491, -1.0870154401924637, -0.991984450544098, -0.152825678547246, -1.5095653176917445, 0.4563221193826911], \"yaxis\": \"y14\"}, {\"line\": {\"color\": \"rgba(128, 128, 128, 1.0)\", \"dash\": \"solid\", \"shape\": \"linear\", \"width\": 1.3}, \"marker\": {\"size\": 2, \"symbol\": \"circle\"}, \"mode\": \"markers\", \"name\": \"D\", \"text\": \"\", \"type\": \"scatter\", \"x\": [0.4465946591692149, -0.16486231085411854, -0.2982897748061894, -0.23411003689093351, -1.2116097866053412, 0.8253673770836158, -1.148999781191789, 1.4793187197489317, -1.8278615001710312, 0.10793947769491719, 0.013210085189908979, 0.1915405875072082, -0.740424717839089, 0.8753765623144861, -0.5820215653049959, 0.02952435573406176, 1.3800918755008555, 0.8829600699652781, -0.7899359672227325, 1.0480987514065763, -0.661342190204746, -1.437532002146367, -0.9347259262952119, 0.2711441527009754, 0.9370994639846763, -0.8510998725071435, -0.10901940707699512, -1.5670525760540877, 2.5500612373045435, 0.25316419368897436, -0.7348893605846597, 0.1354147034953102, 0.5909033184761552, 1.8698919963948077, -1.017584445365926, 2.0664060265275794, -1.244086825630889, 0.7658621916231835, 0.562898699100837, 0.6780684477561032, -0.8802058709296295, 0.575335737009437, 1.3403402794924335, -1.006790440287403, -0.09625773583783136, -0.7372422026148387, -0.8713067597021921, -1.121267427250573, 0.014520832299060196, -0.623431807530587, -1.2030039545655682, 0.02702242494766879, -0.07319362795788485, 0.026927518795224967, 0.4545713532247032, -0.07828220808835416, 0.3057447235537578, -0.07894598635092011, 0.010818280208694245, -0.0014020639789387019, -0.7889084335136599, 0.34483105903604977, 2.4355337763902942, 1.3414174390131024, -0.9044209394970005, -0.04786040943686782, -0.5651928414422082, 1.180654787239047, 0.17497182194333832, 1.6447684917816974, 0.6204256291321893, 0.6508427104690401, -0.9716419250001527, 0.5951087500017701, 0.1661758983675416, 0.6011190061024035, -1.6825903839447376, -0.6120102985816349, -0.5488089546191786, -0.9578877517845851, -0.060102094105688175, 2.2812115930732637, 0.8029602338025977, -1.7601645850839462, -1.2672108160954711, -0.7754988415258066, 0.7700989925557424, -0.42033232131429676, -0.6092157256666687, -1.214898858131597, -0.9502243168822014, 0.830944977952104, 1.2015754737748736, 1.641226772233783, 1.43306751285687, 1.638961428726828, -0.07502882892345157, 1.329747633643722, -0.6089988187792902, -2.1507734614985874], \"xaxis\": \"x15\", \"y\": [-0.2192232435712407, 0.0283268131023829, 0.8964696723539963, -1.0283885000833466, -1.3182351327351098, -0.5277647422987509, -0.9385086936869956, 1.2061977978951748, 0.1421902406605246, 0.6184168052550945, -0.039877045490074994, -0.9752394987162321, -1.7751520163220462, -0.4722921655201741, -0.12274985283625083, -0.9274559744283062, 1.894270929614533, -2.672694771207034, 0.07997402295206053, 0.7491965681213448, -0.7152711078609697, -0.32855979832250526, -0.05323711387502112, 0.9167917248097514, -0.6179467194794326, 0.05256963946619909, -0.6312899349076002, 0.22351194814481504, -0.3067313893917002, -0.8456113471311655, 0.6211118901589805, -1.112525092466899, 0.9619251622482322, -0.26877353141176263, -0.0014630302593012106, -1.0191297589773674, -1.3672715614444393, 0.38710677050744735, -0.4899293153653744, -0.12630803511377184, 0.9815905655982257, -0.4175055812147094, 1.1260620582587195, -1.244106024305591, 1.2163029421357596, 0.7300378523525042, 0.6539537619265317, 1.2339106042088626, 0.8112364534231554, -1.2829068140569275, -0.6756773844832522, -0.7091020795886301, 0.31764685592615666, -0.4502973343925804, 1.7274832888038356, -0.11525108286821455, 0.19010588366922107, 0.797255107372613, 1.163288964252091, 1.0590557596414987, -0.7011592168034892, 1.2060006342909675, 1.0893990791408414, -1.5229207242328573, -0.3997213570588383, 2.874689786857148, 0.10611024585499639, -0.8555094032339574, 1.6096275851091222, -1.8783119998528792, 0.8640234633966536, 2.0859932005692703, 0.6702785786050622, 0.6323768743595102, -1.1055358574342864, -0.2924966496013419, 1.7759060786073706, 0.6212449630378699, 2.0118187423184657, 0.7508843587411196, -1.2002570321997699, 1.4795863669983513, -0.2598826343604322, -0.10963908013096199, 2.2077184815927877, -2.1720097869633683, 1.0987939610199553, 0.8865809203216175, 0.06022492757025151, -0.35863420685446684, -1.1832813827837794, -0.28699537868668434, -0.46883213875517077, -0.4635016862238375, -0.4017998218990491, -1.0870154401924637, -0.991984450544098, -0.152825678547246, -1.5095653176917445, 0.4563221193826911], \"yaxis\": \"y15\"}, {\"histfunc\": \"count\", \"histnorm\": \"\", \"marker\": {\"color\": \"rgba(128, 0, 128, 1.0)\", \"line\": {\"color\": \"#4D5663\", \"width\": 1.3}}, \"name\": \"D\", \"nbinsx\": 10, \"opacity\": 0.8, \"orientation\": \"v\", \"type\": \"histogram\", \"x\": [-0.2192232435712407, 0.0283268131023829, 0.8964696723539963, -1.0283885000833466, -1.3182351327351098, -0.5277647422987509, -0.9385086936869956, 1.2061977978951748, 0.1421902406605246, 0.6184168052550945, -0.039877045490074994, -0.9752394987162321, -1.7751520163220462, -0.4722921655201741, -0.12274985283625083, -0.9274559744283062, 1.894270929614533, -2.672694771207034, 0.07997402295206053, 0.7491965681213448, -0.7152711078609697, -0.32855979832250526, -0.05323711387502112, 0.9167917248097514, -0.6179467194794326, 0.05256963946619909, -0.6312899349076002, 0.22351194814481504, -0.3067313893917002, -0.8456113471311655, 0.6211118901589805, -1.112525092466899, 0.9619251622482322, -0.26877353141176263, -0.0014630302593012106, -1.0191297589773674, -1.3672715614444393, 0.38710677050744735, -0.4899293153653744, -0.12630803511377184, 0.9815905655982257, -0.4175055812147094, 1.1260620582587195, -1.244106024305591, 1.2163029421357596, 0.7300378523525042, 0.6539537619265317, 1.2339106042088626, 0.8112364534231554, -1.2829068140569275, -0.6756773844832522, -0.7091020795886301, 0.31764685592615666, -0.4502973343925804, 1.7274832888038356, -0.11525108286821455, 0.19010588366922107, 0.797255107372613, 1.163288964252091, 1.0590557596414987, -0.7011592168034892, 1.2060006342909675, 1.0893990791408414, -1.5229207242328573, -0.3997213570588383, 2.874689786857148, 0.10611024585499639, -0.8555094032339574, 1.6096275851091222, -1.8783119998528792, 0.8640234633966536, 2.0859932005692703, 0.6702785786050622, 0.6323768743595102, -1.1055358574342864, -0.2924966496013419, 1.7759060786073706, 0.6212449630378699, 2.0118187423184657, 0.7508843587411196, -1.2002570321997699, 1.4795863669983513, -0.2598826343604322, -0.10963908013096199, 2.2077184815927877, -2.1720097869633683, 1.0987939610199553, 0.8865809203216175, 0.06022492757025151, -0.35863420685446684, -1.1832813827837794, -0.28699537868668434, -0.46883213875517077, -0.4635016862238375, -0.4017998218990491, -1.0870154401924637, -0.991984450544098, -0.152825678547246, -1.5095653176917445, 0.4563221193826911], \"xaxis\": \"x16\", \"yaxis\": \"y16\"}],\n",
       "                        {\"bargap\": 0.02, \"legend\": {\"bgcolor\": \"#F5F6F9\", \"font\": {\"color\": \"#4D5663\"}}, \"paper_bgcolor\": \"#F5F6F9\", \"plot_bgcolor\": \"#F5F6F9\", \"showlegend\": false, \"template\": {\"data\": {\"bar\": [{\"error_x\": {\"color\": \"#2a3f5f\"}, \"error_y\": {\"color\": \"#2a3f5f\"}, \"marker\": {\"line\": {\"color\": \"#E5ECF6\", \"width\": 0.5}}, \"type\": \"bar\"}], \"barpolar\": [{\"marker\": {\"line\": {\"color\": \"#E5ECF6\", \"width\": 0.5}}, \"type\": \"barpolar\"}], \"carpet\": [{\"aaxis\": {\"endlinecolor\": \"#2a3f5f\", \"gridcolor\": \"white\", \"linecolor\": \"white\", \"minorgridcolor\": \"white\", \"startlinecolor\": \"#2a3f5f\"}, \"baxis\": {\"endlinecolor\": \"#2a3f5f\", \"gridcolor\": \"white\", \"linecolor\": \"white\", \"minorgridcolor\": \"white\", \"startlinecolor\": \"#2a3f5f\"}, \"type\": \"carpet\"}], \"choropleth\": [{\"colorbar\": {\"outlinewidth\": 0, \"ticks\": \"\"}, \"type\": \"choropleth\"}], \"contour\": [{\"colorbar\": {\"outlinewidth\": 0, \"ticks\": \"\"}, \"colorscale\": [[0.0, \"#0d0887\"], [0.1111111111111111, \"#46039f\"], [0.2222222222222222, \"#7201a8\"], [0.3333333333333333, \"#9c179e\"], [0.4444444444444444, \"#bd3786\"], [0.5555555555555556, \"#d8576b\"], [0.6666666666666666, \"#ed7953\"], [0.7777777777777778, \"#fb9f3a\"], [0.8888888888888888, \"#fdca26\"], [1.0, \"#f0f921\"]], \"type\": \"contour\"}], \"contourcarpet\": [{\"colorbar\": {\"outlinewidth\": 0, \"ticks\": \"\"}, \"type\": \"contourcarpet\"}], \"heatmap\": [{\"colorbar\": {\"outlinewidth\": 0, \"ticks\": \"\"}, \"colorscale\": [[0.0, \"#0d0887\"], [0.1111111111111111, \"#46039f\"], [0.2222222222222222, \"#7201a8\"], [0.3333333333333333, \"#9c179e\"], [0.4444444444444444, \"#bd3786\"], [0.5555555555555556, \"#d8576b\"], [0.6666666666666666, \"#ed7953\"], [0.7777777777777778, \"#fb9f3a\"], [0.8888888888888888, \"#fdca26\"], [1.0, \"#f0f921\"]], \"type\": \"heatmap\"}], \"heatmapgl\": [{\"colorbar\": {\"outlinewidth\": 0, \"ticks\": \"\"}, \"colorscale\": [[0.0, \"#0d0887\"], [0.1111111111111111, \"#46039f\"], [0.2222222222222222, \"#7201a8\"], [0.3333333333333333, \"#9c179e\"], [0.4444444444444444, \"#bd3786\"], [0.5555555555555556, \"#d8576b\"], [0.6666666666666666, \"#ed7953\"], [0.7777777777777778, \"#fb9f3a\"], [0.8888888888888888, \"#fdca26\"], [1.0, \"#f0f921\"]], \"type\": \"heatmapgl\"}], \"histogram\": [{\"marker\": {\"colorbar\": {\"outlinewidth\": 0, \"ticks\": \"\"}}, \"type\": \"histogram\"}], \"histogram2d\": [{\"colorbar\": {\"outlinewidth\": 0, \"ticks\": \"\"}, \"colorscale\": [[0.0, \"#0d0887\"], [0.1111111111111111, \"#46039f\"], [0.2222222222222222, \"#7201a8\"], [0.3333333333333333, \"#9c179e\"], [0.4444444444444444, \"#bd3786\"], [0.5555555555555556, \"#d8576b\"], [0.6666666666666666, \"#ed7953\"], [0.7777777777777778, \"#fb9f3a\"], [0.8888888888888888, \"#fdca26\"], [1.0, \"#f0f921\"]], \"type\": \"histogram2d\"}], \"histogram2dcontour\": [{\"colorbar\": {\"outlinewidth\": 0, \"ticks\": \"\"}, \"colorscale\": [[0.0, \"#0d0887\"], [0.1111111111111111, \"#46039f\"], [0.2222222222222222, \"#7201a8\"], [0.3333333333333333, \"#9c179e\"], [0.4444444444444444, \"#bd3786\"], [0.5555555555555556, \"#d8576b\"], [0.6666666666666666, \"#ed7953\"], [0.7777777777777778, \"#fb9f3a\"], [0.8888888888888888, \"#fdca26\"], [1.0, \"#f0f921\"]], \"type\": \"histogram2dcontour\"}], \"mesh3d\": [{\"colorbar\": {\"outlinewidth\": 0, \"ticks\": \"\"}, \"type\": \"mesh3d\"}], \"parcoords\": [{\"line\": {\"colorbar\": {\"outlinewidth\": 0, \"ticks\": \"\"}}, \"type\": \"parcoords\"}], \"pie\": [{\"automargin\": true, \"type\": \"pie\"}], \"scatter\": [{\"marker\": {\"colorbar\": {\"outlinewidth\": 0, \"ticks\": \"\"}}, \"type\": \"scatter\"}], \"scatter3d\": [{\"line\": {\"colorbar\": {\"outlinewidth\": 0, \"ticks\": \"\"}}, \"marker\": {\"colorbar\": {\"outlinewidth\": 0, \"ticks\": \"\"}}, \"type\": \"scatter3d\"}], \"scattercarpet\": [{\"marker\": {\"colorbar\": {\"outlinewidth\": 0, \"ticks\": \"\"}}, \"type\": \"scattercarpet\"}], \"scattergeo\": [{\"marker\": {\"colorbar\": {\"outlinewidth\": 0, \"ticks\": \"\"}}, \"type\": \"scattergeo\"}], \"scattergl\": [{\"marker\": {\"colorbar\": {\"outlinewidth\": 0, \"ticks\": \"\"}}, \"type\": \"scattergl\"}], \"scattermapbox\": [{\"marker\": {\"colorbar\": {\"outlinewidth\": 0, \"ticks\": \"\"}}, \"type\": \"scattermapbox\"}], \"scatterpolar\": [{\"marker\": {\"colorbar\": {\"outlinewidth\": 0, \"ticks\": \"\"}}, \"type\": \"scatterpolar\"}], \"scatterpolargl\": [{\"marker\": {\"colorbar\": {\"outlinewidth\": 0, \"ticks\": \"\"}}, \"type\": \"scatterpolargl\"}], \"scatterternary\": [{\"marker\": {\"colorbar\": {\"outlinewidth\": 0, \"ticks\": \"\"}}, \"type\": \"scatterternary\"}], \"surface\": [{\"colorbar\": {\"outlinewidth\": 0, \"ticks\": \"\"}, \"colorscale\": [[0.0, \"#0d0887\"], [0.1111111111111111, \"#46039f\"], [0.2222222222222222, \"#7201a8\"], [0.3333333333333333, \"#9c179e\"], [0.4444444444444444, \"#bd3786\"], [0.5555555555555556, \"#d8576b\"], [0.6666666666666666, \"#ed7953\"], [0.7777777777777778, \"#fb9f3a\"], [0.8888888888888888, \"#fdca26\"], [1.0, \"#f0f921\"]], \"type\": \"surface\"}], \"table\": [{\"cells\": {\"fill\": {\"color\": \"#EBF0F8\"}, \"line\": {\"color\": \"white\"}}, \"header\": {\"fill\": {\"color\": \"#C8D4E3\"}, \"line\": {\"color\": \"white\"}}, \"type\": \"table\"}]}, \"layout\": {\"annotationdefaults\": {\"arrowcolor\": \"#2a3f5f\", \"arrowhead\": 0, \"arrowwidth\": 1}, \"coloraxis\": {\"colorbar\": {\"outlinewidth\": 0, \"ticks\": \"\"}}, \"colorscale\": {\"diverging\": [[0, \"#8e0152\"], [0.1, \"#c51b7d\"], [0.2, \"#de77ae\"], [0.3, \"#f1b6da\"], [0.4, \"#fde0ef\"], [0.5, \"#f7f7f7\"], [0.6, \"#e6f5d0\"], [0.7, \"#b8e186\"], [0.8, \"#7fbc41\"], [0.9, \"#4d9221\"], [1, \"#276419\"]], \"sequential\": [[0.0, \"#0d0887\"], [0.1111111111111111, \"#46039f\"], [0.2222222222222222, \"#7201a8\"], [0.3333333333333333, \"#9c179e\"], [0.4444444444444444, \"#bd3786\"], [0.5555555555555556, \"#d8576b\"], [0.6666666666666666, \"#ed7953\"], [0.7777777777777778, \"#fb9f3a\"], [0.8888888888888888, \"#fdca26\"], [1.0, \"#f0f921\"]], \"sequentialminus\": [[0.0, \"#0d0887\"], [0.1111111111111111, \"#46039f\"], [0.2222222222222222, \"#7201a8\"], [0.3333333333333333, \"#9c179e\"], [0.4444444444444444, \"#bd3786\"], [0.5555555555555556, \"#d8576b\"], [0.6666666666666666, \"#ed7953\"], [0.7777777777777778, \"#fb9f3a\"], [0.8888888888888888, \"#fdca26\"], [1.0, \"#f0f921\"]]}, \"colorway\": [\"#636efa\", \"#EF553B\", \"#00cc96\", \"#ab63fa\", \"#FFA15A\", \"#19d3f3\", \"#FF6692\", \"#B6E880\", \"#FF97FF\", \"#FECB52\"], \"font\": {\"color\": \"#2a3f5f\"}, \"geo\": {\"bgcolor\": \"white\", \"lakecolor\": \"white\", \"landcolor\": \"#E5ECF6\", \"showlakes\": true, \"showland\": true, \"subunitcolor\": \"white\"}, \"hoverlabel\": {\"align\": \"left\"}, \"hovermode\": \"closest\", \"mapbox\": {\"style\": \"light\"}, \"paper_bgcolor\": \"white\", \"plot_bgcolor\": \"#E5ECF6\", \"polar\": {\"angularaxis\": {\"gridcolor\": \"white\", \"linecolor\": \"white\", \"ticks\": \"\"}, \"bgcolor\": \"#E5ECF6\", \"radialaxis\": {\"gridcolor\": \"white\", \"linecolor\": \"white\", \"ticks\": \"\"}}, \"scene\": {\"xaxis\": {\"backgroundcolor\": \"#E5ECF6\", \"gridcolor\": \"white\", \"gridwidth\": 2, \"linecolor\": \"white\", \"showbackground\": true, \"ticks\": \"\", \"zerolinecolor\": \"white\"}, \"yaxis\": {\"backgroundcolor\": \"#E5ECF6\", \"gridcolor\": \"white\", \"gridwidth\": 2, \"linecolor\": \"white\", \"showbackground\": true, \"ticks\": \"\", \"zerolinecolor\": \"white\"}, \"zaxis\": {\"backgroundcolor\": \"#E5ECF6\", \"gridcolor\": \"white\", \"gridwidth\": 2, \"linecolor\": \"white\", \"showbackground\": true, \"ticks\": \"\", \"zerolinecolor\": \"white\"}}, \"shapedefaults\": {\"line\": {\"color\": \"#2a3f5f\"}}, \"ternary\": {\"aaxis\": {\"gridcolor\": \"white\", \"linecolor\": \"white\", \"ticks\": \"\"}, \"baxis\": {\"gridcolor\": \"white\", \"linecolor\": \"white\", \"ticks\": \"\"}, \"bgcolor\": \"#E5ECF6\", \"caxis\": {\"gridcolor\": \"white\", \"linecolor\": \"white\", \"ticks\": \"\"}}, \"title\": {\"x\": 0.05}, \"xaxis\": {\"automargin\": true, \"gridcolor\": \"white\", \"linecolor\": \"white\", \"ticks\": \"\", \"title\": {\"standoff\": 15}, \"zerolinecolor\": \"white\", \"zerolinewidth\": 2}, \"yaxis\": {\"automargin\": true, \"gridcolor\": \"white\", \"linecolor\": \"white\", \"ticks\": \"\", \"title\": {\"standoff\": 15}, \"zerolinecolor\": \"white\", \"zerolinewidth\": 2}}}, \"title\": {\"font\": {\"color\": \"#4D5663\"}}, \"xaxis\": {\"anchor\": \"y\", \"domain\": [0.0, 0.2125], \"gridcolor\": \"#E1E5ED\", \"showgrid\": false, \"tickfont\": {\"color\": \"#4D5663\"}, \"title\": {\"font\": {\"color\": \"#4D5663\"}, \"text\": \"\"}, \"zerolinecolor\": \"#E1E5ED\"}, \"xaxis10\": {\"anchor\": \"y10\", \"domain\": [0.2625, 0.475], \"gridcolor\": \"#E1E5ED\", \"showgrid\": false, \"tickfont\": {\"color\": \"#4D5663\"}, \"title\": {\"font\": {\"color\": \"#4D5663\"}, \"text\": \"\"}, \"zerolinecolor\": \"#E1E5ED\"}, \"xaxis11\": {\"anchor\": \"y11\", \"domain\": [0.525, 0.7375], \"gridcolor\": \"#E1E5ED\", \"showgrid\": false, \"tickfont\": {\"color\": \"#4D5663\"}, \"title\": {\"font\": {\"color\": \"#4D5663\"}, \"text\": \"\"}, \"zerolinecolor\": \"#E1E5ED\"}, \"xaxis12\": {\"anchor\": \"y12\", \"domain\": [0.7875, 1.0], \"gridcolor\": \"#E1E5ED\", \"showgrid\": false, \"tickfont\": {\"color\": \"#4D5663\"}, \"title\": {\"font\": {\"color\": \"#4D5663\"}, \"text\": \"\"}, \"zerolinecolor\": \"#E1E5ED\"}, \"xaxis13\": {\"anchor\": \"y13\", \"domain\": [0.0, 0.2125], \"gridcolor\": \"#E1E5ED\", \"showgrid\": false, \"tickfont\": {\"color\": \"#4D5663\"}, \"title\": {\"font\": {\"color\": \"#4D5663\"}, \"text\": \"\"}, \"zerolinecolor\": \"#E1E5ED\"}, \"xaxis14\": {\"anchor\": \"y14\", \"domain\": [0.2625, 0.475], \"gridcolor\": \"#E1E5ED\", \"showgrid\": false, \"tickfont\": {\"color\": \"#4D5663\"}, \"title\": {\"font\": {\"color\": \"#4D5663\"}, \"text\": \"\"}, \"zerolinecolor\": \"#E1E5ED\"}, \"xaxis15\": {\"anchor\": \"y15\", \"domain\": [0.525, 0.7375], \"gridcolor\": \"#E1E5ED\", \"showgrid\": false, \"tickfont\": {\"color\": \"#4D5663\"}, \"title\": {\"font\": {\"color\": \"#4D5663\"}, \"text\": \"\"}, \"zerolinecolor\": \"#E1E5ED\"}, \"xaxis16\": {\"anchor\": \"y16\", \"domain\": [0.7875, 1.0], \"gridcolor\": \"#E1E5ED\", \"showgrid\": false, \"tickfont\": {\"color\": \"#4D5663\"}, \"title\": {\"font\": {\"color\": \"#4D5663\"}, \"text\": \"\"}, \"zerolinecolor\": \"#E1E5ED\"}, \"xaxis2\": {\"anchor\": \"y2\", \"domain\": [0.2625, 0.475], \"gridcolor\": \"#E1E5ED\", \"showgrid\": false, \"tickfont\": {\"color\": \"#4D5663\"}, \"title\": {\"font\": {\"color\": \"#4D5663\"}, \"text\": \"\"}, \"zerolinecolor\": \"#E1E5ED\"}, \"xaxis3\": {\"anchor\": \"y3\", \"domain\": [0.525, 0.7375], \"gridcolor\": \"#E1E5ED\", \"showgrid\": false, \"tickfont\": {\"color\": \"#4D5663\"}, \"title\": {\"font\": {\"color\": \"#4D5663\"}, \"text\": \"\"}, \"zerolinecolor\": \"#E1E5ED\"}, \"xaxis4\": {\"anchor\": \"y4\", \"domain\": [0.7875, 1.0], \"gridcolor\": \"#E1E5ED\", \"showgrid\": false, \"tickfont\": {\"color\": \"#4D5663\"}, \"title\": {\"font\": {\"color\": \"#4D5663\"}, \"text\": \"\"}, \"zerolinecolor\": \"#E1E5ED\"}, \"xaxis5\": {\"anchor\": \"y5\", \"domain\": [0.0, 0.2125], \"gridcolor\": \"#E1E5ED\", \"showgrid\": false, \"tickfont\": {\"color\": \"#4D5663\"}, \"title\": {\"font\": {\"color\": \"#4D5663\"}, \"text\": \"\"}, \"zerolinecolor\": \"#E1E5ED\"}, \"xaxis6\": {\"anchor\": \"y6\", \"domain\": [0.2625, 0.475], \"gridcolor\": \"#E1E5ED\", \"showgrid\": false, \"tickfont\": {\"color\": \"#4D5663\"}, \"title\": {\"font\": {\"color\": \"#4D5663\"}, \"text\": \"\"}, \"zerolinecolor\": \"#E1E5ED\"}, \"xaxis7\": {\"anchor\": \"y7\", \"domain\": [0.525, 0.7375], \"gridcolor\": \"#E1E5ED\", \"showgrid\": false, \"tickfont\": {\"color\": \"#4D5663\"}, \"title\": {\"font\": {\"color\": \"#4D5663\"}, \"text\": \"\"}, \"zerolinecolor\": \"#E1E5ED\"}, \"xaxis8\": {\"anchor\": \"y8\", \"domain\": [0.7875, 1.0], \"gridcolor\": \"#E1E5ED\", \"showgrid\": false, \"tickfont\": {\"color\": \"#4D5663\"}, \"title\": {\"font\": {\"color\": \"#4D5663\"}, \"text\": \"\"}, \"zerolinecolor\": \"#E1E5ED\"}, \"xaxis9\": {\"anchor\": \"y9\", \"domain\": [0.0, 0.2125], \"gridcolor\": \"#E1E5ED\", \"showgrid\": false, \"tickfont\": {\"color\": \"#4D5663\"}, \"title\": {\"font\": {\"color\": \"#4D5663\"}, \"text\": \"\"}, \"zerolinecolor\": \"#E1E5ED\"}, \"yaxis\": {\"anchor\": \"x\", \"domain\": [0.8025, 1.0], \"gridcolor\": \"#E1E5ED\", \"showgrid\": false, \"tickfont\": {\"color\": \"#4D5663\"}, \"title\": {\"font\": {\"color\": \"#4D5663\"}, \"text\": \"\"}, \"zerolinecolor\": \"#E1E5ED\"}, \"yaxis10\": {\"anchor\": \"x10\", \"domain\": [0.2675, 0.465], \"gridcolor\": \"#E1E5ED\", \"showgrid\": false, \"tickfont\": {\"color\": \"#4D5663\"}, \"title\": {\"font\": {\"color\": \"#4D5663\"}, \"text\": \"\"}, \"zerolinecolor\": \"#E1E5ED\"}, \"yaxis11\": {\"anchor\": \"x11\", \"domain\": [0.2675, 0.465], \"gridcolor\": \"#E1E5ED\", \"showgrid\": false, \"tickfont\": {\"color\": \"#4D5663\"}, \"title\": {\"font\": {\"color\": \"#4D5663\"}, \"text\": \"\"}, \"zerolinecolor\": \"#E1E5ED\"}, \"yaxis12\": {\"anchor\": \"x12\", \"domain\": [0.2675, 0.465], \"gridcolor\": \"#E1E5ED\", \"showgrid\": false, \"tickfont\": {\"color\": \"#4D5663\"}, \"title\": {\"font\": {\"color\": \"#4D5663\"}, \"text\": \"\"}, \"zerolinecolor\": \"#E1E5ED\"}, \"yaxis13\": {\"anchor\": \"x13\", \"domain\": [0.0, 0.1975], \"gridcolor\": \"#E1E5ED\", \"showgrid\": false, \"tickfont\": {\"color\": \"#4D5663\"}, \"title\": {\"font\": {\"color\": \"#4D5663\"}, \"text\": \"\"}, \"zerolinecolor\": \"#E1E5ED\"}, \"yaxis14\": {\"anchor\": \"x14\", \"domain\": [0.0, 0.1975], \"gridcolor\": \"#E1E5ED\", \"showgrid\": false, \"tickfont\": {\"color\": \"#4D5663\"}, \"title\": {\"font\": {\"color\": \"#4D5663\"}, \"text\": \"\"}, \"zerolinecolor\": \"#E1E5ED\"}, \"yaxis15\": {\"anchor\": \"x15\", \"domain\": [0.0, 0.1975], \"gridcolor\": \"#E1E5ED\", \"showgrid\": false, \"tickfont\": {\"color\": \"#4D5663\"}, \"title\": {\"font\": {\"color\": \"#4D5663\"}, \"text\": \"\"}, \"zerolinecolor\": \"#E1E5ED\"}, \"yaxis16\": {\"anchor\": \"x16\", \"domain\": [0.0, 0.1975], \"gridcolor\": \"#E1E5ED\", \"showgrid\": false, \"tickfont\": {\"color\": \"#4D5663\"}, \"title\": {\"font\": {\"color\": \"#4D5663\"}, \"text\": \"\"}, \"zerolinecolor\": \"#E1E5ED\"}, \"yaxis2\": {\"anchor\": \"x2\", \"domain\": [0.8025, 1.0], \"gridcolor\": \"#E1E5ED\", \"showgrid\": false, \"tickfont\": {\"color\": \"#4D5663\"}, \"title\": {\"font\": {\"color\": \"#4D5663\"}, \"text\": \"\"}, \"zerolinecolor\": \"#E1E5ED\"}, \"yaxis3\": {\"anchor\": \"x3\", \"domain\": [0.8025, 1.0], \"gridcolor\": \"#E1E5ED\", \"showgrid\": false, \"tickfont\": {\"color\": \"#4D5663\"}, \"title\": {\"font\": {\"color\": \"#4D5663\"}, \"text\": \"\"}, \"zerolinecolor\": \"#E1E5ED\"}, \"yaxis4\": {\"anchor\": \"x4\", \"domain\": [0.8025, 1.0], \"gridcolor\": \"#E1E5ED\", \"showgrid\": false, \"tickfont\": {\"color\": \"#4D5663\"}, \"title\": {\"font\": {\"color\": \"#4D5663\"}, \"text\": \"\"}, \"zerolinecolor\": \"#E1E5ED\"}, \"yaxis5\": {\"anchor\": \"x5\", \"domain\": [0.535, 0.7325], \"gridcolor\": \"#E1E5ED\", \"showgrid\": false, \"tickfont\": {\"color\": \"#4D5663\"}, \"title\": {\"font\": {\"color\": \"#4D5663\"}, \"text\": \"\"}, \"zerolinecolor\": \"#E1E5ED\"}, \"yaxis6\": {\"anchor\": \"x6\", \"domain\": [0.535, 0.7325], \"gridcolor\": \"#E1E5ED\", \"showgrid\": false, \"tickfont\": {\"color\": \"#4D5663\"}, \"title\": {\"font\": {\"color\": \"#4D5663\"}, \"text\": \"\"}, \"zerolinecolor\": \"#E1E5ED\"}, \"yaxis7\": {\"anchor\": \"x7\", \"domain\": [0.535, 0.7325], \"gridcolor\": \"#E1E5ED\", \"showgrid\": false, \"tickfont\": {\"color\": \"#4D5663\"}, \"title\": {\"font\": {\"color\": \"#4D5663\"}, \"text\": \"\"}, \"zerolinecolor\": \"#E1E5ED\"}, \"yaxis8\": {\"anchor\": \"x8\", \"domain\": [0.535, 0.7325], \"gridcolor\": \"#E1E5ED\", \"showgrid\": false, \"tickfont\": {\"color\": \"#4D5663\"}, \"title\": {\"font\": {\"color\": \"#4D5663\"}, \"text\": \"\"}, \"zerolinecolor\": \"#E1E5ED\"}, \"yaxis9\": {\"anchor\": \"x9\", \"domain\": [0.2675, 0.465], \"gridcolor\": \"#E1E5ED\", \"showgrid\": false, \"tickfont\": {\"color\": \"#4D5663\"}, \"title\": {\"font\": {\"color\": \"#4D5663\"}, \"text\": \"\"}, \"zerolinecolor\": \"#E1E5ED\"}},\n",
       "                        {\"showLink\": true, \"linkText\": \"Export to plot.ly\", \"plotlyServerURL\": \"https://plot.ly\", \"responsive\": true}\n",
       "                    ).then(function(){\n",
       "                            \n",
       "var gd = document.getElementById('9e319967-6539-4522-ad39-295aa3316002');\n",
       "var x = new MutationObserver(function (mutations, observer) {{\n",
       "        var display = window.getComputedStyle(gd).display;\n",
       "        if (!display || display === 'none') {{\n",
       "            console.log([gd, 'removed!']);\n",
       "            Plotly.purge(gd);\n",
       "            observer.disconnect();\n",
       "        }}\n",
       "}});\n",
       "\n",
       "// Listen for the removal of the full notebook cells\n",
       "var notebookContainer = gd.closest('#notebook-container');\n",
       "if (notebookContainer) {{\n",
       "    x.observe(notebookContainer, {childList: true});\n",
       "}}\n",
       "\n",
       "// Listen for the clearing of the current output cell\n",
       "var outputEl = gd.closest('.output');\n",
       "if (outputEl) {{\n",
       "    x.observe(outputEl, {childList: true});\n",
       "}}\n",
       "\n",
       "                        })\n",
       "                };\n",
       "                });\n",
       "            </script>\n",
       "        </div>"
      ]
     },
     "metadata": {},
     "output_type": "display_data"
    }
   ],
   "source": [
    "df.scatter_matrix()"
   ]
  }
 ],
 "metadata": {
  "kernelspec": {
   "display_name": "Python 3",
   "language": "python",
   "name": "python3"
  },
  "language_info": {
   "codemirror_mode": {
    "name": "ipython",
    "version": 3
   },
   "file_extension": ".py",
   "mimetype": "text/x-python",
   "name": "python",
   "nbconvert_exporter": "python",
   "pygments_lexer": "ipython3",
   "version": "3.7.4"
  }
 },
 "nbformat": 4,
 "nbformat_minor": 1
}
