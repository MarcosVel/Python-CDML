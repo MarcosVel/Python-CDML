{
 "cells": [
  {
   "cell_type": "markdown",
   "id": "aa464747",
   "metadata": {},
   "source": [
    "## Leitura de dados com Pandas"
   ]
  },
  {
   "cell_type": "markdown",
   "id": "473fd8f3",
   "metadata": {},
   "source": [
    "##### CSV "
   ]
  },
  {
   "cell_type": "code",
   "execution_count": null,
   "id": "f35a658d",
   "metadata": {},
   "outputs": [],
   "source": [
    "import pandas as pd\n",
    "import numpy as np"
   ]
  },
  {
   "cell_type": "code",
   "execution_count": null,
   "id": "fdc13dca",
   "metadata": {},
   "outputs": [],
   "source": [
    "posts_csv = pd.read_csv('posts-100.csv')"
   ]
  },
  {
   "cell_type": "code",
   "execution_count": null,
   "id": "a76fcbf4",
   "metadata": {},
   "outputs": [],
   "source": [
    "type(posts_csv)"
   ]
  },
  {
   "cell_type": "code",
   "execution_count": null,
   "id": "792cc9f0",
   "metadata": {},
   "outputs": [],
   "source": [
    "posts_csv.head()"
   ]
  },
  {
   "cell_type": "code",
   "execution_count": null,
   "id": "22160fa2",
   "metadata": {},
   "outputs": [],
   "source": [
    "posts_csv"
   ]
  },
  {
   "cell_type": "markdown",
   "id": "690118e5",
   "metadata": {},
   "source": [
    "###### JSON"
   ]
  },
  {
   "cell_type": "code",
   "execution_count": null,
   "id": "7f1cc712",
   "metadata": {},
   "outputs": [],
   "source": [
    "posts_json = pd.read_json('posts-100.json')"
   ]
  },
  {
   "cell_type": "code",
   "execution_count": null,
   "id": "a90672ce",
   "metadata": {},
   "outputs": [],
   "source": [
    "posts_csv.head()"
   ]
  },
  {
   "cell_type": "markdown",
   "id": "7ed681e8",
   "metadata": {},
   "source": [
    "###### Excel"
   ]
  },
  {
   "cell_type": "code",
   "execution_count": null,
   "id": "fa6aca6a",
   "metadata": {},
   "outputs": [],
   "source": [
    "pd.read_excel('stackoverflow.xlsx').head()"
   ]
  },
  {
   "cell_type": "markdown",
   "id": "d4c60d1a",
   "metadata": {},
   "source": [
    "###### SQLite"
   ]
  },
  {
   "cell_type": "code",
   "execution_count": null,
   "id": "ac795530",
   "metadata": {},
   "outputs": [],
   "source": [
    "import sqlite3"
   ]
  },
  {
   "cell_type": "code",
   "execution_count": null,
   "id": "3f5db5fb",
   "metadata": {},
   "outputs": [],
   "source": [
    "stack_connection = sqlite3.connect('importing_sqlite.db') "
   ]
  },
  {
   "cell_type": "code",
   "execution_count": null,
   "id": "574c8e23",
   "metadata": {},
   "outputs": [],
   "source": [
    "posts_df = pd.read_sql(\"select * from posts;\", stack_connection) "
   ]
  },
  {
   "cell_type": "code",
   "execution_count": null,
   "id": "cca33828",
   "metadata": {},
   "outputs": [],
   "source": [
    "posts_df.head()"
   ]
  },
  {
   "cell_type": "code",
   "execution_count": null,
   "id": "bb716ca9",
   "metadata": {},
   "outputs": [],
   "source": []
  }
 ],
 "metadata": {
  "kernelspec": {
   "display_name": "Python 3 (ipykernel)",
   "language": "python",
   "name": "python3"
  },
  "language_info": {
   "codemirror_mode": {
    "name": "ipython",
    "version": 3
   },
   "file_extension": ".py",
   "mimetype": "text/x-python",
   "name": "python",
   "nbconvert_exporter": "python",
   "pygments_lexer": "ipython3",
   "version": "3.9.7"
  }
 },
 "nbformat": 4,
 "nbformat_minor": 5
}
