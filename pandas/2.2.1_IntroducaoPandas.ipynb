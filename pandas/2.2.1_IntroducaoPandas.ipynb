{
 "cells": [
  {
   "cell_type": "markdown",
   "metadata": {
    "collapsed": true
   },
   "source": [
    "# Introdução aos Pandas\n",
    "\n",
    "* É uma biblioteca de código aberto escrita sobre numpy\n",
    "* Permite visualização e limpeza de dados\n",
    "* É muito semelhante ao excel\n",
    "* Pode trabalhar com dados de diversos tipos diferentes\n",
    "* Possui métodos próprios de visualização de dados\n",
    "\n",
    "Nesta seção do curso, aprenderemos a usar pandas para análise de dados. Você deve enxergar o pandas como uma versão extremamente poderosa do Excel, com muito mais recursos. Nesta seção, você deve passar pelos notebooks nesta ordem:\n",
    "\n",
    "* Introdução aos Pandas\n",
    "* Series\n",
    "* DataFrames\n",
    "* Dados ausentes\n",
    "* GroupBy\n",
    "* Mesclar,Juntar, e Concatenar\n",
    "* Operações\n",
    "* Entrada e saída de dados\n",
    "\n",
    "Documentação http://pandas.pydata.org/\n",
    "\n",
    "\n",
    "\n"
   ]
  }
 ],
 "metadata": {
  "kernelspec": {
   "display_name": "Python 3",
   "language": "python",
   "name": "python3"
  },
  "language_info": {
   "codemirror_mode": {
    "name": "ipython",
    "version": 3
   },
   "file_extension": ".py",
   "mimetype": "text/x-python",
   "name": "python",
   "nbconvert_exporter": "python",
   "pygments_lexer": "ipython3",
   "version": "3.7.4"
  }
 },
 "nbformat": 4,
 "nbformat_minor": 1
}
